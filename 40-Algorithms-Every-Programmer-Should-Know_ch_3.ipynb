{
  "cells": [
    {
      "cell_type": "markdown",
      "metadata": {
        "id": "ZQre_QywUMM6"
      },
      "source": [
        "# Swap Function in Python"
      ]
    },
    {
      "cell_type": "code",
      "execution_count": 1,
      "metadata": {
        "id": "fez7SBtLUMM7"
      },
      "outputs": [],
      "source": [
        "var1 = 1\n",
        "var2 = 2\n",
        "var1,var2 = var2,var1"
      ]
    },
    {
      "cell_type": "code",
      "execution_count": null,
      "metadata": {
        "id": "mQQTvS6OUMM8"
      },
      "outputs": [],
      "source": [
        "print(var1,var2)"
      ]
    },
    {
      "cell_type": "code",
      "execution_count": null,
      "metadata": {
        "id": "pmvMIHK5UMM8"
      },
      "outputs": [],
      "source": [
        "list = [25,21,22,24,23,27,26]"
      ]
    },
    {
      "cell_type": "markdown",
      "metadata": {
        "id": "IO_WmwpsUMM8"
      },
      "source": [
        "# SORTING ALGORITHMS"
      ]
    },
    {
      "cell_type": "markdown",
      "metadata": {
        "id": "P2fYRQUBUMM8"
      },
      "source": [
        "# Pass 1 of Bubble Sort"
      ]
    },
    {
      "cell_type": "code",
      "execution_count": null,
      "metadata": {
        "id": "DhSzXhOjUMM8",
        "outputId": "9e3a0577-c84c-44d4-82e8-d2b08df4f78c"
      },
      "outputs": [
        {
          "name": "stdout",
          "output_type": "stream",
          "text": [
            "0 [2, 6, 11, 9, 7, 31, 45, 12]\n",
            "1 [2, 6, 11, 9, 7, 31, 45, 12]\n",
            "2 [2, 6, 11, 9, 7, 31, 45, 12]\n",
            "3 [2, 6, 9, 11, 7, 31, 45, 12]\n",
            "4 [2, 6, 9, 7, 11, 31, 45, 12]\n",
            "5 [2, 6, 9, 7, 11, 31, 45, 12]\n",
            "6 [2, 6, 9, 7, 11, 31, 45, 12]\n",
            "7 [2, 6, 9, 7, 11, 31, 12, 45]\n"
          ]
        }
      ],
      "source": [
        "lastElementIndex = len(list)-1\n",
        "print(0,list)\n",
        "for idx in range(lastElementIndex):\n",
        "                if list[idx]>list[idx+1]:\n",
        "                    list[idx],list[idx+1]=list[idx+1],list[idx]\n",
        "                print(idx+1,list)"
      ]
    },
    {
      "cell_type": "code",
      "execution_count": null,
      "metadata": {
        "id": "LkbGSNIxUMM9"
      },
      "outputs": [],
      "source": [
        "list"
      ]
    },
    {
      "cell_type": "markdown",
      "metadata": {
        "id": "E7q5DDoAUMM9"
      },
      "source": [
        "# Bubble Sort Algorithm"
      ]
    },
    {
      "cell_type": "code",
      "execution_count": 10,
      "metadata": {
        "id": "yv-WAISRUMM9"
      },
      "outputs": [],
      "source": [
        "def BubbleSort(list):\n",
        "# Excahnge the elements to arrange in order\n",
        "    lastElementIndex = len(list)-1\n",
        "    for passNo in range(lastElementIndex,0,-1):\n",
        "        for idx in range(passNo):\n",
        "           # print(idx,\" \",passNo)\n",
        "            if list[idx]>list[idx+1]:\n",
        "                list[idx],list[idx+1]=list[idx+1],list[idx]\n",
        "            print(idx+1,list)\n",
        "    return list\n",
        "\n",
        "\n"
      ]
    },
    {
      "cell_type": "code",
      "execution_count": 11,
      "metadata": {
        "id": "uvC6c5VPUMM9"
      },
      "outputs": [],
      "source": [
        "list = [25,21,22,24,23,27,20]"
      ]
    },
    {
      "cell_type": "code",
      "execution_count": 12,
      "metadata": {
        "id": "7_nfWnsLUMM9",
        "outputId": "c9af9436-1acf-4521-f404-137985fdf75b",
        "colab": {
          "base_uri": "https://localhost:8080/"
        }
      },
      "outputs": [
        {
          "output_type": "stream",
          "name": "stdout",
          "text": [
            "1 [21, 25, 22, 24, 23, 27, 20]\n",
            "2 [21, 22, 25, 24, 23, 27, 20]\n",
            "3 [21, 22, 24, 25, 23, 27, 20]\n",
            "4 [21, 22, 24, 23, 25, 27, 20]\n",
            "5 [21, 22, 24, 23, 25, 27, 20]\n",
            "6 [21, 22, 24, 23, 25, 20, 27]\n",
            "1 [21, 22, 24, 23, 25, 20, 27]\n",
            "2 [21, 22, 24, 23, 25, 20, 27]\n",
            "3 [21, 22, 23, 24, 25, 20, 27]\n",
            "4 [21, 22, 23, 24, 25, 20, 27]\n",
            "5 [21, 22, 23, 24, 20, 25, 27]\n",
            "1 [21, 22, 23, 24, 20, 25, 27]\n",
            "2 [21, 22, 23, 24, 20, 25, 27]\n",
            "3 [21, 22, 23, 24, 20, 25, 27]\n",
            "4 [21, 22, 23, 20, 24, 25, 27]\n",
            "1 [21, 22, 23, 20, 24, 25, 27]\n",
            "2 [21, 22, 23, 20, 24, 25, 27]\n",
            "3 [21, 22, 20, 23, 24, 25, 27]\n",
            "1 [21, 22, 20, 23, 24, 25, 27]\n",
            "2 [21, 20, 22, 23, 24, 25, 27]\n",
            "1 [20, 21, 22, 23, 24, 25, 27]\n"
          ]
        },
        {
          "output_type": "execute_result",
          "data": {
            "text/plain": [
              "[20, 21, 22, 23, 24, 25, 27]"
            ]
          },
          "metadata": {},
          "execution_count": 12
        }
      ],
      "source": [
        "BubbleSort(list)"
      ]
    },
    {
      "cell_type": "markdown",
      "metadata": {
        "id": "t0EIUVFFUMM-"
      },
      "source": [
        "## Insertion Sort"
      ]
    },
    {
      "cell_type": "code",
      "execution_count": null,
      "metadata": {
        "id": "AFDmge3wUMM-"
      },
      "outputs": [],
      "source": [
        "def InsertionSort(list):\n",
        "    for i in range(1, len(list)):\n",
        "        j = i-1\n",
        "        next = list[i]\n",
        "# Compare the current element with next one\n",
        "    \n",
        "        while (list[j] > next) and (j >= 0):\n",
        "            list[j+1] = list[j]\n",
        "            j=j-1\n",
        "        list[j+1] = next\n",
        "    return list"
      ]
    },
    {
      "cell_type": "code",
      "execution_count": null,
      "metadata": {
        "id": "avOLuSQVUMM-"
      },
      "outputs": [],
      "source": [
        "InsertionSort(list)"
      ]
    },
    {
      "cell_type": "markdown",
      "metadata": {
        "id": "omvA9ERXUMM-"
      },
      "source": [
        "# Shell Sort Algorithm"
      ]
    },
    {
      "cell_type": "code",
      "execution_count": null,
      "metadata": {
        "id": "GgYyVL3RUMM-"
      },
      "outputs": [],
      "source": [
        "def ShellSort(list):\n",
        "    distance = len(list) // 2\n",
        "    while distance > 0:\n",
        "        for i in range(distance, len(list)):\n",
        "            temp = list[i]\n",
        "            j = i\n",
        "# Sort the sub list for this distance\n",
        "            while j >= distance and list[j - distance] > temp:\n",
        "                list[j] = list[j - distance]\n",
        "                j = j-distance\n",
        "            list[j] = temp\n",
        "# Reduce the distance for the next element\n",
        "        distance = distance//2\n",
        "    return list"
      ]
    },
    {
      "cell_type": "code",
      "execution_count": null,
      "metadata": {
        "id": "05c3K1IZUMM-"
      },
      "outputs": [],
      "source": [
        "list = [19,2,31,45,30,11,121,27]"
      ]
    },
    {
      "cell_type": "code",
      "execution_count": null,
      "metadata": {
        "id": "mqeF0bVVUMM-"
      },
      "outputs": [],
      "source": [
        "ShellSort(list)\n",
        "print(list)\n"
      ]
    },
    {
      "cell_type": "markdown",
      "metadata": {
        "id": "SNY1FzdpUMM-"
      },
      "source": [
        "## Merge Sort"
      ]
    },
    {
      "cell_type": "code",
      "execution_count": null,
      "metadata": {
        "id": "UguA5XWCUMM-"
      },
      "outputs": [],
      "source": [
        "def MergeSort(list):\n",
        "    if len(list)>1:\n",
        "        mid = len(list)//2 #splits list in half\n",
        "        left = list[:mid]\n",
        "        right = list[mid:]\n",
        "\n",
        "        MergeSort(left) #repeats until length of each list is 1\n",
        "        MergeSort(right)\n",
        "\n",
        "        a = 0\n",
        "        b = 0\n",
        "        c = 0\n",
        "        while a < len(left) and b < len(right):\n",
        "            if left[a] < right[b]:\n",
        "                list[c]=left[a]\n",
        "                a = a + 1\n",
        "            else:\n",
        "                list[c]=right[b]\n",
        "                b = b + 1\n",
        "            c = c + 1\n",
        "        while a < len(left):\n",
        "            list[c]=left[a]\n",
        "            a = a + 1\n",
        "            c = c + 1\n",
        "\n",
        "        while b < len(right):\n",
        "            list[c]=right[b]\n",
        "            b = b + 1\n",
        "            c = c + 1\n",
        "    return list"
      ]
    },
    {
      "cell_type": "code",
      "execution_count": null,
      "metadata": {
        "id": "wgcTzJ5TUMM-",
        "outputId": "49b10611-8edc-4263-f08d-737f797a79e1"
      },
      "outputs": [
        {
          "data": {
            "text/plain": [
              "[7, 10, 16, 21, 34, 44, 45, 67, 83]"
            ]
          },
          "execution_count": 7,
          "metadata": {},
          "output_type": "execute_result"
        }
      ],
      "source": [
        "list = [44,16,83,7,67,21,34,45,10]\n",
        "MergeSort(list)"
      ]
    },
    {
      "cell_type": "markdown",
      "metadata": {
        "id": "V-HN6XuWUMM-"
      },
      "source": [
        "## Selection Sort"
      ]
    },
    {
      "cell_type": "code",
      "execution_count": null,
      "metadata": {
        "id": "GqyN71aRUMM_"
      },
      "outputs": [],
      "source": [
        "def SelectionSort(list):\n",
        "    for fill_slot in range(len(list) - 1, 0, -1):\n",
        "        max_index = 0\n",
        "        for location in range(1, fill_slot + 1):\n",
        "            if list[location] > list[max_index]:\n",
        "                max_index = location\n",
        "        list[fill_slot],list[max_index] = list[max_index],list[fill_slot]\n",
        "    return list"
      ]
    },
    {
      "cell_type": "code",
      "execution_count": null,
      "metadata": {
        "id": "U3R7kBYOUMM_"
      },
      "outputs": [],
      "source": [
        "list = [70,15,25,19,34,44]\n",
        "SelectionSort(list)"
      ]
    },
    {
      "cell_type": "markdown",
      "metadata": {
        "id": "KSFjyCr1UMM_"
      },
      "source": [
        "# SEARCHING ALGORITHMS"
      ]
    },
    {
      "cell_type": "markdown",
      "metadata": {
        "id": "uwdEZHC7UMM_"
      },
      "source": [
        "## Linear Search"
      ]
    },
    {
      "cell_type": "code",
      "execution_count": null,
      "metadata": {
        "id": "WfcObp8IUMM_"
      },
      "outputs": [],
      "source": [
        "def LinearSearch(list, item):\n",
        "    index = 0\n",
        "    found = False\n",
        "\n",
        "# Match the value with each data element       \n",
        "    while index < len(list) and found is False:\n",
        "        if list[index] == item:\n",
        "            found = True\n",
        "        else:\n",
        "            index = index + 1\n",
        "    return found"
      ]
    },
    {
      "cell_type": "code",
      "execution_count": null,
      "metadata": {
        "id": "3ekLCnYpUMM_",
        "outputId": "eb19b055-f42f-44b6-ca31-4d4e0031256b"
      },
      "outputs": [
        {
          "name": "stdout",
          "output_type": "stream",
          "text": [
            "True\n",
            "False\n"
          ]
        }
      ],
      "source": [
        "list = [12, 33, 11, 99, 22, 55, 90]\n",
        "print(LinearSearch(list, 12))\n",
        "print(LinearSearch(list, 91))"
      ]
    },
    {
      "cell_type": "markdown",
      "metadata": {
        "id": "qTe4xvAhUMM_"
      },
      "source": [
        "## Binary Search"
      ]
    },
    {
      "cell_type": "code",
      "source": [],
      "metadata": {
        "id": "lBkdOWkEb70B"
      },
      "execution_count": null,
      "outputs": []
    },
    {
      "cell_type": "code",
      "execution_count": null,
      "metadata": {
        "id": "qgFZ-yIhUMM_"
      },
      "outputs": [],
      "source": [
        "def BinarySearch(list, item):\n",
        "    first = 0\n",
        "    last = len(list)-1\n",
        "    found = False\n",
        "\n",
        "    while first<=last and not found:\n",
        "        midpoint = (first + last)//2\n",
        "        if list[midpoint] == item:\n",
        "            found = True\n",
        "        else:\n",
        "            if item < list[midpoint]:\n",
        "                last = midpoint-1\n",
        "            else:\n",
        "                first = midpoint+1\n",
        "    return found"
      ]
    },
    {
      "cell_type": "code",
      "execution_count": null,
      "metadata": {
        "id": "56_BcdcXUMM_",
        "outputId": "7412053d-4ff3-4240-b417-fdf81f164fb7"
      },
      "outputs": [
        {
          "name": "stdout",
          "output_type": "stream",
          "text": [
            "True\n",
            "False\n"
          ]
        }
      ],
      "source": [
        "list = [12, 33, 11, 99, 22, 55, 90]\n",
        "sorted_list = BubbleSort(list)\n",
        "print(BinarySearch(list, 12))\n",
        "print(BinarySearch(list, 91))"
      ]
    },
    {
      "cell_type": "markdown",
      "metadata": {
        "id": "YYUJe2qJUMM_"
      },
      "source": [
        "## Intpolation Search"
      ]
    },
    {
      "cell_type": "code",
      "execution_count": null,
      "metadata": {
        "id": "iKnQznIBUMM_"
      },
      "outputs": [],
      "source": [
        "def IntPolsearch(list,x ):\n",
        "    idx0 = 0\n",
        "    idxn = (len(list) - 1)\n",
        "    found = False\n",
        "    while idx0 <= idxn and x >= list[idx0] and x <= list[idxn]:\n",
        "\n",
        "# Find the mid point\n",
        "        mid = idx0 +int(((float(idxn - idx0)/( list[idxn] - list[idx0])) * ( x - list[idx0])))\n",
        "\n",
        "# Compare the value at mid point with search value \n",
        "        if list[mid] == x:\n",
        "            found = True\n",
        "            return found\n",
        "\n",
        "        if list[mid] < x:\n",
        "            idx0 = mid + 1\n",
        "    return found"
      ]
    },
    {
      "cell_type": "code",
      "execution_count": null,
      "metadata": {
        "id": "kds7AOJvUMM_",
        "outputId": "f0d13d79-5447-43c3-813e-5c1a491fc431"
      },
      "outputs": [
        {
          "name": "stdout",
          "output_type": "stream",
          "text": [
            "True\n",
            "False\n"
          ]
        }
      ],
      "source": [
        "list = [12, 33, 11, 99, 22, 55, 90]\n",
        "sorted_list = BubbleSort(list)\n",
        "print(IntPolsearch(list, 12))\n",
        "print(IntPolsearch(list,91))"
      ]
    },
    {
      "cell_type": "code",
      "source": [],
      "metadata": {
        "id": "iSvDEjvhYvd9"
      },
      "execution_count": null,
      "outputs": []
    },
    {
      "cell_type": "markdown",
      "metadata": {
        "id": "DagscsqRUMM_"
      },
      "source": [
        "# Depth First Search"
      ]
    },
    {
      "cell_type": "code",
      "execution_count": null,
      "metadata": {
        "id": "GKuqKRHlUMM_"
      },
      "outputs": [],
      "source": [
        "def dfs(aGraph, root): \n",
        "    stack = [root] \n",
        "    parents = {root: root} \n",
        "    path = list \n",
        "    while stack: \n",
        "        print ('Stack is: %s' % stack) \n",
        "        vertex = stack.pop(-1) \n",
        "        print ('Working on %s' % vertex) \n",
        "        for element in aGraph[vertex]: \n",
        "            if element not in parents: \n",
        "                parents[element] = vertex \n",
        "                stack.append(element)\n",
        "                print ('Now, adding %s to the stack' % element) \n",
        "                path.append(parents[vertex]+'>'+vertex) \n",
        "    return path[1:] "
      ]
    },
    {
      "cell_type": "code",
      "execution_count": null,
      "metadata": {
        "id": "ohNP53keUMM_"
      },
      "outputs": [],
      "source": [
        "g = dict() \n",
        "g['Amine'] = ['Wassim', 'Nick', 'Mike','Elena'] \n",
        "g['Wassim'] = ['Amine', 'Imran'] \n",
        "g['Nick'] = ['Amine'] \n",
        "g['Mike'] = ['Amine', 'Mary'] \n",
        "g['Elena'] = ['Amine'] \n",
        "g['Imran'] = ['Wassim', 'Steven'] \n",
        "g['Mary'] = ['Mike']\n",
        "g['Steven'] = ['Imran']"
      ]
    },
    {
      "cell_type": "code",
      "execution_count": null,
      "metadata": {
        "id": "6xqWllaVUMM_",
        "outputId": "b2834586-df87-4968-97cd-2fa189cec244"
      },
      "outputs": [
        {
          "name": "stdout",
          "output_type": "stream",
          "text": [
            "Stack is: ['Amine']\n",
            "Working on Amine\n",
            "Now, adding Wassim to the stack\n",
            "Now, adding Nick to the stack\n",
            "Now, adding Mike to the stack\n",
            "Now, adding Elena to the stack\n",
            "Stack is: ['Wassim', 'Nick', 'Mike', 'Elena']\n",
            "Working on Elena\n",
            "Stack is: ['Wassim', 'Nick', 'Mike']\n",
            "Working on Mike\n",
            "Now, adding Mary to the stack\n",
            "Stack is: ['Wassim', 'Nick', 'Mary']\n",
            "Working on Mary\n",
            "Stack is: ['Wassim', 'Nick']\n",
            "Working on Nick\n",
            "Stack is: ['Wassim']\n",
            "Working on Wassim\n",
            "Now, adding Imran to the stack\n",
            "Stack is: ['Imran']\n",
            "Working on Imran\n",
            "Now, adding Steven to the stack\n",
            "Stack is: ['Steven']\n",
            "Working on Steven\n"
          ]
        },
        {
          "data": {
            "text/plain": [
              "['Amine>Amine',\n",
              " 'Amine>Amine',\n",
              " 'Amine>Amine',\n",
              " 'Amine>Mike',\n",
              " 'Amine>Wassim',\n",
              " 'Wassim>Imran']"
            ]
          },
          "execution_count": 5,
          "metadata": {},
          "output_type": "execute_result"
        }
      ],
      "source": [
        "dfs(g,\"Amine\")"
      ]
    },
    {
      "cell_type": "code",
      "execution_count": null,
      "metadata": {
        "id": "b9Jhe2i0UMM_"
      },
      "outputs": [],
      "source": []
    },
    {
      "cell_type": "code",
      "source": [
        "%load_ext rpy2.ipython"
      ],
      "metadata": {
        "id": "nOX6X7liY5cA"
      },
      "execution_count": 13,
      "outputs": []
    },
    {
      "cell_type": "code",
      "source": [
        "%%R"
      ],
      "metadata": {
        "id": "PLh5JjONY92R"
      },
      "execution_count": null,
      "outputs": []
    },
    {
      "cell_type": "code",
      "source": [
        "import pandas as pd"
      ],
      "metadata": {
        "id": "MiO05zCPbTaE"
      },
      "execution_count": 16,
      "outputs": []
    },
    {
      "cell_type": "code",
      "source": [
        "%%R\n",
        "# Install R package tableone\n",
        "install.packages('tableone')\n",
        "# Import the R package\n",
        "library(tableone)"
      ],
      "metadata": {
        "id": "8wzFOEuubi5s",
        "outputId": "972d8799-3aca-473c-c6b2-9aab9a312fae",
        "colab": {
          "base_uri": "https://localhost:8080/",
          "height": 222
        }
      },
      "execution_count": 20,
      "outputs": [
        {
          "output_type": "error",
          "ename": "NameError",
          "evalue": "ignored",
          "traceback": [
            "\u001b[0;31m---------------------------------------------------------------------------\u001b[0m",
            "\u001b[0;31mNameError\u001b[0m                                 Traceback (most recent call last)",
            "\u001b[0;32m<ipython-input-20-9d839a9eb982>\u001b[0m in \u001b[0;36m<module>\u001b[0;34m\u001b[0m\n\u001b[1;32m      1\u001b[0m \u001b[0;31m# Install R package tableone\u001b[0m\u001b[0;34m\u001b[0m\u001b[0;34m\u001b[0m\u001b[0;34m\u001b[0m\u001b[0m\n\u001b[0;32m----> 2\u001b[0;31m \u001b[0minstall\u001b[0m\u001b[0;34m.\u001b[0m\u001b[0mpackages\u001b[0m\u001b[0;34m(\u001b[0m\u001b[0;34m'tableone'\u001b[0m\u001b[0;34m)\u001b[0m\u001b[0;34m\u001b[0m\u001b[0;34m\u001b[0m\u001b[0m\n\u001b[0m\u001b[1;32m      3\u001b[0m \u001b[0;31m# Import the R package\u001b[0m\u001b[0;34m\u001b[0m\u001b[0;34m\u001b[0m\u001b[0;34m\u001b[0m\u001b[0m\n\u001b[1;32m      4\u001b[0m \u001b[0mlibrary\u001b[0m\u001b[0;34m(\u001b[0m\u001b[0mtableone\u001b[0m\u001b[0;34m)\u001b[0m\u001b[0;34m\u001b[0m\u001b[0;34m\u001b[0m\u001b[0m\n",
            "\u001b[0;31mNameError\u001b[0m: name 'install' is not defined"
          ]
        }
      ]
    },
    {
      "cell_type": "code",
      "source": [
        "employees = pd.read_csv(\"/content/hfda_ch10_employees.csv\")"
      ],
      "metadata": {
        "id": "p0o7Ks-5ZyMs"
      },
      "execution_count": 18,
      "outputs": []
    },
    {
      "cell_type": "code",
      "source": [
        "hist(employees$received[employees$year == 2007], breaks = 50)"
      ],
      "metadata": {
        "id": "YYoXRzQoY-jj"
      },
      "execution_count": null,
      "outputs": []
    }
  ],
  "metadata": {
    "kernelspec": {
      "display_name": "Python 3",
      "language": "python",
      "name": "python3"
    },
    "language_info": {
      "codemirror_mode": {
        "name": "ipython",
        "version": 3
      },
      "file_extension": ".py",
      "mimetype": "text/x-python",
      "name": "python",
      "nbconvert_exporter": "python",
      "pygments_lexer": "ipython3",
      "version": "3.7.3"
    },
    "colab": {
      "provenance": []
    },
    "accelerator": "GPU",
    "gpuClass": "standard"
  },
  "nbformat": 4,
  "nbformat_minor": 0
}