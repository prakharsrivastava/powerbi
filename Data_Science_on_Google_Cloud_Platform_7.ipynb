{
  "nbformat": 4,
  "nbformat_minor": 0,
  "metadata": {
    "colab": {
      "provenance": [],
      "authorship_tag": "ABX9TyNYYm2ubUaBYBO0dSmglApy",
      "include_colab_link": true
    },
    "kernelspec": {
      "name": "python3",
      "display_name": "Python 3"
    },
    "language_info": {
      "name": "python"
    }
  },
  "cells": [
    {
      "cell_type": "markdown",
      "metadata": {
        "id": "view-in-github",
        "colab_type": "text"
      },
      "source": [
        "<a href=\"https://colab.research.google.com/github/prakharsrivastava/powerbi/blob/main/Data_Science_on_Google_Cloud_Platform_7.ipynb\" target=\"_parent\"><img src=\"https://colab.research.google.com/assets/colab-badge.svg\" alt=\"Open In Colab\"/></a>"
      ]
    },
    {
      "cell_type": "code",
      "execution_count": 114,
      "metadata": {
        "colab": {
          "base_uri": "https://localhost:8080/"
        },
        "id": "9monwhdPTKdo",
        "outputId": "9e18bc2d-2dd4-4835-8c41-2d4b8b18b117"
      },
      "outputs": [
        {
          "output_type": "stream",
          "name": "stdout",
          "text": [
            "Drive already mounted at /content/gdrive; to attempt to forcibly remount, call drive.mount(\"/content/gdrive\", force_remount=True).\n",
            "/content/gdrive/MyDrive/chapter2\n"
          ]
        }
      ],
      "source": [
        "from google.colab import drive\n",
        "\n",
        "drive.mount('/content/gdrive')\n",
        "%cd /content/gdrive/MyDrive/chapter2/\n"
      ]
    },
    {
      "cell_type": "code",
      "source": [
        "#flight data\n",
        "https://raw.githubusercontent.com/GoogleCloudPlatform/data-science-on-gcp/main/04_streaming/transform/flights_sample.json"
      ],
      "metadata": {
        "id": "VZQBMRdqjh2a"
      },
      "execution_count": null,
      "outputs": []
    },
    {
      "cell_type": "code",
      "source": [
        "!pip install findspark \n",
        "!pip install  pyspark\n",
        "\n",
        "\n"
      ],
      "metadata": {
        "colab": {
          "base_uri": "https://localhost:8080/"
        },
        "id": "CFLZxJtGTScw",
        "outputId": "8d427a6b-7932-4334-f2d4-831f5d2fbd85"
      },
      "execution_count": 115,
      "outputs": [
        {
          "output_type": "stream",
          "name": "stdout",
          "text": [
            "Looking in indexes: https://pypi.org/simple, https://us-python.pkg.dev/colab-wheels/public/simple/\n",
            "Requirement already satisfied: findspark in /usr/local/lib/python3.8/dist-packages (2.0.1)\n",
            "Looking in indexes: https://pypi.org/simple, https://us-python.pkg.dev/colab-wheels/public/simple/\n",
            "Requirement already satisfied: pyspark in /usr/local/lib/python3.8/dist-packages (3.3.2)\n",
            "Requirement already satisfied: py4j==0.10.9.5 in /usr/local/lib/python3.8/dist-packages (from pyspark) (0.10.9.5)\n"
          ]
        }
      ]
    },
    {
      "cell_type": "code",
      "source": [
        "import findspark\n",
        "import pyspark\n",
        "from pyspark.sql import SparkSession\n",
        "spark = SparkSession.builder.master(\"local[1]\").appName(\"architectinaction.com\").getOrCreate()"
      ],
      "metadata": {
        "id": "VqHKYT-CTUbu"
      },
      "execution_count": 116,
      "outputs": []
    },
    {
      "cell_type": "code",
      "source": [
        "%pip install pytz"
      ],
      "metadata": {
        "colab": {
          "base_uri": "https://localhost:8080/"
        },
        "id": "Dm5QmsSxTWYH",
        "outputId": "481db3ae-7c91-4918-9b40-ed15baf3b856"
      },
      "execution_count": 117,
      "outputs": [
        {
          "output_type": "stream",
          "name": "stdout",
          "text": [
            "Looking in indexes: https://pypi.org/simple, https://us-python.pkg.dev/colab-wheels/public/simple/\n",
            "Requirement already satisfied: pytz in /usr/local/lib/python3.8/dist-packages (2022.7.1)\n"
          ]
        }
      ]
    },
    {
      "cell_type": "code",
      "source": [
        "import matplotlib.pyplot as plt\n",
        "import seaborn as sns\n",
        "import pandas as pd\n",
        "import numpy as np\n",
        "\n",
        "from google.cloud import bigquery"
      ],
      "metadata": {
        "id": "E3FSAAW5eZtZ"
      },
      "execution_count": 118,
      "outputs": []
    },
    {
      "cell_type": "code",
      "source": [
        "%load_ext sql"
      ],
      "metadata": {
        "colab": {
          "base_uri": "https://localhost:8080/"
        },
        "id": "caqAHYPfTknB",
        "outputId": "8a040d48-fed3-4282-e17d-f83109ec97fb"
      },
      "execution_count": 119,
      "outputs": [
        {
          "output_type": "stream",
          "name": "stdout",
          "text": [
            "The sql extension is already loaded. To reload it, use:\n",
            "  %reload_ext sql\n"
          ]
        }
      ]
    },
    {
      "cell_type": "code",
      "source": [
        "%%sql\n",
        "sqlite:///mydb_"
      ],
      "metadata": {
        "colab": {
          "base_uri": "https://localhost:8080/",
          "height": 35
        },
        "id": "VUh7PelETyNW",
        "outputId": "f859aa08-ccc4-4ac2-8207-5624cd5b2390"
      },
      "execution_count": 120,
      "outputs": [
        {
          "output_type": "execute_result",
          "data": {
            "text/plain": [
              "'Connected: @mydb_'"
            ],
            "application/vnd.google.colaboratory.intrinsic+json": {
              "type": "string"
            }
          },
          "metadata": {},
          "execution_count": 120
        }
      ]
    },
    {
      "cell_type": "code",
      "source": [
        "import pandas as pd\n",
        "airports = pd.read_csv('airports.csv',low_memory=False,nrows=3)\n",
        "flight = pd.read_json('flights_sample.json',lines=True)"
      ],
      "metadata": {
        "id": "szj0iKAEe6h5"
      },
      "execution_count": 121,
      "outputs": []
    },
    {
      "cell_type": "code",
      "source": [
        "sparkAirportsDF=spark.createDataFrame(airports)\n",
        "sparkFlightDF=spark.createDataFrame(flight)"
      ],
      "metadata": {
        "id": "kK9PvB9ee-Xl"
      },
      "execution_count": 122,
      "outputs": []
    },
    {
      "cell_type": "code",
      "source": [
        "sparkAirportsPandas = sparkAirportsDF.toPandas()\n",
        "sparkFlightDF"
      ],
      "metadata": {
        "colab": {
          "base_uri": "https://localhost:8080/"
        },
        "id": "MOW9nvWhfBnB",
        "outputId": "4446e94b-99f5-43ab-d004-0e8ec33b503a"
      },
      "execution_count": 123,
      "outputs": [
        {
          "output_type": "execute_result",
          "data": {
            "text/plain": [
              "DataFrame[FL_DATE: string, UNIQUE_CARRIER: string, ORIGIN_AIRPORT_SEQ_ID: bigint, ORIGIN: string, DEST_AIRPORT_SEQ_ID: bigint, DEST: string, CRS_DEP_TIME: bigint, DEP_TIME: timestamp, DEP_DELAY: double, TAXI_OUT: double, WHEELS_OFF: string, WHEELS_ON: string, TAXI_IN: double, CRS_ARR_TIME: bigint, ARR_TIME: timestamp, ARR_DELAY: double, CANCELLED: boolean, DIVERTED: boolean, DISTANCE: bigint]"
            ]
          },
          "metadata": {},
          "execution_count": 123
        }
      ]
    },
    {
      "cell_type": "code",
      "source": [
        "sparkFlightDF.show()"
      ],
      "metadata": {
        "colab": {
          "base_uri": "https://localhost:8080/"
        },
        "id": "B8l4IF_vgn_e",
        "outputId": "26c9d661-30a8-4f44-90e6-c6fb596cd8a5"
      },
      "execution_count": null,
      "outputs": [
        {
          "output_type": "stream",
          "name": "stdout",
          "text": [
            "+---------+---------+\n",
            "|ARR_DELAY|DEP_DELAY|\n",
            "+---------+---------+\n",
            "|      -18|       -5|\n",
            "|      -19|       -4|\n",
            "+---------+---------+\n",
            "\n"
          ]
        }
      ]
    },
    {
      "cell_type": "code",
      "source": [
        "\n",
        "import sqlite3\n",
        "conn = sqlite3.connect('mydb_')\n",
        "c = conn.cursor()\n",
        "flight.to_sql('flights_view_', conn, if_exists='replace', index = False)"
      ],
      "metadata": {
        "id": "yPj0lkR4fkT-"
      },
      "execution_count": 124,
      "outputs": []
    },
    {
      "cell_type": "code",
      "source": [
        "import pandas as pd\n",
        "df = pd.read_json('flights_sample.json',lines=True)\n",
        "\n",
        "import sqlite3\n",
        "conn = sqlite3.connect('mydb_')\n",
        "c = conn.cursor()\n",
        "df.to_sql('flights_view_', conn, if_exists='replace', index = False)"
      ],
      "metadata": {
        "id": "DJxtZTEtbK_U"
      },
      "execution_count": 125,
      "outputs": []
    },
    {
      "cell_type": "code",
      "source": [],
      "metadata": {
        "id": "HcqqMXZwdQcJ"
      },
      "execution_count": null,
      "outputs": []
    },
    {
      "cell_type": "code",
      "source": [
        "%%sql\n",
        "SELECT\n",
        " *\n",
        "FROM flights_view_"
      ],
      "metadata": {
        "colab": {
          "base_uri": "https://localhost:8080/",
          "height": 1000
        },
        "id": "uxitFglUT06y",
        "outputId": "dbc080e6-f773-481f-c5ea-67f59c362e4b"
      },
      "execution_count": 126,
      "outputs": [
        {
          "output_type": "stream",
          "name": "stdout",
          "text": [
            " * sqlite:///mydb_\n",
            "Done.\n"
          ]
        },
        {
          "output_type": "execute_result",
          "data": {
            "text/plain": [
              "[('2015-04-28', 'EV', 1000101, 'ABE', 1000101, 'ATL', 1600, '1970-01-01 00:25:55', -5.0, 7.0, '1602', '1747', 4.0, 1809, '1970-01-01 00:29:11', -18.0, 0, 0, 692),\n",
              " ('2015-11-05', 'DL', 1000101, 'ABE', 1000101, 'ATL', 600, '1970-01-01 00:09:16', -4.0, 12.0, '0608', '0749', 10.0, 818, '1970-01-01 00:12:39', -19.0, 0, 0, 692),\n",
              " ('2015-08-25', 'EV', 1013503, 'ABE', 1143302, 'DTW', 1726, '1970-01-01 00:28:59', 13.0, 11.0, '1750', '1906', 3.0, 1905, '1970-01-01 00:31:49', 4.0, 0, 0, 425),\n",
              " ('2015-12-17', 'EV', 1013503, 'ABE', 1393004, 'ORD', 651, '1970-01-01 00:10:42', -9.0, 9.0, '0651', '0743', 9.0, 811, '1970-01-01 00:12:32', -19.0, 0, 0, 655),\n",
              " ('2015-03-04', 'MQ', 1013603, 'ABI', 1129803, 'DFW', 1549, None, None, None, '', '', None, 1640, None, None, 1, 0, 158),\n",
              " ('2015-08-08', 'MQ', 1013603, 'ABI', 1129804, 'DFW', 1508, '1970-01-01 00:24:17', -11.0, 8.0, '1505', '1538', 7.0, 1603, '1970-01-01 00:25:45', -18.0, 0, 0, 158),\n",
              " ('2015-07-23', 'MQ', 1013603, 'ABI', 1129804, 'DFW', 1823, '1970-01-01 00:30:51', 28.0, 6.0, '1857', '1931', 45.0, 1924, '1970-01-01 00:33:36', 52.0, 0, 0, 158),\n",
              " ('2015-02-01', 'DL', 1014003, 'ABQ', 1039705, 'ATL', 1318, '1970-01-01 00:21:52', -6.0, 13.0, '1325', '1748', 14.0, 1814, '1970-01-01 00:30:02', -12.0, 0, 0, 1269),\n",
              " ('2015-04-25', 'WN', 1014003, 'ABQ', 1082103, 'BWI', 1125, '1970-01-01 00:18:41', -4.0, 14.0, '1135', '1644', 6.0, 1710, '1970-01-01 00:27:30', -20.0, 0, 0, 1670),\n",
              " ('2015-03-27', 'WN', 1014003, 'ABQ', 1125903, 'DAL', 1920, '1970-01-01 00:31:59', -1.0, 7.0, '1926', '2146', 4.0, 2155, '1970-01-01 00:35:50', -5.0, 0, 0, 580),\n",
              " ('2015-06-14', 'WN', 1014003, 'ABQ', 1125903, 'DAL', 535, '1970-01-01 00:08:51', -4.0, 13.0, '0544', '0806', 2.0, 815, '1970-01-01 00:13:28', -7.0, 0, 0, 580),\n",
              " ('2015-03-27', 'WN', 1014003, 'ABQ', 1125903, 'DAL', 600, '1970-01-01 00:09:19', -1.0, 13.0, '0612', '0830', 4.0, 835, '1970-01-01 00:13:54', -1.0, 0, 0, 580),\n",
              " ('2015-02-22', 'WN', 1014003, 'ABQ', 1125903, 'DAL', 800, '1970-01-01 00:12:33', -7.0, 8.0, '0801', '1017', 5.0, 1040, '1970-01-01 00:17:02', -18.0, 0, 0, 580),\n",
              " ('2015-08-26', 'OO', 1014003, 'ABQ', 1129202, 'DEN', 1741, '1970-01-01 00:29:14', 13.0, 12.0, '1806', '1905', 9.0, 1905, '1970-01-01 00:31:54', 9.0, 0, 0, 349),\n",
              " ('2015-12-01', 'WN', 1014003, 'ABQ', 1129202, 'DEN', 1710, '1970-01-01 00:28:36', 6.0, 8.0, '1724', '1820', 5.0, 1825, '1970-01-01 00:30:25', 0.0, 0, 0, 349),\n",
              " ('2015-04-13', 'OO', 1014003, 'ABQ', 1129202, 'DEN', 1940, '1970-01-01 00:32:08', -12.0, 13.0, '1941', '2040', 8.0, 2101, '1970-01-01 00:34:08', -13.0, 0, 0, 349),\n",
              " ('2015-11-03', 'AA', 1014003, 'ABQ', 1129804, 'DFW', 800, '1970-01-01 00:14:06', 46.0, 11.0, '0857', '1115', 12.0, 1051, '1970-01-01 00:18:47', 36.0, 0, 0, 569),\n",
              " ('2015-10-03', 'WN', 1014003, 'ABQ', 1288903, 'LAS', 1205, '1970-01-01 00:20:05', 0.0, 7.0, '1212', '1227', 5.0, 1240, '1970-01-01 00:20:32', -8.0, 0, 0, 486),\n",
              " ('2015-01-05', 'OO', 1014003, 'ABQ', 1289203, 'LAX', 1235, '1970-01-01 00:20:37', 2.0, 19.0, '1256', '1328', 7.0, 1345, '1970-01-01 00:22:15', -10.0, 0, 0, 677),\n",
              " ('2015-09-06', 'WN', 1014003, 'ABQ', 1289203, 'LAX', 1100, '1970-01-01 00:17:37', -3.0, 9.0, '1106', '1142', 11.0, 1200, '1970-01-01 00:19:13', -7.0, 0, 0, 677),\n",
              " ('2015-06-14', 'OO', 1014003, 'ABQ', 1289203, 'LAX', 605, '1970-01-01 00:09:19', -6.0, 16.0, '0615', '0649', 7.0, 701, '1970-01-01 00:10:56', -5.0, 0, 0, 677),\n",
              " ('2015-10-13', 'WN', 1014003, 'ABQ', 1289203, 'LAX', 600, '1970-01-01 00:09:19', -1.0, 10.0, '0609', '0638', 14.0, 700, '1970-01-01 00:10:52', -8.0, 0, 0, 677),\n",
              " ('2015-06-03', 'WN', 1014003, 'ABQ', 1319801, 'MCI', 915, '1970-01-01 00:15:09', -6.0, 14.0, '0923', '1206', 5.0, 1205, '1970-01-01 00:20:11', 6.0, 0, 0, 718),\n",
              " ('2015-07-30', 'WN', 1014003, 'ABQ', 1379604, 'OAK', 1225, '1970-01-01 00:20:23', -2.0, 6.0, '1229', '1325', 6.0, 1345, '1970-01-01 00:22:11', -14.0, 0, 0, 889),\n",
              " ('2015-11-13', 'WN', 1014003, 'ABQ', 1405702, 'PDX', 1305, '1970-01-01 00:21:46', 1.0, 8.0, '1314', '1457', 6.0, 1505, '1970-01-01 00:25:03', -2.0, 0, 0, 1111),\n",
              " ('2015-07-06', 'WN', 1014003, 'ABQ', 1410702, 'PHX', 855, '1970-01-01 00:15:05', 10.0, 6.0, '0911', '0906', 6.0, 910, '1970-01-01 00:15:12', 2.0, 0, 0, 328),\n",
              " ('2015-01-22', 'WN', 1014003, 'ABQ', 1410702, 'PHX', 600, None, None, None, '', '', None, 720, None, None, 1, 0, 328),\n",
              " ('2015-07-03', 'WN', 1014003, 'ABQ', 1410702, 'PHX', 1350, '1970-01-01 00:22:27', -3.0, 5.0, '1352', '1341', 6.0, 1400, '1970-01-01 00:22:27', -13.0, 0, 0, 328),\n",
              " ('2015-05-27', 'WN', 1014003, 'ABQ', 1410702, 'PHX', 1005, '1970-01-01 00:16:46', 1.0, 8.0, '1014', '1011', 5.0, 1015, '1970-01-01 00:16:56', 1.0, 0, 0, 328),\n",
              " ('2015-01-04', 'WN', 1014003, 'ABQ', 1467903, 'SAN', 1810, '1970-01-01 00:30:28', 18.0, 9.0, '1837', '1904', 4.0, 1900, '1970-01-01 00:31:48', 8.0, 0, 0, 628),\n",
              " ('2015-04-15', 'WN', 1014003, 'ABQ', 1467903, 'SAN', 735, '1970-01-01 00:12:07', -8.0, 10.0, '0737', '0811', 4.0, 825, '1970-01-01 00:13:35', -10.0, 0, 0, 628),\n",
              " ('2015-03-27', 'EV', 1015502, 'ACT', 1129803, 'DFW', 1839, '1970-01-01 00:30:28', -11.0, 9.0, '1837', '1900', 8.0, 1925, '1970-01-01 00:31:48', -17.0, 0, 0, 89)]"
            ],
            "text/html": [
              "<table>\n",
              "    <thead>\n",
              "        <tr>\n",
              "            <th>FL_DATE</th>\n",
              "            <th>UNIQUE_CARRIER</th>\n",
              "            <th>ORIGIN_AIRPORT_SEQ_ID</th>\n",
              "            <th>ORIGIN</th>\n",
              "            <th>DEST_AIRPORT_SEQ_ID</th>\n",
              "            <th>DEST</th>\n",
              "            <th>CRS_DEP_TIME</th>\n",
              "            <th>DEP_TIME</th>\n",
              "            <th>DEP_DELAY</th>\n",
              "            <th>TAXI_OUT</th>\n",
              "            <th>WHEELS_OFF</th>\n",
              "            <th>WHEELS_ON</th>\n",
              "            <th>TAXI_IN</th>\n",
              "            <th>CRS_ARR_TIME</th>\n",
              "            <th>ARR_TIME</th>\n",
              "            <th>ARR_DELAY</th>\n",
              "            <th>CANCELLED</th>\n",
              "            <th>DIVERTED</th>\n",
              "            <th>DISTANCE</th>\n",
              "        </tr>\n",
              "    </thead>\n",
              "    <tbody>\n",
              "        <tr>\n",
              "            <td>2015-04-28</td>\n",
              "            <td>EV</td>\n",
              "            <td>1000101</td>\n",
              "            <td>ABE</td>\n",
              "            <td>1000101</td>\n",
              "            <td>ATL</td>\n",
              "            <td>1600</td>\n",
              "            <td>1970-01-01 00:25:55</td>\n",
              "            <td>-5.0</td>\n",
              "            <td>7.0</td>\n",
              "            <td>1602</td>\n",
              "            <td>1747</td>\n",
              "            <td>4.0</td>\n",
              "            <td>1809</td>\n",
              "            <td>1970-01-01 00:29:11</td>\n",
              "            <td>-18.0</td>\n",
              "            <td>0</td>\n",
              "            <td>0</td>\n",
              "            <td>692</td>\n",
              "        </tr>\n",
              "        <tr>\n",
              "            <td>2015-11-05</td>\n",
              "            <td>DL</td>\n",
              "            <td>1000101</td>\n",
              "            <td>ABE</td>\n",
              "            <td>1000101</td>\n",
              "            <td>ATL</td>\n",
              "            <td>600</td>\n",
              "            <td>1970-01-01 00:09:16</td>\n",
              "            <td>-4.0</td>\n",
              "            <td>12.0</td>\n",
              "            <td>0608</td>\n",
              "            <td>0749</td>\n",
              "            <td>10.0</td>\n",
              "            <td>818</td>\n",
              "            <td>1970-01-01 00:12:39</td>\n",
              "            <td>-19.0</td>\n",
              "            <td>0</td>\n",
              "            <td>0</td>\n",
              "            <td>692</td>\n",
              "        </tr>\n",
              "        <tr>\n",
              "            <td>2015-08-25</td>\n",
              "            <td>EV</td>\n",
              "            <td>1013503</td>\n",
              "            <td>ABE</td>\n",
              "            <td>1143302</td>\n",
              "            <td>DTW</td>\n",
              "            <td>1726</td>\n",
              "            <td>1970-01-01 00:28:59</td>\n",
              "            <td>13.0</td>\n",
              "            <td>11.0</td>\n",
              "            <td>1750</td>\n",
              "            <td>1906</td>\n",
              "            <td>3.0</td>\n",
              "            <td>1905</td>\n",
              "            <td>1970-01-01 00:31:49</td>\n",
              "            <td>4.0</td>\n",
              "            <td>0</td>\n",
              "            <td>0</td>\n",
              "            <td>425</td>\n",
              "        </tr>\n",
              "        <tr>\n",
              "            <td>2015-12-17</td>\n",
              "            <td>EV</td>\n",
              "            <td>1013503</td>\n",
              "            <td>ABE</td>\n",
              "            <td>1393004</td>\n",
              "            <td>ORD</td>\n",
              "            <td>651</td>\n",
              "            <td>1970-01-01 00:10:42</td>\n",
              "            <td>-9.0</td>\n",
              "            <td>9.0</td>\n",
              "            <td>0651</td>\n",
              "            <td>0743</td>\n",
              "            <td>9.0</td>\n",
              "            <td>811</td>\n",
              "            <td>1970-01-01 00:12:32</td>\n",
              "            <td>-19.0</td>\n",
              "            <td>0</td>\n",
              "            <td>0</td>\n",
              "            <td>655</td>\n",
              "        </tr>\n",
              "        <tr>\n",
              "            <td>2015-03-04</td>\n",
              "            <td>MQ</td>\n",
              "            <td>1013603</td>\n",
              "            <td>ABI</td>\n",
              "            <td>1129803</td>\n",
              "            <td>DFW</td>\n",
              "            <td>1549</td>\n",
              "            <td>None</td>\n",
              "            <td>None</td>\n",
              "            <td>None</td>\n",
              "            <td></td>\n",
              "            <td></td>\n",
              "            <td>None</td>\n",
              "            <td>1640</td>\n",
              "            <td>None</td>\n",
              "            <td>None</td>\n",
              "            <td>1</td>\n",
              "            <td>0</td>\n",
              "            <td>158</td>\n",
              "        </tr>\n",
              "        <tr>\n",
              "            <td>2015-08-08</td>\n",
              "            <td>MQ</td>\n",
              "            <td>1013603</td>\n",
              "            <td>ABI</td>\n",
              "            <td>1129804</td>\n",
              "            <td>DFW</td>\n",
              "            <td>1508</td>\n",
              "            <td>1970-01-01 00:24:17</td>\n",
              "            <td>-11.0</td>\n",
              "            <td>8.0</td>\n",
              "            <td>1505</td>\n",
              "            <td>1538</td>\n",
              "            <td>7.0</td>\n",
              "            <td>1603</td>\n",
              "            <td>1970-01-01 00:25:45</td>\n",
              "            <td>-18.0</td>\n",
              "            <td>0</td>\n",
              "            <td>0</td>\n",
              "            <td>158</td>\n",
              "        </tr>\n",
              "        <tr>\n",
              "            <td>2015-07-23</td>\n",
              "            <td>MQ</td>\n",
              "            <td>1013603</td>\n",
              "            <td>ABI</td>\n",
              "            <td>1129804</td>\n",
              "            <td>DFW</td>\n",
              "            <td>1823</td>\n",
              "            <td>1970-01-01 00:30:51</td>\n",
              "            <td>28.0</td>\n",
              "            <td>6.0</td>\n",
              "            <td>1857</td>\n",
              "            <td>1931</td>\n",
              "            <td>45.0</td>\n",
              "            <td>1924</td>\n",
              "            <td>1970-01-01 00:33:36</td>\n",
              "            <td>52.0</td>\n",
              "            <td>0</td>\n",
              "            <td>0</td>\n",
              "            <td>158</td>\n",
              "        </tr>\n",
              "        <tr>\n",
              "            <td>2015-02-01</td>\n",
              "            <td>DL</td>\n",
              "            <td>1014003</td>\n",
              "            <td>ABQ</td>\n",
              "            <td>1039705</td>\n",
              "            <td>ATL</td>\n",
              "            <td>1318</td>\n",
              "            <td>1970-01-01 00:21:52</td>\n",
              "            <td>-6.0</td>\n",
              "            <td>13.0</td>\n",
              "            <td>1325</td>\n",
              "            <td>1748</td>\n",
              "            <td>14.0</td>\n",
              "            <td>1814</td>\n",
              "            <td>1970-01-01 00:30:02</td>\n",
              "            <td>-12.0</td>\n",
              "            <td>0</td>\n",
              "            <td>0</td>\n",
              "            <td>1269</td>\n",
              "        </tr>\n",
              "        <tr>\n",
              "            <td>2015-04-25</td>\n",
              "            <td>WN</td>\n",
              "            <td>1014003</td>\n",
              "            <td>ABQ</td>\n",
              "            <td>1082103</td>\n",
              "            <td>BWI</td>\n",
              "            <td>1125</td>\n",
              "            <td>1970-01-01 00:18:41</td>\n",
              "            <td>-4.0</td>\n",
              "            <td>14.0</td>\n",
              "            <td>1135</td>\n",
              "            <td>1644</td>\n",
              "            <td>6.0</td>\n",
              "            <td>1710</td>\n",
              "            <td>1970-01-01 00:27:30</td>\n",
              "            <td>-20.0</td>\n",
              "            <td>0</td>\n",
              "            <td>0</td>\n",
              "            <td>1670</td>\n",
              "        </tr>\n",
              "        <tr>\n",
              "            <td>2015-03-27</td>\n",
              "            <td>WN</td>\n",
              "            <td>1014003</td>\n",
              "            <td>ABQ</td>\n",
              "            <td>1125903</td>\n",
              "            <td>DAL</td>\n",
              "            <td>1920</td>\n",
              "            <td>1970-01-01 00:31:59</td>\n",
              "            <td>-1.0</td>\n",
              "            <td>7.0</td>\n",
              "            <td>1926</td>\n",
              "            <td>2146</td>\n",
              "            <td>4.0</td>\n",
              "            <td>2155</td>\n",
              "            <td>1970-01-01 00:35:50</td>\n",
              "            <td>-5.0</td>\n",
              "            <td>0</td>\n",
              "            <td>0</td>\n",
              "            <td>580</td>\n",
              "        </tr>\n",
              "        <tr>\n",
              "            <td>2015-06-14</td>\n",
              "            <td>WN</td>\n",
              "            <td>1014003</td>\n",
              "            <td>ABQ</td>\n",
              "            <td>1125903</td>\n",
              "            <td>DAL</td>\n",
              "            <td>535</td>\n",
              "            <td>1970-01-01 00:08:51</td>\n",
              "            <td>-4.0</td>\n",
              "            <td>13.0</td>\n",
              "            <td>0544</td>\n",
              "            <td>0806</td>\n",
              "            <td>2.0</td>\n",
              "            <td>815</td>\n",
              "            <td>1970-01-01 00:13:28</td>\n",
              "            <td>-7.0</td>\n",
              "            <td>0</td>\n",
              "            <td>0</td>\n",
              "            <td>580</td>\n",
              "        </tr>\n",
              "        <tr>\n",
              "            <td>2015-03-27</td>\n",
              "            <td>WN</td>\n",
              "            <td>1014003</td>\n",
              "            <td>ABQ</td>\n",
              "            <td>1125903</td>\n",
              "            <td>DAL</td>\n",
              "            <td>600</td>\n",
              "            <td>1970-01-01 00:09:19</td>\n",
              "            <td>-1.0</td>\n",
              "            <td>13.0</td>\n",
              "            <td>0612</td>\n",
              "            <td>0830</td>\n",
              "            <td>4.0</td>\n",
              "            <td>835</td>\n",
              "            <td>1970-01-01 00:13:54</td>\n",
              "            <td>-1.0</td>\n",
              "            <td>0</td>\n",
              "            <td>0</td>\n",
              "            <td>580</td>\n",
              "        </tr>\n",
              "        <tr>\n",
              "            <td>2015-02-22</td>\n",
              "            <td>WN</td>\n",
              "            <td>1014003</td>\n",
              "            <td>ABQ</td>\n",
              "            <td>1125903</td>\n",
              "            <td>DAL</td>\n",
              "            <td>800</td>\n",
              "            <td>1970-01-01 00:12:33</td>\n",
              "            <td>-7.0</td>\n",
              "            <td>8.0</td>\n",
              "            <td>0801</td>\n",
              "            <td>1017</td>\n",
              "            <td>5.0</td>\n",
              "            <td>1040</td>\n",
              "            <td>1970-01-01 00:17:02</td>\n",
              "            <td>-18.0</td>\n",
              "            <td>0</td>\n",
              "            <td>0</td>\n",
              "            <td>580</td>\n",
              "        </tr>\n",
              "        <tr>\n",
              "            <td>2015-08-26</td>\n",
              "            <td>OO</td>\n",
              "            <td>1014003</td>\n",
              "            <td>ABQ</td>\n",
              "            <td>1129202</td>\n",
              "            <td>DEN</td>\n",
              "            <td>1741</td>\n",
              "            <td>1970-01-01 00:29:14</td>\n",
              "            <td>13.0</td>\n",
              "            <td>12.0</td>\n",
              "            <td>1806</td>\n",
              "            <td>1905</td>\n",
              "            <td>9.0</td>\n",
              "            <td>1905</td>\n",
              "            <td>1970-01-01 00:31:54</td>\n",
              "            <td>9.0</td>\n",
              "            <td>0</td>\n",
              "            <td>0</td>\n",
              "            <td>349</td>\n",
              "        </tr>\n",
              "        <tr>\n",
              "            <td>2015-12-01</td>\n",
              "            <td>WN</td>\n",
              "            <td>1014003</td>\n",
              "            <td>ABQ</td>\n",
              "            <td>1129202</td>\n",
              "            <td>DEN</td>\n",
              "            <td>1710</td>\n",
              "            <td>1970-01-01 00:28:36</td>\n",
              "            <td>6.0</td>\n",
              "            <td>8.0</td>\n",
              "            <td>1724</td>\n",
              "            <td>1820</td>\n",
              "            <td>5.0</td>\n",
              "            <td>1825</td>\n",
              "            <td>1970-01-01 00:30:25</td>\n",
              "            <td>0.0</td>\n",
              "            <td>0</td>\n",
              "            <td>0</td>\n",
              "            <td>349</td>\n",
              "        </tr>\n",
              "        <tr>\n",
              "            <td>2015-04-13</td>\n",
              "            <td>OO</td>\n",
              "            <td>1014003</td>\n",
              "            <td>ABQ</td>\n",
              "            <td>1129202</td>\n",
              "            <td>DEN</td>\n",
              "            <td>1940</td>\n",
              "            <td>1970-01-01 00:32:08</td>\n",
              "            <td>-12.0</td>\n",
              "            <td>13.0</td>\n",
              "            <td>1941</td>\n",
              "            <td>2040</td>\n",
              "            <td>8.0</td>\n",
              "            <td>2101</td>\n",
              "            <td>1970-01-01 00:34:08</td>\n",
              "            <td>-13.0</td>\n",
              "            <td>0</td>\n",
              "            <td>0</td>\n",
              "            <td>349</td>\n",
              "        </tr>\n",
              "        <tr>\n",
              "            <td>2015-11-03</td>\n",
              "            <td>AA</td>\n",
              "            <td>1014003</td>\n",
              "            <td>ABQ</td>\n",
              "            <td>1129804</td>\n",
              "            <td>DFW</td>\n",
              "            <td>800</td>\n",
              "            <td>1970-01-01 00:14:06</td>\n",
              "            <td>46.0</td>\n",
              "            <td>11.0</td>\n",
              "            <td>0857</td>\n",
              "            <td>1115</td>\n",
              "            <td>12.0</td>\n",
              "            <td>1051</td>\n",
              "            <td>1970-01-01 00:18:47</td>\n",
              "            <td>36.0</td>\n",
              "            <td>0</td>\n",
              "            <td>0</td>\n",
              "            <td>569</td>\n",
              "        </tr>\n",
              "        <tr>\n",
              "            <td>2015-10-03</td>\n",
              "            <td>WN</td>\n",
              "            <td>1014003</td>\n",
              "            <td>ABQ</td>\n",
              "            <td>1288903</td>\n",
              "            <td>LAS</td>\n",
              "            <td>1205</td>\n",
              "            <td>1970-01-01 00:20:05</td>\n",
              "            <td>0.0</td>\n",
              "            <td>7.0</td>\n",
              "            <td>1212</td>\n",
              "            <td>1227</td>\n",
              "            <td>5.0</td>\n",
              "            <td>1240</td>\n",
              "            <td>1970-01-01 00:20:32</td>\n",
              "            <td>-8.0</td>\n",
              "            <td>0</td>\n",
              "            <td>0</td>\n",
              "            <td>486</td>\n",
              "        </tr>\n",
              "        <tr>\n",
              "            <td>2015-01-05</td>\n",
              "            <td>OO</td>\n",
              "            <td>1014003</td>\n",
              "            <td>ABQ</td>\n",
              "            <td>1289203</td>\n",
              "            <td>LAX</td>\n",
              "            <td>1235</td>\n",
              "            <td>1970-01-01 00:20:37</td>\n",
              "            <td>2.0</td>\n",
              "            <td>19.0</td>\n",
              "            <td>1256</td>\n",
              "            <td>1328</td>\n",
              "            <td>7.0</td>\n",
              "            <td>1345</td>\n",
              "            <td>1970-01-01 00:22:15</td>\n",
              "            <td>-10.0</td>\n",
              "            <td>0</td>\n",
              "            <td>0</td>\n",
              "            <td>677</td>\n",
              "        </tr>\n",
              "        <tr>\n",
              "            <td>2015-09-06</td>\n",
              "            <td>WN</td>\n",
              "            <td>1014003</td>\n",
              "            <td>ABQ</td>\n",
              "            <td>1289203</td>\n",
              "            <td>LAX</td>\n",
              "            <td>1100</td>\n",
              "            <td>1970-01-01 00:17:37</td>\n",
              "            <td>-3.0</td>\n",
              "            <td>9.0</td>\n",
              "            <td>1106</td>\n",
              "            <td>1142</td>\n",
              "            <td>11.0</td>\n",
              "            <td>1200</td>\n",
              "            <td>1970-01-01 00:19:13</td>\n",
              "            <td>-7.0</td>\n",
              "            <td>0</td>\n",
              "            <td>0</td>\n",
              "            <td>677</td>\n",
              "        </tr>\n",
              "        <tr>\n",
              "            <td>2015-06-14</td>\n",
              "            <td>OO</td>\n",
              "            <td>1014003</td>\n",
              "            <td>ABQ</td>\n",
              "            <td>1289203</td>\n",
              "            <td>LAX</td>\n",
              "            <td>605</td>\n",
              "            <td>1970-01-01 00:09:19</td>\n",
              "            <td>-6.0</td>\n",
              "            <td>16.0</td>\n",
              "            <td>0615</td>\n",
              "            <td>0649</td>\n",
              "            <td>7.0</td>\n",
              "            <td>701</td>\n",
              "            <td>1970-01-01 00:10:56</td>\n",
              "            <td>-5.0</td>\n",
              "            <td>0</td>\n",
              "            <td>0</td>\n",
              "            <td>677</td>\n",
              "        </tr>\n",
              "        <tr>\n",
              "            <td>2015-10-13</td>\n",
              "            <td>WN</td>\n",
              "            <td>1014003</td>\n",
              "            <td>ABQ</td>\n",
              "            <td>1289203</td>\n",
              "            <td>LAX</td>\n",
              "            <td>600</td>\n",
              "            <td>1970-01-01 00:09:19</td>\n",
              "            <td>-1.0</td>\n",
              "            <td>10.0</td>\n",
              "            <td>0609</td>\n",
              "            <td>0638</td>\n",
              "            <td>14.0</td>\n",
              "            <td>700</td>\n",
              "            <td>1970-01-01 00:10:52</td>\n",
              "            <td>-8.0</td>\n",
              "            <td>0</td>\n",
              "            <td>0</td>\n",
              "            <td>677</td>\n",
              "        </tr>\n",
              "        <tr>\n",
              "            <td>2015-06-03</td>\n",
              "            <td>WN</td>\n",
              "            <td>1014003</td>\n",
              "            <td>ABQ</td>\n",
              "            <td>1319801</td>\n",
              "            <td>MCI</td>\n",
              "            <td>915</td>\n",
              "            <td>1970-01-01 00:15:09</td>\n",
              "            <td>-6.0</td>\n",
              "            <td>14.0</td>\n",
              "            <td>0923</td>\n",
              "            <td>1206</td>\n",
              "            <td>5.0</td>\n",
              "            <td>1205</td>\n",
              "            <td>1970-01-01 00:20:11</td>\n",
              "            <td>6.0</td>\n",
              "            <td>0</td>\n",
              "            <td>0</td>\n",
              "            <td>718</td>\n",
              "        </tr>\n",
              "        <tr>\n",
              "            <td>2015-07-30</td>\n",
              "            <td>WN</td>\n",
              "            <td>1014003</td>\n",
              "            <td>ABQ</td>\n",
              "            <td>1379604</td>\n",
              "            <td>OAK</td>\n",
              "            <td>1225</td>\n",
              "            <td>1970-01-01 00:20:23</td>\n",
              "            <td>-2.0</td>\n",
              "            <td>6.0</td>\n",
              "            <td>1229</td>\n",
              "            <td>1325</td>\n",
              "            <td>6.0</td>\n",
              "            <td>1345</td>\n",
              "            <td>1970-01-01 00:22:11</td>\n",
              "            <td>-14.0</td>\n",
              "            <td>0</td>\n",
              "            <td>0</td>\n",
              "            <td>889</td>\n",
              "        </tr>\n",
              "        <tr>\n",
              "            <td>2015-11-13</td>\n",
              "            <td>WN</td>\n",
              "            <td>1014003</td>\n",
              "            <td>ABQ</td>\n",
              "            <td>1405702</td>\n",
              "            <td>PDX</td>\n",
              "            <td>1305</td>\n",
              "            <td>1970-01-01 00:21:46</td>\n",
              "            <td>1.0</td>\n",
              "            <td>8.0</td>\n",
              "            <td>1314</td>\n",
              "            <td>1457</td>\n",
              "            <td>6.0</td>\n",
              "            <td>1505</td>\n",
              "            <td>1970-01-01 00:25:03</td>\n",
              "            <td>-2.0</td>\n",
              "            <td>0</td>\n",
              "            <td>0</td>\n",
              "            <td>1111</td>\n",
              "        </tr>\n",
              "        <tr>\n",
              "            <td>2015-07-06</td>\n",
              "            <td>WN</td>\n",
              "            <td>1014003</td>\n",
              "            <td>ABQ</td>\n",
              "            <td>1410702</td>\n",
              "            <td>PHX</td>\n",
              "            <td>855</td>\n",
              "            <td>1970-01-01 00:15:05</td>\n",
              "            <td>10.0</td>\n",
              "            <td>6.0</td>\n",
              "            <td>0911</td>\n",
              "            <td>0906</td>\n",
              "            <td>6.0</td>\n",
              "            <td>910</td>\n",
              "            <td>1970-01-01 00:15:12</td>\n",
              "            <td>2.0</td>\n",
              "            <td>0</td>\n",
              "            <td>0</td>\n",
              "            <td>328</td>\n",
              "        </tr>\n",
              "        <tr>\n",
              "            <td>2015-01-22</td>\n",
              "            <td>WN</td>\n",
              "            <td>1014003</td>\n",
              "            <td>ABQ</td>\n",
              "            <td>1410702</td>\n",
              "            <td>PHX</td>\n",
              "            <td>600</td>\n",
              "            <td>None</td>\n",
              "            <td>None</td>\n",
              "            <td>None</td>\n",
              "            <td></td>\n",
              "            <td></td>\n",
              "            <td>None</td>\n",
              "            <td>720</td>\n",
              "            <td>None</td>\n",
              "            <td>None</td>\n",
              "            <td>1</td>\n",
              "            <td>0</td>\n",
              "            <td>328</td>\n",
              "        </tr>\n",
              "        <tr>\n",
              "            <td>2015-07-03</td>\n",
              "            <td>WN</td>\n",
              "            <td>1014003</td>\n",
              "            <td>ABQ</td>\n",
              "            <td>1410702</td>\n",
              "            <td>PHX</td>\n",
              "            <td>1350</td>\n",
              "            <td>1970-01-01 00:22:27</td>\n",
              "            <td>-3.0</td>\n",
              "            <td>5.0</td>\n",
              "            <td>1352</td>\n",
              "            <td>1341</td>\n",
              "            <td>6.0</td>\n",
              "            <td>1400</td>\n",
              "            <td>1970-01-01 00:22:27</td>\n",
              "            <td>-13.0</td>\n",
              "            <td>0</td>\n",
              "            <td>0</td>\n",
              "            <td>328</td>\n",
              "        </tr>\n",
              "        <tr>\n",
              "            <td>2015-05-27</td>\n",
              "            <td>WN</td>\n",
              "            <td>1014003</td>\n",
              "            <td>ABQ</td>\n",
              "            <td>1410702</td>\n",
              "            <td>PHX</td>\n",
              "            <td>1005</td>\n",
              "            <td>1970-01-01 00:16:46</td>\n",
              "            <td>1.0</td>\n",
              "            <td>8.0</td>\n",
              "            <td>1014</td>\n",
              "            <td>1011</td>\n",
              "            <td>5.0</td>\n",
              "            <td>1015</td>\n",
              "            <td>1970-01-01 00:16:56</td>\n",
              "            <td>1.0</td>\n",
              "            <td>0</td>\n",
              "            <td>0</td>\n",
              "            <td>328</td>\n",
              "        </tr>\n",
              "        <tr>\n",
              "            <td>2015-01-04</td>\n",
              "            <td>WN</td>\n",
              "            <td>1014003</td>\n",
              "            <td>ABQ</td>\n",
              "            <td>1467903</td>\n",
              "            <td>SAN</td>\n",
              "            <td>1810</td>\n",
              "            <td>1970-01-01 00:30:28</td>\n",
              "            <td>18.0</td>\n",
              "            <td>9.0</td>\n",
              "            <td>1837</td>\n",
              "            <td>1904</td>\n",
              "            <td>4.0</td>\n",
              "            <td>1900</td>\n",
              "            <td>1970-01-01 00:31:48</td>\n",
              "            <td>8.0</td>\n",
              "            <td>0</td>\n",
              "            <td>0</td>\n",
              "            <td>628</td>\n",
              "        </tr>\n",
              "        <tr>\n",
              "            <td>2015-04-15</td>\n",
              "            <td>WN</td>\n",
              "            <td>1014003</td>\n",
              "            <td>ABQ</td>\n",
              "            <td>1467903</td>\n",
              "            <td>SAN</td>\n",
              "            <td>735</td>\n",
              "            <td>1970-01-01 00:12:07</td>\n",
              "            <td>-8.0</td>\n",
              "            <td>10.0</td>\n",
              "            <td>0737</td>\n",
              "            <td>0811</td>\n",
              "            <td>4.0</td>\n",
              "            <td>825</td>\n",
              "            <td>1970-01-01 00:13:35</td>\n",
              "            <td>-10.0</td>\n",
              "            <td>0</td>\n",
              "            <td>0</td>\n",
              "            <td>628</td>\n",
              "        </tr>\n",
              "        <tr>\n",
              "            <td>2015-03-27</td>\n",
              "            <td>EV</td>\n",
              "            <td>1015502</td>\n",
              "            <td>ACT</td>\n",
              "            <td>1129803</td>\n",
              "            <td>DFW</td>\n",
              "            <td>1839</td>\n",
              "            <td>1970-01-01 00:30:28</td>\n",
              "            <td>-11.0</td>\n",
              "            <td>9.0</td>\n",
              "            <td>1837</td>\n",
              "            <td>1900</td>\n",
              "            <td>8.0</td>\n",
              "            <td>1925</td>\n",
              "            <td>1970-01-01 00:31:48</td>\n",
              "            <td>-17.0</td>\n",
              "            <td>0</td>\n",
              "            <td>0</td>\n",
              "            <td>89</td>\n",
              "        </tr>\n",
              "    </tbody>\n",
              "</table>"
            ]
          },
          "metadata": {},
          "execution_count": 126
        }
      ]
    },
    {
      "cell_type": "code",
      "source": [
        "%%sql\n",
        "SELECT\n",
        "  -18/COUNT(arr_delay) AS frac_delayed\n",
        "FROM flights_view_"
      ],
      "metadata": {
        "colab": {
          "base_uri": "https://localhost:8080/",
          "height": 97
        },
        "id": "c1YFohRtVyTJ",
        "outputId": "31f2fda4-9fdb-45bd-87d8-0e5a6e5b6884"
      },
      "execution_count": null,
      "outputs": [
        {
          "output_type": "stream",
          "name": "stdout",
          "text": [
            " * sqlite:///mydb_\n",
            "Done.\n"
          ]
        },
        {
          "output_type": "execute_result",
          "data": {
            "text/plain": [
              "[(0,)]"
            ],
            "text/html": [
              "<table>\n",
              "    <thead>\n",
              "        <tr>\n",
              "            <th>frac_delayed</th>\n",
              "        </tr>\n",
              "    </thead>\n",
              "    <tbody>\n",
              "        <tr>\n",
              "            <td>0</td>\n",
              "        </tr>\n",
              "    </tbody>\n",
              "</table>"
            ]
          },
          "metadata": {},
          "execution_count": 74
        }
      ]
    },
    {
      "cell_type": "code",
      "source": [
        "df.describe()"
      ],
      "metadata": {
        "colab": {
          "base_uri": "https://localhost:8080/",
          "height": 364
        },
        "id": "nbcYT5ILd5r9",
        "outputId": "4eb956b2-d92e-4595-eb59-688bfc1c8208"
      },
      "execution_count": null,
      "outputs": [
        {
          "output_type": "execute_result",
          "data": {
            "text/plain": [
              "       ORIGIN_AIRPORT_SEQ_ID  DEST_AIRPORT_SEQ_ID  CRS_DEP_TIME  DEP_DELAY  \\\n",
              "count           3.200000e+01         3.200000e+01     32.000000  30.000000   \n",
              "mean            1.013112e+06         1.229000e+06   1197.812500   1.133333   \n",
              "std             3.428375e+03         1.441868e+05    468.959689  12.389465   \n",
              "min             1.000101e+06         1.000101e+06    535.000000 -12.000000   \n",
              "25%             1.014003e+06         1.128377e+06    783.750000  -6.000000   \n",
              "50%             1.014003e+06         1.136553e+06   1215.000000  -2.500000   \n",
              "75%             1.014003e+06         1.382954e+06   1627.500000   1.750000   \n",
              "max             1.015502e+06         1.467903e+06   1940.000000  46.000000   \n",
              "\n",
              "        TAXI_OUT    TAXI_IN  CRS_ARR_TIME  ARR_DELAY     DISTANCE  \n",
              "count  30.000000  30.000000     32.000000  30.000000    32.000000  \n",
              "mean   10.033333   8.033333   1365.531250  -4.200000   574.437500  \n",
              "std     3.316452   7.613433    472.707233  15.772958   328.912572  \n",
              "min     5.000000   2.000000    700.000000 -20.000000    89.000000  \n",
              "25%     8.000000   5.000000    891.250000 -13.750000   343.750000  \n",
              "50%     9.000000   6.000000   1345.000000  -7.500000   580.000000  \n",
              "75%    12.750000   8.750000   1816.750000   0.750000   677.000000  \n",
              "max    19.000000  45.000000   2155.000000  52.000000  1670.000000  "
            ],
            "text/html": [
              "\n",
              "  <div id=\"df-c1aae150-e89e-4a53-9f96-c64c8d43604c\">\n",
              "    <div class=\"colab-df-container\">\n",
              "      <div>\n",
              "<style scoped>\n",
              "    .dataframe tbody tr th:only-of-type {\n",
              "        vertical-align: middle;\n",
              "    }\n",
              "\n",
              "    .dataframe tbody tr th {\n",
              "        vertical-align: top;\n",
              "    }\n",
              "\n",
              "    .dataframe thead th {\n",
              "        text-align: right;\n",
              "    }\n",
              "</style>\n",
              "<table border=\"1\" class=\"dataframe\">\n",
              "  <thead>\n",
              "    <tr style=\"text-align: right;\">\n",
              "      <th></th>\n",
              "      <th>ORIGIN_AIRPORT_SEQ_ID</th>\n",
              "      <th>DEST_AIRPORT_SEQ_ID</th>\n",
              "      <th>CRS_DEP_TIME</th>\n",
              "      <th>DEP_DELAY</th>\n",
              "      <th>TAXI_OUT</th>\n",
              "      <th>TAXI_IN</th>\n",
              "      <th>CRS_ARR_TIME</th>\n",
              "      <th>ARR_DELAY</th>\n",
              "      <th>DISTANCE</th>\n",
              "    </tr>\n",
              "  </thead>\n",
              "  <tbody>\n",
              "    <tr>\n",
              "      <th>count</th>\n",
              "      <td>3.200000e+01</td>\n",
              "      <td>3.200000e+01</td>\n",
              "      <td>32.000000</td>\n",
              "      <td>30.000000</td>\n",
              "      <td>30.000000</td>\n",
              "      <td>30.000000</td>\n",
              "      <td>32.000000</td>\n",
              "      <td>30.000000</td>\n",
              "      <td>32.000000</td>\n",
              "    </tr>\n",
              "    <tr>\n",
              "      <th>mean</th>\n",
              "      <td>1.013112e+06</td>\n",
              "      <td>1.229000e+06</td>\n",
              "      <td>1197.812500</td>\n",
              "      <td>1.133333</td>\n",
              "      <td>10.033333</td>\n",
              "      <td>8.033333</td>\n",
              "      <td>1365.531250</td>\n",
              "      <td>-4.200000</td>\n",
              "      <td>574.437500</td>\n",
              "    </tr>\n",
              "    <tr>\n",
              "      <th>std</th>\n",
              "      <td>3.428375e+03</td>\n",
              "      <td>1.441868e+05</td>\n",
              "      <td>468.959689</td>\n",
              "      <td>12.389465</td>\n",
              "      <td>3.316452</td>\n",
              "      <td>7.613433</td>\n",
              "      <td>472.707233</td>\n",
              "      <td>15.772958</td>\n",
              "      <td>328.912572</td>\n",
              "    </tr>\n",
              "    <tr>\n",
              "      <th>min</th>\n",
              "      <td>1.000101e+06</td>\n",
              "      <td>1.000101e+06</td>\n",
              "      <td>535.000000</td>\n",
              "      <td>-12.000000</td>\n",
              "      <td>5.000000</td>\n",
              "      <td>2.000000</td>\n",
              "      <td>700.000000</td>\n",
              "      <td>-20.000000</td>\n",
              "      <td>89.000000</td>\n",
              "    </tr>\n",
              "    <tr>\n",
              "      <th>25%</th>\n",
              "      <td>1.014003e+06</td>\n",
              "      <td>1.128377e+06</td>\n",
              "      <td>783.750000</td>\n",
              "      <td>-6.000000</td>\n",
              "      <td>8.000000</td>\n",
              "      <td>5.000000</td>\n",
              "      <td>891.250000</td>\n",
              "      <td>-13.750000</td>\n",
              "      <td>343.750000</td>\n",
              "    </tr>\n",
              "    <tr>\n",
              "      <th>50%</th>\n",
              "      <td>1.014003e+06</td>\n",
              "      <td>1.136553e+06</td>\n",
              "      <td>1215.000000</td>\n",
              "      <td>-2.500000</td>\n",
              "      <td>9.000000</td>\n",
              "      <td>6.000000</td>\n",
              "      <td>1345.000000</td>\n",
              "      <td>-7.500000</td>\n",
              "      <td>580.000000</td>\n",
              "    </tr>\n",
              "    <tr>\n",
              "      <th>75%</th>\n",
              "      <td>1.014003e+06</td>\n",
              "      <td>1.382954e+06</td>\n",
              "      <td>1627.500000</td>\n",
              "      <td>1.750000</td>\n",
              "      <td>12.750000</td>\n",
              "      <td>8.750000</td>\n",
              "      <td>1816.750000</td>\n",
              "      <td>0.750000</td>\n",
              "      <td>677.000000</td>\n",
              "    </tr>\n",
              "    <tr>\n",
              "      <th>max</th>\n",
              "      <td>1.015502e+06</td>\n",
              "      <td>1.467903e+06</td>\n",
              "      <td>1940.000000</td>\n",
              "      <td>46.000000</td>\n",
              "      <td>19.000000</td>\n",
              "      <td>45.000000</td>\n",
              "      <td>2155.000000</td>\n",
              "      <td>52.000000</td>\n",
              "      <td>1670.000000</td>\n",
              "    </tr>\n",
              "  </tbody>\n",
              "</table>\n",
              "</div>\n",
              "      <button class=\"colab-df-convert\" onclick=\"convertToInteractive('df-c1aae150-e89e-4a53-9f96-c64c8d43604c')\"\n",
              "              title=\"Convert this dataframe to an interactive table.\"\n",
              "              style=\"display:none;\">\n",
              "        \n",
              "  <svg xmlns=\"http://www.w3.org/2000/svg\" height=\"24px\"viewBox=\"0 0 24 24\"\n",
              "       width=\"24px\">\n",
              "    <path d=\"M0 0h24v24H0V0z\" fill=\"none\"/>\n",
              "    <path d=\"M18.56 5.44l.94 2.06.94-2.06 2.06-.94-2.06-.94-.94-2.06-.94 2.06-2.06.94zm-11 1L8.5 8.5l.94-2.06 2.06-.94-2.06-.94L8.5 2.5l-.94 2.06-2.06.94zm10 10l.94 2.06.94-2.06 2.06-.94-2.06-.94-.94-2.06-.94 2.06-2.06.94z\"/><path d=\"M17.41 7.96l-1.37-1.37c-.4-.4-.92-.59-1.43-.59-.52 0-1.04.2-1.43.59L10.3 9.45l-7.72 7.72c-.78.78-.78 2.05 0 2.83L4 21.41c.39.39.9.59 1.41.59.51 0 1.02-.2 1.41-.59l7.78-7.78 2.81-2.81c.8-.78.8-2.07 0-2.86zM5.41 20L4 18.59l7.72-7.72 1.47 1.35L5.41 20z\"/>\n",
              "  </svg>\n",
              "      </button>\n",
              "      \n",
              "  <style>\n",
              "    .colab-df-container {\n",
              "      display:flex;\n",
              "      flex-wrap:wrap;\n",
              "      gap: 12px;\n",
              "    }\n",
              "\n",
              "    .colab-df-convert {\n",
              "      background-color: #E8F0FE;\n",
              "      border: none;\n",
              "      border-radius: 50%;\n",
              "      cursor: pointer;\n",
              "      display: none;\n",
              "      fill: #1967D2;\n",
              "      height: 32px;\n",
              "      padding: 0 0 0 0;\n",
              "      width: 32px;\n",
              "    }\n",
              "\n",
              "    .colab-df-convert:hover {\n",
              "      background-color: #E2EBFA;\n",
              "      box-shadow: 0px 1px 2px rgba(60, 64, 67, 0.3), 0px 1px 3px 1px rgba(60, 64, 67, 0.15);\n",
              "      fill: #174EA6;\n",
              "    }\n",
              "\n",
              "    [theme=dark] .colab-df-convert {\n",
              "      background-color: #3B4455;\n",
              "      fill: #D2E3FC;\n",
              "    }\n",
              "\n",
              "    [theme=dark] .colab-df-convert:hover {\n",
              "      background-color: #434B5C;\n",
              "      box-shadow: 0px 1px 3px 1px rgba(0, 0, 0, 0.15);\n",
              "      filter: drop-shadow(0px 1px 2px rgba(0, 0, 0, 0.3));\n",
              "      fill: #FFFFFF;\n",
              "    }\n",
              "  </style>\n",
              "\n",
              "      <script>\n",
              "        const buttonEl =\n",
              "          document.querySelector('#df-c1aae150-e89e-4a53-9f96-c64c8d43604c button.colab-df-convert');\n",
              "        buttonEl.style.display =\n",
              "          google.colab.kernel.accessAllowed ? 'block' : 'none';\n",
              "\n",
              "        async function convertToInteractive(key) {\n",
              "          const element = document.querySelector('#df-c1aae150-e89e-4a53-9f96-c64c8d43604c');\n",
              "          const dataTable =\n",
              "            await google.colab.kernel.invokeFunction('convertToInteractive',\n",
              "                                                     [key], {});\n",
              "          if (!dataTable) return;\n",
              "\n",
              "          const docLinkHtml = 'Like what you see? Visit the ' +\n",
              "            '<a target=\"_blank\" href=https://colab.research.google.com/notebooks/data_table.ipynb>data table notebook</a>'\n",
              "            + ' to learn more about interactive tables.';\n",
              "          element.innerHTML = '';\n",
              "          dataTable['output_type'] = 'display_data';\n",
              "          await google.colab.output.renderOutput(dataTable, element);\n",
              "          const docLink = document.createElement('div');\n",
              "          docLink.innerHTML = docLinkHtml;\n",
              "          element.appendChild(docLink);\n",
              "        }\n",
              "      </script>\n",
              "    </div>\n",
              "  </div>\n",
              "  "
            ]
          },
          "metadata": {},
          "execution_count": 75
        }
      ]
    },
    {
      "cell_type": "code",
      "source": [
        "sparkFlightDF=sparkFlightDF.select(\"ARR_DELAY\",\"DEP_DELAY\")\n"
      ],
      "metadata": {
        "id": "Lcl8n9rfhC6H"
      },
      "execution_count": null,
      "outputs": []
    },
    {
      "cell_type": "code",
      "source": [
        "from pyspark.sql.functions import *\n",
        "sparkFlightDF=sparkFlightDF.withColumn(\"ontime\",when(col(\"ARR_DELAY\")>-10,\"True\").when(col(\"DEP_DELAY\")>-10,\"True\").otherwise(\"false\") )\n",
        "sparkFlightDF.show()"
      ],
      "metadata": {
        "id": "SBLH1ibhhUmh"
      },
      "execution_count": null,
      "outputs": []
    },
    {
      "cell_type": "code",
      "source": [
        "sparkFlightDF=sparkFlightDF.toPandas()"
      ],
      "metadata": {
        "id": "YDw7397ehhWa"
      },
      "execution_count": null,
      "outputs": []
    },
    {
      "cell_type": "code",
      "source": [
        "sparkFlightDF"
      ],
      "metadata": {
        "id": "WjCxa6JWikdD"
      },
      "execution_count": null,
      "outputs": []
    },
    {
      "cell_type": "code",
      "source": [
        "sns.set_style(\"whitegrid\")\n",
        "# sns.set(font_scale = 1.5)\n",
        "ax = sns.violinplot(data=sparkFlightDF, x='ARR_DELAY', inner='box', orient='h')\n",
        "ax.axes.set_xlim(-50, 300);"
      ],
      "metadata": {
        "colab": {
          "base_uri": "https://localhost:8080/",
          "height": 280
        },
        "id": "9zxTVoTmePKD",
        "outputId": "7ba6e4e1-cef0-4481-acff-1035247aa2e9"
      },
      "execution_count": null,
      "outputs": [
        {
          "output_type": "display_data",
          "data": {
            "text/plain": [
              "<Figure size 432x288 with 1 Axes>"
            ],
            "image/png": "[encoded data removed]"
          },
          "metadata": {}
        }
      ]
    },
    {
      "cell_type": "code",
      "source": [
        "sns.set_style(\"whitegrid\")\n",
        "ax = sns.violinplot(data=sparkFlightDF, x='ARR_DELAY', y='ontime', inner='box', orient='h')\n",
        "ax.set_xlim(-50, 200);"
      ],
      "metadata": {
        "colab": {
          "base_uri": "https://localhost:8080/",
          "height": 280
        },
        "id": "-sgr92yTibw6",
        "outputId": "ab6671ac-77f6-44ea-f3b4-eea8cceb7e1f"
      },
      "execution_count": null,
      "outputs": [
        {
          "output_type": "display_data",
          "data": {
            "text/plain": [
              "<Figure size 432x288 with 1 Axes>"
            ],
            "image/png": "[encoded data removed]"
          },
          "metadata": {}
        }
      ]
    },
    {
      "cell_type": "code",
      "source": [
        "#https://github.com/GoogleCloudPlatform/data-science-on-gcp/blob/main/05_bqnotebook/exploration.ipynb"
      ],
      "metadata": {
        "id": "iqFIGr3Tf5wo"
      },
      "execution_count": null,
      "outputs": []
    },
    {
      "cell_type": "code",
      "source": [
        "import pandas as pd\n",
        "df = pd.read_sql(\"\"\"\n",
        "            SELECT\n",
        "    DEP_DELAY,\n",
        "    AVG(ARR_DELAY) AS arrival_delay,\n",
        "    AVG(ARR_DELAY*ARR_DELAY) - AVG(ARR_DELAY)*AVG(ARR_DELAY) AS stddev_arrival_delay,\n",
        "    COUNT(ARR_DELAY) AS numflights\n",
        "FROM\n",
        "    flights_view_\n",
        "GROUP BY\n",
        "    DEP_DELAY\n",
        "   having DEP_DELAY>0 \n",
        "ORDER BY DEP_DELAY\n",
        "            \n",
        "            \"\"\", con = sqlite3.connect('mydb_'))\n",
        "# return your first five rows\n"
      ],
      "metadata": {
        "id": "IVnZfBNOl0v-"
      },
      "execution_count": null,
      "outputs": []
    },
    {
      "cell_type": "code",
      "source": [
        "%%sql\n",
        "SELECT\n",
        "    DEP_DELAY,\n",
        "    AVG(ARR_DELAY) AS arrival_delay,\n",
        "    AVG(ARR_DELAY*ARR_DELAY) - AVG(ARR_DELAY)*AVG(ARR_DELAY) AS stddev_arrival_delay,\n",
        "    COUNT(ARR_DELAY) AS numflights\n",
        "FROM\n",
        "    flights_view_\n",
        "GROUP BY\n",
        "    DEP_DELAY\n",
        "   having DEP_DELAY>0 \n",
        "ORDER BY DEP_DELAY"
      ],
      "metadata": {
        "colab": {
          "base_uri": "https://localhost:8080/",
          "height": 247
        },
        "id": "HW0-htKCkIAv",
        "outputId": "28e36f6f-c136-4a66-9db9-504fc1802625"
      },
      "execution_count": null,
      "outputs": [
        {
          "output_type": "stream",
          "name": "stdout",
          "text": [
            " * sqlite:///mydb_\n",
            "Done.\n"
          ]
        },
        {
          "output_type": "execute_result",
          "data": {
            "text/plain": [
              "[(1.0, -0.5, 2.25, 2),\n",
              " (2.0, -10.0, 0.0, 1),\n",
              " (6.0, 0.0, 0.0, 1),\n",
              " (10.0, 2.0, 0.0, 1),\n",
              " (13.0, 6.5, 6.25, 2),\n",
              " (18.0, 8.0, 0.0, 1),\n",
              " (28.0, 52.0, 0.0, 1),\n",
              " (46.0, 36.0, 0.0, 1)]"
            ],
            "text/html": [
              "<table>\n",
              "    <thead>\n",
              "        <tr>\n",
              "            <th>DEP_DELAY</th>\n",
              "            <th>arrival_delay</th>\n",
              "            <th>stddev_arrival_delay</th>\n",
              "            <th>numflights</th>\n",
              "        </tr>\n",
              "    </thead>\n",
              "    <tbody>\n",
              "        <tr>\n",
              "            <td>1.0</td>\n",
              "            <td>-0.5</td>\n",
              "            <td>2.25</td>\n",
              "            <td>2</td>\n",
              "        </tr>\n",
              "        <tr>\n",
              "            <td>2.0</td>\n",
              "            <td>-10.0</td>\n",
              "            <td>0.0</td>\n",
              "            <td>1</td>\n",
              "        </tr>\n",
              "        <tr>\n",
              "            <td>6.0</td>\n",
              "            <td>0.0</td>\n",
              "            <td>0.0</td>\n",
              "            <td>1</td>\n",
              "        </tr>\n",
              "        <tr>\n",
              "            <td>10.0</td>\n",
              "            <td>2.0</td>\n",
              "            <td>0.0</td>\n",
              "            <td>1</td>\n",
              "        </tr>\n",
              "        <tr>\n",
              "            <td>13.0</td>\n",
              "            <td>6.5</td>\n",
              "            <td>6.25</td>\n",
              "            <td>2</td>\n",
              "        </tr>\n",
              "        <tr>\n",
              "            <td>18.0</td>\n",
              "            <td>8.0</td>\n",
              "            <td>0.0</td>\n",
              "            <td>1</td>\n",
              "        </tr>\n",
              "        <tr>\n",
              "            <td>28.0</td>\n",
              "            <td>52.0</td>\n",
              "            <td>0.0</td>\n",
              "            <td>1</td>\n",
              "        </tr>\n",
              "        <tr>\n",
              "            <td>46.0</td>\n",
              "            <td>36.0</td>\n",
              "            <td>0.0</td>\n",
              "            <td>1</td>\n",
              "        </tr>\n",
              "    </tbody>\n",
              "</table>"
            ]
          },
          "metadata": {},
          "execution_count": 94
        }
      ]
    },
    {
      "cell_type": "code",
      "source": [
        "ax = df.plot(kind='line', x='DEP_DELAY', \n",
        "              y='arrival_delay', yerr='stddev_arrival_delay')"
      ],
      "metadata": {
        "colab": {
          "base_uri": "https://localhost:8080/",
          "height": 280
        },
        "id": "vJZKBqxgjryu",
        "outputId": "23bbdf5d-022f-417a-a014-d23a8d5bc54d"
      },
      "execution_count": null,
      "outputs": [
        {
          "output_type": "display_data",
          "data": {
            "text/plain": [
              "<Figure size 432x288 with 1 Axes>"
            ],
            "image/png": "[encoded data removed]"
          },
          "metadata": {}
        }
      ]
    },
    {
      "cell_type": "code",
      "source": [
        "%%sql\n",
        "    SELECT\n",
        "    DEP_DELAY,\n",
        "    APPROX_QUANTILES(ARR_DELAY, 101) arrival_delay,\n",
        "    COUNT(ARR_DELAY) AS numflights\n",
        "FROM\n",
        "    flights_view_\n",
        "GROUP BY\n",
        "    DEP_DELAY\n",
        "ORDER BY DEP_DELAY"
      ],
      "metadata": {
        "colab": {
          "base_uri": "https://localhost:8080/"
        },
        "id": "u0Y9G4BsmsPA",
        "outputId": "c662acf1-e7f5-4300-b69d-a85bee014fb2"
      },
      "execution_count": null,
      "outputs": [
        {
          "output_type": "stream",
          "name": "stdout",
          "text": [
            " * sqlite:///mydb_\n",
            "(sqlite3.OperationalError) no such function: APPROX_QUANTILES\n",
            "[SQL: SELECT\n",
            "    DEP_DELAY,\n",
            "    APPROX_QUANTILES(ARR_DELAY, 101) arrival_delay,\n",
            "    COUNT(ARR_DELAY) AS numflights\n",
            "FROM\n",
            "    flights_view_\n",
            "GROUP BY\n",
            "    DEP_DELAY\n",
            "ORDER BY DEP_DELAY]\n",
            "(Background on this error at: https://sqlalche.me/e/14/e3q8)\n"
          ]
        }
      ]
    },
    {
      "cell_type": "code",
      "source": [
        "import pandas as pd\n",
        "df = pd.read_sql(\"\"\"\n",
        "    SELECT\n",
        "    DEP_DELAY,\n",
        "    APPROX_QUANTILES(ARR_DELAY, 101) AS arrival_delay,\n",
        "    COUNT(ARR_DELAY) AS numflights\n",
        "FROM\n",
        "    flights_view_\n",
        "GROUP BY\n",
        "    DEP_DELAY\n",
        "ORDER BY DEP_DELAY\n",
        "            \n",
        "            \"\"\", con = sqlite3.connect('mydb_'))\n",
        "# return your first five rows\n"
      ],
      "metadata": {
        "id": "RbsKLQQImfPo"
      },
      "execution_count": null,
      "outputs": []
    },
    {
      "cell_type": "code",
      "source": [
        "z=x-mean/s.d\n",
        "x=\n",
        "z*s.d+mean\n",
        "z score for 30% probablity is 0.52"
      ],
      "metadata": {
        "id": "BS77xjGeFWTs"
      },
      "execution_count": null,
      "outputs": []
    },
    {
      "cell_type": "code",
      "source": [
        "df['arr_delay_30'] = (0.52 * df['stddev_arrival_delay']) \\\n",
        "             + df['arrival_delay']\n",
        "x=df['arr_delay_30']\n",
        "x"
      ],
      "metadata": {
        "colab": {
          "base_uri": "https://localhost:8080/"
        },
        "id": "txQIZVSgmG8-",
        "outputId": "fbc244b4-c258-4a5a-d9d0-804869d088f6"
      },
      "execution_count": 112,
      "outputs": [
        {
          "output_type": "execute_result",
          "data": {
            "text/plain": [
              "0     0.67\n",
              "1   -10.00\n",
              "2     0.00\n",
              "3     2.00\n",
              "4     9.75\n",
              "5     8.00\n",
              "6    52.00\n",
              "7    36.00\n",
              "Name: arr_delay_30, dtype: float64"
            ]
          },
          "metadata": {},
          "execution_count": 112
        }
      ]
    },
    {
      "cell_type": "code",
      "source": [
        "ax = plt.axes()\n",
        "df.plot(kind='line', x='DEP_DELAY', y='arr_delay_30',\n",
        "              ax=ax, ylim=(0,30), xlim=(0,30), legend=False)\n",
        "ax.set_xlabel('Departure Delay (minutes)')\n",
        "ax.set_ylabel('> 30% prob of this\\n Arrival Delay (minutes)');\n",
        "\n",
        "x = np.arange(0, 30)\n",
        "y = np.ones_like(x) * 15\n",
        "ax.plot(x, y, 'r.');\n",
        "\n",
        "y = np.arange(0, 30)\n",
        "x = np.ones_like(y) * 13\n",
        "ax.plot(x, y, 'g.');"
      ],
      "metadata": {
        "colab": {
          "base_uri": "https://localhost:8080/",
          "height": 283
        },
        "id": "Gqn-zL1RHZXD",
        "outputId": "51642a94-48c7-47f2-99af-66f2c586cc8d"
      },
      "execution_count": 113,
      "outputs": [
        {
          "output_type": "display_data",
          "data": {
            "text/plain": [
              "<Figure size 432x288 with 1 Axes>"
            ],
            "image/png": "[encoded data removed]"
          },
          "metadata": {}
        }
      ]
    },
    {
      "cell_type": "code",
      "source": [
        "#if your departure delay is 19 min more tha your 30% likelihood of arrival >15\n",
        "#you will cancel meeting if likelyhood 30 % or more\n",
        "#here data is  normally distributed"
      ],
      "metadata": {
        "id": "jszeIK-YH0j5"
      },
      "execution_count": null,
      "outputs": []
    },
    {
      "cell_type": "code",
      "source": [
        "ax = plt.axes()\n",
        "df.plot(kind='line', x='DEP_DELAY', y='arrival_delay',\n",
        "              ax=ax, ylim=(0,30), xlim=(0,30), legend=False)\n",
        "ax.set_xlabel('Departure Delay (minutes)')\n",
        "ax.set_ylabel('> 30% prob of this\\n Arrival Delay (minutes)');\n",
        "\n",
        "x = np.arange(0, 30)\n",
        "y = np.ones_like(x) * 15\n",
        "ax.plot(x, y, 'r.');\n",
        "\n",
        "y = np.arange(0, 30)\n",
        "x = np.ones_like(y) * 16\n",
        "ax.plot(x, y, 'g.');"
      ],
      "metadata": {
        "colab": {
          "base_uri": "https://localhost:8080/",
          "height": 283
        },
        "id": "oTBOI8qGmTyt",
        "outputId": "2bc1e978-bc62-4643-83fc-a1a4016b16d3"
      },
      "execution_count": null,
      "outputs": [
        {
          "output_type": "display_data",
          "data": {
            "text/plain": [
              "<Figure size 432x288 with 1 Axes>"
            ],
            "image/png": "[encoded data removed]"
          },
          "metadata": {}
        }
      ]
    },
    {
      "cell_type": "code",
      "source": [
        "%pip freeze"
      ],
      "metadata": {
        "id": "Vk50L_VMB6ia"
      },
      "execution_count": null,
      "outputs": []
    },
    {
      "cell_type": "code",
      "source": [
        "%pip install google-cloud"
      ],
      "metadata": {
        "colab": {
          "base_uri": "https://localhost:8080/"
        },
        "id": "xpB4oIdcCNRf",
        "outputId": "7dd9d698-1634-40b3-cce2-1d6fd51e7dc4"
      },
      "execution_count": 110,
      "outputs": [
        {
          "output_type": "stream",
          "name": "stdout",
          "text": [
            "Looking in indexes: https://pypi.org/simple, https://us-python.pkg.dev/colab-wheels/public/simple/\n",
            "Collecting google-cloud\n",
            "  Downloading google_cloud-0.34.0-py2.py3-none-any.whl (1.8 kB)\n",
            "Installing collected packages: google-cloud\n",
            "Successfully installed google-cloud-0.34.0\n"
          ]
        }
      ]
    },
    {
      "cell_type": "code",
      "source": [
        "#test model"
      ],
      "metadata": {
        "colab": {
          "base_uri": "https://localhost:8080/"
        },
        "id": "rhqyUjJFCBRO",
        "outputId": "46ac2850-d505-4c22-f30f-ea8853666e46"
      },
      "execution_count": 111,
      "outputs": [
        {
          "output_type": "stream",
          "name": "stderr",
          "text": [
            "\n",
            "ERROR:\n",
            " (\"Failed to retrieve http://metadata.google.internal/computeMetadata/v1/instance/service-accounts/default/?recursive=true from the Google Compute Engine metadata service. Status: 404 Response:\\nb''\", <google.auth.transport.requests._Response object at 0x7faa68640d30>)\n"
          ]
        }
      ]
    },
    {
      "cell_type": "code",
      "source": [
        "%%sql\n",
        "SELECT\n",
        "  SUM(case when DEP_DELAY < 16  AND arr_delay < 15  then 1 else 0 end ) AS correct_nocancel,\n",
        "  SUM(case when DEP_DELAY < 16  AND arr_delay >= 15  then 1 else 0 end ) AS wrong_nocancel,\n",
        "  SUM(case when DEP_DELAY >= 16  AND arr_delay <15  then 1 else 0 end ) AS wrong_cancel,\n",
        "  SUM(case when DEP_DELAY >= 16  AND arr_delay >= 15  then 1 else 0 end ) AS correct_cancel\n",
        "\n",
        "FROM (\n",
        "  SELECT\n",
        "    DEP_DELAY,\n",
        "    ARR_DELAY\n",
        "  FROM\n",
        "    flights_view_\n",
        "\n",
        " \n",
        ")"
      ],
      "metadata": {
        "colab": {
          "base_uri": "https://localhost:8080/",
          "height": 97
        },
        "id": "F0CREPf0WzsK",
        "outputId": "d5f82cb4-8257-48a6-f09b-8e6bbe48b83e"
      },
      "execution_count": 135,
      "outputs": [
        {
          "output_type": "stream",
          "name": "stdout",
          "text": [
            " * sqlite:///mydb_\n",
            "Done.\n"
          ]
        },
        {
          "output_type": "execute_result",
          "data": {
            "text/plain": [
              "[(27, 0, 1, 2)]"
            ],
            "text/html": [
              "<table>\n",
              "    <thead>\n",
              "        <tr>\n",
              "            <th>correct_nocancel</th>\n",
              "            <th>wrong_nocancel</th>\n",
              "            <th>wrong_cancel</th>\n",
              "            <th>correct_cancel</th>\n",
              "        </tr>\n",
              "    </thead>\n",
              "    <tbody>\n",
              "        <tr>\n",
              "            <td>27</td>\n",
              "            <td>0</td>\n",
              "            <td>1</td>\n",
              "            <td>2</td>\n",
              "        </tr>\n",
              "    </tbody>\n",
              "</table>"
            ]
          },
          "metadata": {},
          "execution_count": 135
        }
      ]
    }
  ]
}