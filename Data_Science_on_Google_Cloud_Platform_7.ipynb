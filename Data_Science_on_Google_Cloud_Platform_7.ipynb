{
  "nbformat": 4,
  "nbformat_minor": 0,
  "metadata": {
    "colab": {
      "provenance": [],
      "authorship_tag": "ABX9TyM0JexwpHLK5jKaKbK6xNsY",
      "include_colab_link": true
    },
    "kernelspec": {
      "name": "python3",
      "display_name": "Python 3"
    },
    "language_info": {
      "name": "python"
    }
  },
  "cells": [
    {
      "cell_type": "markdown",
      "metadata": {
        "id": "view-in-github",
        "colab_type": "text"
      },
      "source": [
        "<a href=\"https://colab.research.google.com/github/prakharsrivastava/powerbi/blob/main/Data_Science_on_Google_Cloud_Platform_7.ipynb\" target=\"_parent\"><img src=\"https://colab.research.google.com/assets/colab-badge.svg\" alt=\"Open In Colab\"/></a>"
      ]
    },
    {
      "cell_type": "code",
      "execution_count": 1,
      "metadata": {
        "colab": {
          "base_uri": "https://localhost:8080/"
        },
        "id": "9monwhdPTKdo",
        "outputId": "9371f35c-8c96-4330-a247-6322440e8901"
      },
      "outputs": [
        {
          "output_type": "stream",
          "name": "stdout",
          "text": [
            "Mounted at /content/gdrive\n",
            "/content/gdrive/MyDrive/chapter2\n"
          ]
        }
      ],
      "source": [
        "from google.colab import drive\n",
        "\n",
        "drive.mount('/content/gdrive')\n",
        "%cd /content/gdrive/MyDrive/chapter2/\n"
      ]
    },
    {
      "cell_type": "code",
      "source": [
        "#flight data\n",
        "https://raw.githubusercontent.com/GoogleCloudPlatform/data-science-on-gcp/main/04_streaming/transform/flights_sample.json"
      ],
      "metadata": {
        "id": "VZQBMRdqjh2a"
      },
      "execution_count": null,
      "outputs": []
    },
    {
      "cell_type": "code",
      "source": [
        "!pip install findspark \n",
        "!pip install  pyspark\n",
        "\n",
        "\n"
      ],
      "metadata": {
        "colab": {
          "base_uri": "https://localhost:8080/"
        },
        "id": "CFLZxJtGTScw",
        "outputId": "3c5672a0-8162-42d5-9556-d0d84aa6e4e4"
      },
      "execution_count": 2,
      "outputs": [
        {
          "output_type": "stream",
          "name": "stdout",
          "text": [
            "Looking in indexes: https://pypi.org/simple, https://us-python.pkg.dev/colab-wheels/public/simple/\n",
            "Collecting findspark\n",
            "  Downloading findspark-2.0.1-py2.py3-none-any.whl (4.4 kB)\n",
            "Installing collected packages: findspark\n",
            "Successfully installed findspark-2.0.1\n",
            "Looking in indexes: https://pypi.org/simple, https://us-python.pkg.dev/colab-wheels/public/simple/\n",
            "Collecting pyspark\n",
            "  Downloading pyspark-3.3.2.tar.gz (281.4 MB)\n",
            "\u001b[2K     \u001b[90m━━━━━━━━━━━━━━━━━━━━━━━━━━━━━━━━━━━━━━━\u001b[0m \u001b[32m281.4/281.4 MB\u001b[0m \u001b[31m4.9 MB/s\u001b[0m eta \u001b[36m0:00:00\u001b[0m\n",
            "\u001b[?25h  Preparing metadata (setup.py) ... \u001b[?25l\u001b[?25hdone\n",
            "Collecting py4j==0.10.9.5\n",
            "  Downloading py4j-0.10.9.5-py2.py3-none-any.whl (199 kB)\n",
            "\u001b[2K     \u001b[90m━━━━━━━━━━━━━━━━━━━━━━━━━━━━━━━━━━━━━━\u001b[0m \u001b[32m199.7/199.7 KB\u001b[0m \u001b[31m23.9 MB/s\u001b[0m eta \u001b[36m0:00:00\u001b[0m\n",
            "\u001b[?25hBuilding wheels for collected packages: pyspark\n",
            "  Building wheel for pyspark (setup.py) ... \u001b[?25l\u001b[?25hdone\n",
            "  Created wheel for pyspark: filename=pyspark-3.3.2-py2.py3-none-any.whl size=281824025 sha256=9f456960bbbc36f27246300ce726116029cabcbced6553bae6f012447818f494\n",
            "  Stored in directory: /root/.cache/pip/wheels/b1/59/a0/a1a0624b5e865fd389919c1a10f53aec9b12195d6747710baf\n",
            "Successfully built pyspark\n",
            "Installing collected packages: py4j, pyspark\n",
            "Successfully installed py4j-0.10.9.5 pyspark-3.3.2\n"
          ]
        }
      ]
    },
    {
      "cell_type": "code",
      "source": [
        "import findspark\n",
        "import pyspark\n",
        "from pyspark.sql import SparkSession\n",
        "spark = SparkSession.builder.master(\"local[1]\").appName(\"architectinaction.com\").getOrCreate()"
      ],
      "metadata": {
        "id": "VqHKYT-CTUbu"
      },
      "execution_count": 53,
      "outputs": []
    },
    {
      "cell_type": "code",
      "source": [
        "%pip install pytz"
      ],
      "metadata": {
        "colab": {
          "base_uri": "https://localhost:8080/"
        },
        "id": "Dm5QmsSxTWYH",
        "outputId": "90391f5b-6904-435d-a7be-3bf904f17b9c"
      },
      "execution_count": 4,
      "outputs": [
        {
          "output_type": "stream",
          "name": "stdout",
          "text": [
            "Looking in indexes: https://pypi.org/simple, https://us-python.pkg.dev/colab-wheels/public/simple/\n",
            "Requirement already satisfied: pytz in /usr/local/lib/python3.8/dist-packages (2022.7.1)\n"
          ]
        }
      ]
    },
    {
      "cell_type": "code",
      "source": [
        "import matplotlib.pyplot as plt\n",
        "import seaborn as sns\n",
        "import pandas as pd\n",
        "import numpy as np\n",
        "\n",
        "from google.cloud import bigquery"
      ],
      "metadata": {
        "id": "E3FSAAW5eZtZ"
      },
      "execution_count": 5,
      "outputs": []
    },
    {
      "cell_type": "code",
      "source": [
        "%load_ext sql"
      ],
      "metadata": {
        "id": "caqAHYPfTknB"
      },
      "execution_count": 11,
      "outputs": []
    },
    {
      "cell_type": "code",
      "source": [
        "%%sql\n",
        "sqlite:///mydb_1"
      ],
      "metadata": {
        "colab": {
          "base_uri": "https://localhost:8080/",
          "height": 35
        },
        "id": "VUh7PelETyNW",
        "outputId": "ec630483-509d-4e62-d96e-c98dcf4102f1"
      },
      "execution_count": 20,
      "outputs": [
        {
          "output_type": "execute_result",
          "data": {
            "text/plain": [
              "'Connected: @mydb_1'"
            ],
            "application/vnd.google.colaboratory.intrinsic+json": {
              "type": "string"
            }
          },
          "metadata": {},
          "execution_count": 20
        }
      ]
    },
    {
      "cell_type": "code",
      "source": [
        "import pandas as pd\n",
        "airports = pd.read_csv('airports.csv',low_memory=False,nrows=3)\n",
        "flight = pd.read_json('flights_sample.json',lines=True)"
      ],
      "metadata": {
        "id": "szj0iKAEe6h5"
      },
      "execution_count": 22,
      "outputs": []
    },
    {
      "cell_type": "code",
      "source": [
        "sparkAirportsDF=spark.createDataFrame(airports)\n",
        "sparkFlightDF=spark.createDataFrame(flight)"
      ],
      "metadata": {
        "id": "kK9PvB9ee-Xl"
      },
      "execution_count": 23,
      "outputs": []
    },
    {
      "cell_type": "code",
      "source": [],
      "metadata": {
        "id": "MOW9nvWhfBnB"
      },
      "execution_count": null,
      "outputs": []
    },
    {
      "cell_type": "code",
      "source": [
        "\n",
        "import sqlite3\n",
        "conn = sqlite3.connect('mydb_1')\n",
        "c = conn.cursor()\n",
        "flight.to_sql('flights_view_', conn, if_exists='replace', index = False)"
      ],
      "metadata": {
        "id": "yPj0lkR4fkT-"
      },
      "execution_count": 24,
      "outputs": []
    },
    {
      "cell_type": "code",
      "source": [
        "import pandas as pd\n",
        "df = pd.read_json('flights_sample.json',lines=True)\n",
        "\n",
        "import sqlite3\n",
        "conn = sqlite3.connect('mydb_1')\n",
        "c = conn.cursor()\n",
        "df.to_sql('flights_view_', conn, if_exists='replace', index = False)"
      ],
      "metadata": {
        "id": "DJxtZTEtbK_U"
      },
      "execution_count": 25,
      "outputs": []
    },
    {
      "cell_type": "code",
      "source": [],
      "metadata": {
        "id": "HcqqMXZwdQcJ"
      },
      "execution_count": null,
      "outputs": []
    },
    {
      "cell_type": "code",
      "source": [
        "%%sql\n",
        "SELECT\n",
        " *\n",
        "FROM flights_view_"
      ],
      "metadata": {
        "id": "uxitFglUT06y",
        "colab": {
          "base_uri": "https://localhost:8080/",
          "height": 1000
        },
        "outputId": "8dbf1d46-e36f-4c98-8d8e-02960511ed93"
      },
      "execution_count": 26,
      "outputs": [
        {
          "output_type": "stream",
          "name": "stdout",
          "text": [
            "   sqlite:///mydb_\n",
            " * sqlite:///mydb_1\n",
            "Done.\n"
          ]
        },
        {
          "output_type": "execute_result",
          "data": {
            "text/plain": [
              "[('2015-04-28', 'EV', 1000101, 'ABE', 1000101, 'ATL', 1600, '1970-01-01 00:25:55', -5.0, 7.0, '1602', '1747', 4.0, 1809, '1970-01-01 00:29:11', -18.0, 0, 0, 692),\n",
              " ('2015-11-05', 'DL', 1000101, 'ABE', 1000101, 'ATL', 600, '1970-01-01 00:09:16', -4.0, 12.0, '0608', '0749', 10.0, 818, '1970-01-01 00:12:39', -19.0, 0, 0, 692),\n",
              " ('2015-08-25', 'EV', 1013503, 'ABE', 1143302, 'DTW', 1726, '1970-01-01 00:28:59', 13.0, 11.0, '1750', '1906', 3.0, 1905, '1970-01-01 00:31:49', 4.0, 0, 0, 425),\n",
              " ('2015-12-17', 'EV', 1013503, 'ABE', 1393004, 'ORD', 651, '1970-01-01 00:10:42', -9.0, 9.0, '0651', '0743', 9.0, 811, '1970-01-01 00:12:32', -19.0, 0, 0, 655),\n",
              " ('2015-03-04', 'MQ', 1013603, 'ABI', 1129803, 'DFW', 1549, None, None, None, '', '', None, 1640, None, None, 1, 0, 158),\n",
              " ('2015-08-08', 'MQ', 1013603, 'ABI', 1129804, 'DFW', 1508, '1970-01-01 00:24:17', -11.0, 8.0, '1505', '1538', 7.0, 1603, '1970-01-01 00:25:45', -18.0, 0, 0, 158),\n",
              " ('2015-07-23', 'MQ', 1013603, 'ABI', 1129804, 'DFW', 1823, '1970-01-01 00:30:51', 28.0, 6.0, '1857', '1931', 45.0, 1924, '1970-01-01 00:33:36', 52.0, 0, 0, 158),\n",
              " ('2015-02-01', 'DL', 1014003, 'ABQ', 1039705, 'ATL', 1318, '1970-01-01 00:21:52', -6.0, 13.0, '1325', '1748', 14.0, 1814, '1970-01-01 00:30:02', -12.0, 0, 0, 1269),\n",
              " ('2015-04-25', 'WN', 1014003, 'ABQ', 1082103, 'BWI', 1125, '1970-01-01 00:18:41', -4.0, 14.0, '1135', '1644', 6.0, 1710, '1970-01-01 00:27:30', -20.0, 0, 0, 1670),\n",
              " ('2015-03-27', 'WN', 1014003, 'ABQ', 1125903, 'DAL', 1920, '1970-01-01 00:31:59', -1.0, 7.0, '1926', '2146', 4.0, 2155, '1970-01-01 00:35:50', -5.0, 0, 0, 580),\n",
              " ('2015-06-14', 'WN', 1014003, 'ABQ', 1125903, 'DAL', 535, '1970-01-01 00:08:51', -4.0, 13.0, '0544', '0806', 2.0, 815, '1970-01-01 00:13:28', -7.0, 0, 0, 580),\n",
              " ('2015-03-27', 'WN', 1014003, 'ABQ', 1125903, 'DAL', 600, '1970-01-01 00:09:19', -1.0, 13.0, '0612', '0830', 4.0, 835, '1970-01-01 00:13:54', -1.0, 0, 0, 580),\n",
              " ('2015-02-22', 'WN', 1014003, 'ABQ', 1125903, 'DAL', 800, '1970-01-01 00:12:33', -7.0, 8.0, '0801', '1017', 5.0, 1040, '1970-01-01 00:17:02', -18.0, 0, 0, 580),\n",
              " ('2015-08-26', 'OO', 1014003, 'ABQ', 1129202, 'DEN', 1741, '1970-01-01 00:29:14', 13.0, 12.0, '1806', '1905', 9.0, 1905, '1970-01-01 00:31:54', 9.0, 0, 0, 349),\n",
              " ('2015-12-01', 'WN', 1014003, 'ABQ', 1129202, 'DEN', 1710, '1970-01-01 00:28:36', 6.0, 8.0, '1724', '1820', 5.0, 1825, '1970-01-01 00:30:25', 0.0, 0, 0, 349),\n",
              " ('2015-04-13', 'OO', 1014003, 'ABQ', 1129202, 'DEN', 1940, '1970-01-01 00:32:08', -12.0, 13.0, '1941', '2040', 8.0, 2101, '1970-01-01 00:34:08', -13.0, 0, 0, 349),\n",
              " ('2015-11-03', 'AA', 1014003, 'ABQ', 1129804, 'DFW', 800, '1970-01-01 00:14:06', 46.0, 11.0, '0857', '1115', 12.0, 1051, '1970-01-01 00:18:47', 36.0, 0, 0, 569),\n",
              " ('2015-10-03', 'WN', 1014003, 'ABQ', 1288903, 'LAS', 1205, '1970-01-01 00:20:05', 0.0, 7.0, '1212', '1227', 5.0, 1240, '1970-01-01 00:20:32', -8.0, 0, 0, 486),\n",
              " ('2015-01-05', 'OO', 1014003, 'ABQ', 1289203, 'LAX', 1235, '1970-01-01 00:20:37', 2.0, 19.0, '1256', '1328', 7.0, 1345, '1970-01-01 00:22:15', -10.0, 0, 0, 677),\n",
              " ('2015-09-06', 'WN', 1014003, 'ABQ', 1289203, 'LAX', 1100, '1970-01-01 00:17:37', -3.0, 9.0, '1106', '1142', 11.0, 1200, '1970-01-01 00:19:13', -7.0, 0, 0, 677),\n",
              " ('2015-06-14', 'OO', 1014003, 'ABQ', 1289203, 'LAX', 605, '1970-01-01 00:09:19', -6.0, 16.0, '0615', '0649', 7.0, 701, '1970-01-01 00:10:56', -5.0, 0, 0, 677),\n",
              " ('2015-10-13', 'WN', 1014003, 'ABQ', 1289203, 'LAX', 600, '1970-01-01 00:09:19', -1.0, 10.0, '0609', '0638', 14.0, 700, '1970-01-01 00:10:52', -8.0, 0, 0, 677),\n",
              " ('2015-06-03', 'WN', 1014003, 'ABQ', 1319801, 'MCI', 915, '1970-01-01 00:15:09', -6.0, 14.0, '0923', '1206', 5.0, 1205, '1970-01-01 00:20:11', 6.0, 0, 0, 718),\n",
              " ('2015-07-30', 'WN', 1014003, 'ABQ', 1379604, 'OAK', 1225, '1970-01-01 00:20:23', -2.0, 6.0, '1229', '1325', 6.0, 1345, '1970-01-01 00:22:11', -14.0, 0, 0, 889),\n",
              " ('2015-11-13', 'WN', 1014003, 'ABQ', 1405702, 'PDX', 1305, '1970-01-01 00:21:46', 1.0, 8.0, '1314', '1457', 6.0, 1505, '1970-01-01 00:25:03', -2.0, 0, 0, 1111),\n",
              " ('2015-07-06', 'WN', 1014003, 'ABQ', 1410702, 'PHX', 855, '1970-01-01 00:15:05', 10.0, 6.0, '0911', '0906', 6.0, 910, '1970-01-01 00:15:12', 2.0, 0, 0, 328),\n",
              " ('2015-01-22', 'WN', 1014003, 'ABQ', 1410702, 'PHX', 600, None, None, None, '', '', None, 720, None, None, 1, 0, 328),\n",
              " ('2015-07-03', 'WN', 1014003, 'ABQ', 1410702, 'PHX', 1350, '1970-01-01 00:22:27', -3.0, 5.0, '1352', '1341', 6.0, 1400, '1970-01-01 00:22:27', -13.0, 0, 0, 328),\n",
              " ('2015-05-27', 'WN', 1014003, 'ABQ', 1410702, 'PHX', 1005, '1970-01-01 00:16:46', 1.0, 8.0, '1014', '1011', 5.0, 1015, '1970-01-01 00:16:56', 1.0, 0, 0, 328),\n",
              " ('2015-01-04', 'WN', 1014003, 'ABQ', 1467903, 'SAN', 1810, '1970-01-01 00:30:28', 18.0, 9.0, '1837', '1904', 4.0, 1900, '1970-01-01 00:31:48', 8.0, 0, 0, 628),\n",
              " ('2015-04-15', 'WN', 1014003, 'ABQ', 1467903, 'SAN', 735, '1970-01-01 00:12:07', -8.0, 10.0, '0737', '0811', 4.0, 825, '1970-01-01 00:13:35', -10.0, 0, 0, 628),\n",
              " ('2015-03-27', 'EV', 1015502, 'ACT', 1129803, 'DFW', 1839, '1970-01-01 00:30:28', -11.0, 9.0, '1837', '1900', 8.0, 1925, '1970-01-01 00:31:48', -17.0, 0, 0, 89)]"
            ],
            "text/html": [
              "<table>\n",
              "    <thead>\n",
              "        <tr>\n",
              "            <th>FL_DATE</th>\n",
              "            <th>UNIQUE_CARRIER</th>\n",
              "            <th>ORIGIN_AIRPORT_SEQ_ID</th>\n",
              "            <th>ORIGIN</th>\n",
              "            <th>DEST_AIRPORT_SEQ_ID</th>\n",
              "            <th>DEST</th>\n",
              "            <th>CRS_DEP_TIME</th>\n",
              "            <th>DEP_TIME</th>\n",
              "            <th>DEP_DELAY</th>\n",
              "            <th>TAXI_OUT</th>\n",
              "            <th>WHEELS_OFF</th>\n",
              "            <th>WHEELS_ON</th>\n",
              "            <th>TAXI_IN</th>\n",
              "            <th>CRS_ARR_TIME</th>\n",
              "            <th>ARR_TIME</th>\n",
              "            <th>ARR_DELAY</th>\n",
              "            <th>CANCELLED</th>\n",
              "            <th>DIVERTED</th>\n",
              "            <th>DISTANCE</th>\n",
              "        </tr>\n",
              "    </thead>\n",
              "    <tbody>\n",
              "        <tr>\n",
              "            <td>2015-04-28</td>\n",
              "            <td>EV</td>\n",
              "            <td>1000101</td>\n",
              "            <td>ABE</td>\n",
              "            <td>1000101</td>\n",
              "            <td>ATL</td>\n",
              "            <td>1600</td>\n",
              "            <td>1970-01-01 00:25:55</td>\n",
              "            <td>-5.0</td>\n",
              "            <td>7.0</td>\n",
              "            <td>1602</td>\n",
              "            <td>1747</td>\n",
              "            <td>4.0</td>\n",
              "            <td>1809</td>\n",
              "            <td>1970-01-01 00:29:11</td>\n",
              "            <td>-18.0</td>\n",
              "            <td>0</td>\n",
              "            <td>0</td>\n",
              "            <td>692</td>\n",
              "        </tr>\n",
              "        <tr>\n",
              "            <td>2015-11-05</td>\n",
              "            <td>DL</td>\n",
              "            <td>1000101</td>\n",
              "            <td>ABE</td>\n",
              "            <td>1000101</td>\n",
              "            <td>ATL</td>\n",
              "            <td>600</td>\n",
              "            <td>1970-01-01 00:09:16</td>\n",
              "            <td>-4.0</td>\n",
              "            <td>12.0</td>\n",
              "            <td>0608</td>\n",
              "            <td>0749</td>\n",
              "            <td>10.0</td>\n",
              "            <td>818</td>\n",
              "            <td>1970-01-01 00:12:39</td>\n",
              "            <td>-19.0</td>\n",
              "            <td>0</td>\n",
              "            <td>0</td>\n",
              "            <td>692</td>\n",
              "        </tr>\n",
              "        <tr>\n",
              "            <td>2015-08-25</td>\n",
              "            <td>EV</td>\n",
              "            <td>1013503</td>\n",
              "            <td>ABE</td>\n",
              "            <td>1143302</td>\n",
              "            <td>DTW</td>\n",
              "            <td>1726</td>\n",
              "            <td>1970-01-01 00:28:59</td>\n",
              "            <td>13.0</td>\n",
              "            <td>11.0</td>\n",
              "            <td>1750</td>\n",
              "            <td>1906</td>\n",
              "            <td>3.0</td>\n",
              "            <td>1905</td>\n",
              "            <td>1970-01-01 00:31:49</td>\n",
              "            <td>4.0</td>\n",
              "            <td>0</td>\n",
              "            <td>0</td>\n",
              "            <td>425</td>\n",
              "        </tr>\n",
              "        <tr>\n",
              "            <td>2015-12-17</td>\n",
              "            <td>EV</td>\n",
              "            <td>1013503</td>\n",
              "            <td>ABE</td>\n",
              "            <td>1393004</td>\n",
              "            <td>ORD</td>\n",
              "            <td>651</td>\n",
              "            <td>1970-01-01 00:10:42</td>\n",
              "            <td>-9.0</td>\n",
              "            <td>9.0</td>\n",
              "            <td>0651</td>\n",
              "            <td>0743</td>\n",
              "            <td>9.0</td>\n",
              "            <td>811</td>\n",
              "            <td>1970-01-01 00:12:32</td>\n",
              "            <td>-19.0</td>\n",
              "            <td>0</td>\n",
              "            <td>0</td>\n",
              "            <td>655</td>\n",
              "        </tr>\n",
              "        <tr>\n",
              "            <td>2015-03-04</td>\n",
              "            <td>MQ</td>\n",
              "            <td>1013603</td>\n",
              "            <td>ABI</td>\n",
              "            <td>1129803</td>\n",
              "            <td>DFW</td>\n",
              "            <td>1549</td>\n",
              "            <td>None</td>\n",
              "            <td>None</td>\n",
              "            <td>None</td>\n",
              "            <td></td>\n",
              "            <td></td>\n",
              "            <td>None</td>\n",
              "            <td>1640</td>\n",
              "            <td>None</td>\n",
              "            <td>None</td>\n",
              "            <td>1</td>\n",
              "            <td>0</td>\n",
              "            <td>158</td>\n",
              "        </tr>\n",
              "        <tr>\n",
              "            <td>2015-08-08</td>\n",
              "            <td>MQ</td>\n",
              "            <td>1013603</td>\n",
              "            <td>ABI</td>\n",
              "            <td>1129804</td>\n",
              "            <td>DFW</td>\n",
              "            <td>1508</td>\n",
              "            <td>1970-01-01 00:24:17</td>\n",
              "            <td>-11.0</td>\n",
              "            <td>8.0</td>\n",
              "            <td>1505</td>\n",
              "            <td>1538</td>\n",
              "            <td>7.0</td>\n",
              "            <td>1603</td>\n",
              "            <td>1970-01-01 00:25:45</td>\n",
              "            <td>-18.0</td>\n",
              "            <td>0</td>\n",
              "            <td>0</td>\n",
              "            <td>158</td>\n",
              "        </tr>\n",
              "        <tr>\n",
              "            <td>2015-07-23</td>\n",
              "            <td>MQ</td>\n",
              "            <td>1013603</td>\n",
              "            <td>ABI</td>\n",
              "            <td>1129804</td>\n",
              "            <td>DFW</td>\n",
              "            <td>1823</td>\n",
              "            <td>1970-01-01 00:30:51</td>\n",
              "            <td>28.0</td>\n",
              "            <td>6.0</td>\n",
              "            <td>1857</td>\n",
              "            <td>1931</td>\n",
              "            <td>45.0</td>\n",
              "            <td>1924</td>\n",
              "            <td>1970-01-01 00:33:36</td>\n",
              "            <td>52.0</td>\n",
              "            <td>0</td>\n",
              "            <td>0</td>\n",
              "            <td>158</td>\n",
              "        </tr>\n",
              "        <tr>\n",
              "            <td>2015-02-01</td>\n",
              "            <td>DL</td>\n",
              "            <td>1014003</td>\n",
              "            <td>ABQ</td>\n",
              "            <td>1039705</td>\n",
              "            <td>ATL</td>\n",
              "            <td>1318</td>\n",
              "            <td>1970-01-01 00:21:52</td>\n",
              "            <td>-6.0</td>\n",
              "            <td>13.0</td>\n",
              "            <td>1325</td>\n",
              "            <td>1748</td>\n",
              "            <td>14.0</td>\n",
              "            <td>1814</td>\n",
              "            <td>1970-01-01 00:30:02</td>\n",
              "            <td>-12.0</td>\n",
              "            <td>0</td>\n",
              "            <td>0</td>\n",
              "            <td>1269</td>\n",
              "        </tr>\n",
              "        <tr>\n",
              "            <td>2015-04-25</td>\n",
              "            <td>WN</td>\n",
              "            <td>1014003</td>\n",
              "            <td>ABQ</td>\n",
              "            <td>1082103</td>\n",
              "            <td>BWI</td>\n",
              "            <td>1125</td>\n",
              "            <td>1970-01-01 00:18:41</td>\n",
              "            <td>-4.0</td>\n",
              "            <td>14.0</td>\n",
              "            <td>1135</td>\n",
              "            <td>1644</td>\n",
              "            <td>6.0</td>\n",
              "            <td>1710</td>\n",
              "            <td>1970-01-01 00:27:30</td>\n",
              "            <td>-20.0</td>\n",
              "            <td>0</td>\n",
              "            <td>0</td>\n",
              "            <td>1670</td>\n",
              "        </tr>\n",
              "        <tr>\n",
              "            <td>2015-03-27</td>\n",
              "            <td>WN</td>\n",
              "            <td>1014003</td>\n",
              "            <td>ABQ</td>\n",
              "            <td>1125903</td>\n",
              "            <td>DAL</td>\n",
              "            <td>1920</td>\n",
              "            <td>1970-01-01 00:31:59</td>\n",
              "            <td>-1.0</td>\n",
              "            <td>7.0</td>\n",
              "            <td>1926</td>\n",
              "            <td>2146</td>\n",
              "            <td>4.0</td>\n",
              "            <td>2155</td>\n",
              "            <td>1970-01-01 00:35:50</td>\n",
              "            <td>-5.0</td>\n",
              "            <td>0</td>\n",
              "            <td>0</td>\n",
              "            <td>580</td>\n",
              "        </tr>\n",
              "        <tr>\n",
              "            <td>2015-06-14</td>\n",
              "            <td>WN</td>\n",
              "            <td>1014003</td>\n",
              "            <td>ABQ</td>\n",
              "            <td>1125903</td>\n",
              "            <td>DAL</td>\n",
              "            <td>535</td>\n",
              "            <td>1970-01-01 00:08:51</td>\n",
              "            <td>-4.0</td>\n",
              "            <td>13.0</td>\n",
              "            <td>0544</td>\n",
              "            <td>0806</td>\n",
              "            <td>2.0</td>\n",
              "            <td>815</td>\n",
              "            <td>1970-01-01 00:13:28</td>\n",
              "            <td>-7.0</td>\n",
              "            <td>0</td>\n",
              "            <td>0</td>\n",
              "            <td>580</td>\n",
              "        </tr>\n",
              "        <tr>\n",
              "            <td>2015-03-27</td>\n",
              "            <td>WN</td>\n",
              "            <td>1014003</td>\n",
              "            <td>ABQ</td>\n",
              "            <td>1125903</td>\n",
              "            <td>DAL</td>\n",
              "            <td>600</td>\n",
              "            <td>1970-01-01 00:09:19</td>\n",
              "            <td>-1.0</td>\n",
              "            <td>13.0</td>\n",
              "            <td>0612</td>\n",
              "            <td>0830</td>\n",
              "            <td>4.0</td>\n",
              "            <td>835</td>\n",
              "            <td>1970-01-01 00:13:54</td>\n",
              "            <td>-1.0</td>\n",
              "            <td>0</td>\n",
              "            <td>0</td>\n",
              "            <td>580</td>\n",
              "        </tr>\n",
              "        <tr>\n",
              "            <td>2015-02-22</td>\n",
              "            <td>WN</td>\n",
              "            <td>1014003</td>\n",
              "            <td>ABQ</td>\n",
              "            <td>1125903</td>\n",
              "            <td>DAL</td>\n",
              "            <td>800</td>\n",
              "            <td>1970-01-01 00:12:33</td>\n",
              "            <td>-7.0</td>\n",
              "            <td>8.0</td>\n",
              "            <td>0801</td>\n",
              "            <td>1017</td>\n",
              "            <td>5.0</td>\n",
              "            <td>1040</td>\n",
              "            <td>1970-01-01 00:17:02</td>\n",
              "            <td>-18.0</td>\n",
              "            <td>0</td>\n",
              "            <td>0</td>\n",
              "            <td>580</td>\n",
              "        </tr>\n",
              "        <tr>\n",
              "            <td>2015-08-26</td>\n",
              "            <td>OO</td>\n",
              "            <td>1014003</td>\n",
              "            <td>ABQ</td>\n",
              "            <td>1129202</td>\n",
              "            <td>DEN</td>\n",
              "            <td>1741</td>\n",
              "            <td>1970-01-01 00:29:14</td>\n",
              "            <td>13.0</td>\n",
              "            <td>12.0</td>\n",
              "            <td>1806</td>\n",
              "            <td>1905</td>\n",
              "            <td>9.0</td>\n",
              "            <td>1905</td>\n",
              "            <td>1970-01-01 00:31:54</td>\n",
              "            <td>9.0</td>\n",
              "            <td>0</td>\n",
              "            <td>0</td>\n",
              "            <td>349</td>\n",
              "        </tr>\n",
              "        <tr>\n",
              "            <td>2015-12-01</td>\n",
              "            <td>WN</td>\n",
              "            <td>1014003</td>\n",
              "            <td>ABQ</td>\n",
              "            <td>1129202</td>\n",
              "            <td>DEN</td>\n",
              "            <td>1710</td>\n",
              "            <td>1970-01-01 00:28:36</td>\n",
              "            <td>6.0</td>\n",
              "            <td>8.0</td>\n",
              "            <td>1724</td>\n",
              "            <td>1820</td>\n",
              "            <td>5.0</td>\n",
              "            <td>1825</td>\n",
              "            <td>1970-01-01 00:30:25</td>\n",
              "            <td>0.0</td>\n",
              "            <td>0</td>\n",
              "            <td>0</td>\n",
              "            <td>349</td>\n",
              "        </tr>\n",
              "        <tr>\n",
              "            <td>2015-04-13</td>\n",
              "            <td>OO</td>\n",
              "            <td>1014003</td>\n",
              "            <td>ABQ</td>\n",
              "            <td>1129202</td>\n",
              "            <td>DEN</td>\n",
              "            <td>1940</td>\n",
              "            <td>1970-01-01 00:32:08</td>\n",
              "            <td>-12.0</td>\n",
              "            <td>13.0</td>\n",
              "            <td>1941</td>\n",
              "            <td>2040</td>\n",
              "            <td>8.0</td>\n",
              "            <td>2101</td>\n",
              "            <td>1970-01-01 00:34:08</td>\n",
              "            <td>-13.0</td>\n",
              "            <td>0</td>\n",
              "            <td>0</td>\n",
              "            <td>349</td>\n",
              "        </tr>\n",
              "        <tr>\n",
              "            <td>2015-11-03</td>\n",
              "            <td>AA</td>\n",
              "            <td>1014003</td>\n",
              "            <td>ABQ</td>\n",
              "            <td>1129804</td>\n",
              "            <td>DFW</td>\n",
              "            <td>800</td>\n",
              "            <td>1970-01-01 00:14:06</td>\n",
              "            <td>46.0</td>\n",
              "            <td>11.0</td>\n",
              "            <td>0857</td>\n",
              "            <td>1115</td>\n",
              "            <td>12.0</td>\n",
              "            <td>1051</td>\n",
              "            <td>1970-01-01 00:18:47</td>\n",
              "            <td>36.0</td>\n",
              "            <td>0</td>\n",
              "            <td>0</td>\n",
              "            <td>569</td>\n",
              "        </tr>\n",
              "        <tr>\n",
              "            <td>2015-10-03</td>\n",
              "            <td>WN</td>\n",
              "            <td>1014003</td>\n",
              "            <td>ABQ</td>\n",
              "            <td>1288903</td>\n",
              "            <td>LAS</td>\n",
              "            <td>1205</td>\n",
              "            <td>1970-01-01 00:20:05</td>\n",
              "            <td>0.0</td>\n",
              "            <td>7.0</td>\n",
              "            <td>1212</td>\n",
              "            <td>1227</td>\n",
              "            <td>5.0</td>\n",
              "            <td>1240</td>\n",
              "            <td>1970-01-01 00:20:32</td>\n",
              "            <td>-8.0</td>\n",
              "            <td>0</td>\n",
              "            <td>0</td>\n",
              "            <td>486</td>\n",
              "        </tr>\n",
              "        <tr>\n",
              "            <td>2015-01-05</td>\n",
              "            <td>OO</td>\n",
              "            <td>1014003</td>\n",
              "            <td>ABQ</td>\n",
              "            <td>1289203</td>\n",
              "            <td>LAX</td>\n",
              "            <td>1235</td>\n",
              "            <td>1970-01-01 00:20:37</td>\n",
              "            <td>2.0</td>\n",
              "            <td>19.0</td>\n",
              "            <td>1256</td>\n",
              "            <td>1328</td>\n",
              "            <td>7.0</td>\n",
              "            <td>1345</td>\n",
              "            <td>1970-01-01 00:22:15</td>\n",
              "            <td>-10.0</td>\n",
              "            <td>0</td>\n",
              "            <td>0</td>\n",
              "            <td>677</td>\n",
              "        </tr>\n",
              "        <tr>\n",
              "            <td>2015-09-06</td>\n",
              "            <td>WN</td>\n",
              "            <td>1014003</td>\n",
              "            <td>ABQ</td>\n",
              "            <td>1289203</td>\n",
              "            <td>LAX</td>\n",
              "            <td>1100</td>\n",
              "            <td>1970-01-01 00:17:37</td>\n",
              "            <td>-3.0</td>\n",
              "            <td>9.0</td>\n",
              "            <td>1106</td>\n",
              "            <td>1142</td>\n",
              "            <td>11.0</td>\n",
              "            <td>1200</td>\n",
              "            <td>1970-01-01 00:19:13</td>\n",
              "            <td>-7.0</td>\n",
              "            <td>0</td>\n",
              "            <td>0</td>\n",
              "            <td>677</td>\n",
              "        </tr>\n",
              "        <tr>\n",
              "            <td>2015-06-14</td>\n",
              "            <td>OO</td>\n",
              "            <td>1014003</td>\n",
              "            <td>ABQ</td>\n",
              "            <td>1289203</td>\n",
              "            <td>LAX</td>\n",
              "            <td>605</td>\n",
              "            <td>1970-01-01 00:09:19</td>\n",
              "            <td>-6.0</td>\n",
              "            <td>16.0</td>\n",
              "            <td>0615</td>\n",
              "            <td>0649</td>\n",
              "            <td>7.0</td>\n",
              "            <td>701</td>\n",
              "            <td>1970-01-01 00:10:56</td>\n",
              "            <td>-5.0</td>\n",
              "            <td>0</td>\n",
              "            <td>0</td>\n",
              "            <td>677</td>\n",
              "        </tr>\n",
              "        <tr>\n",
              "            <td>2015-10-13</td>\n",
              "            <td>WN</td>\n",
              "            <td>1014003</td>\n",
              "            <td>ABQ</td>\n",
              "            <td>1289203</td>\n",
              "            <td>LAX</td>\n",
              "            <td>600</td>\n",
              "            <td>1970-01-01 00:09:19</td>\n",
              "            <td>-1.0</td>\n",
              "            <td>10.0</td>\n",
              "            <td>0609</td>\n",
              "            <td>0638</td>\n",
              "            <td>14.0</td>\n",
              "            <td>700</td>\n",
              "            <td>1970-01-01 00:10:52</td>\n",
              "            <td>-8.0</td>\n",
              "            <td>0</td>\n",
              "            <td>0</td>\n",
              "            <td>677</td>\n",
              "        </tr>\n",
              "        <tr>\n",
              "            <td>2015-06-03</td>\n",
              "            <td>WN</td>\n",
              "            <td>1014003</td>\n",
              "            <td>ABQ</td>\n",
              "            <td>1319801</td>\n",
              "            <td>MCI</td>\n",
              "            <td>915</td>\n",
              "            <td>1970-01-01 00:15:09</td>\n",
              "            <td>-6.0</td>\n",
              "            <td>14.0</td>\n",
              "            <td>0923</td>\n",
              "            <td>1206</td>\n",
              "            <td>5.0</td>\n",
              "            <td>1205</td>\n",
              "            <td>1970-01-01 00:20:11</td>\n",
              "            <td>6.0</td>\n",
              "            <td>0</td>\n",
              "            <td>0</td>\n",
              "            <td>718</td>\n",
              "        </tr>\n",
              "        <tr>\n",
              "            <td>2015-07-30</td>\n",
              "            <td>WN</td>\n",
              "            <td>1014003</td>\n",
              "            <td>ABQ</td>\n",
              "            <td>1379604</td>\n",
              "            <td>OAK</td>\n",
              "            <td>1225</td>\n",
              "            <td>1970-01-01 00:20:23</td>\n",
              "            <td>-2.0</td>\n",
              "            <td>6.0</td>\n",
              "            <td>1229</td>\n",
              "            <td>1325</td>\n",
              "            <td>6.0</td>\n",
              "            <td>1345</td>\n",
              "            <td>1970-01-01 00:22:11</td>\n",
              "            <td>-14.0</td>\n",
              "            <td>0</td>\n",
              "            <td>0</td>\n",
              "            <td>889</td>\n",
              "        </tr>\n",
              "        <tr>\n",
              "            <td>2015-11-13</td>\n",
              "            <td>WN</td>\n",
              "            <td>1014003</td>\n",
              "            <td>ABQ</td>\n",
              "            <td>1405702</td>\n",
              "            <td>PDX</td>\n",
              "            <td>1305</td>\n",
              "            <td>1970-01-01 00:21:46</td>\n",
              "            <td>1.0</td>\n",
              "            <td>8.0</td>\n",
              "            <td>1314</td>\n",
              "            <td>1457</td>\n",
              "            <td>6.0</td>\n",
              "            <td>1505</td>\n",
              "            <td>1970-01-01 00:25:03</td>\n",
              "            <td>-2.0</td>\n",
              "            <td>0</td>\n",
              "            <td>0</td>\n",
              "            <td>1111</td>\n",
              "        </tr>\n",
              "        <tr>\n",
              "            <td>2015-07-06</td>\n",
              "            <td>WN</td>\n",
              "            <td>1014003</td>\n",
              "            <td>ABQ</td>\n",
              "            <td>1410702</td>\n",
              "            <td>PHX</td>\n",
              "            <td>855</td>\n",
              "            <td>1970-01-01 00:15:05</td>\n",
              "            <td>10.0</td>\n",
              "            <td>6.0</td>\n",
              "            <td>0911</td>\n",
              "            <td>0906</td>\n",
              "            <td>6.0</td>\n",
              "            <td>910</td>\n",
              "            <td>1970-01-01 00:15:12</td>\n",
              "            <td>2.0</td>\n",
              "            <td>0</td>\n",
              "            <td>0</td>\n",
              "            <td>328</td>\n",
              "        </tr>\n",
              "        <tr>\n",
              "            <td>2015-01-22</td>\n",
              "            <td>WN</td>\n",
              "            <td>1014003</td>\n",
              "            <td>ABQ</td>\n",
              "            <td>1410702</td>\n",
              "            <td>PHX</td>\n",
              "            <td>600</td>\n",
              "            <td>None</td>\n",
              "            <td>None</td>\n",
              "            <td>None</td>\n",
              "            <td></td>\n",
              "            <td></td>\n",
              "            <td>None</td>\n",
              "            <td>720</td>\n",
              "            <td>None</td>\n",
              "            <td>None</td>\n",
              "            <td>1</td>\n",
              "            <td>0</td>\n",
              "            <td>328</td>\n",
              "        </tr>\n",
              "        <tr>\n",
              "            <td>2015-07-03</td>\n",
              "            <td>WN</td>\n",
              "            <td>1014003</td>\n",
              "            <td>ABQ</td>\n",
              "            <td>1410702</td>\n",
              "            <td>PHX</td>\n",
              "            <td>1350</td>\n",
              "            <td>1970-01-01 00:22:27</td>\n",
              "            <td>-3.0</td>\n",
              "            <td>5.0</td>\n",
              "            <td>1352</td>\n",
              "            <td>1341</td>\n",
              "            <td>6.0</td>\n",
              "            <td>1400</td>\n",
              "            <td>1970-01-01 00:22:27</td>\n",
              "            <td>-13.0</td>\n",
              "            <td>0</td>\n",
              "            <td>0</td>\n",
              "            <td>328</td>\n",
              "        </tr>\n",
              "        <tr>\n",
              "            <td>2015-05-27</td>\n",
              "            <td>WN</td>\n",
              "            <td>1014003</td>\n",
              "            <td>ABQ</td>\n",
              "            <td>1410702</td>\n",
              "            <td>PHX</td>\n",
              "            <td>1005</td>\n",
              "            <td>1970-01-01 00:16:46</td>\n",
              "            <td>1.0</td>\n",
              "            <td>8.0</td>\n",
              "            <td>1014</td>\n",
              "            <td>1011</td>\n",
              "            <td>5.0</td>\n",
              "            <td>1015</td>\n",
              "            <td>1970-01-01 00:16:56</td>\n",
              "            <td>1.0</td>\n",
              "            <td>0</td>\n",
              "            <td>0</td>\n",
              "            <td>328</td>\n",
              "        </tr>\n",
              "        <tr>\n",
              "            <td>2015-01-04</td>\n",
              "            <td>WN</td>\n",
              "            <td>1014003</td>\n",
              "            <td>ABQ</td>\n",
              "            <td>1467903</td>\n",
              "            <td>SAN</td>\n",
              "            <td>1810</td>\n",
              "            <td>1970-01-01 00:30:28</td>\n",
              "            <td>18.0</td>\n",
              "            <td>9.0</td>\n",
              "            <td>1837</td>\n",
              "            <td>1904</td>\n",
              "            <td>4.0</td>\n",
              "            <td>1900</td>\n",
              "            <td>1970-01-01 00:31:48</td>\n",
              "            <td>8.0</td>\n",
              "            <td>0</td>\n",
              "            <td>0</td>\n",
              "            <td>628</td>\n",
              "        </tr>\n",
              "        <tr>\n",
              "            <td>2015-04-15</td>\n",
              "            <td>WN</td>\n",
              "            <td>1014003</td>\n",
              "            <td>ABQ</td>\n",
              "            <td>1467903</td>\n",
              "            <td>SAN</td>\n",
              "            <td>735</td>\n",
              "            <td>1970-01-01 00:12:07</td>\n",
              "            <td>-8.0</td>\n",
              "            <td>10.0</td>\n",
              "            <td>0737</td>\n",
              "            <td>0811</td>\n",
              "            <td>4.0</td>\n",
              "            <td>825</td>\n",
              "            <td>1970-01-01 00:13:35</td>\n",
              "            <td>-10.0</td>\n",
              "            <td>0</td>\n",
              "            <td>0</td>\n",
              "            <td>628</td>\n",
              "        </tr>\n",
              "        <tr>\n",
              "            <td>2015-03-27</td>\n",
              "            <td>EV</td>\n",
              "            <td>1015502</td>\n",
              "            <td>ACT</td>\n",
              "            <td>1129803</td>\n",
              "            <td>DFW</td>\n",
              "            <td>1839</td>\n",
              "            <td>1970-01-01 00:30:28</td>\n",
              "            <td>-11.0</td>\n",
              "            <td>9.0</td>\n",
              "            <td>1837</td>\n",
              "            <td>1900</td>\n",
              "            <td>8.0</td>\n",
              "            <td>1925</td>\n",
              "            <td>1970-01-01 00:31:48</td>\n",
              "            <td>-17.0</td>\n",
              "            <td>0</td>\n",
              "            <td>0</td>\n",
              "            <td>89</td>\n",
              "        </tr>\n",
              "    </tbody>\n",
              "</table>"
            ]
          },
          "metadata": {},
          "execution_count": 26
        }
      ]
    },
    {
      "cell_type": "code",
      "source": [
        "%%sql\n",
        "SELECT\n",
        "  -18/COUNT(arr_delay) AS frac_delayed\n",
        "FROM flights_view_"
      ],
      "metadata": {
        "colab": {
          "base_uri": "https://localhost:8080/",
          "height": 97
        },
        "id": "c1YFohRtVyTJ",
        "outputId": "31f2fda4-9fdb-45bd-87d8-0e5a6e5b6884"
      },
      "execution_count": null,
      "outputs": [
        {
          "output_type": "stream",
          "name": "stdout",
          "text": [
            " * sqlite:///mydb_\n",
            "Done.\n"
          ]
        },
        {
          "output_type": "execute_result",
          "data": {
            "text/plain": [
              "[(0,)]"
            ],
            "text/html": [
              "<table>\n",
              "    <thead>\n",
              "        <tr>\n",
              "            <th>frac_delayed</th>\n",
              "        </tr>\n",
              "    </thead>\n",
              "    <tbody>\n",
              "        <tr>\n",
              "            <td>0</td>\n",
              "        </tr>\n",
              "    </tbody>\n",
              "</table>"
            ]
          },
          "metadata": {},
          "execution_count": 74
        }
      ]
    },
    {
      "cell_type": "code",
      "source": [
        "sparkFlightDF=sparkFlightDF.select(\"ARR_DELAY\",\"DEP_DELAY\")\n",
        "\n"
      ],
      "metadata": {
        "id": "Lcl8n9rfhC6H"
      },
      "execution_count": null,
      "outputs": []
    },
    {
      "cell_type": "code",
      "source": [
        "from pyspark.sql.functions import *\n",
        "sparkFlightDF=sparkFlightDF.withColumn(\"ontime\",when(col(\"ARR_DELAY\")<0,\"True\").when(col(\"DEP_DELAY\")>0,\"True\").otherwise(\"false\") )\n",
        "sparkFlightDF.show()"
      ],
      "metadata": {
        "id": "SBLH1ibhhUmh",
        "colab": {
          "base_uri": "https://localhost:8080/"
        },
        "outputId": "67e2ef12-5098-47fa-c740-0b555889d0aa"
      },
      "execution_count": null,
      "outputs": [
        {
          "output_type": "stream",
          "name": "stdout",
          "text": [
            "+---------+---------+------+\n",
            "|ARR_DELAY|DEP_DELAY|ontime|\n",
            "+---------+---------+------+\n",
            "|    -18.0|     -5.0|  True|\n",
            "|    -19.0|     -4.0|  True|\n",
            "|      4.0|     13.0|  True|\n",
            "|    -19.0|     -9.0|  True|\n",
            "|      NaN|      NaN|  True|\n",
            "|    -18.0|    -11.0|  True|\n",
            "|     52.0|     28.0|  True|\n",
            "|    -12.0|     -6.0|  True|\n",
            "|    -20.0|     -4.0|  True|\n",
            "|     -5.0|     -1.0|  True|\n",
            "|     -7.0|     -4.0|  True|\n",
            "|     -1.0|     -1.0|  True|\n",
            "|    -18.0|     -7.0|  True|\n",
            "|      9.0|     13.0|  True|\n",
            "|      0.0|      6.0|  True|\n",
            "|    -13.0|    -12.0|  True|\n",
            "|     36.0|     46.0|  True|\n",
            "|     -8.0|      0.0|  True|\n",
            "|    -10.0|      2.0|  True|\n",
            "|     -7.0|     -3.0|  True|\n",
            "+---------+---------+------+\n",
            "only showing top 20 rows\n",
            "\n"
          ]
        }
      ]
    },
    {
      "cell_type": "code",
      "source": [
        "sparkFlightDF=sparkFlightDF.toPandas()"
      ],
      "metadata": {
        "id": "YDw7397ehhWa"
      },
      "execution_count": null,
      "outputs": []
    },
    {
      "cell_type": "code",
      "source": [
        "sparkFlightDF"
      ],
      "metadata": {
        "id": "WjCxa6JWikdD",
        "colab": {
          "base_uri": "https://localhost:8080/"
        },
        "outputId": "64b74b96-0545-4967-8279-405e8b502270"
      },
      "execution_count": null,
      "outputs": [
        {
          "output_type": "execute_result",
          "data": {
            "text/plain": [
              "DataFrame[ARR_DELAY: double, DEP_DELAY: double, ontime: string]"
            ]
          },
          "metadata": {},
          "execution_count": 238
        }
      ]
    },
    {
      "cell_type": "code",
      "source": [
        "sns.set_style(\"whitegrid\")\n",
        "# sns.set(font_scale = 1.5)\n",
        "ax = sns.violinplot(data=sparkFlightDF, x='ARR_DELAY', inner='box', orient='h')\n",
        "ax.axes.set_xlim(-55, 55);"
      ],
      "metadata": {
        "colab": {
          "base_uri": "https://localhost:8080/",
          "height": 280
        },
        "id": "9zxTVoTmePKD",
        "outputId": "281698c8-5fa6-4724-8dfd-9b2298377bfb"
      },
      "execution_count": null,
      "outputs": [
        {
          "output_type": "display_data",
          "data": {
            "text/plain": [
              "<Figure size 432x288 with 1 Axes>"
            ],
            "image/png": "[encoded data removed]"
          },
          "metadata": {}
        }
      ]
    },
    {
      "cell_type": "code",
      "source": [
        "sns.set_style(\"whitegrid\")\n",
        "ax = sns.violinplot(data=sparkFlightDF, x='ARR_DELAY', y='ontime', inner='box', orient='h')\n",
        "ax.set_xlim(-50, 200);"
      ],
      "metadata": {
        "colab": {
          "base_uri": "https://localhost:8080/",
          "height": 280
        },
        "id": "-sgr92yTibw6",
        "outputId": "70594b2c-d6f3-4ba1-c8ee-51c8b300ec71"
      },
      "execution_count": null,
      "outputs": [
        {
          "output_type": "display_data",
          "data": {
            "text/plain": [
              "<Figure size 432x288 with 1 Axes>"
            ],
            "image/png": "[encoded data removed]"
          },
          "metadata": {}
        }
      ]
    },
    {
      "cell_type": "code",
      "source": [
        "#https://github.com/GoogleCloudPlatform/data-science-on-gcp/blob/main/05_bqnotebook/exploration.ipynb"
      ],
      "metadata": {
        "id": "iqFIGr3Tf5wo"
      },
      "execution_count": null,
      "outputs": []
    },
    {
      "cell_type": "code",
      "source": [
        "sparkFlightDF.describe()"
      ],
      "metadata": {
        "colab": {
          "base_uri": "https://localhost:8080/",
          "height": 300
        },
        "id": "_DzivR15ctjY",
        "outputId": "b3f46635-e5b9-4317-d426-65c8fb59cebe"
      },
      "execution_count": null,
      "outputs": [
        {
          "output_type": "execute_result",
          "data": {
            "text/plain": [
              "       ARR_DELAY  DEP_DELAY\n",
              "count  30.000000  30.000000\n",
              "mean   -4.200000   1.133333\n",
              "std    15.772958  12.389465\n",
              "min   -20.000000 -12.000000\n",
              "25%   -13.750000  -6.000000\n",
              "50%    -7.500000  -2.500000\n",
              "75%     0.750000   1.750000\n",
              "max    52.000000  46.000000"
            ],
            "text/html": [
              "\n",
              "  <div id=\"df-e97d2c14-c72b-43de-9780-0e91859ebfbf\">\n",
              "    <div class=\"colab-df-container\">\n",
              "      <div>\n",
              "<style scoped>\n",
              "    .dataframe tbody tr th:only-of-type {\n",
              "        vertical-align: middle;\n",
              "    }\n",
              "\n",
              "    .dataframe tbody tr th {\n",
              "        vertical-align: top;\n",
              "    }\n",
              "\n",
              "    .dataframe thead th {\n",
              "        text-align: right;\n",
              "    }\n",
              "</style>\n",
              "<table border=\"1\" class=\"dataframe\">\n",
              "  <thead>\n",
              "    <tr style=\"text-align: right;\">\n",
              "      <th></th>\n",
              "      <th>ARR_DELAY</th>\n",
              "      <th>DEP_DELAY</th>\n",
              "    </tr>\n",
              "  </thead>\n",
              "  <tbody>\n",
              "    <tr>\n",
              "      <th>count</th>\n",
              "      <td>30.000000</td>\n",
              "      <td>30.000000</td>\n",
              "    </tr>\n",
              "    <tr>\n",
              "      <th>mean</th>\n",
              "      <td>-4.200000</td>\n",
              "      <td>1.133333</td>\n",
              "    </tr>\n",
              "    <tr>\n",
              "      <th>std</th>\n",
              "      <td>15.772958</td>\n",
              "      <td>12.389465</td>\n",
              "    </tr>\n",
              "    <tr>\n",
              "      <th>min</th>\n",
              "      <td>-20.000000</td>\n",
              "      <td>-12.000000</td>\n",
              "    </tr>\n",
              "    <tr>\n",
              "      <th>25%</th>\n",
              "      <td>-13.750000</td>\n",
              "      <td>-6.000000</td>\n",
              "    </tr>\n",
              "    <tr>\n",
              "      <th>50%</th>\n",
              "      <td>-7.500000</td>\n",
              "      <td>-2.500000</td>\n",
              "    </tr>\n",
              "    <tr>\n",
              "      <th>75%</th>\n",
              "      <td>0.750000</td>\n",
              "      <td>1.750000</td>\n",
              "    </tr>\n",
              "    <tr>\n",
              "      <th>max</th>\n",
              "      <td>52.000000</td>\n",
              "      <td>46.000000</td>\n",
              "    </tr>\n",
              "  </tbody>\n",
              "</table>\n",
              "</div>\n",
              "      <button class=\"colab-df-convert\" onclick=\"convertToInteractive('df-e97d2c14-c72b-43de-9780-0e91859ebfbf')\"\n",
              "              title=\"Convert this dataframe to an interactive table.\"\n",
              "              style=\"display:none;\">\n",
              "        \n",
              "  <svg xmlns=\"http://www.w3.org/2000/svg\" height=\"24px\"viewBox=\"0 0 24 24\"\n",
              "       width=\"24px\">\n",
              "    <path d=\"M0 0h24v24H0V0z\" fill=\"none\"/>\n",
              "    <path d=\"M18.56 5.44l.94 2.06.94-2.06 2.06-.94-2.06-.94-.94-2.06-.94 2.06-2.06.94zm-11 1L8.5 8.5l.94-2.06 2.06-.94-2.06-.94L8.5 2.5l-.94 2.06-2.06.94zm10 10l.94 2.06.94-2.06 2.06-.94-2.06-.94-.94-2.06-.94 2.06-2.06.94z\"/><path d=\"M17.41 7.96l-1.37-1.37c-.4-.4-.92-.59-1.43-.59-.52 0-1.04.2-1.43.59L10.3 9.45l-7.72 7.72c-.78.78-.78 2.05 0 2.83L4 21.41c.39.39.9.59 1.41.59.51 0 1.02-.2 1.41-.59l7.78-7.78 2.81-2.81c.8-.78.8-2.07 0-2.86zM5.41 20L4 18.59l7.72-7.72 1.47 1.35L5.41 20z\"/>\n",
              "  </svg>\n",
              "      </button>\n",
              "      \n",
              "  <style>\n",
              "    .colab-df-container {\n",
              "      display:flex;\n",
              "      flex-wrap:wrap;\n",
              "      gap: 12px;\n",
              "    }\n",
              "\n",
              "    .colab-df-convert {\n",
              "      background-color: #E8F0FE;\n",
              "      border: none;\n",
              "      border-radius: 50%;\n",
              "      cursor: pointer;\n",
              "      display: none;\n",
              "      fill: #1967D2;\n",
              "      height: 32px;\n",
              "      padding: 0 0 0 0;\n",
              "      width: 32px;\n",
              "    }\n",
              "\n",
              "    .colab-df-convert:hover {\n",
              "      background-color: #E2EBFA;\n",
              "      box-shadow: 0px 1px 2px rgba(60, 64, 67, 0.3), 0px 1px 3px 1px rgba(60, 64, 67, 0.15);\n",
              "      fill: #174EA6;\n",
              "    }\n",
              "\n",
              "    [theme=dark] .colab-df-convert {\n",
              "      background-color: #3B4455;\n",
              "      fill: #D2E3FC;\n",
              "    }\n",
              "\n",
              "    [theme=dark] .colab-df-convert:hover {\n",
              "      background-color: #434B5C;\n",
              "      box-shadow: 0px 1px 3px 1px rgba(0, 0, 0, 0.15);\n",
              "      filter: drop-shadow(0px 1px 2px rgba(0, 0, 0, 0.3));\n",
              "      fill: #FFFFFF;\n",
              "    }\n",
              "  </style>\n",
              "\n",
              "      <script>\n",
              "        const buttonEl =\n",
              "          document.querySelector('#df-e97d2c14-c72b-43de-9780-0e91859ebfbf button.colab-df-convert');\n",
              "        buttonEl.style.display =\n",
              "          google.colab.kernel.accessAllowed ? 'block' : 'none';\n",
              "\n",
              "        async function convertToInteractive(key) {\n",
              "          const element = document.querySelector('#df-e97d2c14-c72b-43de-9780-0e91859ebfbf');\n",
              "          const dataTable =\n",
              "            await google.colab.kernel.invokeFunction('convertToInteractive',\n",
              "                                                     [key], {});\n",
              "          if (!dataTable) return;\n",
              "\n",
              "          const docLinkHtml = 'Like what you see? Visit the ' +\n",
              "            '<a target=\"_blank\" href=https://colab.research.google.com/notebooks/data_table.ipynb>data table notebook</a>'\n",
              "            + ' to learn more about interactive tables.';\n",
              "          element.innerHTML = '';\n",
              "          dataTable['output_type'] = 'display_data';\n",
              "          await google.colab.output.renderOutput(dataTable, element);\n",
              "          const docLink = document.createElement('div');\n",
              "          docLink.innerHTML = docLinkHtml;\n",
              "          element.appendChild(docLink);\n",
              "        }\n",
              "      </script>\n",
              "    </div>\n",
              "  </div>\n",
              "  "
            ]
          },
          "metadata": {},
          "execution_count": 242
        }
      ]
    },
    {
      "cell_type": "code",
      "source": [
        "import pandas as pd\n",
        "df = pd.read_sql(\"\"\"\n",
        "            SELECT\n",
        "    DEP_DELAY,\n",
        "    AVG(ARR_DELAY) AS arrival_delay,\n",
        "    AVG(ARR_DELAY*ARR_DELAY) - AVG(ARR_DELAY)*AVG(ARR_DELAY) AS stddev_arrival_delay,\n",
        "    COUNT(ARR_DELAY) AS numflights\n",
        "FROM\n",
        "    flights_view_\n",
        "GROUP BY\n",
        "    DEP_DELAY\n",
        "   having DEP_DELAY>0 \n",
        "ORDER BY DEP_DELAY\n",
        "            \n",
        "            \"\"\", con = sqlite3.connect('mydb_'))\n",
        "# return your first five rows\n"
      ],
      "metadata": {
        "id": "IVnZfBNOl0v-"
      },
      "execution_count": null,
      "outputs": []
    },
    {
      "cell_type": "code",
      "source": [
        "%%sql\n",
        "SELECT\n",
        "    DEP_DELAY,\n",
        "    AVG(ARR_DELAY) AS arrival_delay,\n",
        "    AVG(ARR_DELAY*ARR_DELAY) - AVG(ARR_DELAY)*AVG(ARR_DELAY) AS stddev_arrival_delay,\n",
        "    COUNT(ARR_DELAY) AS numflights\n",
        "FROM\n",
        "    flights_view_\n",
        "GROUP BY\n",
        "    DEP_DELAY\n",
        "   having DEP_DELAY>0 \n",
        "ORDER BY DEP_DELAY"
      ],
      "metadata": {
        "colab": {
          "base_uri": "https://localhost:8080/",
          "height": 782
        },
        "id": "HW0-htKCkIAv",
        "outputId": "f00b13de-c063-4311-c147-8e1d162283b5"
      },
      "execution_count": 16,
      "outputs": [
        {
          "output_type": "stream",
          "name": "stdout",
          "text": [
            " * sqlite:///mydb_\n"
          ]
        },
        {
          "output_type": "error",
          "ename": "DatabaseError",
          "evalue": "ignored",
          "traceback": [
            "\u001b[0;31m---------------------------------------------------------------------------\u001b[0m",
            "\u001b[0;31mDatabaseError\u001b[0m                             Traceback (most recent call last)",
            "\u001b[0;32m/usr/local/lib/python3.8/dist-packages/sqlalchemy/engine/base.py\u001b[0m in \u001b[0;36m_execute_context\u001b[0;34m(self, dialect, constructor, statement, parameters, execution_options, *args, **kw)\u001b[0m\n\u001b[1;32m   1899\u001b[0m                 \u001b[0;32mif\u001b[0m \u001b[0;32mnot\u001b[0m \u001b[0mevt_handled\u001b[0m\u001b[0;34m:\u001b[0m\u001b[0;34m\u001b[0m\u001b[0;34m\u001b[0m\u001b[0m\n\u001b[0;32m-> 1900\u001b[0;31m                     self.dialect.do_execute(\n\u001b[0m\u001b[1;32m   1901\u001b[0m                         \u001b[0mcursor\u001b[0m\u001b[0;34m,\u001b[0m \u001b[0mstatement\u001b[0m\u001b[0;34m,\u001b[0m \u001b[0mparameters\u001b[0m\u001b[0;34m,\u001b[0m \u001b[0mcontext\u001b[0m\u001b[0;34m\u001b[0m\u001b[0;34m\u001b[0m\u001b[0m\n",
            "\u001b[0;32m/usr/local/lib/python3.8/dist-packages/sqlalchemy/engine/default.py\u001b[0m in \u001b[0;36mdo_execute\u001b[0;34m(self, cursor, statement, parameters, context)\u001b[0m\n\u001b[1;32m    735\u001b[0m     \u001b[0;32mdef\u001b[0m \u001b[0mdo_execute\u001b[0m\u001b[0;34m(\u001b[0m\u001b[0mself\u001b[0m\u001b[0;34m,\u001b[0m \u001b[0mcursor\u001b[0m\u001b[0;34m,\u001b[0m \u001b[0mstatement\u001b[0m\u001b[0;34m,\u001b[0m \u001b[0mparameters\u001b[0m\u001b[0;34m,\u001b[0m \u001b[0mcontext\u001b[0m\u001b[0;34m=\u001b[0m\u001b[0;32mNone\u001b[0m\u001b[0;34m)\u001b[0m\u001b[0;34m:\u001b[0m\u001b[0;34m\u001b[0m\u001b[0;34m\u001b[0m\u001b[0m\n\u001b[0;32m--> 736\u001b[0;31m         \u001b[0mcursor\u001b[0m\u001b[0;34m.\u001b[0m\u001b[0mexecute\u001b[0m\u001b[0;34m(\u001b[0m\u001b[0mstatement\u001b[0m\u001b[0;34m,\u001b[0m \u001b[0mparameters\u001b[0m\u001b[0;34m)\u001b[0m\u001b[0;34m\u001b[0m\u001b[0;34m\u001b[0m\u001b[0m\n\u001b[0m\u001b[1;32m    737\u001b[0m \u001b[0;34m\u001b[0m\u001b[0m\n",
            "\u001b[0;31mDatabaseError\u001b[0m: database disk image is malformed",
            "\nThe above exception was the direct cause of the following exception:\n",
            "\u001b[0;31mDatabaseError\u001b[0m                             Traceback (most recent call last)",
            "\u001b[0;32m<ipython-input-16-aa7ab0f0aa4e>\u001b[0m in \u001b[0;36m<module>\u001b[0;34m\u001b[0m\n\u001b[0;32m----> 1\u001b[0;31m \u001b[0mget_ipython\u001b[0m\u001b[0;34m(\u001b[0m\u001b[0;34m)\u001b[0m\u001b[0;34m.\u001b[0m\u001b[0mrun_cell_magic\u001b[0m\u001b[0;34m(\u001b[0m\u001b[0;34m'sql'\u001b[0m\u001b[0;34m,\u001b[0m \u001b[0;34m''\u001b[0m\u001b[0;34m,\u001b[0m \u001b[0;34m'SELECT\\n    DEP_DELAY,\\n    AVG(ARR_DELAY) AS arrival_delay,\\n    AVG(ARR_DELAY*ARR_DELAY) - AVG(ARR_DELAY)*AVG(ARR_DELAY) AS stddev_arrival_delay,\\n    COUNT(ARR_DELAY) AS numflights\\nFROM\\n    flights_view_\\nGROUP BY\\n    DEP_DELAY\\n   having DEP_DELAY>0 \\nORDER BY DEP_DELAY\\n'\u001b[0m\u001b[0;34m)\u001b[0m\u001b[0;34m\u001b[0m\u001b[0;34m\u001b[0m\u001b[0m\n\u001b[0m",
            "\u001b[0;32m/usr/local/lib/python3.8/dist-packages/IPython/core/interactiveshell.py\u001b[0m in \u001b[0;36mrun_cell_magic\u001b[0;34m(self, magic_name, line, cell)\u001b[0m\n\u001b[1;32m   2357\u001b[0m             \u001b[0;32mwith\u001b[0m \u001b[0mself\u001b[0m\u001b[0;34m.\u001b[0m\u001b[0mbuiltin_trap\u001b[0m\u001b[0;34m:\u001b[0m\u001b[0;34m\u001b[0m\u001b[0;34m\u001b[0m\u001b[0m\n\u001b[1;32m   2358\u001b[0m                 \u001b[0margs\u001b[0m \u001b[0;34m=\u001b[0m \u001b[0;34m(\u001b[0m\u001b[0mmagic_arg_s\u001b[0m\u001b[0;34m,\u001b[0m \u001b[0mcell\u001b[0m\u001b[0;34m)\u001b[0m\u001b[0;34m\u001b[0m\u001b[0;34m\u001b[0m\u001b[0m\n\u001b[0;32m-> 2359\u001b[0;31m                 \u001b[0mresult\u001b[0m \u001b[0;34m=\u001b[0m \u001b[0mfn\u001b[0m\u001b[0;34m(\u001b[0m\u001b[0;34m*\u001b[0m\u001b[0margs\u001b[0m\u001b[0;34m,\u001b[0m \u001b[0;34m**\u001b[0m\u001b[0mkwargs\u001b[0m\u001b[0;34m)\u001b[0m\u001b[0;34m\u001b[0m\u001b[0;34m\u001b[0m\u001b[0m\n\u001b[0m\u001b[1;32m   2360\u001b[0m             \u001b[0;32mreturn\u001b[0m \u001b[0mresult\u001b[0m\u001b[0;34m\u001b[0m\u001b[0;34m\u001b[0m\u001b[0m\n\u001b[1;32m   2361\u001b[0m \u001b[0;34m\u001b[0m\u001b[0m\n",
            "\u001b[0;32m<decorator-gen-119>\u001b[0m in \u001b[0;36mexecute\u001b[0;34m(self, line, cell, local_ns)\u001b[0m\n",
            "\u001b[0;32m/usr/local/lib/python3.8/dist-packages/IPython/core/magic.py\u001b[0m in \u001b[0;36m<lambda>\u001b[0;34m(f, *a, **k)\u001b[0m\n\u001b[1;32m    185\u001b[0m     \u001b[0;31m# but it's overkill for just that one bit of state.\u001b[0m\u001b[0;34m\u001b[0m\u001b[0;34m\u001b[0m\u001b[0;34m\u001b[0m\u001b[0m\n\u001b[1;32m    186\u001b[0m     \u001b[0;32mdef\u001b[0m \u001b[0mmagic_deco\u001b[0m\u001b[0;34m(\u001b[0m\u001b[0marg\u001b[0m\u001b[0;34m)\u001b[0m\u001b[0;34m:\u001b[0m\u001b[0;34m\u001b[0m\u001b[0;34m\u001b[0m\u001b[0m\n\u001b[0;32m--> 187\u001b[0;31m         \u001b[0mcall\u001b[0m \u001b[0;34m=\u001b[0m \u001b[0;32mlambda\u001b[0m \u001b[0mf\u001b[0m\u001b[0;34m,\u001b[0m \u001b[0;34m*\u001b[0m\u001b[0ma\u001b[0m\u001b[0;34m,\u001b[0m \u001b[0;34m**\u001b[0m\u001b[0mk\u001b[0m\u001b[0;34m:\u001b[0m \u001b[0mf\u001b[0m\u001b[0;34m(\u001b[0m\u001b[0;34m*\u001b[0m\u001b[0ma\u001b[0m\u001b[0;34m,\u001b[0m \u001b[0;34m**\u001b[0m\u001b[0mk\u001b[0m\u001b[0;34m)\u001b[0m\u001b[0;34m\u001b[0m\u001b[0;34m\u001b[0m\u001b[0m\n\u001b[0m\u001b[1;32m    188\u001b[0m \u001b[0;34m\u001b[0m\u001b[0m\n\u001b[1;32m    189\u001b[0m         \u001b[0;32mif\u001b[0m \u001b[0mcallable\u001b[0m\u001b[0;34m(\u001b[0m\u001b[0marg\u001b[0m\u001b[0;34m)\u001b[0m\u001b[0;34m:\u001b[0m\u001b[0;34m\u001b[0m\u001b[0;34m\u001b[0m\u001b[0m\n",
            "\u001b[0;32m<decorator-gen-118>\u001b[0m in \u001b[0;36mexecute\u001b[0;34m(self, line, cell, local_ns)\u001b[0m\n",
            "\u001b[0;32m/usr/local/lib/python3.8/dist-packages/IPython/core/magic.py\u001b[0m in \u001b[0;36m<lambda>\u001b[0;34m(f, *a, **k)\u001b[0m\n\u001b[1;32m    185\u001b[0m     \u001b[0;31m# but it's overkill for just that one bit of state.\u001b[0m\u001b[0;34m\u001b[0m\u001b[0;34m\u001b[0m\u001b[0;34m\u001b[0m\u001b[0m\n\u001b[1;32m    186\u001b[0m     \u001b[0;32mdef\u001b[0m \u001b[0mmagic_deco\u001b[0m\u001b[0;34m(\u001b[0m\u001b[0marg\u001b[0m\u001b[0;34m)\u001b[0m\u001b[0;34m:\u001b[0m\u001b[0;34m\u001b[0m\u001b[0;34m\u001b[0m\u001b[0m\n\u001b[0;32m--> 187\u001b[0;31m         \u001b[0mcall\u001b[0m \u001b[0;34m=\u001b[0m \u001b[0;32mlambda\u001b[0m \u001b[0mf\u001b[0m\u001b[0;34m,\u001b[0m \u001b[0;34m*\u001b[0m\u001b[0ma\u001b[0m\u001b[0;34m,\u001b[0m \u001b[0;34m**\u001b[0m\u001b[0mk\u001b[0m\u001b[0;34m:\u001b[0m \u001b[0mf\u001b[0m\u001b[0;34m(\u001b[0m\u001b[0;34m*\u001b[0m\u001b[0ma\u001b[0m\u001b[0;34m,\u001b[0m \u001b[0;34m**\u001b[0m\u001b[0mk\u001b[0m\u001b[0;34m)\u001b[0m\u001b[0;34m\u001b[0m\u001b[0;34m\u001b[0m\u001b[0m\n\u001b[0m\u001b[1;32m    188\u001b[0m \u001b[0;34m\u001b[0m\u001b[0m\n\u001b[1;32m    189\u001b[0m         \u001b[0;32mif\u001b[0m \u001b[0mcallable\u001b[0m\u001b[0;34m(\u001b[0m\u001b[0marg\u001b[0m\u001b[0;34m)\u001b[0m\u001b[0;34m:\u001b[0m\u001b[0;34m\u001b[0m\u001b[0;34m\u001b[0m\u001b[0m\n",
            "\u001b[0;32m/usr/local/lib/python3.8/dist-packages/sql/magic.py\u001b[0m in \u001b[0;36mexecute\u001b[0;34m(self, line, cell, local_ns)\u001b[0m\n\u001b[1;32m     93\u001b[0m \u001b[0;34m\u001b[0m\u001b[0m\n\u001b[1;32m     94\u001b[0m         \u001b[0;32mtry\u001b[0m\u001b[0;34m:\u001b[0m\u001b[0;34m\u001b[0m\u001b[0;34m\u001b[0m\u001b[0m\n\u001b[0;32m---> 95\u001b[0;31m             \u001b[0mresult\u001b[0m \u001b[0;34m=\u001b[0m \u001b[0msql\u001b[0m\u001b[0;34m.\u001b[0m\u001b[0mrun\u001b[0m\u001b[0;34m.\u001b[0m\u001b[0mrun\u001b[0m\u001b[0;34m(\u001b[0m\u001b[0mconn\u001b[0m\u001b[0;34m,\u001b[0m \u001b[0mparsed\u001b[0m\u001b[0;34m[\u001b[0m\u001b[0;34m'sql'\u001b[0m\u001b[0;34m]\u001b[0m\u001b[0;34m,\u001b[0m \u001b[0mself\u001b[0m\u001b[0;34m,\u001b[0m \u001b[0muser_ns\u001b[0m\u001b[0;34m)\u001b[0m\u001b[0;34m\u001b[0m\u001b[0;34m\u001b[0m\u001b[0m\n\u001b[0m\u001b[1;32m     96\u001b[0m \u001b[0;34m\u001b[0m\u001b[0m\n\u001b[1;32m     97\u001b[0m             \u001b[0;32mif\u001b[0m \u001b[0mresult\u001b[0m \u001b[0;32mis\u001b[0m \u001b[0;32mnot\u001b[0m \u001b[0;32mNone\u001b[0m \u001b[0;32mand\u001b[0m \u001b[0;32mnot\u001b[0m \u001b[0misinstance\u001b[0m\u001b[0;34m(\u001b[0m\u001b[0mresult\u001b[0m\u001b[0;34m,\u001b[0m \u001b[0mstr\u001b[0m\u001b[0;34m)\u001b[0m \u001b[0;32mand\u001b[0m \u001b[0mself\u001b[0m\u001b[0;34m.\u001b[0m\u001b[0mcolumn_local_vars\u001b[0m\u001b[0;34m:\u001b[0m\u001b[0;34m\u001b[0m\u001b[0;34m\u001b[0m\u001b[0m\n",
            "\u001b[0;32m/usr/local/lib/python3.8/dist-packages/sql/run.py\u001b[0m in \u001b[0;36mrun\u001b[0;34m(conn, sql, config, user_namespace)\u001b[0m\n\u001b[1;32m    338\u001b[0m             \u001b[0;32melse\u001b[0m\u001b[0;34m:\u001b[0m\u001b[0;34m\u001b[0m\u001b[0;34m\u001b[0m\u001b[0m\n\u001b[1;32m    339\u001b[0m                 \u001b[0mtxt\u001b[0m \u001b[0;34m=\u001b[0m \u001b[0msqlalchemy\u001b[0m\u001b[0;34m.\u001b[0m\u001b[0msql\u001b[0m\u001b[0;34m.\u001b[0m\u001b[0mtext\u001b[0m\u001b[0;34m(\u001b[0m\u001b[0mstatement\u001b[0m\u001b[0;34m)\u001b[0m\u001b[0;34m\u001b[0m\u001b[0;34m\u001b[0m\u001b[0m\n\u001b[0;32m--> 340\u001b[0;31m                 \u001b[0mresult\u001b[0m \u001b[0;34m=\u001b[0m \u001b[0mconn\u001b[0m\u001b[0;34m.\u001b[0m\u001b[0msession\u001b[0m\u001b[0;34m.\u001b[0m\u001b[0mexecute\u001b[0m\u001b[0;34m(\u001b[0m\u001b[0mtxt\u001b[0m\u001b[0;34m,\u001b[0m \u001b[0muser_namespace\u001b[0m\u001b[0;34m)\u001b[0m\u001b[0;34m\u001b[0m\u001b[0;34m\u001b[0m\u001b[0m\n\u001b[0m\u001b[1;32m    341\u001b[0m             \u001b[0m_commit\u001b[0m\u001b[0;34m(\u001b[0m\u001b[0mconn\u001b[0m\u001b[0;34m=\u001b[0m\u001b[0mconn\u001b[0m\u001b[0;34m,\u001b[0m \u001b[0mconfig\u001b[0m\u001b[0;34m=\u001b[0m\u001b[0mconfig\u001b[0m\u001b[0;34m)\u001b[0m\u001b[0;34m\u001b[0m\u001b[0;34m\u001b[0m\u001b[0m\n\u001b[1;32m    342\u001b[0m             \u001b[0;32mif\u001b[0m \u001b[0mresult\u001b[0m \u001b[0;32mand\u001b[0m \u001b[0mconfig\u001b[0m\u001b[0;34m.\u001b[0m\u001b[0mfeedback\u001b[0m\u001b[0;34m:\u001b[0m\u001b[0;34m\u001b[0m\u001b[0;34m\u001b[0m\u001b[0m\n",
            "\u001b[0;32m/usr/local/lib/python3.8/dist-packages/sqlalchemy/engine/base.py\u001b[0m in \u001b[0;36mexecute\u001b[0;34m(self, statement, *multiparams, **params)\u001b[0m\n\u001b[1;32m   1378\u001b[0m             )\n\u001b[1;32m   1379\u001b[0m         \u001b[0;32melse\u001b[0m\u001b[0;34m:\u001b[0m\u001b[0;34m\u001b[0m\u001b[0;34m\u001b[0m\u001b[0m\n\u001b[0;32m-> 1380\u001b[0;31m             \u001b[0;32mreturn\u001b[0m \u001b[0mmeth\u001b[0m\u001b[0;34m(\u001b[0m\u001b[0mself\u001b[0m\u001b[0;34m,\u001b[0m \u001b[0mmultiparams\u001b[0m\u001b[0;34m,\u001b[0m \u001b[0mparams\u001b[0m\u001b[0;34m,\u001b[0m \u001b[0m_EMPTY_EXECUTION_OPTS\u001b[0m\u001b[0;34m)\u001b[0m\u001b[0;34m\u001b[0m\u001b[0;34m\u001b[0m\u001b[0m\n\u001b[0m\u001b[1;32m   1381\u001b[0m \u001b[0;34m\u001b[0m\u001b[0m\n\u001b[1;32m   1382\u001b[0m     \u001b[0;32mdef\u001b[0m \u001b[0m_execute_function\u001b[0m\u001b[0;34m(\u001b[0m\u001b[0mself\u001b[0m\u001b[0;34m,\u001b[0m \u001b[0mfunc\u001b[0m\u001b[0;34m,\u001b[0m \u001b[0mmultiparams\u001b[0m\u001b[0;34m,\u001b[0m \u001b[0mparams\u001b[0m\u001b[0;34m,\u001b[0m \u001b[0mexecution_options\u001b[0m\u001b[0;34m)\u001b[0m\u001b[0;34m:\u001b[0m\u001b[0;34m\u001b[0m\u001b[0;34m\u001b[0m\u001b[0m\n",
            "\u001b[0;32m/usr/local/lib/python3.8/dist-packages/sqlalchemy/sql/elements.py\u001b[0m in \u001b[0;36m_execute_on_connection\u001b[0;34m(self, connection, multiparams, params, execution_options, _force)\u001b[0m\n\u001b[1;32m    332\u001b[0m     ):\n\u001b[1;32m    333\u001b[0m         \u001b[0;32mif\u001b[0m \u001b[0m_force\u001b[0m \u001b[0;32mor\u001b[0m \u001b[0mself\u001b[0m\u001b[0;34m.\u001b[0m\u001b[0msupports_execution\u001b[0m\u001b[0;34m:\u001b[0m\u001b[0;34m\u001b[0m\u001b[0;34m\u001b[0m\u001b[0m\n\u001b[0;32m--> 334\u001b[0;31m             return connection._execute_clauseelement(\n\u001b[0m\u001b[1;32m    335\u001b[0m                 \u001b[0mself\u001b[0m\u001b[0;34m,\u001b[0m \u001b[0mmultiparams\u001b[0m\u001b[0;34m,\u001b[0m \u001b[0mparams\u001b[0m\u001b[0;34m,\u001b[0m \u001b[0mexecution_options\u001b[0m\u001b[0;34m\u001b[0m\u001b[0;34m\u001b[0m\u001b[0m\n\u001b[1;32m    336\u001b[0m             )\n",
            "\u001b[0;32m/usr/local/lib/python3.8/dist-packages/sqlalchemy/engine/base.py\u001b[0m in \u001b[0;36m_execute_clauseelement\u001b[0;34m(self, elem, multiparams, params, execution_options)\u001b[0m\n\u001b[1;32m   1570\u001b[0m             \u001b[0mlinting\u001b[0m\u001b[0;34m=\u001b[0m\u001b[0mself\u001b[0m\u001b[0;34m.\u001b[0m\u001b[0mdialect\u001b[0m\u001b[0;34m.\u001b[0m\u001b[0mcompiler_linting\u001b[0m \u001b[0;34m|\u001b[0m \u001b[0mcompiler\u001b[0m\u001b[0;34m.\u001b[0m\u001b[0mWARN_LINTING\u001b[0m\u001b[0;34m,\u001b[0m\u001b[0;34m\u001b[0m\u001b[0;34m\u001b[0m\u001b[0m\n\u001b[1;32m   1571\u001b[0m         )\n\u001b[0;32m-> 1572\u001b[0;31m         ret = self._execute_context(\n\u001b[0m\u001b[1;32m   1573\u001b[0m             \u001b[0mdialect\u001b[0m\u001b[0;34m,\u001b[0m\u001b[0;34m\u001b[0m\u001b[0;34m\u001b[0m\u001b[0m\n\u001b[1;32m   1574\u001b[0m             \u001b[0mdialect\u001b[0m\u001b[0;34m.\u001b[0m\u001b[0mexecution_ctx_cls\u001b[0m\u001b[0;34m.\u001b[0m\u001b[0m_init_compiled\u001b[0m\u001b[0;34m,\u001b[0m\u001b[0;34m\u001b[0m\u001b[0;34m\u001b[0m\u001b[0m\n",
            "\u001b[0;32m/usr/local/lib/python3.8/dist-packages/sqlalchemy/engine/base.py\u001b[0m in \u001b[0;36m_execute_context\u001b[0;34m(self, dialect, constructor, statement, parameters, execution_options, *args, **kw)\u001b[0m\n\u001b[1;32m   1941\u001b[0m \u001b[0;34m\u001b[0m\u001b[0m\n\u001b[1;32m   1942\u001b[0m         \u001b[0;32mexcept\u001b[0m \u001b[0mBaseException\u001b[0m \u001b[0;32mas\u001b[0m \u001b[0me\u001b[0m\u001b[0;34m:\u001b[0m\u001b[0;34m\u001b[0m\u001b[0;34m\u001b[0m\u001b[0m\n\u001b[0;32m-> 1943\u001b[0;31m             self._handle_dbapi_exception(\n\u001b[0m\u001b[1;32m   1944\u001b[0m                 \u001b[0me\u001b[0m\u001b[0;34m,\u001b[0m \u001b[0mstatement\u001b[0m\u001b[0;34m,\u001b[0m \u001b[0mparameters\u001b[0m\u001b[0;34m,\u001b[0m \u001b[0mcursor\u001b[0m\u001b[0;34m,\u001b[0m \u001b[0mcontext\u001b[0m\u001b[0;34m\u001b[0m\u001b[0;34m\u001b[0m\u001b[0m\n\u001b[1;32m   1945\u001b[0m             )\n",
            "\u001b[0;32m/usr/local/lib/python3.8/dist-packages/sqlalchemy/engine/base.py\u001b[0m in \u001b[0;36m_handle_dbapi_exception\u001b[0;34m(self, e, statement, parameters, cursor, context)\u001b[0m\n\u001b[1;32m   2122\u001b[0m                 \u001b[0mutil\u001b[0m\u001b[0;34m.\u001b[0m\u001b[0mraise_\u001b[0m\u001b[0;34m(\u001b[0m\u001b[0mnewraise\u001b[0m\u001b[0;34m,\u001b[0m \u001b[0mwith_traceback\u001b[0m\u001b[0;34m=\u001b[0m\u001b[0mexc_info\u001b[0m\u001b[0;34m[\u001b[0m\u001b[0;36m2\u001b[0m\u001b[0;34m]\u001b[0m\u001b[0;34m,\u001b[0m \u001b[0mfrom_\u001b[0m\u001b[0;34m=\u001b[0m\u001b[0me\u001b[0m\u001b[0;34m)\u001b[0m\u001b[0;34m\u001b[0m\u001b[0;34m\u001b[0m\u001b[0m\n\u001b[1;32m   2123\u001b[0m             \u001b[0;32melif\u001b[0m \u001b[0mshould_wrap\u001b[0m\u001b[0;34m:\u001b[0m\u001b[0;34m\u001b[0m\u001b[0;34m\u001b[0m\u001b[0m\n\u001b[0;32m-> 2124\u001b[0;31m                 util.raise_(\n\u001b[0m\u001b[1;32m   2125\u001b[0m                     \u001b[0msqlalchemy_exception\u001b[0m\u001b[0;34m,\u001b[0m \u001b[0mwith_traceback\u001b[0m\u001b[0;34m=\u001b[0m\u001b[0mexc_info\u001b[0m\u001b[0;34m[\u001b[0m\u001b[0;36m2\u001b[0m\u001b[0;34m]\u001b[0m\u001b[0;34m,\u001b[0m \u001b[0mfrom_\u001b[0m\u001b[0;34m=\u001b[0m\u001b[0me\u001b[0m\u001b[0;34m\u001b[0m\u001b[0;34m\u001b[0m\u001b[0m\n\u001b[1;32m   2126\u001b[0m                 )\n",
            "\u001b[0;32m/usr/local/lib/python3.8/dist-packages/sqlalchemy/util/compat.py\u001b[0m in \u001b[0;36mraise_\u001b[0;34m(***failed resolving arguments***)\u001b[0m\n\u001b[1;32m    209\u001b[0m \u001b[0;34m\u001b[0m\u001b[0m\n\u001b[1;32m    210\u001b[0m         \u001b[0;32mtry\u001b[0m\u001b[0;34m:\u001b[0m\u001b[0;34m\u001b[0m\u001b[0;34m\u001b[0m\u001b[0m\n\u001b[0;32m--> 211\u001b[0;31m             \u001b[0;32mraise\u001b[0m \u001b[0mexception\u001b[0m\u001b[0;34m\u001b[0m\u001b[0;34m\u001b[0m\u001b[0m\n\u001b[0m\u001b[1;32m    212\u001b[0m         \u001b[0;32mfinally\u001b[0m\u001b[0;34m:\u001b[0m\u001b[0;34m\u001b[0m\u001b[0;34m\u001b[0m\u001b[0m\n\u001b[1;32m    213\u001b[0m             \u001b[0;31m# credit to\u001b[0m\u001b[0;34m\u001b[0m\u001b[0;34m\u001b[0m\u001b[0;34m\u001b[0m\u001b[0m\n",
            "\u001b[0;32m/usr/local/lib/python3.8/dist-packages/sqlalchemy/engine/base.py\u001b[0m in \u001b[0;36m_execute_context\u001b[0;34m(self, dialect, constructor, statement, parameters, execution_options, *args, **kw)\u001b[0m\n\u001b[1;32m   1898\u001b[0m                             \u001b[0;32mbreak\u001b[0m\u001b[0;34m\u001b[0m\u001b[0;34m\u001b[0m\u001b[0m\n\u001b[1;32m   1899\u001b[0m                 \u001b[0;32mif\u001b[0m \u001b[0;32mnot\u001b[0m \u001b[0mevt_handled\u001b[0m\u001b[0;34m:\u001b[0m\u001b[0;34m\u001b[0m\u001b[0;34m\u001b[0m\u001b[0m\n\u001b[0;32m-> 1900\u001b[0;31m                     self.dialect.do_execute(\n\u001b[0m\u001b[1;32m   1901\u001b[0m                         \u001b[0mcursor\u001b[0m\u001b[0;34m,\u001b[0m \u001b[0mstatement\u001b[0m\u001b[0;34m,\u001b[0m \u001b[0mparameters\u001b[0m\u001b[0;34m,\u001b[0m \u001b[0mcontext\u001b[0m\u001b[0;34m\u001b[0m\u001b[0;34m\u001b[0m\u001b[0m\n\u001b[1;32m   1902\u001b[0m                     )\n",
            "\u001b[0;32m/usr/local/lib/python3.8/dist-packages/sqlalchemy/engine/default.py\u001b[0m in \u001b[0;36mdo_execute\u001b[0;34m(self, cursor, statement, parameters, context)\u001b[0m\n\u001b[1;32m    734\u001b[0m \u001b[0;34m\u001b[0m\u001b[0m\n\u001b[1;32m    735\u001b[0m     \u001b[0;32mdef\u001b[0m \u001b[0mdo_execute\u001b[0m\u001b[0;34m(\u001b[0m\u001b[0mself\u001b[0m\u001b[0;34m,\u001b[0m \u001b[0mcursor\u001b[0m\u001b[0;34m,\u001b[0m \u001b[0mstatement\u001b[0m\u001b[0;34m,\u001b[0m \u001b[0mparameters\u001b[0m\u001b[0;34m,\u001b[0m \u001b[0mcontext\u001b[0m\u001b[0;34m=\u001b[0m\u001b[0;32mNone\u001b[0m\u001b[0;34m)\u001b[0m\u001b[0;34m:\u001b[0m\u001b[0;34m\u001b[0m\u001b[0;34m\u001b[0m\u001b[0m\n\u001b[0;32m--> 736\u001b[0;31m         \u001b[0mcursor\u001b[0m\u001b[0;34m.\u001b[0m\u001b[0mexecute\u001b[0m\u001b[0;34m(\u001b[0m\u001b[0mstatement\u001b[0m\u001b[0;34m,\u001b[0m \u001b[0mparameters\u001b[0m\u001b[0;34m)\u001b[0m\u001b[0;34m\u001b[0m\u001b[0;34m\u001b[0m\u001b[0m\n\u001b[0m\u001b[1;32m    737\u001b[0m \u001b[0;34m\u001b[0m\u001b[0m\n\u001b[1;32m    738\u001b[0m     \u001b[0;32mdef\u001b[0m \u001b[0mdo_execute_no_params\u001b[0m\u001b[0;34m(\u001b[0m\u001b[0mself\u001b[0m\u001b[0;34m,\u001b[0m \u001b[0mcursor\u001b[0m\u001b[0;34m,\u001b[0m \u001b[0mstatement\u001b[0m\u001b[0;34m,\u001b[0m \u001b[0mcontext\u001b[0m\u001b[0;34m=\u001b[0m\u001b[0;32mNone\u001b[0m\u001b[0;34m)\u001b[0m\u001b[0;34m:\u001b[0m\u001b[0;34m\u001b[0m\u001b[0;34m\u001b[0m\u001b[0m\n",
            "\u001b[0;31mDatabaseError\u001b[0m: (sqlite3.DatabaseError) database disk image is malformed\n[SQL: SELECT\n    DEP_DELAY,\n    AVG(ARR_DELAY) AS arrival_delay,\n    AVG(ARR_DELAY*ARR_DELAY) - AVG(ARR_DELAY)*AVG(ARR_DELAY) AS stddev_arrival_delay,\n    COUNT(ARR_DELAY) AS numflights\nFROM\n    flights_view_\nGROUP BY\n    DEP_DELAY\n   having DEP_DELAY>0 \nORDER BY DEP_DELAY]\n(Background on this error at: https://sqlalche.me/e/14/4xp6)"
          ]
        }
      ]
    },
    {
      "cell_type": "code",
      "source": [
        "ax = df.plot(kind='line', x='DEP_DELAY', \n",
        "              y='arrival_delay', yerr='stddev_arrival_delay')"
      ],
      "metadata": {
        "colab": {
          "base_uri": "https://localhost:8080/",
          "height": 280
        },
        "id": "vJZKBqxgjryu",
        "outputId": "5778a284-4074-4e87-db52-e580148fad93"
      },
      "execution_count": null,
      "outputs": [
        {
          "output_type": "display_data",
          "data": {
            "text/plain": [
              "<Figure size 432x288 with 1 Axes>"
            ],
            "image/png": "[encoded data removed]"
          },
          "metadata": {}
        }
      ]
    },
    {
      "cell_type": "code",
      "source": [
        "%%sql\n",
        "    SELECT\n",
        "    DEP_DELAY,\n",
        "    APPROX_QUANTILES(ARR_DELAY, 101) arrival_delay,\n",
        "    COUNT(ARR_DELAY) AS numflights\n",
        "FROM\n",
        "    flights_view_\n",
        "GROUP BY\n",
        "    DEP_DELAY\n",
        "ORDER BY DEP_DELAY"
      ],
      "metadata": {
        "colab": {
          "base_uri": "https://localhost:8080/"
        },
        "id": "u0Y9G4BsmsPA",
        "outputId": "d726af95-738e-4314-8565-9bb5d08d0133"
      },
      "execution_count": null,
      "outputs": [
        {
          "output_type": "stream",
          "name": "stdout",
          "text": [
            " * sqlite:///mydb_\n",
            "(sqlite3.OperationalError) no such function: APPROX_QUANTILES\n",
            "[SQL: SELECT\n",
            "    DEP_DELAY,\n",
            "    APPROX_QUANTILES(ARR_DELAY, 101) arrival_delay,\n",
            "    COUNT(ARR_DELAY) AS numflights\n",
            "FROM\n",
            "    flights_view_\n",
            "GROUP BY\n",
            "    DEP_DELAY\n",
            "ORDER BY DEP_DELAY]\n",
            "(Background on this error at: https://sqlalche.me/e/14/e3q8)\n"
          ]
        }
      ]
    },
    {
      "cell_type": "code",
      "source": [
        "import pandas as pd\n",
        "df = pd.read_sql(\"\"\"\n",
        "    SELECT\n",
        "    DEP_DELAY,\n",
        "    APPROX_QUANTILES(ARR_DELAY, 101) AS arrival_delay,\n",
        "    COUNT(ARR_DELAY) AS numflights\n",
        "FROM\n",
        "    flights_view_\n",
        "GROUP BY\n",
        "    DEP_DELAY\n",
        "ORDER BY DEP_DELAY\n",
        "            \n",
        "            \"\"\", con = sqlite3.connect('mydb_'))\n",
        "# return your first five rows\n"
      ],
      "metadata": {
        "id": "RbsKLQQImfPo"
      },
      "execution_count": null,
      "outputs": []
    },
    {
      "cell_type": "code",
      "source": [
        "z=x-mean/s.d\n",
        "x=\n",
        "z*s.d+mean\n",
        "z score for 30% probablity is 0.52"
      ],
      "metadata": {
        "id": "BS77xjGeFWTs"
      },
      "execution_count": null,
      "outputs": []
    },
    {
      "cell_type": "code",
      "source": [
        "df['arr_delay_30'] = (0.52 * df['stddev_arrival_delay']) \\\n",
        "             + df['arrival_delay']\n",
        "x=df['arr_delay_30']\n",
        "x"
      ],
      "metadata": {
        "colab": {
          "base_uri": "https://localhost:8080/"
        },
        "id": "txQIZVSgmG8-",
        "outputId": "ff495d7d-93c5-4a94-dafc-457827da0f27"
      },
      "execution_count": null,
      "outputs": [
        {
          "output_type": "execute_result",
          "data": {
            "text/plain": [
              "0     0.67\n",
              "1   -10.00\n",
              "2     0.00\n",
              "3     2.00\n",
              "4     9.75\n",
              "5     8.00\n",
              "6    52.00\n",
              "7    36.00\n",
              "Name: arr_delay_30, dtype: float64"
            ]
          },
          "metadata": {},
          "execution_count": 245
        }
      ]
    },
    {
      "cell_type": "code",
      "source": [
        "ax = plt.axes()\n",
        "df.plot(kind='line', x='DEP_DELAY', y='arr_delay_30',\n",
        "              ax=ax, ylim=(0,30), xlim=(0,30), legend=False)\n",
        "ax.set_xlabel('Departure Delay (minutes)')\n",
        "ax.set_ylabel('> 30% prob of this\\n Arrival Delay (minutes)');\n",
        "\n",
        "x = np.arange(-30, 30)\n",
        "y = np.ones_like(x) * 15\n",
        "ax.plot(x, y, 'r.');\n",
        "\n",
        "y = np.arange(-30, 30)\n",
        "x = np.ones_like(y) * 13\n",
        "ax.plot(x, y, 'g.');"
      ],
      "metadata": {
        "colab": {
          "base_uri": "https://localhost:8080/",
          "height": 283
        },
        "id": "Gqn-zL1RHZXD",
        "outputId": "c6101edc-9acb-4198-91aa-2f9c1854d4a1"
      },
      "execution_count": null,
      "outputs": [
        {
          "output_type": "display_data",
          "data": {
            "text/plain": [
              "<Figure size 432x288 with 1 Axes>"
            ],
            "image/png": "[encoded data removed]"
          },
          "metadata": {}
        }
      ]
    },
    {
      "cell_type": "code",
      "source": [
        "#if your departure delay is 19 min more tha your 30% likelihood of arrival >15\n",
        "#you will cancel meeting if likelyhood 30 % or more\n",
        "#here data is  normally distributed"
      ],
      "metadata": {
        "id": "jszeIK-YH0j5"
      },
      "execution_count": null,
      "outputs": []
    },
    {
      "cell_type": "code",
      "source": [
        "ax = plt.axes()\n",
        "df.plot(kind='line', x='DEP_DELAY', y='arrival_delay',\n",
        "              ax=ax, ylim=(0,30), xlim=(0,30), legend=False)\n",
        "ax.set_xlabel('Departure Delay (minutes)')\n",
        "ax.set_ylabel('> 30% prob of this\\n Arrival Delay (minutes)');\n",
        "\n",
        "x = np.arange(0, 30)\n",
        "y = np.ones_like(x) * 15\n",
        "ax.plot(x, y, 'r.');\n",
        "\n",
        "y = np.arange(0, 30)\n",
        "x = np.ones_like(y) * 16\n",
        "ax.plot(x, y, 'g.');"
      ],
      "metadata": {
        "colab": {
          "base_uri": "https://localhost:8080/",
          "height": 283
        },
        "id": "oTBOI8qGmTyt",
        "outputId": "9ff22e75-c02c-42a8-826c-76ad6328249d"
      },
      "execution_count": null,
      "outputs": [
        {
          "output_type": "display_data",
          "data": {
            "text/plain": [
              "<Figure size 432x288 with 1 Axes>"
            ],
            "image/png": "[encoded data removed]"
          },
          "metadata": {}
        }
      ]
    },
    {
      "cell_type": "code",
      "source": [
        "%pip freeze"
      ],
      "metadata": {
        "id": "Vk50L_VMB6ia"
      },
      "execution_count": null,
      "outputs": []
    },
    {
      "cell_type": "code",
      "source": [
        "%pip install google-cloud"
      ],
      "metadata": {
        "colab": {
          "base_uri": "https://localhost:8080/"
        },
        "id": "xpB4oIdcCNRf",
        "outputId": "7dd9d698-1634-40b3-cce2-1d6fd51e7dc4"
      },
      "execution_count": null,
      "outputs": [
        {
          "output_type": "stream",
          "name": "stdout",
          "text": [
            "Looking in indexes: https://pypi.org/simple, https://us-python.pkg.dev/colab-wheels/public/simple/\n",
            "Collecting google-cloud\n",
            "  Downloading google_cloud-0.34.0-py2.py3-none-any.whl (1.8 kB)\n",
            "Installing collected packages: google-cloud\n",
            "Successfully installed google-cloud-0.34.0\n"
          ]
        }
      ]
    },
    {
      "cell_type": "code",
      "source": [
        "#test model"
      ],
      "metadata": {
        "colab": {
          "base_uri": "https://localhost:8080/"
        },
        "id": "rhqyUjJFCBRO",
        "outputId": "46ac2850-d505-4c22-f30f-ea8853666e46"
      },
      "execution_count": null,
      "outputs": [
        {
          "output_type": "stream",
          "name": "stderr",
          "text": [
            "\n",
            "ERROR:\n",
            " (\"Failed to retrieve http://metadata.google.internal/computeMetadata/v1/instance/service-accounts/default/?recursive=true from the Google Compute Engine metadata service. Status: 404 Response:\\nb''\", <google.auth.transport.requests._Response object at 0x7faa68640d30>)\n"
          ]
        }
      ]
    },
    {
      "cell_type": "code",
      "source": [
        "#confusion matrix\n",
        "%%sql\n",
        "SELECT\n",
        "  SUM(case when DEP_DELAY < -10  AND arr_delay < 0  then 1 else 0 end ) AS correct_nocancel,\n",
        "  SUM(case when DEP_DELAY < -10  AND arr_delay >= 0  then 1 else 0 end ) AS wrong_nocancel,\n",
        "  SUM(case when DEP_DELAY >= -10  AND arr_delay <0  then 1 else 0 end ) AS wrong_cancel,\n",
        "  SUM(case when DEP_DELAY >= -10  AND arr_delay >= 0  then 1 else 0 end ) AS correct_cancel\n",
        "\n",
        "FROM (\n",
        "  SELECT\n",
        "    DEP_DELAY,\n",
        "    ARR_DELAY\n",
        "  FROM\n",
        "    flights_view_\n",
        "\n",
        " \n",
        ")"
      ],
      "metadata": {
        "colab": {
          "base_uri": "https://localhost:8080/",
          "height": 97
        },
        "id": "F0CREPf0WzsK",
        "outputId": "796f7f75-59c8-4345-d311-b783afce0217"
      },
      "execution_count": null,
      "outputs": [
        {
          "output_type": "stream",
          "name": "stdout",
          "text": [
            " * sqlite:///mydb_\n",
            "Done.\n"
          ]
        },
        {
          "output_type": "execute_result",
          "data": {
            "text/plain": [
              "[(3, 0, 18, 9)]"
            ],
            "text/html": [
              "<table>\n",
              "    <thead>\n",
              "        <tr>\n",
              "            <th>correct_nocancel</th>\n",
              "            <th>wrong_nocancel</th>\n",
              "            <th>wrong_cancel</th>\n",
              "            <th>correct_cancel</th>\n",
              "        </tr>\n",
              "    </thead>\n",
              "    <tbody>\n",
              "        <tr>\n",
              "            <td>3</td>\n",
              "            <td>0</td>\n",
              "            <td>18</td>\n",
              "            <td>9</td>\n",
              "        </tr>\n",
              "    </tbody>\n",
              "</table>"
            ]
          },
          "metadata": {},
          "execution_count": 249
        }
      ]
    },
    {
      "cell_type": "code",
      "source": [
        "import pandas as pd\n",
        "df_eval = pd.read_sql(\"\"\"\n",
        "         SELECT\n",
        "  SUM(case when DEP_DELAY < -10  AND arr_delay < 0  then 1 else 0 end ) AS correct_nocancel,\n",
        "  SUM(case when DEP_DELAY < -10  AND arr_delay >= 0  then 1 else 0 end ) AS wrong_nocancel,\n",
        "  SUM(case when DEP_DELAY >= -10  AND arr_delay <0  then 1 else 0 end ) AS wrong_cancel,\n",
        "  SUM(case when DEP_DELAY >= -10  AND arr_delay >= 0  then 1 else 0 end ) AS correct_cancel\n",
        "\n",
        "FROM (\n",
        "  SELECT\n",
        "    DEP_DELAY,\n",
        "    ARR_DELAY\n",
        "  FROM\n",
        "    flights_view_\n",
        "\n",
        " \n",
        ")\n",
        "            \n",
        "            \"\"\", con = sqlite3.connect('mydb_'))\n",
        "# return your first five rows\n"
      ],
      "metadata": {
        "id": "m2RZc_erYw1N"
      },
      "execution_count": null,
      "outputs": []
    },
    {
      "cell_type": "code",
      "source": [],
      "metadata": {
        "id": "9T-5TOZpkfYb"
      },
      "execution_count": null,
      "outputs": []
    },
    {
      "cell_type": "code",
      "source": [
        "#accuracy\n",
        "print(df_eval['correct_nocancel'] /\n",
        "      (df_eval['correct_nocancel'] + df_eval['wrong_nocancel']))\n",
        "print(df_eval['correct_cancel'] / \n",
        "      (df_eval['correct_cancel'] + df_eval['wrong_cancel']))"
      ],
      "metadata": {
        "colab": {
          "base_uri": "https://localhost:8080/"
        },
        "id": "V0dvBGYhYpIu",
        "outputId": "f65b4fec-0e04-417d-8271-21b8912c7719"
      },
      "execution_count": null,
      "outputs": [
        {
          "output_type": "stream",
          "name": "stdout",
          "text": [
            "0    1.0\n",
            "dtype: float64\n",
            "0    0.333333\n",
            "dtype: float64\n"
          ]
        }
      ]
    },
    {
      "cell_type": "code",
      "source": [
        "import pandas as pd\n",
        "df_eval = pd.read_sql(\"\"\"\n",
        "SELECT DISTANCE, DEP_DELAY\n",
        "FROM flights_view_\n",
        "WHERE RANDOM() < 0.001 AND dep_delay > -20 AND dep_delay < 30 AND distance < 2000\n",
        "\n",
        "            \n",
        "            \"\"\", con = sqlite3.connect('mydb_'))\n",
        "# return your first five rows\n"
      ],
      "metadata": {
        "id": "KSAHFIyXkljd"
      },
      "execution_count": null,
      "outputs": []
    },
    {
      "cell_type": "code",
      "source": [
        "%%sql\n",
        "SELECT DISTANCE, DEP_DELAY\n",
        "FROM flights_view_\n",
        "WHERE RANDOM() < 0.001 AND dep_delay > -20 AND dep_delay < 30 AND distance < 2000\n"
      ],
      "metadata": {
        "colab": {
          "base_uri": "https://localhost:8080/",
          "height": 503
        },
        "id": "plsde0sDkIE1",
        "outputId": "8c1eb255-226e-41bf-e7c1-7e6d104f17b7"
      },
      "execution_count": null,
      "outputs": [
        {
          "output_type": "stream",
          "name": "stdout",
          "text": [
            " * sqlite:///mydb_\n",
            "Done.\n"
          ]
        },
        {
          "output_type": "execute_result",
          "data": {
            "text/plain": [
              "[(692, -4.0),\n",
              " (158, -11.0),\n",
              " (158, 28.0),\n",
              " (1269, -6.0),\n",
              " (1670, -4.0),\n",
              " (580, -1.0),\n",
              " (580, -7.0),\n",
              " (349, 13.0),\n",
              " (349, 6.0),\n",
              " (349, -12.0),\n",
              " (486, 0.0),\n",
              " (677, 2.0),\n",
              " (677, -6.0),\n",
              " (677, -1.0),\n",
              " (718, -6.0),\n",
              " (889, -2.0),\n",
              " (328, 10.0),\n",
              " (328, 1.0),\n",
              " (628, 18.0),\n",
              " (89, -11.0)]"
            ],
            "text/html": [
              "<table>\n",
              "    <thead>\n",
              "        <tr>\n",
              "            <th>DISTANCE</th>\n",
              "            <th>DEP_DELAY</th>\n",
              "        </tr>\n",
              "    </thead>\n",
              "    <tbody>\n",
              "        <tr>\n",
              "            <td>692</td>\n",
              "            <td>-4.0</td>\n",
              "        </tr>\n",
              "        <tr>\n",
              "            <td>158</td>\n",
              "            <td>-11.0</td>\n",
              "        </tr>\n",
              "        <tr>\n",
              "            <td>158</td>\n",
              "            <td>28.0</td>\n",
              "        </tr>\n",
              "        <tr>\n",
              "            <td>1269</td>\n",
              "            <td>-6.0</td>\n",
              "        </tr>\n",
              "        <tr>\n",
              "            <td>1670</td>\n",
              "            <td>-4.0</td>\n",
              "        </tr>\n",
              "        <tr>\n",
              "            <td>580</td>\n",
              "            <td>-1.0</td>\n",
              "        </tr>\n",
              "        <tr>\n",
              "            <td>580</td>\n",
              "            <td>-7.0</td>\n",
              "        </tr>\n",
              "        <tr>\n",
              "            <td>349</td>\n",
              "            <td>13.0</td>\n",
              "        </tr>\n",
              "        <tr>\n",
              "            <td>349</td>\n",
              "            <td>6.0</td>\n",
              "        </tr>\n",
              "        <tr>\n",
              "            <td>349</td>\n",
              "            <td>-12.0</td>\n",
              "        </tr>\n",
              "        <tr>\n",
              "            <td>486</td>\n",
              "            <td>0.0</td>\n",
              "        </tr>\n",
              "        <tr>\n",
              "            <td>677</td>\n",
              "            <td>2.0</td>\n",
              "        </tr>\n",
              "        <tr>\n",
              "            <td>677</td>\n",
              "            <td>-6.0</td>\n",
              "        </tr>\n",
              "        <tr>\n",
              "            <td>677</td>\n",
              "            <td>-1.0</td>\n",
              "        </tr>\n",
              "        <tr>\n",
              "            <td>718</td>\n",
              "            <td>-6.0</td>\n",
              "        </tr>\n",
              "        <tr>\n",
              "            <td>889</td>\n",
              "            <td>-2.0</td>\n",
              "        </tr>\n",
              "        <tr>\n",
              "            <td>328</td>\n",
              "            <td>10.0</td>\n",
              "        </tr>\n",
              "        <tr>\n",
              "            <td>328</td>\n",
              "            <td>1.0</td>\n",
              "        </tr>\n",
              "        <tr>\n",
              "            <td>628</td>\n",
              "            <td>18.0</td>\n",
              "        </tr>\n",
              "        <tr>\n",
              "            <td>89</td>\n",
              "            <td>-11.0</td>\n",
              "        </tr>\n",
              "    </tbody>\n",
              "</table>"
            ]
          },
          "metadata": {},
          "execution_count": 255
        }
      ]
    },
    {
      "cell_type": "code",
      "source": [
        "sns.set_style(\"whitegrid\")\n",
        "g = sns.jointplot(x=df_eval['DISTANCE'], y=df_eval['DEP_DELAY'], kind=\"hex\", height=10, joint_kws={'gridsize':20})"
      ],
      "metadata": {
        "colab": {
          "base_uri": "https://localhost:8080/",
          "height": 729
        },
        "id": "YgB8l-sEkbW8",
        "outputId": "1a2cbbc2-a15e-41bd-a513-1cecb77968a4"
      },
      "execution_count": null,
      "outputs": [
        {
          "output_type": "display_data",
          "data": {
            "text/plain": [
              "<Figure size 720x720 with 3 Axes>"
            ],
            "image/png": "[encoded data removed]"
          },
          "metadata": {}
        }
      ]
    },
    {
      "cell_type": "code",
      "source": [
        "%%sql\n",
        "SELECT\n",
        "  DEP_DELAY, TAXI_OUT, ARR_DELAY, DISTANCE\n",
        "FROM flights_view_ f\n",
        "\n",
        "\n"
      ],
      "metadata": {
        "colab": {
          "base_uri": "https://localhost:8080/",
          "height": 777
        },
        "id": "79J7B5hdluEW",
        "outputId": "23b62c7c-7f60-41ce-ff52-e76b13d06aac"
      },
      "execution_count": 28,
      "outputs": [
        {
          "output_type": "stream",
          "name": "stdout",
          "text": [
            "   sqlite:///mydb_\n",
            " * sqlite:///mydb_1\n",
            "Done.\n"
          ]
        },
        {
          "output_type": "execute_result",
          "data": {
            "text/plain": [
              "[(-5.0, 7.0, -18.0, 692),\n",
              " (-4.0, 12.0, -19.0, 692),\n",
              " (13.0, 11.0, 4.0, 425),\n",
              " (-9.0, 9.0, -19.0, 655),\n",
              " (None, None, None, 158),\n",
              " (-11.0, 8.0, -18.0, 158),\n",
              " (28.0, 6.0, 52.0, 158),\n",
              " (-6.0, 13.0, -12.0, 1269),\n",
              " (-4.0, 14.0, -20.0, 1670),\n",
              " (-1.0, 7.0, -5.0, 580),\n",
              " (-4.0, 13.0, -7.0, 580),\n",
              " (-1.0, 13.0, -1.0, 580),\n",
              " (-7.0, 8.0, -18.0, 580),\n",
              " (13.0, 12.0, 9.0, 349),\n",
              " (6.0, 8.0, 0.0, 349),\n",
              " (-12.0, 13.0, -13.0, 349),\n",
              " (46.0, 11.0, 36.0, 569),\n",
              " (0.0, 7.0, -8.0, 486),\n",
              " (2.0, 19.0, -10.0, 677),\n",
              " (-3.0, 9.0, -7.0, 677),\n",
              " (-6.0, 16.0, -5.0, 677),\n",
              " (-1.0, 10.0, -8.0, 677),\n",
              " (-6.0, 14.0, 6.0, 718),\n",
              " (-2.0, 6.0, -14.0, 889),\n",
              " (1.0, 8.0, -2.0, 1111),\n",
              " (10.0, 6.0, 2.0, 328),\n",
              " (None, None, None, 328),\n",
              " (-3.0, 5.0, -13.0, 328),\n",
              " (1.0, 8.0, 1.0, 328),\n",
              " (18.0, 9.0, 8.0, 628),\n",
              " (-8.0, 10.0, -10.0, 628),\n",
              " (-11.0, 9.0, -17.0, 89)]"
            ],
            "text/html": [
              "<table>\n",
              "    <thead>\n",
              "        <tr>\n",
              "            <th>DEP_DELAY</th>\n",
              "            <th>TAXI_OUT</th>\n",
              "            <th>ARR_DELAY</th>\n",
              "            <th>DISTANCE</th>\n",
              "        </tr>\n",
              "    </thead>\n",
              "    <tbody>\n",
              "        <tr>\n",
              "            <td>-5.0</td>\n",
              "            <td>7.0</td>\n",
              "            <td>-18.0</td>\n",
              "            <td>692</td>\n",
              "        </tr>\n",
              "        <tr>\n",
              "            <td>-4.0</td>\n",
              "            <td>12.0</td>\n",
              "            <td>-19.0</td>\n",
              "            <td>692</td>\n",
              "        </tr>\n",
              "        <tr>\n",
              "            <td>13.0</td>\n",
              "            <td>11.0</td>\n",
              "            <td>4.0</td>\n",
              "            <td>425</td>\n",
              "        </tr>\n",
              "        <tr>\n",
              "            <td>-9.0</td>\n",
              "            <td>9.0</td>\n",
              "            <td>-19.0</td>\n",
              "            <td>655</td>\n",
              "        </tr>\n",
              "        <tr>\n",
              "            <td>None</td>\n",
              "            <td>None</td>\n",
              "            <td>None</td>\n",
              "            <td>158</td>\n",
              "        </tr>\n",
              "        <tr>\n",
              "            <td>-11.0</td>\n",
              "            <td>8.0</td>\n",
              "            <td>-18.0</td>\n",
              "            <td>158</td>\n",
              "        </tr>\n",
              "        <tr>\n",
              "            <td>28.0</td>\n",
              "            <td>6.0</td>\n",
              "            <td>52.0</td>\n",
              "            <td>158</td>\n",
              "        </tr>\n",
              "        <tr>\n",
              "            <td>-6.0</td>\n",
              "            <td>13.0</td>\n",
              "            <td>-12.0</td>\n",
              "            <td>1269</td>\n",
              "        </tr>\n",
              "        <tr>\n",
              "            <td>-4.0</td>\n",
              "            <td>14.0</td>\n",
              "            <td>-20.0</td>\n",
              "            <td>1670</td>\n",
              "        </tr>\n",
              "        <tr>\n",
              "            <td>-1.0</td>\n",
              "            <td>7.0</td>\n",
              "            <td>-5.0</td>\n",
              "            <td>580</td>\n",
              "        </tr>\n",
              "        <tr>\n",
              "            <td>-4.0</td>\n",
              "            <td>13.0</td>\n",
              "            <td>-7.0</td>\n",
              "            <td>580</td>\n",
              "        </tr>\n",
              "        <tr>\n",
              "            <td>-1.0</td>\n",
              "            <td>13.0</td>\n",
              "            <td>-1.0</td>\n",
              "            <td>580</td>\n",
              "        </tr>\n",
              "        <tr>\n",
              "            <td>-7.0</td>\n",
              "            <td>8.0</td>\n",
              "            <td>-18.0</td>\n",
              "            <td>580</td>\n",
              "        </tr>\n",
              "        <tr>\n",
              "            <td>13.0</td>\n",
              "            <td>12.0</td>\n",
              "            <td>9.0</td>\n",
              "            <td>349</td>\n",
              "        </tr>\n",
              "        <tr>\n",
              "            <td>6.0</td>\n",
              "            <td>8.0</td>\n",
              "            <td>0.0</td>\n",
              "            <td>349</td>\n",
              "        </tr>\n",
              "        <tr>\n",
              "            <td>-12.0</td>\n",
              "            <td>13.0</td>\n",
              "            <td>-13.0</td>\n",
              "            <td>349</td>\n",
              "        </tr>\n",
              "        <tr>\n",
              "            <td>46.0</td>\n",
              "            <td>11.0</td>\n",
              "            <td>36.0</td>\n",
              "            <td>569</td>\n",
              "        </tr>\n",
              "        <tr>\n",
              "            <td>0.0</td>\n",
              "            <td>7.0</td>\n",
              "            <td>-8.0</td>\n",
              "            <td>486</td>\n",
              "        </tr>\n",
              "        <tr>\n",
              "            <td>2.0</td>\n",
              "            <td>19.0</td>\n",
              "            <td>-10.0</td>\n",
              "            <td>677</td>\n",
              "        </tr>\n",
              "        <tr>\n",
              "            <td>-3.0</td>\n",
              "            <td>9.0</td>\n",
              "            <td>-7.0</td>\n",
              "            <td>677</td>\n",
              "        </tr>\n",
              "        <tr>\n",
              "            <td>-6.0</td>\n",
              "            <td>16.0</td>\n",
              "            <td>-5.0</td>\n",
              "            <td>677</td>\n",
              "        </tr>\n",
              "        <tr>\n",
              "            <td>-1.0</td>\n",
              "            <td>10.0</td>\n",
              "            <td>-8.0</td>\n",
              "            <td>677</td>\n",
              "        </tr>\n",
              "        <tr>\n",
              "            <td>-6.0</td>\n",
              "            <td>14.0</td>\n",
              "            <td>6.0</td>\n",
              "            <td>718</td>\n",
              "        </tr>\n",
              "        <tr>\n",
              "            <td>-2.0</td>\n",
              "            <td>6.0</td>\n",
              "            <td>-14.0</td>\n",
              "            <td>889</td>\n",
              "        </tr>\n",
              "        <tr>\n",
              "            <td>1.0</td>\n",
              "            <td>8.0</td>\n",
              "            <td>-2.0</td>\n",
              "            <td>1111</td>\n",
              "        </tr>\n",
              "        <tr>\n",
              "            <td>10.0</td>\n",
              "            <td>6.0</td>\n",
              "            <td>2.0</td>\n",
              "            <td>328</td>\n",
              "        </tr>\n",
              "        <tr>\n",
              "            <td>None</td>\n",
              "            <td>None</td>\n",
              "            <td>None</td>\n",
              "            <td>328</td>\n",
              "        </tr>\n",
              "        <tr>\n",
              "            <td>-3.0</td>\n",
              "            <td>5.0</td>\n",
              "            <td>-13.0</td>\n",
              "            <td>328</td>\n",
              "        </tr>\n",
              "        <tr>\n",
              "            <td>1.0</td>\n",
              "            <td>8.0</td>\n",
              "            <td>1.0</td>\n",
              "            <td>328</td>\n",
              "        </tr>\n",
              "        <tr>\n",
              "            <td>18.0</td>\n",
              "            <td>9.0</td>\n",
              "            <td>8.0</td>\n",
              "            <td>628</td>\n",
              "        </tr>\n",
              "        <tr>\n",
              "            <td>-8.0</td>\n",
              "            <td>10.0</td>\n",
              "            <td>-10.0</td>\n",
              "            <td>628</td>\n",
              "        </tr>\n",
              "        <tr>\n",
              "            <td>-11.0</td>\n",
              "            <td>9.0</td>\n",
              "            <td>-17.0</td>\n",
              "            <td>89</td>\n",
              "        </tr>\n",
              "    </tbody>\n",
              "</table>"
            ]
          },
          "metadata": {},
          "execution_count": 28
        }
      ]
    },
    {
      "cell_type": "code",
      "source": [
        "from pyspark.sql.functions import *\n",
        "from pyspark.mllib.classification import LogisticRegressionWithLBFGS\n",
        "from pyspark.mllib.regression import *\n",
        "from numpy import nan\n",
        "\n",
        "def to_example(fields):\n",
        "    x=LabeledPoint(\\\n",
        "              float(fields['ARR_DELAY'] < 15), #ontime? \\\n",
        "              [ \\\n",
        "                  fields['DEP_DELAY'], \\\n",
        "                  fields['TAXI_OUT'],  \\\n",
        "                  fields['DISTANCE'],  \\\n",
        "              ])\n",
        "    \n",
        "    return x\n"
      ],
      "metadata": {
        "id": "w8_0G5ZAm5X-"
      },
      "execution_count": 102,
      "outputs": []
    },
    {
      "cell_type": "code",
      "source": [
        "sparkAirportsDF=spark.createDataFrame(airports)\n",
        "sparkFlightDF=spark.createDataFrame(flight).dropna()\n",
        "sparkFlightDF.show()"
      ],
      "metadata": {
        "colab": {
          "base_uri": "https://localhost:8080/"
        },
        "id": "lKUT5OH9nUMy",
        "outputId": "f652a3ac-28d8-4ab6-ae08-fca51b716a0b"
      },
      "execution_count": 117,
      "outputs": [
        {
          "output_type": "stream",
          "name": "stdout",
          "text": [
            "+----------+--------------+---------------------+------+-------------------+----+------------+-------------------+---------+--------+----------+---------+-------+------------+-------------------+---------+---------+--------+--------+\n",
            "|   FL_DATE|UNIQUE_CARRIER|ORIGIN_AIRPORT_SEQ_ID|ORIGIN|DEST_AIRPORT_SEQ_ID|DEST|CRS_DEP_TIME|           DEP_TIME|DEP_DELAY|TAXI_OUT|WHEELS_OFF|WHEELS_ON|TAXI_IN|CRS_ARR_TIME|           ARR_TIME|ARR_DELAY|CANCELLED|DIVERTED|DISTANCE|\n",
            "+----------+--------------+---------------------+------+-------------------+----+------------+-------------------+---------+--------+----------+---------+-------+------------+-------------------+---------+---------+--------+--------+\n",
            "|2015-04-28|            EV|              1000101|   ABE|            1000101| ATL|        1600|1970-01-01 00:25:55|     -5.0|     7.0|      1602|     1747|    4.0|        1809|1970-01-01 00:29:11|    -18.0|    false|   false|     692|\n",
            "|2015-11-05|            DL|              1000101|   ABE|            1000101| ATL|         600|1970-01-01 00:09:16|     -4.0|    12.0|      0608|     0749|   10.0|         818|1970-01-01 00:12:39|    -19.0|    false|   false|     692|\n",
            "|2015-08-25|            EV|              1013503|   ABE|            1143302| DTW|        1726|1970-01-01 00:28:59|     13.0|    11.0|      1750|     1906|    3.0|        1905|1970-01-01 00:31:49|      4.0|    false|   false|     425|\n",
            "|2015-12-17|            EV|              1013503|   ABE|            1393004| ORD|         651|1970-01-01 00:10:42|     -9.0|     9.0|      0651|     0743|    9.0|         811|1970-01-01 00:12:32|    -19.0|    false|   false|     655|\n",
            "|2015-08-08|            MQ|              1013603|   ABI|            1129804| DFW|        1508|1970-01-01 00:24:17|    -11.0|     8.0|      1505|     1538|    7.0|        1603|1970-01-01 00:25:45|    -18.0|    false|   false|     158|\n",
            "|2015-07-23|            MQ|              1013603|   ABI|            1129804| DFW|        1823|1970-01-01 00:30:51|     28.0|     6.0|      1857|     1931|   45.0|        1924|1970-01-01 00:33:36|     52.0|    false|   false|     158|\n",
            "|2015-02-01|            DL|              1014003|   ABQ|            1039705| ATL|        1318|1970-01-01 00:21:52|     -6.0|    13.0|      1325|     1748|   14.0|        1814|1970-01-01 00:30:02|    -12.0|    false|   false|    1269|\n",
            "|2015-04-25|            WN|              1014003|   ABQ|            1082103| BWI|        1125|1970-01-01 00:18:41|     -4.0|    14.0|      1135|     1644|    6.0|        1710|1970-01-01 00:27:30|    -20.0|    false|   false|    1670|\n",
            "|2015-03-27|            WN|              1014003|   ABQ|            1125903| DAL|        1920|1970-01-01 00:31:59|     -1.0|     7.0|      1926|     2146|    4.0|        2155|1970-01-01 00:35:50|     -5.0|    false|   false|     580|\n",
            "|2015-06-14|            WN|              1014003|   ABQ|            1125903| DAL|         535|1970-01-01 00:08:51|     -4.0|    13.0|      0544|     0806|    2.0|         815|1970-01-01 00:13:28|     -7.0|    false|   false|     580|\n",
            "|2015-03-27|            WN|              1014003|   ABQ|            1125903| DAL|         600|1970-01-01 00:09:19|     -1.0|    13.0|      0612|     0830|    4.0|         835|1970-01-01 00:13:54|     -1.0|    false|   false|     580|\n",
            "|2015-02-22|            WN|              1014003|   ABQ|            1125903| DAL|         800|1970-01-01 00:12:33|     -7.0|     8.0|      0801|     1017|    5.0|        1040|1970-01-01 00:17:02|    -18.0|    false|   false|     580|\n",
            "|2015-08-26|            OO|              1014003|   ABQ|            1129202| DEN|        1741|1970-01-01 00:29:14|     13.0|    12.0|      1806|     1905|    9.0|        1905|1970-01-01 00:31:54|      9.0|    false|   false|     349|\n",
            "|2015-12-01|            WN|              1014003|   ABQ|            1129202| DEN|        1710|1970-01-01 00:28:36|      6.0|     8.0|      1724|     1820|    5.0|        1825|1970-01-01 00:30:25|      0.0|    false|   false|     349|\n",
            "|2015-04-13|            OO|              1014003|   ABQ|            1129202| DEN|        1940|1970-01-01 00:32:08|    -12.0|    13.0|      1941|     2040|    8.0|        2101|1970-01-01 00:34:08|    -13.0|    false|   false|     349|\n",
            "|2015-11-03|            AA|              1014003|   ABQ|            1129804| DFW|         800|1970-01-01 00:14:06|     46.0|    11.0|      0857|     1115|   12.0|        1051|1970-01-01 00:18:47|     36.0|    false|   false|     569|\n",
            "|2015-10-03|            WN|              1014003|   ABQ|            1288903| LAS|        1205|1970-01-01 00:20:05|      0.0|     7.0|      1212|     1227|    5.0|        1240|1970-01-01 00:20:32|     -8.0|    false|   false|     486|\n",
            "|2015-01-05|            OO|              1014003|   ABQ|            1289203| LAX|        1235|1970-01-01 00:20:37|      2.0|    19.0|      1256|     1328|    7.0|        1345|1970-01-01 00:22:15|    -10.0|    false|   false|     677|\n",
            "|2015-09-06|            WN|              1014003|   ABQ|            1289203| LAX|        1100|1970-01-01 00:17:37|     -3.0|     9.0|      1106|     1142|   11.0|        1200|1970-01-01 00:19:13|     -7.0|    false|   false|     677|\n",
            "|2015-06-14|            OO|              1014003|   ABQ|            1289203| LAX|         605|1970-01-01 00:09:19|     -6.0|    16.0|      0615|     0649|    7.0|         701|1970-01-01 00:10:56|     -5.0|    false|   false|     677|\n",
            "+----------+--------------+---------------------+------+-------------------+----+------------+-------------------+---------+--------+----------+---------+-------+------------+-------------------+---------+---------+--------+--------+\n",
            "only showing top 20 rows\n",
            "\n"
          ]
        }
      ]
    },
    {
      "cell_type": "code",
      "source": [
        "examples = sparkFlightDF.rdd.map(to_example)\n"
      ],
      "metadata": {
        "id": "1fheYoE9m8e0"
      },
      "execution_count": 118,
      "outputs": []
    },
    {
      "cell_type": "code",
      "source": [
        "examples.collect()"
      ],
      "metadata": {
        "colab": {
          "base_uri": "https://localhost:8080/"
        },
        "id": "LyQCfI3QnZCY",
        "outputId": "ab9a45f5-5a8e-48d8-87cc-4525c5640c3b"
      },
      "execution_count": 121,
      "outputs": [
        {
          "output_type": "execute_result",
          "data": {
            "text/plain": [
              "[LabeledPoint(1.0, [-5.0,7.0,692.0]),\n",
              " LabeledPoint(1.0, [-4.0,12.0,692.0]),\n",
              " LabeledPoint(1.0, [13.0,11.0,425.0]),\n",
              " LabeledPoint(1.0, [-9.0,9.0,655.0]),\n",
              " LabeledPoint(1.0, [-11.0,8.0,158.0]),\n",
              " LabeledPoint(0.0, [28.0,6.0,158.0]),\n",
              " LabeledPoint(1.0, [-6.0,13.0,1269.0]),\n",
              " LabeledPoint(1.0, [-4.0,14.0,1670.0]),\n",
              " LabeledPoint(1.0, [-1.0,7.0,580.0]),\n",
              " LabeledPoint(1.0, [-4.0,13.0,580.0]),\n",
              " LabeledPoint(1.0, [-1.0,13.0,580.0]),\n",
              " LabeledPoint(1.0, [-7.0,8.0,580.0]),\n",
              " LabeledPoint(1.0, [13.0,12.0,349.0]),\n",
              " LabeledPoint(1.0, [6.0,8.0,349.0]),\n",
              " LabeledPoint(1.0, [-12.0,13.0,349.0]),\n",
              " LabeledPoint(0.0, [46.0,11.0,569.0]),\n",
              " LabeledPoint(1.0, [0.0,7.0,486.0]),\n",
              " LabeledPoint(1.0, [2.0,19.0,677.0]),\n",
              " LabeledPoint(1.0, [-3.0,9.0,677.0]),\n",
              " LabeledPoint(1.0, [-6.0,16.0,677.0]),\n",
              " LabeledPoint(1.0, [-1.0,10.0,677.0]),\n",
              " LabeledPoint(1.0, [-6.0,14.0,718.0]),\n",
              " LabeledPoint(1.0, [-2.0,6.0,889.0]),\n",
              " LabeledPoint(1.0, [1.0,8.0,1111.0]),\n",
              " LabeledPoint(1.0, [10.0,6.0,328.0]),\n",
              " LabeledPoint(1.0, [-3.0,5.0,328.0]),\n",
              " LabeledPoint(1.0, [1.0,8.0,328.0]),\n",
              " LabeledPoint(1.0, [18.0,9.0,628.0]),\n",
              " LabeledPoint(1.0, [-8.0,10.0,628.0]),\n",
              " LabeledPoint(1.0, [-11.0,9.0,89.0])]"
            ]
          },
          "metadata": {},
          "execution_count": 121
        }
      ]
    },
    {
      "cell_type": "code",
      "source": [
        "lrmodel = LogisticRegressionWithLBFGS.train(examples, intercept=True)\n",
        "print(lrmodel.weights,lrmodel.intercept)"
      ],
      "metadata": {
        "colab": {
          "base_uri": "https://localhost:8080/"
        },
        "id": "1SgESvA-pYVS",
        "outputId": "1706e849-aa55-4294-c168-20e8c512a6d3"
      },
      "execution_count": 119,
      "outputs": [
        {
          "output_type": "stream",
          "name": "stdout",
          "text": [
            "[-1.4363246455522227,0.7935737699997595,0.03366898276827616] 14.355718792905023\n"
          ]
        }
      ]
    },
    {
      "cell_type": "code",
      "source": [
        "import numpy as np\n",
        "\n",
        "np.arange(10,2000,10)"
      ],
      "metadata": {
        "colab": {
          "base_uri": "https://localhost:8080/"
        },
        "id": "C_M35rOUr3wm",
        "outputId": "1caf44f2-d634-48a0-cfa2-ba158a24b821"
      },
      "execution_count": 100,
      "outputs": [
        {
          "output_type": "execute_result",
          "data": {
            "text/plain": [
              "array([  10,   20,   30,   40,   50,   60,   70,   80,   90,  100,  110,\n",
              "        120,  130,  140,  150,  160,  170,  180,  190,  200,  210,  220,\n",
              "        230,  240,  250,  260,  270,  280,  290,  300,  310,  320,  330,\n",
              "        340,  350,  360,  370,  380,  390,  400,  410,  420,  430,  440,\n",
              "        450,  460,  470,  480,  490,  500,  510,  520,  530,  540,  550,\n",
              "        560,  570,  580,  590,  600,  610,  620,  630,  640,  650,  660,\n",
              "        670,  680,  690,  700,  710,  720,  730,  740,  750,  760,  770,\n",
              "        780,  790,  800,  810,  820,  830,  840,  850,  860,  870,  880,\n",
              "        890,  900,  910,  920,  930,  940,  950,  960,  970,  980,  990,\n",
              "       1000, 1010, 1020, 1030, 1040, 1050, 1060, 1070, 1080, 1090, 1100,\n",
              "       1110, 1120, 1130, 1140, 1150, 1160, 1170, 1180, 1190, 1200, 1210,\n",
              "       1220, 1230, 1240, 1250, 1260, 1270, 1280, 1290, 1300, 1310, 1320,\n",
              "       1330, 1340, 1350, 1360, 1370, 1380, 1390, 1400, 1410, 1420, 1430,\n",
              "       1440, 1450, 1460, 1470, 1480, 1490, 1500, 1510, 1520, 1530, 1540,\n",
              "       1550, 1560, 1570, 1580, 1590, 1600, 1610, 1620, 1630, 1640, 1650,\n",
              "       1660, 1670, 1680, 1690, 1700, 1710, 1720, 1730, 1740, 1750, 1760,\n",
              "       1770, 1780, 1790, 1800, 1810, 1820, 1830, 1840, 1850, 1860, 1870,\n",
              "       1880, 1890, 1900, 1910, 1920, 1930, 1940, 1950, 1960, 1970, 1980,\n",
              "       1990])"
            ]
          },
          "metadata": {},
          "execution_count": 100
        }
      ]
    },
    {
      "cell_type": "code",
      "source": [
        "print(lrmodel.predict([6.0,12.0,594.0]))\n",
        "print(lrmodel.predict([36.0,12.0,594.0]))"
      ],
      "metadata": {
        "colab": {
          "base_uri": "https://localhost:8080/"
        },
        "id": "hMPHye8V93q6",
        "outputId": "a4792ef5-e48a-4c58-adb9-46475d88975e"
      },
      "execution_count": 122,
      "outputs": [
        {
          "output_type": "stream",
          "name": "stdout",
          "text": [
            "1\n",
            "0\n"
          ]
        }
      ]
    },
    {
      "cell_type": "code",
      "source": [
        "\n",
        "lrmodel.setThreshold(0.7)"
      ],
      "metadata": {
        "id": "g9qfhylK9-Ro"
      },
      "execution_count": 124,
      "outputs": []
    },
    {
      "cell_type": "code",
      "source": [
        "print(lrmodel.predict([8.0,4.0,594.0]))"
      ],
      "metadata": {
        "colab": {
          "base_uri": "https://localhost:8080/"
        },
        "id": "5NSQUi1d-KBQ",
        "outputId": "62bda02b-c474-42cb-9ee7-e6465b57774c"
      },
      "execution_count": 125,
      "outputs": [
        {
          "output_type": "stream",
          "name": "stdout",
          "text": [
            "1\n"
          ]
        }
      ]
    },
    {
      "cell_type": "code",
      "source": [
        "print(lrmodel.predict([20, 10, 500]))"
      ],
      "metadata": {
        "colab": {
          "base_uri": "https://localhost:8080/"
        },
        "id": "3Onw3I-u-ROj",
        "outputId": "4a6a783a-6fd1-4c83-cf62-c6f89e621f02"
      },
      "execution_count": 126,
      "outputs": [
        {
          "output_type": "stream",
          "name": "stdout",
          "text": [
            "1\n"
          ]
        }
      ]
    },
    {
      "cell_type": "code",
      "source": [
        "import matplotlib.pyplot as plt\n",
        "import seaborn as sns\n",
        "import pandas as pd\n",
        "import numpy as np\n",
        "dist = np.arange(10, 2000, 10)\n",
        "prob = [lrmodel.predict([20, 10, d]) for d in dist]\n",
        "sns.set_style(\"whitegrid\")\n",
        "ax = plt.plot(dist, prob)\n",
        "plt.xlabel('distance (miles)')\n",
        "plt.ylabel('probability of ontime arrival')"
      ],
      "metadata": {
        "colab": {
          "base_uri": "https://localhost:8080/",
          "height": 297
        },
        "id": "3rMTzuAP-VMU",
        "outputId": "71352ec8-3c7a-41de-e471-db59b693b632"
      },
      "execution_count": 127,
      "outputs": [
        {
          "output_type": "execute_result",
          "data": {
            "text/plain": [
              "Text(0, 0.5, 'probability of ontime arrival')"
            ]
          },
          "metadata": {},
          "execution_count": 127
        },
        {
          "output_type": "display_data",
          "data": {
            "text/plain": [
              "<Figure size 432x288 with 1 Axes>"
            ],
            "image/png": "[encoded data removed]"
          },
          "metadata": {}
        }
      ]
    },
    {
      "cell_type": "code",
      "source": [
        "delay = np.arange(-20, 60, 1)\n",
        "prob = [lrmodel.predict([d, 10, 500]) for d in delay]\n",
        "ax = plt.plot(delay, prob)\n",
        "plt.xlabel('departure delay (minutes)')\n",
        "plt.ylabel('probability of ontime arrival')\n"
      ],
      "metadata": {
        "colab": {
          "base_uri": "https://localhost:8080/",
          "height": 297
        },
        "id": "X4r1DomH-mx3",
        "outputId": "55860683-9386-4291-9e86-ea01160f3fe7"
      },
      "execution_count": 128,
      "outputs": [
        {
          "output_type": "execute_result",
          "data": {
            "text/plain": [
              "Text(0, 0.5, 'probability of ontime arrival')"
            ]
          },
          "metadata": {},
          "execution_count": 128
        },
        {
          "output_type": "display_data",
          "data": {
            "text/plain": [
              "<Figure size 432x288 with 1 Axes>"
            ],
            "image/png": "[encoded data removed]"
          },
          "metadata": {}
        }
      ]
    },
    {
      "cell_type": "code",
      "source": [
        "def eval(labelpred):\n",
        "    ''' \n",
        "        data = (label, pred)\n",
        "            data[0] = label\n",
        "            data[1] = pred\n",
        "    '''\n",
        "    cancel = labelpred.filter(lambda data: data[1] < 0.7)\n",
        "    nocancel = labelpred.filter(lambda data: data[1] >= 0.7)\n",
        "    corr_cancel = cancel.filter(lambda data: data[0] == int(data[1] >= 0.7)).count()\n",
        "    corr_nocancel = nocancel.filter(lambda data: data[0] == int(data[1] >= 0.7)).count()\n",
        "    \n",
        "    cancel_denom = cancel.count()\n",
        "    nocancel_denom = nocancel.count()\n",
        "    if cancel_denom == 0:\n",
        "        cancel_denom = 1\n",
        "    if nocancel_denom == 0:\n",
        "        nocancel_denom = 1\n",
        "    return {'total_cancel': cancel.count(), \\\n",
        "            'correct_cancel': float(corr_cancel)/cancel_denom, \\\n",
        "            'total_noncancel': nocancel.count(), \\\n",
        "            'correct_noncancel': float(corr_nocancel)/nocancel_denom \\\n",
        "           }\n"
      ],
      "metadata": {
        "id": "s11rTOl9-mw5"
      },
      "execution_count": 129,
      "outputs": []
    },
    {
      "cell_type": "code",
      "source": [
        "lrmodel.clearThreshold() # so it returns probabilities\n",
        "labelpred = examples.map(lambda p: (p.label, lrmodel.predict(p.features)))\n",
        "\n",
        "print('All flights:')\n",
        "print(labelpred.collect())\n",
        "print(eval(labelpred))\n",
        "\n",
        "# keep only those examples near the decision threshold\n",
        "print('Flights near decision threshold:')\n",
        "labelpred = labelpred.filter(lambda data: data[1] > 0.65 and data[1] < 0.75)\n",
        "print(eval(labelpred))"
      ],
      "metadata": {
        "colab": {
          "base_uri": "https://localhost:8080/"
        },
        "id": "dEdoP3hJ-2Hi",
        "outputId": "1a47799b-0624-45ae-d36f-9942aa35f6be"
      },
      "execution_count": 132,
      "outputs": [
        {
          "output_type": "stream",
          "name": "stdout",
          "text": [
            "All flights:\n",
            "[(1.0, 1.0), (1.0, 1.0), (1.0, 0.9999999926025283), (1.0, 1.0), (1.0, 1.0), (0.0, 1.4019528052397697e-07), (1.0, 1.0), (1.0, 1.0), (1.0, 1.0), (1.0, 1.0), (1.0, 1.0), (1.0, 1.0), (1.0, 0.9999999567755128), (1.0, 0.999999999955558), (1.0, 1.0), (0.0, 4.482512815673165e-11), (1.0, 0.9999999999999998), (1.0, 1.0), (1.0, 1.0), (1.0, 1.0), (1.0, 1.0), (1.0, 1.0), (1.0, 1.0), (1.0, 1.0), (1.0, 0.9999998621833203), (1.0, 0.9999999999999976), (1.0, 0.9999999999999314), (1.0, 0.999999948832452), (1.0, 1.0), (1.0, 1.0)]\n",
            "{'total_cancel': 2, 'correct_cancel': 1.0, 'total_noncancel': 28, 'correct_noncancel': 1.0}\n",
            "Flights near decision threshold:\n",
            "{'total_cancel': 0, 'correct_cancel': 0.0, 'total_noncancel': 0, 'correct_noncancel': 0.0}\n"
          ]
        }
      ]
    },
    {
      "cell_type": "code",
      "source": [
        "distthresh = sparkFlightDF.approxQuantile('distance', list(np.arange(0, 1.0, 0.2)), 0.02)\n",
        "distthresh[-1] = float('inf')\n",
        "distthresh"
      ],
      "metadata": {
        "colab": {
          "base_uri": "https://localhost:8080/"
        },
        "id": "On50bbBGEvsD",
        "outputId": "0c5c4548-c4d0-4ed0-881c-32f19e7f0ba3"
      },
      "execution_count": 135,
      "outputs": [
        {
          "output_type": "execute_result",
          "data": {
            "text/plain": [
              "[89.0, 328.0, 486.0, 628.0, inf]"
            ]
          },
          "metadata": {},
          "execution_count": 135
        }
      ]
    },
    {
      "cell_type": "code",
      "source": [
        "delaythresh = sparkFlightDF.approxQuantile('dep_delay', list(np.arange(0, 1.0, 0.2)), 0.05)\n",
        "delaythresh[-1] = float('inf')\n",
        "delaythresh"
      ],
      "metadata": {
        "colab": {
          "base_uri": "https://localhost:8080/"
        },
        "id": "7b1HCxuhE5Jk",
        "outputId": "e35cf3f3-188d-4557-a101-814a7032b57d"
      },
      "execution_count": 137,
      "outputs": [
        {
          "output_type": "execute_result",
          "data": {
            "text/plain": [
              "[-12.0, -8.0, -4.0, -1.0, inf]"
            ]
          },
          "metadata": {},
          "execution_count": 137
        }
      ]
    },
    {
      "cell_type": "code",
      "source": [
        "from pyspark.sql.functions import *\n",
        "sparkFlightDF=sparkFlightDF.withColumn(\"ontime\",when(col(\"ARR_DELAY\")<0,\"True\").when(col(\"DEP_DELAY\")>0,\"True\").otherwise(\"false\") )\n",
        "sparkFlightDF.show()"
      ],
      "metadata": {
        "colab": {
          "base_uri": "https://localhost:8080/"
        },
        "id": "-q3OlXixFQLy",
        "outputId": "91a17d8d-c201-40da-8670-06ac6cb68454"
      },
      "execution_count": 140,
      "outputs": [
        {
          "output_type": "stream",
          "name": "stdout",
          "text": [
            "+----------+--------------+---------------------+------+-------------------+----+------------+-------------------+---------+--------+----------+---------+-------+------------+-------------------+---------+---------+--------+--------+------+\n",
            "|   FL_DATE|UNIQUE_CARRIER|ORIGIN_AIRPORT_SEQ_ID|ORIGIN|DEST_AIRPORT_SEQ_ID|DEST|CRS_DEP_TIME|           DEP_TIME|DEP_DELAY|TAXI_OUT|WHEELS_OFF|WHEELS_ON|TAXI_IN|CRS_ARR_TIME|           ARR_TIME|ARR_DELAY|CANCELLED|DIVERTED|DISTANCE|ontime|\n",
            "+----------+--------------+---------------------+------+-------------------+----+------------+-------------------+---------+--------+----------+---------+-------+------------+-------------------+---------+---------+--------+--------+------+\n",
            "|2015-04-28|            EV|              1000101|   ABE|            1000101| ATL|        1600|1970-01-01 00:25:55|     -5.0|     7.0|      1602|     1747|    4.0|        1809|1970-01-01 00:29:11|    -18.0|    false|   false|     692|  True|\n",
            "|2015-11-05|            DL|              1000101|   ABE|            1000101| ATL|         600|1970-01-01 00:09:16|     -4.0|    12.0|      0608|     0749|   10.0|         818|1970-01-01 00:12:39|    -19.0|    false|   false|     692|  True|\n",
            "|2015-08-25|            EV|              1013503|   ABE|            1143302| DTW|        1726|1970-01-01 00:28:59|     13.0|    11.0|      1750|     1906|    3.0|        1905|1970-01-01 00:31:49|      4.0|    false|   false|     425|  True|\n",
            "|2015-12-17|            EV|              1013503|   ABE|            1393004| ORD|         651|1970-01-01 00:10:42|     -9.0|     9.0|      0651|     0743|    9.0|         811|1970-01-01 00:12:32|    -19.0|    false|   false|     655|  True|\n",
            "|2015-08-08|            MQ|              1013603|   ABI|            1129804| DFW|        1508|1970-01-01 00:24:17|    -11.0|     8.0|      1505|     1538|    7.0|        1603|1970-01-01 00:25:45|    -18.0|    false|   false|     158|  True|\n",
            "|2015-07-23|            MQ|              1013603|   ABI|            1129804| DFW|        1823|1970-01-01 00:30:51|     28.0|     6.0|      1857|     1931|   45.0|        1924|1970-01-01 00:33:36|     52.0|    false|   false|     158|  True|\n",
            "|2015-02-01|            DL|              1014003|   ABQ|            1039705| ATL|        1318|1970-01-01 00:21:52|     -6.0|    13.0|      1325|     1748|   14.0|        1814|1970-01-01 00:30:02|    -12.0|    false|   false|    1269|  True|\n",
            "|2015-04-25|            WN|              1014003|   ABQ|            1082103| BWI|        1125|1970-01-01 00:18:41|     -4.0|    14.0|      1135|     1644|    6.0|        1710|1970-01-01 00:27:30|    -20.0|    false|   false|    1670|  True|\n",
            "|2015-03-27|            WN|              1014003|   ABQ|            1125903| DAL|        1920|1970-01-01 00:31:59|     -1.0|     7.0|      1926|     2146|    4.0|        2155|1970-01-01 00:35:50|     -5.0|    false|   false|     580|  True|\n",
            "|2015-06-14|            WN|              1014003|   ABQ|            1125903| DAL|         535|1970-01-01 00:08:51|     -4.0|    13.0|      0544|     0806|    2.0|         815|1970-01-01 00:13:28|     -7.0|    false|   false|     580|  True|\n",
            "|2015-03-27|            WN|              1014003|   ABQ|            1125903| DAL|         600|1970-01-01 00:09:19|     -1.0|    13.0|      0612|     0830|    4.0|         835|1970-01-01 00:13:54|     -1.0|    false|   false|     580|  True|\n",
            "|2015-02-22|            WN|              1014003|   ABQ|            1125903| DAL|         800|1970-01-01 00:12:33|     -7.0|     8.0|      0801|     1017|    5.0|        1040|1970-01-01 00:17:02|    -18.0|    false|   false|     580|  True|\n",
            "|2015-08-26|            OO|              1014003|   ABQ|            1129202| DEN|        1741|1970-01-01 00:29:14|     13.0|    12.0|      1806|     1905|    9.0|        1905|1970-01-01 00:31:54|      9.0|    false|   false|     349|  True|\n",
            "|2015-12-01|            WN|              1014003|   ABQ|            1129202| DEN|        1710|1970-01-01 00:28:36|      6.0|     8.0|      1724|     1820|    5.0|        1825|1970-01-01 00:30:25|      0.0|    false|   false|     349|  True|\n",
            "|2015-04-13|            OO|              1014003|   ABQ|            1129202| DEN|        1940|1970-01-01 00:32:08|    -12.0|    13.0|      1941|     2040|    8.0|        2101|1970-01-01 00:34:08|    -13.0|    false|   false|     349|  True|\n",
            "|2015-11-03|            AA|              1014003|   ABQ|            1129804| DFW|         800|1970-01-01 00:14:06|     46.0|    11.0|      0857|     1115|   12.0|        1051|1970-01-01 00:18:47|     36.0|    false|   false|     569|  True|\n",
            "|2015-10-03|            WN|              1014003|   ABQ|            1288903| LAS|        1205|1970-01-01 00:20:05|      0.0|     7.0|      1212|     1227|    5.0|        1240|1970-01-01 00:20:32|     -8.0|    false|   false|     486|  True|\n",
            "|2015-01-05|            OO|              1014003|   ABQ|            1289203| LAX|        1235|1970-01-01 00:20:37|      2.0|    19.0|      1256|     1328|    7.0|        1345|1970-01-01 00:22:15|    -10.0|    false|   false|     677|  True|\n",
            "|2015-09-06|            WN|              1014003|   ABQ|            1289203| LAX|        1100|1970-01-01 00:17:37|     -3.0|     9.0|      1106|     1142|   11.0|        1200|1970-01-01 00:19:13|     -7.0|    false|   false|     677|  True|\n",
            "|2015-06-14|            OO|              1014003|   ABQ|            1289203| LAX|         605|1970-01-01 00:09:19|     -6.0|    16.0|      0615|     0649|    7.0|         701|1970-01-01 00:10:56|     -5.0|    false|   false|     677|  True|\n",
            "+----------+--------------+---------------------+------+-------------------+----+------------+-------------------+---------+--------+----------+---------+-------+------------+-------------------+---------+---------+--------+--------+------+\n",
            "only showing top 20 rows\n",
            "\n"
          ]
        }
      ]
    },
    {
      "cell_type": "code",
      "source": [
        "import pyspark.sql.functions as F\n",
        "import pandas as pd\n",
        "\n",
        "delaythresh = range(10, 20)\n",
        "df = pd.DataFrame(columns=['dist_thresh', 'delay_thresh', 'frac_ontime'])\n",
        "for m in range(0, 2): # len(distthresh)-1):\n",
        "    for n in range(0, len(delaythresh)-1):\n",
        "        bdf = sparkFlightDF[(sparkFlightDF['distance'] >= distthresh[m])\n",
        "             & (sparkFlightDF['distance'] < distthresh[m+1])\n",
        "             & (sparkFlightDF['dep_delay'] >= delaythresh[n])\n",
        "             & (sparkFlightDF['dep_delay'] < delaythresh[n+1])]\n",
        "        ontime_frac =1\n",
        "        print (m, n, ontime_frac)\n",
        "        df = df.append({\n",
        "            'dist_thresh': distthresh[m], \n",
        "            'delay_thresh': delaythresh[n],\n",
        "            'frac_ontime': ontime_frac\n",
        "        }, ignore_index=True)\n",
        "df       \n"
      ],
      "metadata": {
        "colab": {
          "base_uri": "https://localhost:8080/",
          "height": 935
        },
        "id": "ekETUGrj-2Gk",
        "outputId": "b7d2ee9b-5be1-4342-a198-e140ac12de35"
      },
      "execution_count": 147,
      "outputs": [
        {
          "output_type": "stream",
          "name": "stdout",
          "text": [
            "0 0 1\n",
            "0 1 1\n",
            "0 2 1\n",
            "0 3 1\n",
            "0 4 1\n",
            "0 5 1\n",
            "0 6 1\n",
            "0 7 1\n",
            "0 8 1\n",
            "1 0 1\n",
            "1 1 1\n",
            "1 2 1\n",
            "1 3 1\n",
            "1 4 1\n",
            "1 5 1\n",
            "1 6 1\n",
            "1 7 1\n",
            "1 8 1\n"
          ]
        },
        {
          "output_type": "execute_result",
          "data": {
            "text/plain": [
              "    dist_thresh  delay_thresh  frac_ontime\n",
              "0          89.0          10.0          1.0\n",
              "1          89.0          11.0          1.0\n",
              "2          89.0          12.0          1.0\n",
              "3          89.0          13.0          1.0\n",
              "4          89.0          14.0          1.0\n",
              "5          89.0          15.0          1.0\n",
              "6          89.0          16.0          1.0\n",
              "7          89.0          17.0          1.0\n",
              "8          89.0          18.0          1.0\n",
              "9         328.0          10.0          1.0\n",
              "10        328.0          11.0          1.0\n",
              "11        328.0          12.0          1.0\n",
              "12        328.0          13.0          1.0\n",
              "13        328.0          14.0          1.0\n",
              "14        328.0          15.0          1.0\n",
              "15        328.0          16.0          1.0\n",
              "16        328.0          17.0          1.0\n",
              "17        328.0          18.0          1.0"
            ],
            "text/html": [
              "\n",
              "  <div id=\"df-e5da337e-85a1-4ccd-b79f-6f7d93b2e407\">\n",
              "    <div class=\"colab-df-container\">\n",
              "      <div>\n",
              "<style scoped>\n",
              "    .dataframe tbody tr th:only-of-type {\n",
              "        vertical-align: middle;\n",
              "    }\n",
              "\n",
              "    .dataframe tbody tr th {\n",
              "        vertical-align: top;\n",
              "    }\n",
              "\n",
              "    .dataframe thead th {\n",
              "        text-align: right;\n",
              "    }\n",
              "</style>\n",
              "<table border=\"1\" class=\"dataframe\">\n",
              "  <thead>\n",
              "    <tr style=\"text-align: right;\">\n",
              "      <th></th>\n",
              "      <th>dist_thresh</th>\n",
              "      <th>delay_thresh</th>\n",
              "      <th>frac_ontime</th>\n",
              "    </tr>\n",
              "  </thead>\n",
              "  <tbody>\n",
              "    <tr>\n",
              "      <th>0</th>\n",
              "      <td>89.0</td>\n",
              "      <td>10.0</td>\n",
              "      <td>1.0</td>\n",
              "    </tr>\n",
              "    <tr>\n",
              "      <th>1</th>\n",
              "      <td>89.0</td>\n",
              "      <td>11.0</td>\n",
              "      <td>1.0</td>\n",
              "    </tr>\n",
              "    <tr>\n",
              "      <th>2</th>\n",
              "      <td>89.0</td>\n",
              "      <td>12.0</td>\n",
              "      <td>1.0</td>\n",
              "    </tr>\n",
              "    <tr>\n",
              "      <th>3</th>\n",
              "      <td>89.0</td>\n",
              "      <td>13.0</td>\n",
              "      <td>1.0</td>\n",
              "    </tr>\n",
              "    <tr>\n",
              "      <th>4</th>\n",
              "      <td>89.0</td>\n",
              "      <td>14.0</td>\n",
              "      <td>1.0</td>\n",
              "    </tr>\n",
              "    <tr>\n",
              "      <th>5</th>\n",
              "      <td>89.0</td>\n",
              "      <td>15.0</td>\n",
              "      <td>1.0</td>\n",
              "    </tr>\n",
              "    <tr>\n",
              "      <th>6</th>\n",
              "      <td>89.0</td>\n",
              "      <td>16.0</td>\n",
              "      <td>1.0</td>\n",
              "    </tr>\n",
              "    <tr>\n",
              "      <th>7</th>\n",
              "      <td>89.0</td>\n",
              "      <td>17.0</td>\n",
              "      <td>1.0</td>\n",
              "    </tr>\n",
              "    <tr>\n",
              "      <th>8</th>\n",
              "      <td>89.0</td>\n",
              "      <td>18.0</td>\n",
              "      <td>1.0</td>\n",
              "    </tr>\n",
              "    <tr>\n",
              "      <th>9</th>\n",
              "      <td>328.0</td>\n",
              "      <td>10.0</td>\n",
              "      <td>1.0</td>\n",
              "    </tr>\n",
              "    <tr>\n",
              "      <th>10</th>\n",
              "      <td>328.0</td>\n",
              "      <td>11.0</td>\n",
              "      <td>1.0</td>\n",
              "    </tr>\n",
              "    <tr>\n",
              "      <th>11</th>\n",
              "      <td>328.0</td>\n",
              "      <td>12.0</td>\n",
              "      <td>1.0</td>\n",
              "    </tr>\n",
              "    <tr>\n",
              "      <th>12</th>\n",
              "      <td>328.0</td>\n",
              "      <td>13.0</td>\n",
              "      <td>1.0</td>\n",
              "    </tr>\n",
              "    <tr>\n",
              "      <th>13</th>\n",
              "      <td>328.0</td>\n",
              "      <td>14.0</td>\n",
              "      <td>1.0</td>\n",
              "    </tr>\n",
              "    <tr>\n",
              "      <th>14</th>\n",
              "      <td>328.0</td>\n",
              "      <td>15.0</td>\n",
              "      <td>1.0</td>\n",
              "    </tr>\n",
              "    <tr>\n",
              "      <th>15</th>\n",
              "      <td>328.0</td>\n",
              "      <td>16.0</td>\n",
              "      <td>1.0</td>\n",
              "    </tr>\n",
              "    <tr>\n",
              "      <th>16</th>\n",
              "      <td>328.0</td>\n",
              "      <td>17.0</td>\n",
              "      <td>1.0</td>\n",
              "    </tr>\n",
              "    <tr>\n",
              "      <th>17</th>\n",
              "      <td>328.0</td>\n",
              "      <td>18.0</td>\n",
              "      <td>1.0</td>\n",
              "    </tr>\n",
              "  </tbody>\n",
              "</table>\n",
              "</div>\n",
              "      <button class=\"colab-df-convert\" onclick=\"convertToInteractive('df-e5da337e-85a1-4ccd-b79f-6f7d93b2e407')\"\n",
              "              title=\"Convert this dataframe to an interactive table.\"\n",
              "              style=\"display:none;\">\n",
              "        \n",
              "  <svg xmlns=\"http://www.w3.org/2000/svg\" height=\"24px\"viewBox=\"0 0 24 24\"\n",
              "       width=\"24px\">\n",
              "    <path d=\"M0 0h24v24H0V0z\" fill=\"none\"/>\n",
              "    <path d=\"M18.56 5.44l.94 2.06.94-2.06 2.06-.94-2.06-.94-.94-2.06-.94 2.06-2.06.94zm-11 1L8.5 8.5l.94-2.06 2.06-.94-2.06-.94L8.5 2.5l-.94 2.06-2.06.94zm10 10l.94 2.06.94-2.06 2.06-.94-2.06-.94-.94-2.06-.94 2.06-2.06.94z\"/><path d=\"M17.41 7.96l-1.37-1.37c-.4-.4-.92-.59-1.43-.59-.52 0-1.04.2-1.43.59L10.3 9.45l-7.72 7.72c-.78.78-.78 2.05 0 2.83L4 21.41c.39.39.9.59 1.41.59.51 0 1.02-.2 1.41-.59l7.78-7.78 2.81-2.81c.8-.78.8-2.07 0-2.86zM5.41 20L4 18.59l7.72-7.72 1.47 1.35L5.41 20z\"/>\n",
              "  </svg>\n",
              "      </button>\n",
              "      \n",
              "  <style>\n",
              "    .colab-df-container {\n",
              "      display:flex;\n",
              "      flex-wrap:wrap;\n",
              "      gap: 12px;\n",
              "    }\n",
              "\n",
              "    .colab-df-convert {\n",
              "      background-color: #E8F0FE;\n",
              "      border: none;\n",
              "      border-radius: 50%;\n",
              "      cursor: pointer;\n",
              "      display: none;\n",
              "      fill: #1967D2;\n",
              "      height: 32px;\n",
              "      padding: 0 0 0 0;\n",
              "      width: 32px;\n",
              "    }\n",
              "\n",
              "    .colab-df-convert:hover {\n",
              "      background-color: #E2EBFA;\n",
              "      box-shadow: 0px 1px 2px rgba(60, 64, 67, 0.3), 0px 1px 3px 1px rgba(60, 64, 67, 0.15);\n",
              "      fill: #174EA6;\n",
              "    }\n",
              "\n",
              "    [theme=dark] .colab-df-convert {\n",
              "      background-color: #3B4455;\n",
              "      fill: #D2E3FC;\n",
              "    }\n",
              "\n",
              "    [theme=dark] .colab-df-convert:hover {\n",
              "      background-color: #434B5C;\n",
              "      box-shadow: 0px 1px 3px 1px rgba(0, 0, 0, 0.15);\n",
              "      filter: drop-shadow(0px 1px 2px rgba(0, 0, 0, 0.3));\n",
              "      fill: #FFFFFF;\n",
              "    }\n",
              "  </style>\n",
              "\n",
              "      <script>\n",
              "        const buttonEl =\n",
              "          document.querySelector('#df-e5da337e-85a1-4ccd-b79f-6f7d93b2e407 button.colab-df-convert');\n",
              "        buttonEl.style.display =\n",
              "          google.colab.kernel.accessAllowed ? 'block' : 'none';\n",
              "\n",
              "        async function convertToInteractive(key) {\n",
              "          const element = document.querySelector('#df-e5da337e-85a1-4ccd-b79f-6f7d93b2e407');\n",
              "          const dataTable =\n",
              "            await google.colab.kernel.invokeFunction('convertToInteractive',\n",
              "                                                     [key], {});\n",
              "          if (!dataTable) return;\n",
              "\n",
              "          const docLinkHtml = 'Like what you see? Visit the ' +\n",
              "            '<a target=\"_blank\" href=https://colab.research.google.com/notebooks/data_table.ipynb>data table notebook</a>'\n",
              "            + ' to learn more about interactive tables.';\n",
              "          element.innerHTML = '';\n",
              "          dataTable['output_type'] = 'display_data';\n",
              "          await google.colab.output.renderOutput(dataTable, element);\n",
              "          const docLink = document.createElement('div');\n",
              "          docLink.innerHTML = docLinkHtml;\n",
              "          element.appendChild(docLink);\n",
              "        }\n",
              "      </script>\n",
              "    </div>\n",
              "  </div>\n",
              "  "
            ]
          },
          "metadata": {},
          "execution_count": 147
        }
      ]
    },
    {
      "cell_type": "code",
      "source": [
        "df['score'] = abs(df['frac_ontime'] - 0.7)\n",
        "bayes = df.sort_values(['score']).groupby('dist_thresh').head(1).sort_values('dist_thresh')\n",
        "bayes"
      ],
      "metadata": {
        "colab": {
          "base_uri": "https://localhost:8080/",
          "height": 693
        },
        "id": "uiUhH-nxFubd",
        "outputId": "77ddc9e5-b179-427a-8d6d-b60fa0bf57be"
      },
      "execution_count": 148,
      "outputs": [
        {
          "output_type": "error",
          "ename": "TypeError",
          "evalue": "ignored",
          "traceback": [
            "\u001b[0;31m---------------------------------------------------------------------------\u001b[0m",
            "\u001b[0;31mTypeError\u001b[0m                                 Traceback (most recent call last)",
            "\u001b[0;32m<ipython-input-148-31f9e03d0435>\u001b[0m in \u001b[0;36m<module>\u001b[0;34m\u001b[0m\n\u001b[0;32m----> 1\u001b[0;31m \u001b[0mdf\u001b[0m\u001b[0;34m[\u001b[0m\u001b[0;34m'score'\u001b[0m\u001b[0;34m]\u001b[0m \u001b[0;34m=\u001b[0m \u001b[0mabs\u001b[0m\u001b[0;34m(\u001b[0m\u001b[0mdf\u001b[0m\u001b[0;34m[\u001b[0m\u001b[0;34m'frac_ontime'\u001b[0m\u001b[0;34m]\u001b[0m \u001b[0;34m-\u001b[0m \u001b[0;36m0.7\u001b[0m\u001b[0;34m)\u001b[0m\u001b[0;34m\u001b[0m\u001b[0;34m\u001b[0m\u001b[0m\n\u001b[0m\u001b[1;32m      2\u001b[0m \u001b[0mbayes\u001b[0m \u001b[0;34m=\u001b[0m \u001b[0mdf\u001b[0m\u001b[0;34m.\u001b[0m\u001b[0msort_values\u001b[0m\u001b[0;34m(\u001b[0m\u001b[0;34m[\u001b[0m\u001b[0;34m'score'\u001b[0m\u001b[0;34m]\u001b[0m\u001b[0;34m)\u001b[0m\u001b[0;34m.\u001b[0m\u001b[0mgroupby\u001b[0m\u001b[0;34m(\u001b[0m\u001b[0;34m'dist_thresh'\u001b[0m\u001b[0;34m)\u001b[0m\u001b[0;34m.\u001b[0m\u001b[0mhead\u001b[0m\u001b[0;34m(\u001b[0m\u001b[0;36m1\u001b[0m\u001b[0;34m)\u001b[0m\u001b[0;34m.\u001b[0m\u001b[0msort_values\u001b[0m\u001b[0;34m(\u001b[0m\u001b[0;34m'dist_thresh'\u001b[0m\u001b[0;34m)\u001b[0m\u001b[0;34m\u001b[0m\u001b[0;34m\u001b[0m\u001b[0m\n\u001b[1;32m      3\u001b[0m \u001b[0mbayes\u001b[0m\u001b[0;34m\u001b[0m\u001b[0;34m\u001b[0m\u001b[0m\n",
            "\u001b[0;32m/usr/local/lib/python3.8/dist-packages/pyspark/sql/functions.py\u001b[0m in \u001b[0;36mabs\u001b[0;34m(col)\u001b[0m\n\u001b[1;32m    185\u001b[0m     \u001b[0mComputes\u001b[0m \u001b[0mthe\u001b[0m \u001b[0mabsolute\u001b[0m \u001b[0mvalue\u001b[0m\u001b[0;34m.\u001b[0m\u001b[0;34m\u001b[0m\u001b[0;34m\u001b[0m\u001b[0m\n\u001b[1;32m    186\u001b[0m     \"\"\"\n\u001b[0;32m--> 187\u001b[0;31m     \u001b[0;32mreturn\u001b[0m \u001b[0m_invoke_function_over_columns\u001b[0m\u001b[0;34m(\u001b[0m\u001b[0;34m\"abs\"\u001b[0m\u001b[0;34m,\u001b[0m \u001b[0mcol\u001b[0m\u001b[0;34m)\u001b[0m\u001b[0;34m\u001b[0m\u001b[0;34m\u001b[0m\u001b[0m\n\u001b[0m\u001b[1;32m    188\u001b[0m \u001b[0;34m\u001b[0m\u001b[0m\n\u001b[1;32m    189\u001b[0m \u001b[0;34m\u001b[0m\u001b[0m\n",
            "\u001b[0;32m/usr/local/lib/python3.8/dist-packages/pyspark/sql/functions.py\u001b[0m in \u001b[0;36m_invoke_function_over_columns\u001b[0;34m(name, *cols)\u001b[0m\n\u001b[1;32m     91\u001b[0m     \u001b[0;32mand\u001b[0m \u001b[0mwraps\u001b[0m \u001b[0mthe\u001b[0m \u001b[0mresult\u001b[0m \u001b[0;32mwith\u001b[0m \u001b[0;34m:\u001b[0m\u001b[0;32mclass\u001b[0m\u001b[0;34m:\u001b[0m\u001b[0;31m`\u001b[0m\u001b[0;34m~\u001b[0m\u001b[0mpyspark\u001b[0m\u001b[0;34m.\u001b[0m\u001b[0msql\u001b[0m\u001b[0;34m.\u001b[0m\u001b[0mColumn\u001b[0m\u001b[0;31m`\u001b[0m\u001b[0;34m.\u001b[0m\u001b[0;34m\u001b[0m\u001b[0;34m\u001b[0m\u001b[0m\n\u001b[1;32m     92\u001b[0m     \"\"\"\n\u001b[0;32m---> 93\u001b[0;31m     \u001b[0;32mreturn\u001b[0m \u001b[0m_invoke_function\u001b[0m\u001b[0;34m(\u001b[0m\u001b[0mname\u001b[0m\u001b[0;34m,\u001b[0m \u001b[0;34m*\u001b[0m\u001b[0;34m(\u001b[0m\u001b[0m_to_java_column\u001b[0m\u001b[0;34m(\u001b[0m\u001b[0mcol\u001b[0m\u001b[0;34m)\u001b[0m \u001b[0;32mfor\u001b[0m \u001b[0mcol\u001b[0m \u001b[0;32min\u001b[0m \u001b[0mcols\u001b[0m\u001b[0;34m)\u001b[0m\u001b[0;34m)\u001b[0m\u001b[0;34m\u001b[0m\u001b[0;34m\u001b[0m\u001b[0m\n\u001b[0m\u001b[1;32m     94\u001b[0m \u001b[0;34m\u001b[0m\u001b[0m\n\u001b[1;32m     95\u001b[0m \u001b[0;34m\u001b[0m\u001b[0m\n",
            "\u001b[0;32m/usr/local/lib/python3.8/dist-packages/pyspark/sql/functions.py\u001b[0m in \u001b[0;36m<genexpr>\u001b[0;34m(.0)\u001b[0m\n\u001b[1;32m     91\u001b[0m     \u001b[0;32mand\u001b[0m \u001b[0mwraps\u001b[0m \u001b[0mthe\u001b[0m \u001b[0mresult\u001b[0m \u001b[0;32mwith\u001b[0m \u001b[0;34m:\u001b[0m\u001b[0;32mclass\u001b[0m\u001b[0;34m:\u001b[0m\u001b[0;31m`\u001b[0m\u001b[0;34m~\u001b[0m\u001b[0mpyspark\u001b[0m\u001b[0;34m.\u001b[0m\u001b[0msql\u001b[0m\u001b[0;34m.\u001b[0m\u001b[0mColumn\u001b[0m\u001b[0;31m`\u001b[0m\u001b[0;34m.\u001b[0m\u001b[0;34m\u001b[0m\u001b[0;34m\u001b[0m\u001b[0m\n\u001b[1;32m     92\u001b[0m     \"\"\"\n\u001b[0;32m---> 93\u001b[0;31m     \u001b[0;32mreturn\u001b[0m \u001b[0m_invoke_function\u001b[0m\u001b[0;34m(\u001b[0m\u001b[0mname\u001b[0m\u001b[0;34m,\u001b[0m \u001b[0;34m*\u001b[0m\u001b[0;34m(\u001b[0m\u001b[0m_to_java_column\u001b[0m\u001b[0;34m(\u001b[0m\u001b[0mcol\u001b[0m\u001b[0;34m)\u001b[0m \u001b[0;32mfor\u001b[0m \u001b[0mcol\u001b[0m \u001b[0;32min\u001b[0m \u001b[0mcols\u001b[0m\u001b[0;34m)\u001b[0m\u001b[0;34m)\u001b[0m\u001b[0;34m\u001b[0m\u001b[0;34m\u001b[0m\u001b[0m\n\u001b[0m\u001b[1;32m     94\u001b[0m \u001b[0;34m\u001b[0m\u001b[0m\n\u001b[1;32m     95\u001b[0m \u001b[0;34m\u001b[0m\u001b[0m\n",
            "\u001b[0;32m/usr/local/lib/python3.8/dist-packages/pyspark/sql/column.py\u001b[0m in \u001b[0;36m_to_java_column\u001b[0;34m(col)\u001b[0m\n\u001b[1;32m     63\u001b[0m         \u001b[0mjcol\u001b[0m \u001b[0;34m=\u001b[0m \u001b[0m_create_column_from_name\u001b[0m\u001b[0;34m(\u001b[0m\u001b[0mcol\u001b[0m\u001b[0;34m)\u001b[0m\u001b[0;34m\u001b[0m\u001b[0;34m\u001b[0m\u001b[0m\n\u001b[1;32m     64\u001b[0m     \u001b[0;32melse\u001b[0m\u001b[0;34m:\u001b[0m\u001b[0;34m\u001b[0m\u001b[0;34m\u001b[0m\u001b[0m\n\u001b[0;32m---> 65\u001b[0;31m         raise TypeError(\n\u001b[0m\u001b[1;32m     66\u001b[0m             \u001b[0;34m\"Invalid argument, not a string or column: \"\u001b[0m\u001b[0;34m\u001b[0m\u001b[0;34m\u001b[0m\u001b[0m\n\u001b[1;32m     67\u001b[0m             \u001b[0;34m\"{0} of type {1}. \"\u001b[0m\u001b[0;34m\u001b[0m\u001b[0;34m\u001b[0m\u001b[0m\n",
            "\u001b[0;31mTypeError\u001b[0m: Invalid argument, not a string or column: 0     0.3\n1     0.3\n2     0.3\n3     0.3\n4     0.3\n5     0.3\n6     0.3\n7     0.3\n8     0.3\n9     0.3\n10    0.3\n11    0.3\n12    0.3\n13    0.3\n14    0.3\n15    0.3\n16    0.3\n17    0.3\nName: frac_ontime, dtype: float64 of type <class 'pandas.core.series.Series'>. For column literals, use 'lit', 'array', 'struct' or 'create_map' function."
          ]
        }
      ]
    }
  ]
}