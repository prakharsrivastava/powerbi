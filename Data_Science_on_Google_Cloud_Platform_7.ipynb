{
  "nbformat": 4,
  "nbformat_minor": 0,
  "metadata": {
    "colab": {
      "provenance": [],
      "authorship_tag": "ABX9TyMtC0PiJBqUKEWkG7sDAK4j",
      "include_colab_link": true
    },
    "kernelspec": {
      "name": "python3",
      "display_name": "Python 3"
    },
    "language_info": {
      "name": "python"
    }
  },
  "cells": [
    {
      "cell_type": "markdown",
      "metadata": {
        "id": "view-in-github",
        "colab_type": "text"
      },
      "source": [
        "<a href=\"https://colab.research.google.com/github/prakharsrivastava/powerbi/blob/main/Data_Science_on_Google_Cloud_Platform_7.ipynb\" target=\"_parent\"><img src=\"https://colab.research.google.com/assets/colab-badge.svg\" alt=\"Open In Colab\"/></a>"
      ]
    },
    {
      "cell_type": "code",
      "execution_count": 114,
      "metadata": {
        "colab": {
          "base_uri": "https://localhost:8080/"
        },
        "id": "9monwhdPTKdo",
        "outputId": "9e18bc2d-2dd4-4835-8c41-2d4b8b18b117"
      },
      "outputs": [
        {
          "output_type": "stream",
          "name": "stdout",
          "text": [
            "Drive already mounted at /content/gdrive; to attempt to forcibly remount, call drive.mount(\"/content/gdrive\", force_remount=True).\n",
            "/content/gdrive/MyDrive/chapter2\n"
          ]
        }
      ],
      "source": [
        "from google.colab import drive\n",
        "\n",
        "drive.mount('/content/gdrive')\n",
        "%cd /content/gdrive/MyDrive/chapter2/\n"
      ]
    },
    {
      "cell_type": "code",
      "source": [
        "#flight data\n",
        "https://raw.githubusercontent.com/GoogleCloudPlatform/data-science-on-gcp/main/04_streaming/transform/flights_sample.json"
      ],
      "metadata": {
        "id": "VZQBMRdqjh2a"
      },
      "execution_count": null,
      "outputs": []
    },
    {
      "cell_type": "code",
      "source": [
        "!pip install findspark \n",
        "!pip install  pyspark\n",
        "\n",
        "\n"
      ],
      "metadata": {
        "colab": {
          "base_uri": "https://localhost:8080/"
        },
        "id": "CFLZxJtGTScw",
        "outputId": "8d427a6b-7932-4334-f2d4-831f5d2fbd85"
      },
      "execution_count": 115,
      "outputs": [
        {
          "output_type": "stream",
          "name": "stdout",
          "text": [
            "Looking in indexes: https://pypi.org/simple, https://us-python.pkg.dev/colab-wheels/public/simple/\n",
            "Requirement already satisfied: findspark in /usr/local/lib/python3.8/dist-packages (2.0.1)\n",
            "Looking in indexes: https://pypi.org/simple, https://us-python.pkg.dev/colab-wheels/public/simple/\n",
            "Requirement already satisfied: pyspark in /usr/local/lib/python3.8/dist-packages (3.3.2)\n",
            "Requirement already satisfied: py4j==0.10.9.5 in /usr/local/lib/python3.8/dist-packages (from pyspark) (0.10.9.5)\n"
          ]
        }
      ]
    },
    {
      "cell_type": "code",
      "source": [
        "import findspark\n",
        "import pyspark\n",
        "from pyspark.sql import SparkSession\n",
        "spark = SparkSession.builder.master(\"local[1]\").appName(\"architectinaction.com\").getOrCreate()"
      ],
      "metadata": {
        "id": "VqHKYT-CTUbu"
      },
      "execution_count": 116,
      "outputs": []
    },
    {
      "cell_type": "code",
      "source": [
        "%pip install pytz"
      ],
      "metadata": {
        "colab": {
          "base_uri": "https://localhost:8080/"
        },
        "id": "Dm5QmsSxTWYH",
        "outputId": "481db3ae-7c91-4918-9b40-ed15baf3b856"
      },
      "execution_count": 117,
      "outputs": [
        {
          "output_type": "stream",
          "name": "stdout",
          "text": [
            "Looking in indexes: https://pypi.org/simple, https://us-python.pkg.dev/colab-wheels/public/simple/\n",
            "Requirement already satisfied: pytz in /usr/local/lib/python3.8/dist-packages (2022.7.1)\n"
          ]
        }
      ]
    },
    {
      "cell_type": "code",
      "source": [
        "import matplotlib.pyplot as plt\n",
        "import seaborn as sns\n",
        "import pandas as pd\n",
        "import numpy as np\n",
        "\n",
        "from google.cloud import bigquery"
      ],
      "metadata": {
        "id": "E3FSAAW5eZtZ"
      },
      "execution_count": 118,
      "outputs": []
    },
    {
      "cell_type": "code",
      "source": [
        "%load_ext sql"
      ],
      "metadata": {
        "colab": {
          "base_uri": "https://localhost:8080/"
        },
        "id": "caqAHYPfTknB",
        "outputId": "8a040d48-fed3-4282-e17d-f83109ec97fb"
      },
      "execution_count": 119,
      "outputs": [
        {
          "output_type": "stream",
          "name": "stdout",
          "text": [
            "The sql extension is already loaded. To reload it, use:\n",
            "  %reload_ext sql\n"
          ]
        }
      ]
    },
    {
      "cell_type": "code",
      "source": [
        "%%sql\n",
        "sqlite:///mydb_"
      ],
      "metadata": {
        "colab": {
          "base_uri": "https://localhost:8080/",
          "height": 35
        },
        "id": "VUh7PelETyNW",
        "outputId": "f859aa08-ccc4-4ac2-8207-5624cd5b2390"
      },
      "execution_count": 120,
      "outputs": [
        {
          "output_type": "execute_result",
          "data": {
            "text/plain": [
              "'Connected: @mydb_'"
            ],
            "application/vnd.google.colaboratory.intrinsic+json": {
              "type": "string"
            }
          },
          "metadata": {},
          "execution_count": 120
        }
      ]
    },
    {
      "cell_type": "code",
      "source": [
        "import pandas as pd\n",
        "airports = pd.read_csv('airports.csv',low_memory=False,nrows=3)\n",
        "flight = pd.read_json('flights_sample.json',lines=True)"
      ],
      "metadata": {
        "id": "szj0iKAEe6h5"
      },
      "execution_count": 198,
      "outputs": []
    },
    {
      "cell_type": "code",
      "source": [
        "sparkAirportsDF=spark.createDataFrame(airports)\n",
        "sparkFlightDF=spark.createDataFrame(flight)"
      ],
      "metadata": {
        "id": "kK9PvB9ee-Xl"
      },
      "execution_count": 235,
      "outputs": []
    },
    {
      "cell_type": "code",
      "source": [],
      "metadata": {
        "id": "MOW9nvWhfBnB"
      },
      "execution_count": null,
      "outputs": []
    },
    {
      "cell_type": "code",
      "source": [
        "\n",
        "import sqlite3\n",
        "conn = sqlite3.connect('mydb_')\n",
        "c = conn.cursor()\n",
        "flight.to_sql('flights_view_', conn, if_exists='replace', index = False)"
      ],
      "metadata": {
        "id": "yPj0lkR4fkT-"
      },
      "execution_count": 151,
      "outputs": []
    },
    {
      "cell_type": "code",
      "source": [
        "import pandas as pd\n",
        "df = pd.read_json('flights_sample.json',lines=True)\n",
        "\n",
        "import sqlite3\n",
        "conn = sqlite3.connect('mydb_')\n",
        "c = conn.cursor()\n",
        "df.to_sql('flights_view_', conn, if_exists='replace', index = False)"
      ],
      "metadata": {
        "id": "DJxtZTEtbK_U"
      },
      "execution_count": 152,
      "outputs": []
    },
    {
      "cell_type": "code",
      "source": [],
      "metadata": {
        "id": "HcqqMXZwdQcJ"
      },
      "execution_count": null,
      "outputs": []
    },
    {
      "cell_type": "code",
      "source": [
        "%%sql\n",
        "SELECT\n",
        " *\n",
        "FROM flights_view_"
      ],
      "metadata": {
        "id": "uxitFglUT06y"
      },
      "execution_count": null,
      "outputs": []
    },
    {
      "cell_type": "code",
      "source": [
        "%%sql\n",
        "SELECT\n",
        "  -18/COUNT(arr_delay) AS frac_delayed\n",
        "FROM flights_view_"
      ],
      "metadata": {
        "colab": {
          "base_uri": "https://localhost:8080/",
          "height": 97
        },
        "id": "c1YFohRtVyTJ",
        "outputId": "31f2fda4-9fdb-45bd-87d8-0e5a6e5b6884"
      },
      "execution_count": null,
      "outputs": [
        {
          "output_type": "stream",
          "name": "stdout",
          "text": [
            " * sqlite:///mydb_\n",
            "Done.\n"
          ]
        },
        {
          "output_type": "execute_result",
          "data": {
            "text/plain": [
              "[(0,)]"
            ],
            "text/html": [
              "<table>\n",
              "    <thead>\n",
              "        <tr>\n",
              "            <th>frac_delayed</th>\n",
              "        </tr>\n",
              "    </thead>\n",
              "    <tbody>\n",
              "        <tr>\n",
              "            <td>0</td>\n",
              "        </tr>\n",
              "    </tbody>\n",
              "</table>"
            ]
          },
          "metadata": {},
          "execution_count": 74
        }
      ]
    },
    {
      "cell_type": "code",
      "source": [
        "sparkFlightDF=sparkFlightDF.select(\"ARR_DELAY\",\"DEP_DELAY\")\n",
        "\n"
      ],
      "metadata": {
        "id": "Lcl8n9rfhC6H"
      },
      "execution_count": 236,
      "outputs": []
    },
    {
      "cell_type": "code",
      "source": [
        "from pyspark.sql.functions import *\n",
        "sparkFlightDF=sparkFlightDF.withColumn(\"ontime\",when(col(\"ARR_DELAY\")<0,\"True\").when(col(\"DEP_DELAY\")>0,\"True\").otherwise(\"false\") )\n",
        "sparkFlightDF.show()"
      ],
      "metadata": {
        "id": "SBLH1ibhhUmh",
        "colab": {
          "base_uri": "https://localhost:8080/"
        },
        "outputId": "67e2ef12-5098-47fa-c740-0b555889d0aa"
      },
      "execution_count": 237,
      "outputs": [
        {
          "output_type": "stream",
          "name": "stdout",
          "text": [
            "+---------+---------+------+\n",
            "|ARR_DELAY|DEP_DELAY|ontime|\n",
            "+---------+---------+------+\n",
            "|    -18.0|     -5.0|  True|\n",
            "|    -19.0|     -4.0|  True|\n",
            "|      4.0|     13.0|  True|\n",
            "|    -19.0|     -9.0|  True|\n",
            "|      NaN|      NaN|  True|\n",
            "|    -18.0|    -11.0|  True|\n",
            "|     52.0|     28.0|  True|\n",
            "|    -12.0|     -6.0|  True|\n",
            "|    -20.0|     -4.0|  True|\n",
            "|     -5.0|     -1.0|  True|\n",
            "|     -7.0|     -4.0|  True|\n",
            "|     -1.0|     -1.0|  True|\n",
            "|    -18.0|     -7.0|  True|\n",
            "|      9.0|     13.0|  True|\n",
            "|      0.0|      6.0|  True|\n",
            "|    -13.0|    -12.0|  True|\n",
            "|     36.0|     46.0|  True|\n",
            "|     -8.0|      0.0|  True|\n",
            "|    -10.0|      2.0|  True|\n",
            "|     -7.0|     -3.0|  True|\n",
            "+---------+---------+------+\n",
            "only showing top 20 rows\n",
            "\n"
          ]
        }
      ]
    },
    {
      "cell_type": "code",
      "source": [
        "sparkFlightDF=sparkFlightDF.toPandas()"
      ],
      "metadata": {
        "id": "YDw7397ehhWa"
      },
      "execution_count": 239,
      "outputs": []
    },
    {
      "cell_type": "code",
      "source": [
        "sparkFlightDF"
      ],
      "metadata": {
        "id": "WjCxa6JWikdD",
        "colab": {
          "base_uri": "https://localhost:8080/"
        },
        "outputId": "64b74b96-0545-4967-8279-405e8b502270"
      },
      "execution_count": 238,
      "outputs": [
        {
          "output_type": "execute_result",
          "data": {
            "text/plain": [
              "DataFrame[ARR_DELAY: double, DEP_DELAY: double, ontime: string]"
            ]
          },
          "metadata": {},
          "execution_count": 238
        }
      ]
    },
    {
      "cell_type": "code",
      "source": [
        "sns.set_style(\"whitegrid\")\n",
        "# sns.set(font_scale = 1.5)\n",
        "ax = sns.violinplot(data=sparkFlightDF, x='ARR_DELAY', inner='box', orient='h')\n",
        "ax.axes.set_xlim(-55, 55);"
      ],
      "metadata": {
        "colab": {
          "base_uri": "https://localhost:8080/",
          "height": 280
        },
        "id": "9zxTVoTmePKD",
        "outputId": "281698c8-5fa6-4724-8dfd-9b2298377bfb"
      },
      "execution_count": 240,
      "outputs": [
        {
          "output_type": "display_data",
          "data": {
            "text/plain": [
              "<Figure size 432x288 with 1 Axes>"
            ],
            "image/png": "[encoded data removed]"
          },
          "metadata": {}
        }
      ]
    },
    {
      "cell_type": "code",
      "source": [
        "sns.set_style(\"whitegrid\")\n",
        "ax = sns.violinplot(data=sparkFlightDF, x='ARR_DELAY', y='ontime', inner='box', orient='h')\n",
        "ax.set_xlim(-50, 200);"
      ],
      "metadata": {
        "colab": {
          "base_uri": "https://localhost:8080/",
          "height": 280
        },
        "id": "-sgr92yTibw6",
        "outputId": "70594b2c-d6f3-4ba1-c8ee-51c8b300ec71"
      },
      "execution_count": 241,
      "outputs": [
        {
          "output_type": "display_data",
          "data": {
            "text/plain": [
              "<Figure size 432x288 with 1 Axes>"
            ],
            "image/png": "[encoded data removed]"
          },
          "metadata": {}
        }
      ]
    },
    {
      "cell_type": "code",
      "source": [
        "#https://github.com/GoogleCloudPlatform/data-science-on-gcp/blob/main/05_bqnotebook/exploration.ipynb"
      ],
      "metadata": {
        "id": "iqFIGr3Tf5wo"
      },
      "execution_count": null,
      "outputs": []
    },
    {
      "cell_type": "code",
      "source": [
        "sparkFlightDF.describe()"
      ],
      "metadata": {
        "colab": {
          "base_uri": "https://localhost:8080/",
          "height": 300
        },
        "id": "_DzivR15ctjY",
        "outputId": "b3f46635-e5b9-4317-d426-65c8fb59cebe"
      },
      "execution_count": 242,
      "outputs": [
        {
          "output_type": "execute_result",
          "data": {
            "text/plain": [
              "       ARR_DELAY  DEP_DELAY\n",
              "count  30.000000  30.000000\n",
              "mean   -4.200000   1.133333\n",
              "std    15.772958  12.389465\n",
              "min   -20.000000 -12.000000\n",
              "25%   -13.750000  -6.000000\n",
              "50%    -7.500000  -2.500000\n",
              "75%     0.750000   1.750000\n",
              "max    52.000000  46.000000"
            ],
            "text/html": [
              "\n",
              "  <div id=\"df-e97d2c14-c72b-43de-9780-0e91859ebfbf\">\n",
              "    <div class=\"colab-df-container\">\n",
              "      <div>\n",
              "<style scoped>\n",
              "    .dataframe tbody tr th:only-of-type {\n",
              "        vertical-align: middle;\n",
              "    }\n",
              "\n",
              "    .dataframe tbody tr th {\n",
              "        vertical-align: top;\n",
              "    }\n",
              "\n",
              "    .dataframe thead th {\n",
              "        text-align: right;\n",
              "    }\n",
              "</style>\n",
              "<table border=\"1\" class=\"dataframe\">\n",
              "  <thead>\n",
              "    <tr style=\"text-align: right;\">\n",
              "      <th></th>\n",
              "      <th>ARR_DELAY</th>\n",
              "      <th>DEP_DELAY</th>\n",
              "    </tr>\n",
              "  </thead>\n",
              "  <tbody>\n",
              "    <tr>\n",
              "      <th>count</th>\n",
              "      <td>30.000000</td>\n",
              "      <td>30.000000</td>\n",
              "    </tr>\n",
              "    <tr>\n",
              "      <th>mean</th>\n",
              "      <td>-4.200000</td>\n",
              "      <td>1.133333</td>\n",
              "    </tr>\n",
              "    <tr>\n",
              "      <th>std</th>\n",
              "      <td>15.772958</td>\n",
              "      <td>12.389465</td>\n",
              "    </tr>\n",
              "    <tr>\n",
              "      <th>min</th>\n",
              "      <td>-20.000000</td>\n",
              "      <td>-12.000000</td>\n",
              "    </tr>\n",
              "    <tr>\n",
              "      <th>25%</th>\n",
              "      <td>-13.750000</td>\n",
              "      <td>-6.000000</td>\n",
              "    </tr>\n",
              "    <tr>\n",
              "      <th>50%</th>\n",
              "      <td>-7.500000</td>\n",
              "      <td>-2.500000</td>\n",
              "    </tr>\n",
              "    <tr>\n",
              "      <th>75%</th>\n",
              "      <td>0.750000</td>\n",
              "      <td>1.750000</td>\n",
              "    </tr>\n",
              "    <tr>\n",
              "      <th>max</th>\n",
              "      <td>52.000000</td>\n",
              "      <td>46.000000</td>\n",
              "    </tr>\n",
              "  </tbody>\n",
              "</table>\n",
              "</div>\n",
              "      <button class=\"colab-df-convert\" onclick=\"convertToInteractive('df-e97d2c14-c72b-43de-9780-0e91859ebfbf')\"\n",
              "              title=\"Convert this dataframe to an interactive table.\"\n",
              "              style=\"display:none;\">\n",
              "        \n",
              "  <svg xmlns=\"http://www.w3.org/2000/svg\" height=\"24px\"viewBox=\"0 0 24 24\"\n",
              "       width=\"24px\">\n",
              "    <path d=\"M0 0h24v24H0V0z\" fill=\"none\"/>\n",
              "    <path d=\"M18.56 5.44l.94 2.06.94-2.06 2.06-.94-2.06-.94-.94-2.06-.94 2.06-2.06.94zm-11 1L8.5 8.5l.94-2.06 2.06-.94-2.06-.94L8.5 2.5l-.94 2.06-2.06.94zm10 10l.94 2.06.94-2.06 2.06-.94-2.06-.94-.94-2.06-.94 2.06-2.06.94z\"/><path d=\"M17.41 7.96l-1.37-1.37c-.4-.4-.92-.59-1.43-.59-.52 0-1.04.2-1.43.59L10.3 9.45l-7.72 7.72c-.78.78-.78 2.05 0 2.83L4 21.41c.39.39.9.59 1.41.59.51 0 1.02-.2 1.41-.59l7.78-7.78 2.81-2.81c.8-.78.8-2.07 0-2.86zM5.41 20L4 18.59l7.72-7.72 1.47 1.35L5.41 20z\"/>\n",
              "  </svg>\n",
              "      </button>\n",
              "      \n",
              "  <style>\n",
              "    .colab-df-container {\n",
              "      display:flex;\n",
              "      flex-wrap:wrap;\n",
              "      gap: 12px;\n",
              "    }\n",
              "\n",
              "    .colab-df-convert {\n",
              "      background-color: #E8F0FE;\n",
              "      border: none;\n",
              "      border-radius: 50%;\n",
              "      cursor: pointer;\n",
              "      display: none;\n",
              "      fill: #1967D2;\n",
              "      height: 32px;\n",
              "      padding: 0 0 0 0;\n",
              "      width: 32px;\n",
              "    }\n",
              "\n",
              "    .colab-df-convert:hover {\n",
              "      background-color: #E2EBFA;\n",
              "      box-shadow: 0px 1px 2px rgba(60, 64, 67, 0.3), 0px 1px 3px 1px rgba(60, 64, 67, 0.15);\n",
              "      fill: #174EA6;\n",
              "    }\n",
              "\n",
              "    [theme=dark] .colab-df-convert {\n",
              "      background-color: #3B4455;\n",
              "      fill: #D2E3FC;\n",
              "    }\n",
              "\n",
              "    [theme=dark] .colab-df-convert:hover {\n",
              "      background-color: #434B5C;\n",
              "      box-shadow: 0px 1px 3px 1px rgba(0, 0, 0, 0.15);\n",
              "      filter: drop-shadow(0px 1px 2px rgba(0, 0, 0, 0.3));\n",
              "      fill: #FFFFFF;\n",
              "    }\n",
              "  </style>\n",
              "\n",
              "      <script>\n",
              "        const buttonEl =\n",
              "          document.querySelector('#df-e97d2c14-c72b-43de-9780-0e91859ebfbf button.colab-df-convert');\n",
              "        buttonEl.style.display =\n",
              "          google.colab.kernel.accessAllowed ? 'block' : 'none';\n",
              "\n",
              "        async function convertToInteractive(key) {\n",
              "          const element = document.querySelector('#df-e97d2c14-c72b-43de-9780-0e91859ebfbf');\n",
              "          const dataTable =\n",
              "            await google.colab.kernel.invokeFunction('convertToInteractive',\n",
              "                                                     [key], {});\n",
              "          if (!dataTable) return;\n",
              "\n",
              "          const docLinkHtml = 'Like what you see? Visit the ' +\n",
              "            '<a target=\"_blank\" href=https://colab.research.google.com/notebooks/data_table.ipynb>data table notebook</a>'\n",
              "            + ' to learn more about interactive tables.';\n",
              "          element.innerHTML = '';\n",
              "          dataTable['output_type'] = 'display_data';\n",
              "          await google.colab.output.renderOutput(dataTable, element);\n",
              "          const docLink = document.createElement('div');\n",
              "          docLink.innerHTML = docLinkHtml;\n",
              "          element.appendChild(docLink);\n",
              "        }\n",
              "      </script>\n",
              "    </div>\n",
              "  </div>\n",
              "  "
            ]
          },
          "metadata": {},
          "execution_count": 242
        }
      ]
    },
    {
      "cell_type": "code",
      "source": [
        "import pandas as pd\n",
        "df = pd.read_sql(\"\"\"\n",
        "            SELECT\n",
        "    DEP_DELAY,\n",
        "    AVG(ARR_DELAY) AS arrival_delay,\n",
        "    AVG(ARR_DELAY*ARR_DELAY) - AVG(ARR_DELAY)*AVG(ARR_DELAY) AS stddev_arrival_delay,\n",
        "    COUNT(ARR_DELAY) AS numflights\n",
        "FROM\n",
        "    flights_view_\n",
        "GROUP BY\n",
        "    DEP_DELAY\n",
        "   having DEP_DELAY>0 \n",
        "ORDER BY DEP_DELAY\n",
        "            \n",
        "            \"\"\", con = sqlite3.connect('mydb_'))\n",
        "# return your first five rows\n"
      ],
      "metadata": {
        "id": "IVnZfBNOl0v-"
      },
      "execution_count": 184,
      "outputs": []
    },
    {
      "cell_type": "code",
      "source": [
        "%%sql\n",
        "SELECT\n",
        "    DEP_DELAY,\n",
        "    AVG(ARR_DELAY) AS arrival_delay,\n",
        "    AVG(ARR_DELAY*ARR_DELAY) - AVG(ARR_DELAY)*AVG(ARR_DELAY) AS stddev_arrival_delay,\n",
        "    COUNT(ARR_DELAY) AS numflights\n",
        "FROM\n",
        "    flights_view_\n",
        "GROUP BY\n",
        "    DEP_DELAY\n",
        "   having DEP_DELAY>0 \n",
        "ORDER BY DEP_DELAY"
      ],
      "metadata": {
        "colab": {
          "base_uri": "https://localhost:8080/",
          "height": 247
        },
        "id": "HW0-htKCkIAv",
        "outputId": "1c316b25-ef9e-430b-fbff-040162209c19"
      },
      "execution_count": 243,
      "outputs": [
        {
          "output_type": "stream",
          "name": "stdout",
          "text": [
            " * sqlite:///mydb_\n",
            "Done.\n"
          ]
        },
        {
          "output_type": "execute_result",
          "data": {
            "text/plain": [
              "[(1.0, -0.5, 2.25, 2),\n",
              " (2.0, -10.0, 0.0, 1),\n",
              " (6.0, 0.0, 0.0, 1),\n",
              " (10.0, 2.0, 0.0, 1),\n",
              " (13.0, 6.5, 6.25, 2),\n",
              " (18.0, 8.0, 0.0, 1),\n",
              " (28.0, 52.0, 0.0, 1),\n",
              " (46.0, 36.0, 0.0, 1)]"
            ],
            "text/html": [
              "<table>\n",
              "    <thead>\n",
              "        <tr>\n",
              "            <th>DEP_DELAY</th>\n",
              "            <th>arrival_delay</th>\n",
              "            <th>stddev_arrival_delay</th>\n",
              "            <th>numflights</th>\n",
              "        </tr>\n",
              "    </thead>\n",
              "    <tbody>\n",
              "        <tr>\n",
              "            <td>1.0</td>\n",
              "            <td>-0.5</td>\n",
              "            <td>2.25</td>\n",
              "            <td>2</td>\n",
              "        </tr>\n",
              "        <tr>\n",
              "            <td>2.0</td>\n",
              "            <td>-10.0</td>\n",
              "            <td>0.0</td>\n",
              "            <td>1</td>\n",
              "        </tr>\n",
              "        <tr>\n",
              "            <td>6.0</td>\n",
              "            <td>0.0</td>\n",
              "            <td>0.0</td>\n",
              "            <td>1</td>\n",
              "        </tr>\n",
              "        <tr>\n",
              "            <td>10.0</td>\n",
              "            <td>2.0</td>\n",
              "            <td>0.0</td>\n",
              "            <td>1</td>\n",
              "        </tr>\n",
              "        <tr>\n",
              "            <td>13.0</td>\n",
              "            <td>6.5</td>\n",
              "            <td>6.25</td>\n",
              "            <td>2</td>\n",
              "        </tr>\n",
              "        <tr>\n",
              "            <td>18.0</td>\n",
              "            <td>8.0</td>\n",
              "            <td>0.0</td>\n",
              "            <td>1</td>\n",
              "        </tr>\n",
              "        <tr>\n",
              "            <td>28.0</td>\n",
              "            <td>52.0</td>\n",
              "            <td>0.0</td>\n",
              "            <td>1</td>\n",
              "        </tr>\n",
              "        <tr>\n",
              "            <td>46.0</td>\n",
              "            <td>36.0</td>\n",
              "            <td>0.0</td>\n",
              "            <td>1</td>\n",
              "        </tr>\n",
              "    </tbody>\n",
              "</table>"
            ]
          },
          "metadata": {},
          "execution_count": 243
        }
      ]
    },
    {
      "cell_type": "code",
      "source": [
        "ax = df.plot(kind='line', x='DEP_DELAY', \n",
        "              y='arrival_delay', yerr='stddev_arrival_delay')"
      ],
      "metadata": {
        "colab": {
          "base_uri": "https://localhost:8080/",
          "height": 280
        },
        "id": "vJZKBqxgjryu",
        "outputId": "5778a284-4074-4e87-db52-e580148fad93"
      },
      "execution_count": 244,
      "outputs": [
        {
          "output_type": "display_data",
          "data": {
            "text/plain": [
              "<Figure size 432x288 with 1 Axes>"
            ],
            "image/png": "[encoded data removed]"
          },
          "metadata": {}
        }
      ]
    },
    {
      "cell_type": "code",
      "source": [
        "%%sql\n",
        "    SELECT\n",
        "    DEP_DELAY,\n",
        "    APPROX_QUANTILES(ARR_DELAY, 101) arrival_delay,\n",
        "    COUNT(ARR_DELAY) AS numflights\n",
        "FROM\n",
        "    flights_view_\n",
        "GROUP BY\n",
        "    DEP_DELAY\n",
        "ORDER BY DEP_DELAY"
      ],
      "metadata": {
        "colab": {
          "base_uri": "https://localhost:8080/"
        },
        "id": "u0Y9G4BsmsPA",
        "outputId": "d726af95-738e-4314-8565-9bb5d08d0133"
      },
      "execution_count": 187,
      "outputs": [
        {
          "output_type": "stream",
          "name": "stdout",
          "text": [
            " * sqlite:///mydb_\n",
            "(sqlite3.OperationalError) no such function: APPROX_QUANTILES\n",
            "[SQL: SELECT\n",
            "    DEP_DELAY,\n",
            "    APPROX_QUANTILES(ARR_DELAY, 101) arrival_delay,\n",
            "    COUNT(ARR_DELAY) AS numflights\n",
            "FROM\n",
            "    flights_view_\n",
            "GROUP BY\n",
            "    DEP_DELAY\n",
            "ORDER BY DEP_DELAY]\n",
            "(Background on this error at: https://sqlalche.me/e/14/e3q8)\n"
          ]
        }
      ]
    },
    {
      "cell_type": "code",
      "source": [
        "import pandas as pd\n",
        "df = pd.read_sql(\"\"\"\n",
        "    SELECT\n",
        "    DEP_DELAY,\n",
        "    APPROX_QUANTILES(ARR_DELAY, 101) AS arrival_delay,\n",
        "    COUNT(ARR_DELAY) AS numflights\n",
        "FROM\n",
        "    flights_view_\n",
        "GROUP BY\n",
        "    DEP_DELAY\n",
        "ORDER BY DEP_DELAY\n",
        "            \n",
        "            \"\"\", con = sqlite3.connect('mydb_'))\n",
        "# return your first five rows\n"
      ],
      "metadata": {
        "id": "RbsKLQQImfPo"
      },
      "execution_count": null,
      "outputs": []
    },
    {
      "cell_type": "code",
      "source": [
        "z=x-mean/s.d\n",
        "x=\n",
        "z*s.d+mean\n",
        "z score for 30% probablity is 0.52"
      ],
      "metadata": {
        "id": "BS77xjGeFWTs"
      },
      "execution_count": null,
      "outputs": []
    },
    {
      "cell_type": "code",
      "source": [
        "df['arr_delay_30'] = (0.52 * df['stddev_arrival_delay']) \\\n",
        "             + df['arrival_delay']\n",
        "x=df['arr_delay_30']\n",
        "x"
      ],
      "metadata": {
        "colab": {
          "base_uri": "https://localhost:8080/"
        },
        "id": "txQIZVSgmG8-",
        "outputId": "ff495d7d-93c5-4a94-dafc-457827da0f27"
      },
      "execution_count": 245,
      "outputs": [
        {
          "output_type": "execute_result",
          "data": {
            "text/plain": [
              "0     0.67\n",
              "1   -10.00\n",
              "2     0.00\n",
              "3     2.00\n",
              "4     9.75\n",
              "5     8.00\n",
              "6    52.00\n",
              "7    36.00\n",
              "Name: arr_delay_30, dtype: float64"
            ]
          },
          "metadata": {},
          "execution_count": 245
        }
      ]
    },
    {
      "cell_type": "code",
      "source": [
        "ax = plt.axes()\n",
        "df.plot(kind='line', x='DEP_DELAY', y='arr_delay_30',\n",
        "              ax=ax, ylim=(0,30), xlim=(0,30), legend=False)\n",
        "ax.set_xlabel('Departure Delay (minutes)')\n",
        "ax.set_ylabel('> 30% prob of this\\n Arrival Delay (minutes)');\n",
        "\n",
        "x = np.arange(-30, 30)\n",
        "y = np.ones_like(x) * 15\n",
        "ax.plot(x, y, 'r.');\n",
        "\n",
        "y = np.arange(-30, 30)\n",
        "x = np.ones_like(y) * 13\n",
        "ax.plot(x, y, 'g.');"
      ],
      "metadata": {
        "colab": {
          "base_uri": "https://localhost:8080/",
          "height": 283
        },
        "id": "Gqn-zL1RHZXD",
        "outputId": "c6101edc-9acb-4198-91aa-2f9c1854d4a1"
      },
      "execution_count": 189,
      "outputs": [
        {
          "output_type": "display_data",
          "data": {
            "text/plain": [
              "<Figure size 432x288 with 1 Axes>"
            ],
            "image/png": "[encoded data removed]"
          },
          "metadata": {}
        }
      ]
    },
    {
      "cell_type": "code",
      "source": [
        "#if your departure delay is 19 min more tha your 30% likelihood of arrival >15\n",
        "#you will cancel meeting if likelyhood 30 % or more\n",
        "#here data is  normally distributed"
      ],
      "metadata": {
        "id": "jszeIK-YH0j5"
      },
      "execution_count": null,
      "outputs": []
    },
    {
      "cell_type": "code",
      "source": [
        "ax = plt.axes()\n",
        "df.plot(kind='line', x='DEP_DELAY', y='arrival_delay',\n",
        "              ax=ax, ylim=(0,30), xlim=(0,30), legend=False)\n",
        "ax.set_xlabel('Departure Delay (minutes)')\n",
        "ax.set_ylabel('> 30% prob of this\\n Arrival Delay (minutes)');\n",
        "\n",
        "x = np.arange(0, 30)\n",
        "y = np.ones_like(x) * 15\n",
        "ax.plot(x, y, 'r.');\n",
        "\n",
        "y = np.arange(0, 30)\n",
        "x = np.ones_like(y) * 16\n",
        "ax.plot(x, y, 'g.');"
      ],
      "metadata": {
        "colab": {
          "base_uri": "https://localhost:8080/",
          "height": 283
        },
        "id": "oTBOI8qGmTyt",
        "outputId": "9ff22e75-c02c-42a8-826c-76ad6328249d"
      },
      "execution_count": 246,
      "outputs": [
        {
          "output_type": "display_data",
          "data": {
            "text/plain": [
              "<Figure size 432x288 with 1 Axes>"
            ],
            "image/png": "[encoded data removed]"
          },
          "metadata": {}
        }
      ]
    },
    {
      "cell_type": "code",
      "source": [
        "%pip freeze"
      ],
      "metadata": {
        "id": "Vk50L_VMB6ia"
      },
      "execution_count": null,
      "outputs": []
    },
    {
      "cell_type": "code",
      "source": [
        "%pip install google-cloud"
      ],
      "metadata": {
        "colab": {
          "base_uri": "https://localhost:8080/"
        },
        "id": "xpB4oIdcCNRf",
        "outputId": "7dd9d698-1634-40b3-cce2-1d6fd51e7dc4"
      },
      "execution_count": 110,
      "outputs": [
        {
          "output_type": "stream",
          "name": "stdout",
          "text": [
            "Looking in indexes: https://pypi.org/simple, https://us-python.pkg.dev/colab-wheels/public/simple/\n",
            "Collecting google-cloud\n",
            "  Downloading google_cloud-0.34.0-py2.py3-none-any.whl (1.8 kB)\n",
            "Installing collected packages: google-cloud\n",
            "Successfully installed google-cloud-0.34.0\n"
          ]
        }
      ]
    },
    {
      "cell_type": "code",
      "source": [
        "#test model"
      ],
      "metadata": {
        "colab": {
          "base_uri": "https://localhost:8080/"
        },
        "id": "rhqyUjJFCBRO",
        "outputId": "46ac2850-d505-4c22-f30f-ea8853666e46"
      },
      "execution_count": 111,
      "outputs": [
        {
          "output_type": "stream",
          "name": "stderr",
          "text": [
            "\n",
            "ERROR:\n",
            " (\"Failed to retrieve http://metadata.google.internal/computeMetadata/v1/instance/service-accounts/default/?recursive=true from the Google Compute Engine metadata service. Status: 404 Response:\\nb''\", <google.auth.transport.requests._Response object at 0x7faa68640d30>)\n"
          ]
        }
      ]
    },
    {
      "cell_type": "code",
      "source": [
        "#confusion matrix\n",
        "%%sql\n",
        "SELECT\n",
        "  SUM(case when DEP_DELAY < -10  AND arr_delay < 0  then 1 else 0 end ) AS correct_nocancel,\n",
        "  SUM(case when DEP_DELAY < -10  AND arr_delay >= 0  then 1 else 0 end ) AS wrong_nocancel,\n",
        "  SUM(case when DEP_DELAY >= -10  AND arr_delay <0  then 1 else 0 end ) AS wrong_cancel,\n",
        "  SUM(case when DEP_DELAY >= -10  AND arr_delay >= 0  then 1 else 0 end ) AS correct_cancel\n",
        "\n",
        "FROM (\n",
        "  SELECT\n",
        "    DEP_DELAY,\n",
        "    ARR_DELAY\n",
        "  FROM\n",
        "    flights_view_\n",
        "\n",
        " \n",
        ")"
      ],
      "metadata": {
        "colab": {
          "base_uri": "https://localhost:8080/",
          "height": 97
        },
        "id": "F0CREPf0WzsK",
        "outputId": "796f7f75-59c8-4345-d311-b783afce0217"
      },
      "execution_count": 249,
      "outputs": [
        {
          "output_type": "stream",
          "name": "stdout",
          "text": [
            " * sqlite:///mydb_\n",
            "Done.\n"
          ]
        },
        {
          "output_type": "execute_result",
          "data": {
            "text/plain": [
              "[(3, 0, 18, 9)]"
            ],
            "text/html": [
              "<table>\n",
              "    <thead>\n",
              "        <tr>\n",
              "            <th>correct_nocancel</th>\n",
              "            <th>wrong_nocancel</th>\n",
              "            <th>wrong_cancel</th>\n",
              "            <th>correct_cancel</th>\n",
              "        </tr>\n",
              "    </thead>\n",
              "    <tbody>\n",
              "        <tr>\n",
              "            <td>3</td>\n",
              "            <td>0</td>\n",
              "            <td>18</td>\n",
              "            <td>9</td>\n",
              "        </tr>\n",
              "    </tbody>\n",
              "</table>"
            ]
          },
          "metadata": {},
          "execution_count": 249
        }
      ]
    },
    {
      "cell_type": "code",
      "source": [
        "import pandas as pd\n",
        "df_eval = pd.read_sql(\"\"\"\n",
        "         SELECT\n",
        "  SUM(case when DEP_DELAY < -10  AND arr_delay < 0  then 1 else 0 end ) AS correct_nocancel,\n",
        "  SUM(case when DEP_DELAY < -10  AND arr_delay >= 0  then 1 else 0 end ) AS wrong_nocancel,\n",
        "  SUM(case when DEP_DELAY >= -10  AND arr_delay <0  then 1 else 0 end ) AS wrong_cancel,\n",
        "  SUM(case when DEP_DELAY >= -10  AND arr_delay >= 0  then 1 else 0 end ) AS correct_cancel\n",
        "\n",
        "FROM (\n",
        "  SELECT\n",
        "    DEP_DELAY,\n",
        "    ARR_DELAY\n",
        "  FROM\n",
        "    flights_view_\n",
        "\n",
        " \n",
        ")\n",
        "            \n",
        "            \"\"\", con = sqlite3.connect('mydb_'))\n",
        "# return your first five rows\n"
      ],
      "metadata": {
        "id": "m2RZc_erYw1N"
      },
      "execution_count": 250,
      "outputs": []
    },
    {
      "cell_type": "code",
      "source": [
        "#accuracy\n",
        "print(df_eval['correct_nocancel'] /\n",
        "      (df_eval['correct_nocancel'] + df_eval['wrong_nocancel']))\n",
        "print(df_eval['correct_cancel'] / \n",
        "      (df_eval['correct_cancel'] + df_eval['wrong_cancel']))"
      ],
      "metadata": {
        "colab": {
          "base_uri": "https://localhost:8080/"
        },
        "id": "V0dvBGYhYpIu",
        "outputId": "f65b4fec-0e04-417d-8271-21b8912c7719"
      },
      "execution_count": 251,
      "outputs": [
        {
          "output_type": "stream",
          "name": "stdout",
          "text": [
            "0    1.0\n",
            "dtype: float64\n",
            "0    0.333333\n",
            "dtype: float64\n"
          ]
        }
      ]
    }
  ]
}