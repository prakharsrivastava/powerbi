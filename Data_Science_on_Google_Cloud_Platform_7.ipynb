{
  "nbformat": 4,
  "nbformat_minor": 0,
  "metadata": {
    "colab": {
      "provenance": [],
      "authorship_tag": "ABX9TyMLv050Mfo89cZ9mRdpEtcm",
      "include_colab_link": true
    },
    "kernelspec": {
      "name": "python3",
      "display_name": "Python 3"
    },
    "language_info": {
      "name": "python"
    }
  },
  "cells": [
    {
      "cell_type": "markdown",
      "metadata": {
        "id": "view-in-github",
        "colab_type": "text"
      },
      "source": [
        "<a href=\"https://colab.research.google.com/github/prakharsrivastava/powerbi/blob/main/Data_Science_on_Google_Cloud_Platform_7.ipynb\" target=\"_parent\"><img src=\"https://colab.research.google.com/assets/colab-badge.svg\" alt=\"Open In Colab\"/></a>"
      ]
    },
    {
      "cell_type": "code",
      "execution_count": 2,
      "metadata": {
        "colab": {
          "base_uri": "https://localhost:8080/"
        },
        "id": "9monwhdPTKdo",
        "outputId": "782ed3af-3de5-4205-938b-a61ec324a484"
      },
      "outputs": [
        {
          "output_type": "stream",
          "name": "stdout",
          "text": [
            "Drive already mounted at /content/gdrive; to attempt to forcibly remount, call drive.mount(\"/content/gdrive\", force_remount=True).\n",
            "/content/gdrive/MyDrive/chapter2\n"
          ]
        }
      ],
      "source": [
        "from google.colab import drive\n",
        "\n",
        "drive.mount('/content/gdrive')\n",
        "%cd /content/gdrive/MyDrive/chapter2/\n"
      ]
    },
    {
      "cell_type": "code",
      "source": [
        "!pip install findspark \n",
        "!pip install  pyspark\n",
        "\n",
        "\n"
      ],
      "metadata": {
        "colab": {
          "base_uri": "https://localhost:8080/"
        },
        "id": "CFLZxJtGTScw",
        "outputId": "64e9cd53-015c-4e63-c80e-19c276de0bfb"
      },
      "execution_count": 3,
      "outputs": [
        {
          "output_type": "stream",
          "name": "stdout",
          "text": [
            "Looking in indexes: https://pypi.org/simple, https://us-python.pkg.dev/colab-wheels/public/simple/\n",
            "Requirement already satisfied: findspark in /usr/local/lib/python3.8/dist-packages (2.0.1)\n",
            "Looking in indexes: https://pypi.org/simple, https://us-python.pkg.dev/colab-wheels/public/simple/\n",
            "Requirement already satisfied: pyspark in /usr/local/lib/python3.8/dist-packages (3.3.2)\n",
            "Requirement already satisfied: py4j==0.10.9.5 in /usr/local/lib/python3.8/dist-packages (from pyspark) (0.10.9.5)\n"
          ]
        }
      ]
    },
    {
      "cell_type": "code",
      "source": [
        "import findspark\n",
        "import pyspark\n",
        "from pyspark.sql import SparkSession\n",
        "spark = SparkSession.builder.master(\"local[1]\").appName(\"architectinaction.com\").getOrCreate()"
      ],
      "metadata": {
        "id": "VqHKYT-CTUbu"
      },
      "execution_count": 4,
      "outputs": []
    },
    {
      "cell_type": "code",
      "source": [],
      "metadata": {
        "id": "Dm5QmsSxTWYH"
      },
      "execution_count": 4,
      "outputs": []
    },
    {
      "cell_type": "code",
      "source": [
        "%load_ext sql"
      ],
      "metadata": {
        "id": "caqAHYPfTknB"
      },
      "execution_count": 5,
      "outputs": []
    },
    {
      "cell_type": "code",
      "source": [
        "%%sql\n",
        "sqlite:///mydb_"
      ],
      "metadata": {
        "colab": {
          "base_uri": "https://localhost:8080/",
          "height": 35
        },
        "id": "VUh7PelETyNW",
        "outputId": "7e5814d4-d308-4157-b618-073cbb9fcc3c"
      },
      "execution_count": 6,
      "outputs": [
        {
          "output_type": "execute_result",
          "data": {
            "text/plain": [
              "'Connected: @mydb_'"
            ],
            "application/vnd.google.colaboratory.intrinsic+json": {
              "type": "string"
            }
          },
          "metadata": {},
          "execution_count": 6
        }
      ]
    },
    {
      "cell_type": "code",
      "source": [
        "import pandas as pd\n",
        "df = pd.read_json('flights_sample.json',lines=True)\n",
        "\n",
        "import sqlite3\n",
        "conn = sqlite3.connect('mydb_')\n",
        "c = conn.cursor()\n",
        "df.to_sql('flights_view_', conn, if_exists='replace', index = False)"
      ],
      "metadata": {
        "id": "DJxtZTEtbK_U"
      },
      "execution_count": 9,
      "outputs": []
    },
    {
      "cell_type": "code",
      "source": [],
      "metadata": {
        "id": "HcqqMXZwdQcJ"
      },
      "execution_count": null,
      "outputs": []
    },
    {
      "cell_type": "code",
      "source": [
        "%%sql\n",
        "SELECT\n",
        "  *\n",
        "FROM flights_view_"
      ],
      "metadata": {
        "colab": {
          "base_uri": "https://localhost:8080/",
          "height": 174
        },
        "id": "uxitFglUT06y",
        "outputId": "f6c91c5e-681d-4678-b33a-d1333d27aaec"
      },
      "execution_count": 10,
      "outputs": [
        {
          "output_type": "stream",
          "name": "stdout",
          "text": [
            " * sqlite:///mydb_\n",
            "Done.\n"
          ]
        },
        {
          "output_type": "execute_result",
          "data": {
            "text/plain": [
              "[('2015-04-28', 'EV', 1000101, 'ABE', 1000101, 'ATL', 1600, 1555, -5, 7, 1602, 1747, 4, 1809, 1751, -18, 0, 0, 692),\n",
              " ('2015-11-05', 'DL', 1000101, 'ABE', 1000101, 'ATL', 600, 556, -4, 12, 608, 749, 10, 818, 759, -19, 0, 0, 692)]"
            ],
            "text/html": [
              "<table>\n",
              "    <thead>\n",
              "        <tr>\n",
              "            <th>FL_DATE</th>\n",
              "            <th>UNIQUE_CARRIER</th>\n",
              "            <th>ORIGIN_AIRPORT_SEQ_ID</th>\n",
              "            <th>ORIGIN</th>\n",
              "            <th>DEST_AIRPORT_SEQ_ID</th>\n",
              "            <th>DEST</th>\n",
              "            <th>CRS_DEP_TIME</th>\n",
              "            <th>DEP_TIME</th>\n",
              "            <th>DEP_DELAY</th>\n",
              "            <th>TAXI_OUT</th>\n",
              "            <th>WHEELS_OFF</th>\n",
              "            <th>WHEELS_ON</th>\n",
              "            <th>TAXI_IN</th>\n",
              "            <th>CRS_ARR_TIME</th>\n",
              "            <th>ARR_TIME</th>\n",
              "            <th>ARR_DELAY</th>\n",
              "            <th>CANCELLED</th>\n",
              "            <th>DIVERTED</th>\n",
              "            <th>DISTANCE</th>\n",
              "        </tr>\n",
              "    </thead>\n",
              "    <tbody>\n",
              "        <tr>\n",
              "            <td>2015-04-28</td>\n",
              "            <td>EV</td>\n",
              "            <td>1000101</td>\n",
              "            <td>ABE</td>\n",
              "            <td>1000101</td>\n",
              "            <td>ATL</td>\n",
              "            <td>1600</td>\n",
              "            <td>1555</td>\n",
              "            <td>-5</td>\n",
              "            <td>7</td>\n",
              "            <td>1602</td>\n",
              "            <td>1747</td>\n",
              "            <td>4</td>\n",
              "            <td>1809</td>\n",
              "            <td>1751</td>\n",
              "            <td>-18</td>\n",
              "            <td>0</td>\n",
              "            <td>0</td>\n",
              "            <td>692</td>\n",
              "        </tr>\n",
              "        <tr>\n",
              "            <td>2015-11-05</td>\n",
              "            <td>DL</td>\n",
              "            <td>1000101</td>\n",
              "            <td>ABE</td>\n",
              "            <td>1000101</td>\n",
              "            <td>ATL</td>\n",
              "            <td>600</td>\n",
              "            <td>556</td>\n",
              "            <td>-4</td>\n",
              "            <td>12</td>\n",
              "            <td>608</td>\n",
              "            <td>749</td>\n",
              "            <td>10</td>\n",
              "            <td>818</td>\n",
              "            <td>759</td>\n",
              "            <td>-19</td>\n",
              "            <td>0</td>\n",
              "            <td>0</td>\n",
              "            <td>692</td>\n",
              "        </tr>\n",
              "    </tbody>\n",
              "</table>"
            ]
          },
          "metadata": {},
          "execution_count": 10
        }
      ]
    },
    {
      "cell_type": "code",
      "source": [],
      "metadata": {
        "colab": {
          "base_uri": "https://localhost:8080/"
        },
        "id": "c1YFohRtVyTJ",
        "outputId": "4fda82f3-72e1-46b3-f3a6-8bde7f66d054"
      },
      "execution_count": 1,
      "outputs": [
        {
          "output_type": "stream",
          "name": "stderr",
          "text": [
            "UsageError: Cell magic `%%sql` not found.\n"
          ]
        }
      ]
    }
  ]
}