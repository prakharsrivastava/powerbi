{
  "nbformat": 4,
  "nbformat_minor": 0,
  "metadata": {
    "colab": {
      "provenance": [],
      "authorship_tag": "ABX9TyP5jdsO2pd6qLwgunKp+luz",
      "include_colab_link": true
    },
    "kernelspec": {
      "name": "python3",
      "display_name": "Python 3"
    },
    "language_info": {
      "name": "python"
    }
  },
  "cells": [
    {
      "cell_type": "markdown",
      "metadata": {
        "id": "view-in-github",
        "colab_type": "text"
      },
      "source": [
        "<a href=\"https://colab.research.google.com/github/prakharsrivastava/powerbi/blob/main/Data_Science_on_Google_Cloud_Platform_6.ipynb\" target=\"_parent\"><img src=\"https://colab.research.google.com/assets/colab-badge.svg\" alt=\"Open In Colab\"/></a>"
      ]
    },
    {
      "cell_type": "code",
      "execution_count": null,
      "metadata": {
        "id": "26mg58ezve37"
      },
      "outputs": [],
      "source": [
        "import datetime, pytz\n",
        "def utc_convert(date, hhmm, tzone):\n",
        "  loc_tz = pytz.timezone(\"America/Anchorage\")\n",
        "  loc_dt = loc_tz.localize(datetime.datetime.strptime(\"2015-04-28\", '%Y-%m-%d'), is_dst=False)\n",
        "  loc_dt += datetime.timedelta(hours=int(\"1600\"[:2]), minutes=int(\"1600\"[2:]))\n",
        "  utc_dt = loc_dt.astimezone(pytz.utc)      \n",
        "  return utc_dt.strftime('%Y-%m-%d %H:%M:%S')     "
      ]
    },
    {
      "cell_type": "code",
      "source": [
        "from google.colab import drive\n",
        "\n",
        "drive.mount('/content/gdrive')\n",
        "%cd /content/gdrive/MyDrive/chapter2/\n"
      ],
      "metadata": {
        "colab": {
          "base_uri": "https://localhost:8080/"
        },
        "id": "AfGK5AGnvmAB",
        "outputId": "123622c4-ec35-40c5-aee4-d0e764e43a9b"
      },
      "execution_count": 35,
      "outputs": [
        {
          "output_type": "stream",
          "name": "stdout",
          "text": [
            "Drive already mounted at /content/gdrive; to attempt to forcibly remount, call drive.mount(\"/content/gdrive\", force_remount=True).\n",
            "/content/gdrive/MyDrive/chapter2\n"
          ]
        }
      ]
    },
    {
      "cell_type": "code",
      "source": [
        "!pip install findspark \n",
        "!pip install  pyspark\n",
        "\n",
        "\n"
      ],
      "metadata": {
        "colab": {
          "base_uri": "https://localhost:8080/"
        },
        "id": "3gZeSPE6voyd",
        "outputId": "d20f2d7b-02a9-4df2-e2bb-90879db028b6"
      },
      "execution_count": 36,
      "outputs": [
        {
          "output_type": "stream",
          "name": "stdout",
          "text": [
            "Looking in indexes: https://pypi.org/simple, https://us-python.pkg.dev/colab-wheels/public/simple/\n",
            "Requirement already satisfied: findspark in /usr/local/lib/python3.8/dist-packages (2.0.1)\n",
            "Looking in indexes: https://pypi.org/simple, https://us-python.pkg.dev/colab-wheels/public/simple/\n",
            "Requirement already satisfied: pyspark in /usr/local/lib/python3.8/dist-packages (3.3.2)\n",
            "Requirement already satisfied: py4j==0.10.9.5 in /usr/local/lib/python3.8/dist-packages (from pyspark) (0.10.9.5)\n"
          ]
        }
      ]
    },
    {
      "cell_type": "code",
      "source": [
        "import findspark\n",
        "import pyspark\n",
        "from pyspark.sql import SparkSession\n",
        "spark = SparkSession.builder.master(\"local[1]\").appName(\"architectinaction.com\").getOrCreate()"
      ],
      "metadata": {
        "id": "BqbIVIXTvtnQ"
      },
      "execution_count": 37,
      "outputs": []
    },
    {
      "cell_type": "code",
      "source": [
        "import pandas as pd\n",
        "airports = pd.read_csv('airports.csv',low_memory=False,nrows=3)\n",
        "flight = pd.read_json('flights_sample.json',lines=True)\n"
      ],
      "metadata": {
        "id": "xRdPBkIq1xZj"
      },
      "execution_count": 38,
      "outputs": []
    },
    {
      "cell_type": "code",
      "source": [
        "!pip install TimezoneFinder"
      ],
      "metadata": {
        "colab": {
          "base_uri": "https://localhost:8080/"
        },
        "id": "3x_sF-8d4InX",
        "outputId": "b10c9cf7-5b56-43cd-bf6a-6534888a557d"
      },
      "execution_count": null,
      "outputs": [
        {
          "output_type": "stream",
          "name": "stdout",
          "text": [
            "Looking in indexes: https://pypi.org/simple, https://us-python.pkg.dev/colab-wheels/public/simple/\n",
            "Collecting TimezoneFinder\n",
            "  Downloading timezonefinder-6.1.9.tar.gz (46.1 MB)\n",
            "\u001b[2K     \u001b[90m━━━━━━━━━━━━━━━━━━━━━━━━━━━━━━━━━━━━━━━━\u001b[0m \u001b[32m46.1/46.1 MB\u001b[0m \u001b[31m15.5 MB/s\u001b[0m eta \u001b[36m0:00:00\u001b[0m\n",
            "\u001b[?25h  Installing build dependencies ... \u001b[?25l\u001b[?25hdone\n",
            "  Getting requirements to build wheel ... \u001b[?25l\u001b[?25hdone\n",
            "  Preparing metadata (pyproject.toml) ... \u001b[?25l\u001b[?25hdone\n",
            "Requirement already satisfied: numpy<2,>=1.18 in /usr/local/lib/python3.8/dist-packages (from TimezoneFinder) (1.22.4)\n",
            "Collecting setuptools>=65.5\n",
            "  Using cached setuptools-67.4.0-py3-none-any.whl (1.1 MB)\n",
            "Collecting h3<4,>=3.7.6\n",
            "  Downloading h3-3.7.6-cp38-cp38-manylinux_2_17_x86_64.manylinux2014_x86_64.whl (1.1 MB)\n",
            "\u001b[2K     \u001b[90m━━━━━━━━━━━━━━━━━━━━━━━━━━━━━━━━━━━━━━━━\u001b[0m \u001b[32m1.1/1.1 MB\u001b[0m \u001b[31m46.6 MB/s\u001b[0m eta \u001b[36m0:00:00\u001b[0m\n",
            "\u001b[?25hRequirement already satisfied: cffi<2,>=1.15.1 in /usr/local/lib/python3.8/dist-packages (from TimezoneFinder) (1.15.1)\n",
            "Requirement already satisfied: pycparser in /usr/local/lib/python3.8/dist-packages (from cffi<2,>=1.15.1->TimezoneFinder) (2.21)\n",
            "Building wheels for collected packages: TimezoneFinder\n",
            "  Building wheel for TimezoneFinder (pyproject.toml) ... \u001b[?25l\u001b[?25hdone\n",
            "  Created wheel for TimezoneFinder: filename=timezonefinder-6.1.9-cp38-cp38-manylinux_2_31_x86_64.whl size=46080695 sha256=d4fb469b3b6aa0500293393fc6054eced9211d35708ee1af4e9334d0d8c21c8a\n",
            "  Stored in directory: /root/.cache/pip/wheels/88/c4/5c/06aa71590b3f2afef46c2bcedeac1999692037659d66e5ce9d\n",
            "Successfully built TimezoneFinder\n",
            "Installing collected packages: h3, setuptools, TimezoneFinder\n",
            "  Attempting uninstall: setuptools\n",
            "    Found existing installation: setuptools 57.4.0\n",
            "    Uninstalling setuptools-57.4.0:\n",
            "      Successfully uninstalled setuptools-57.4.0\n",
            "\u001b[31mERROR: pip's dependency resolver does not currently take into account all the packages that are installed. This behaviour is the source of the following dependency conflicts.\n",
            "ipython 7.9.0 requires jedi>=0.10, which is not installed.\n",
            "cvxpy 1.2.3 requires setuptools<=64.0.2, but you have setuptools 67.4.0 which is incompatible.\u001b[0m\u001b[31m\n",
            "\u001b[0mSuccessfully installed TimezoneFinder-6.1.9 h3-3.7.6 setuptools-67.4.0\n"
          ]
        }
      ]
    },
    {
      "cell_type": "code",
      "source": [
        "from timezonefinder import TimezoneFinder\n",
        "import pandas as pd\n",
        "\n",
        "my_func = TimezoneFinder().timezone_at  #Note the no parenthesis on the function call!\n",
        "\n",
        "airports['TIMEZONE'] = airports.apply(lambda x: my_func(lng=x['LONGITUDE'], lat=x['LATITUDE']),axis=1)\n",
        "airports"
      ],
      "metadata": {
        "colab": {
          "base_uri": "https://localhost:8080/",
          "height": 254
        },
        "id": "wU7mgCOW4Dat",
        "outputId": "c89df866-75cb-461d-ba8d-bdc9be028abc"
      },
      "execution_count": 39,
      "outputs": [
        {
          "output_type": "execute_result",
          "data": {
            "text/plain": [
              "   AIRPORT_SEQ_ID  AIRPORT_ID AIRPORT     DISPLAY_AIRPORT_NAME  \\\n",
              "0         1000101       10001     01A     Afognak Lake Airport   \n",
              "1         1000301       10003     03A  Bear Creek Mining Strip   \n",
              "2         1000401       10004     04A          Lik Mining Camp   \n",
              "\n",
              "  DISPLAY_AIRPORT_CITY_NAME_FULL  AIRPORT_WAC_SEQ_ID2  AIRPORT_WAC  \\\n",
              "0               Afognak Lake, AK                  101            1   \n",
              "1           Granite Mountain, AK                  101            1   \n",
              "2                        Lik, AK                  101            1   \n",
              "\n",
              "  AIRPORT_COUNTRY_NAME AIRPORT_COUNTRY_CODE_ISO AIRPORT_STATE_NAME  ...  \\\n",
              "0        United States                       US             Alaska  ...   \n",
              "1        United States                       US             Alaska  ...   \n",
              "2        United States                       US             Alaska  ...   \n",
              "\n",
              "  LON_MINUTES  LON_SECONDS   LONGITUDE  UTC_LOCAL_TIME_VARIATION  \\\n",
              "0          54           24 -152.906667                       NaN   \n",
              "1           4           18 -161.071667                       NaN   \n",
              "2          10            0 -163.166667                       NaN   \n",
              "\n",
              "  AIRPORT_START_DATE  AIRPORT_THRU_DATE  AIRPORT_IS_CLOSED  AIRPORT_IS_LATEST  \\\n",
              "0         2007-07-01                NaN                  0                  1   \n",
              "1         2007-07-01                NaN                  0                  1   \n",
              "2         2007-07-01                NaN                  0                  1   \n",
              "\n",
              "  Unnamed: 32           TIMEZONE  \n",
              "0         NaN  America/Anchorage  \n",
              "1         NaN  America/Anchorage  \n",
              "2         NaN       America/Nome  \n",
              "\n",
              "[3 rows x 34 columns]"
            ],
            "text/html": [
              "\n",
              "  <div id=\"df-68dd90b1-90aa-46fe-bef7-4b9b581006fa\">\n",
              "    <div class=\"colab-df-container\">\n",
              "      <div>\n",
              "<style scoped>\n",
              "    .dataframe tbody tr th:only-of-type {\n",
              "        vertical-align: middle;\n",
              "    }\n",
              "\n",
              "    .dataframe tbody tr th {\n",
              "        vertical-align: top;\n",
              "    }\n",
              "\n",
              "    .dataframe thead th {\n",
              "        text-align: right;\n",
              "    }\n",
              "</style>\n",
              "<table border=\"1\" class=\"dataframe\">\n",
              "  <thead>\n",
              "    <tr style=\"text-align: right;\">\n",
              "      <th></th>\n",
              "      <th>AIRPORT_SEQ_ID</th>\n",
              "      <th>AIRPORT_ID</th>\n",
              "      <th>AIRPORT</th>\n",
              "      <th>DISPLAY_AIRPORT_NAME</th>\n",
              "      <th>DISPLAY_AIRPORT_CITY_NAME_FULL</th>\n",
              "      <th>AIRPORT_WAC_SEQ_ID2</th>\n",
              "      <th>AIRPORT_WAC</th>\n",
              "      <th>AIRPORT_COUNTRY_NAME</th>\n",
              "      <th>AIRPORT_COUNTRY_CODE_ISO</th>\n",
              "      <th>AIRPORT_STATE_NAME</th>\n",
              "      <th>...</th>\n",
              "      <th>LON_MINUTES</th>\n",
              "      <th>LON_SECONDS</th>\n",
              "      <th>LONGITUDE</th>\n",
              "      <th>UTC_LOCAL_TIME_VARIATION</th>\n",
              "      <th>AIRPORT_START_DATE</th>\n",
              "      <th>AIRPORT_THRU_DATE</th>\n",
              "      <th>AIRPORT_IS_CLOSED</th>\n",
              "      <th>AIRPORT_IS_LATEST</th>\n",
              "      <th>Unnamed: 32</th>\n",
              "      <th>TIMEZONE</th>\n",
              "    </tr>\n",
              "  </thead>\n",
              "  <tbody>\n",
              "    <tr>\n",
              "      <th>0</th>\n",
              "      <td>1000101</td>\n",
              "      <td>10001</td>\n",
              "      <td>01A</td>\n",
              "      <td>Afognak Lake Airport</td>\n",
              "      <td>Afognak Lake, AK</td>\n",
              "      <td>101</td>\n",
              "      <td>1</td>\n",
              "      <td>United States</td>\n",
              "      <td>US</td>\n",
              "      <td>Alaska</td>\n",
              "      <td>...</td>\n",
              "      <td>54</td>\n",
              "      <td>24</td>\n",
              "      <td>-152.906667</td>\n",
              "      <td>NaN</td>\n",
              "      <td>2007-07-01</td>\n",
              "      <td>NaN</td>\n",
              "      <td>0</td>\n",
              "      <td>1</td>\n",
              "      <td>NaN</td>\n",
              "      <td>America/Anchorage</td>\n",
              "    </tr>\n",
              "    <tr>\n",
              "      <th>1</th>\n",
              "      <td>1000301</td>\n",
              "      <td>10003</td>\n",
              "      <td>03A</td>\n",
              "      <td>Bear Creek Mining Strip</td>\n",
              "      <td>Granite Mountain, AK</td>\n",
              "      <td>101</td>\n",
              "      <td>1</td>\n",
              "      <td>United States</td>\n",
              "      <td>US</td>\n",
              "      <td>Alaska</td>\n",
              "      <td>...</td>\n",
              "      <td>4</td>\n",
              "      <td>18</td>\n",
              "      <td>-161.071667</td>\n",
              "      <td>NaN</td>\n",
              "      <td>2007-07-01</td>\n",
              "      <td>NaN</td>\n",
              "      <td>0</td>\n",
              "      <td>1</td>\n",
              "      <td>NaN</td>\n",
              "      <td>America/Anchorage</td>\n",
              "    </tr>\n",
              "    <tr>\n",
              "      <th>2</th>\n",
              "      <td>1000401</td>\n",
              "      <td>10004</td>\n",
              "      <td>04A</td>\n",
              "      <td>Lik Mining Camp</td>\n",
              "      <td>Lik, AK</td>\n",
              "      <td>101</td>\n",
              "      <td>1</td>\n",
              "      <td>United States</td>\n",
              "      <td>US</td>\n",
              "      <td>Alaska</td>\n",
              "      <td>...</td>\n",
              "      <td>10</td>\n",
              "      <td>0</td>\n",
              "      <td>-163.166667</td>\n",
              "      <td>NaN</td>\n",
              "      <td>2007-07-01</td>\n",
              "      <td>NaN</td>\n",
              "      <td>0</td>\n",
              "      <td>1</td>\n",
              "      <td>NaN</td>\n",
              "      <td>America/Nome</td>\n",
              "    </tr>\n",
              "  </tbody>\n",
              "</table>\n",
              "<p>3 rows × 34 columns</p>\n",
              "</div>\n",
              "      <button class=\"colab-df-convert\" onclick=\"convertToInteractive('df-68dd90b1-90aa-46fe-bef7-4b9b581006fa')\"\n",
              "              title=\"Convert this dataframe to an interactive table.\"\n",
              "              style=\"display:none;\">\n",
              "        \n",
              "  <svg xmlns=\"http://www.w3.org/2000/svg\" height=\"24px\"viewBox=\"0 0 24 24\"\n",
              "       width=\"24px\">\n",
              "    <path d=\"M0 0h24v24H0V0z\" fill=\"none\"/>\n",
              "    <path d=\"M18.56 5.44l.94 2.06.94-2.06 2.06-.94-2.06-.94-.94-2.06-.94 2.06-2.06.94zm-11 1L8.5 8.5l.94-2.06 2.06-.94-2.06-.94L8.5 2.5l-.94 2.06-2.06.94zm10 10l.94 2.06.94-2.06 2.06-.94-2.06-.94-.94-2.06-.94 2.06-2.06.94z\"/><path d=\"M17.41 7.96l-1.37-1.37c-.4-.4-.92-.59-1.43-.59-.52 0-1.04.2-1.43.59L10.3 9.45l-7.72 7.72c-.78.78-.78 2.05 0 2.83L4 21.41c.39.39.9.59 1.41.59.51 0 1.02-.2 1.41-.59l7.78-7.78 2.81-2.81c.8-.78.8-2.07 0-2.86zM5.41 20L4 18.59l7.72-7.72 1.47 1.35L5.41 20z\"/>\n",
              "  </svg>\n",
              "      </button>\n",
              "      \n",
              "  <style>\n",
              "    .colab-df-container {\n",
              "      display:flex;\n",
              "      flex-wrap:wrap;\n",
              "      gap: 12px;\n",
              "    }\n",
              "\n",
              "    .colab-df-convert {\n",
              "      background-color: #E8F0FE;\n",
              "      border: none;\n",
              "      border-radius: 50%;\n",
              "      cursor: pointer;\n",
              "      display: none;\n",
              "      fill: #1967D2;\n",
              "      height: 32px;\n",
              "      padding: 0 0 0 0;\n",
              "      width: 32px;\n",
              "    }\n",
              "\n",
              "    .colab-df-convert:hover {\n",
              "      background-color: #E2EBFA;\n",
              "      box-shadow: 0px 1px 2px rgba(60, 64, 67, 0.3), 0px 1px 3px 1px rgba(60, 64, 67, 0.15);\n",
              "      fill: #174EA6;\n",
              "    }\n",
              "\n",
              "    [theme=dark] .colab-df-convert {\n",
              "      background-color: #3B4455;\n",
              "      fill: #D2E3FC;\n",
              "    }\n",
              "\n",
              "    [theme=dark] .colab-df-convert:hover {\n",
              "      background-color: #434B5C;\n",
              "      box-shadow: 0px 1px 3px 1px rgba(0, 0, 0, 0.15);\n",
              "      filter: drop-shadow(0px 1px 2px rgba(0, 0, 0, 0.3));\n",
              "      fill: #FFFFFF;\n",
              "    }\n",
              "  </style>\n",
              "\n",
              "      <script>\n",
              "        const buttonEl =\n",
              "          document.querySelector('#df-68dd90b1-90aa-46fe-bef7-4b9b581006fa button.colab-df-convert');\n",
              "        buttonEl.style.display =\n",
              "          google.colab.kernel.accessAllowed ? 'block' : 'none';\n",
              "\n",
              "        async function convertToInteractive(key) {\n",
              "          const element = document.querySelector('#df-68dd90b1-90aa-46fe-bef7-4b9b581006fa');\n",
              "          const dataTable =\n",
              "            await google.colab.kernel.invokeFunction('convertToInteractive',\n",
              "                                                     [key], {});\n",
              "          if (!dataTable) return;\n",
              "\n",
              "          const docLinkHtml = 'Like what you see? Visit the ' +\n",
              "            '<a target=\"_blank\" href=https://colab.research.google.com/notebooks/data_table.ipynb>data table notebook</a>'\n",
              "            + ' to learn more about interactive tables.';\n",
              "          element.innerHTML = '';\n",
              "          dataTable['output_type'] = 'display_data';\n",
              "          await google.colab.output.renderOutput(dataTable, element);\n",
              "          const docLink = document.createElement('div');\n",
              "          docLink.innerHTML = docLinkHtml;\n",
              "          element.appendChild(docLink);\n",
              "        }\n",
              "      </script>\n",
              "    </div>\n",
              "  </div>\n",
              "  "
            ]
          },
          "metadata": {},
          "execution_count": 39
        }
      ]
    },
    {
      "cell_type": "code",
      "source": [
        "sparkAirportsDF=spark.createDataFrame(airports)\n",
        "sparkFlightDF=spark.createDataFrame(flight)"
      ],
      "metadata": {
        "id": "5AeBeaBRvyCi"
      },
      "execution_count": 40,
      "outputs": []
    },
    {
      "cell_type": "code",
      "source": [
        "sparkAirportsDF.show(10)"
      ],
      "metadata": {
        "colab": {
          "base_uri": "https://localhost:8080/"
        },
        "id": "odEfSYLX4WFU",
        "outputId": "887e6fed-642a-4460-ecb1-98ad14b2bafb"
      },
      "execution_count": null,
      "outputs": [
        {
          "output_type": "stream",
          "name": "stdout",
          "text": [
            "+--------------+----------+-------+--------------------+------------------------------+-------------------+-----------+--------------------+------------------------+------------------+------------------+------------------+------------------+--------------+-----------------------------+-----------------------+---------------+-----------+--------------+-----------+-----------+-----------+-----------+--------------+-----------+-----------+-------------+------------------------+------------------+-----------------+-----------------+-----------------+-----------+-----------------+\n",
            "|AIRPORT_SEQ_ID|AIRPORT_ID|AIRPORT|DISPLAY_AIRPORT_NAME|DISPLAY_AIRPORT_CITY_NAME_FULL|AIRPORT_WAC_SEQ_ID2|AIRPORT_WAC|AIRPORT_COUNTRY_NAME|AIRPORT_COUNTRY_CODE_ISO|AIRPORT_STATE_NAME|AIRPORT_STATE_CODE|AIRPORT_STATE_FIPS|CITY_MARKET_SEQ_ID|CITY_MARKET_ID|DISPLAY_CITY_MARKET_NAME_FULL|CITY_MARKET_WAC_SEQ_ID2|CITY_MARKET_WAC|LAT_DEGREES|LAT_HEMISPHERE|LAT_MINUTES|LAT_SECONDS|   LATITUDE|LON_DEGREES|LON_HEMISPHERE|LON_MINUTES|LON_SECONDS|    LONGITUDE|UTC_LOCAL_TIME_VARIATION|AIRPORT_START_DATE|AIRPORT_THRU_DATE|AIRPORT_IS_CLOSED|AIRPORT_IS_LATEST|Unnamed: 32|         TIMEZONE|\n",
            "+--------------+----------+-------+--------------------+------------------------------+-------------------+-----------+--------------------+------------------------+------------------+------------------+------------------+------------------+--------------+-----------------------------+-----------------------+---------------+-----------+--------------+-----------+-----------+-----------+-----------+--------------+-----------+-----------+-------------+------------------------+------------------+-----------------+-----------------+-----------------+-----------+-----------------+\n",
            "|       1000101|     10001|    01A|Afognak Lake Airport|              Afognak Lake, AK|                101|          1|       United States|                      US|            Alaska|                AK|                 2|           3000101|         30001|             Afognak Lake, AK|                    101|              1|         58|             N|          6|         34|58.10944444|        152|             W|         54|         24|-152.90666667|                     NaN|        2007-07-01|              NaN|                0|                1|        NaN|America/Anchorage|\n",
            "|       1000301|     10003|    03A|Bear Creek Mining...|          Granite Mountain, AK|                101|          1|       United States|                      US|            Alaska|                AK|                 2|           3000301|         30003|         Granite Mountain, AK|                    101|              1|         65|             N|         32|         53|65.54805556|        161|             W|          4|         18|-161.07166667|                     NaN|        2007-07-01|              NaN|                0|                1|        NaN|America/Anchorage|\n",
            "|       1000401|     10004|    04A|     Lik Mining Camp|                       Lik, AK|                101|          1|       United States|                      US|            Alaska|                AK|                 2|           3000401|         30004|                      Lik, AK|                    101|              1|         68|             N|          5|          0|68.08333333|        163|             W|         10|          0|-163.16666667|                     NaN|        2007-07-01|              NaN|                0|                1|        NaN|     America/Nome|\n",
            "+--------------+----------+-------+--------------------+------------------------------+-------------------+-----------+--------------------+------------------------+------------------+------------------+------------------+------------------+--------------+-----------------------------+-----------------------+---------------+-----------+--------------+-----------+-----------+-----------+-----------+--------------+-----------+-----------+-------------+------------------------+------------------+-----------------+-----------------+-----------------+-----------+-----------------+\n",
            "\n"
          ]
        }
      ]
    },
    {
      "cell_type": "code",
      "source": [
        "sparkFlightDF.show(10)"
      ],
      "metadata": {
        "colab": {
          "base_uri": "https://localhost:8080/"
        },
        "id": "teIXTzQq2EYI",
        "outputId": "6c42b093-6bbd-4ed2-b6c6-3b01fecc5eb7"
      },
      "execution_count": null,
      "outputs": [
        {
          "output_type": "stream",
          "name": "stdout",
          "text": [
            "+--------------+----------+-------+--------------------+------------------------------+-------------------+-----------+--------------------+------------------------+------------------+------------------+------------------+------------------+--------------+-----------------------------+-----------------------+---------------+-----------+--------------+-----------+-----------+-----------+-----------+--------------+-----------+-----------+-------------+------------------------+------------------+-----------------+-----------------+-----------------+-----------+\n",
            "|AIRPORT_SEQ_ID|AIRPORT_ID|AIRPORT|DISPLAY_AIRPORT_NAME|DISPLAY_AIRPORT_CITY_NAME_FULL|AIRPORT_WAC_SEQ_ID2|AIRPORT_WAC|AIRPORT_COUNTRY_NAME|AIRPORT_COUNTRY_CODE_ISO|AIRPORT_STATE_NAME|AIRPORT_STATE_CODE|AIRPORT_STATE_FIPS|CITY_MARKET_SEQ_ID|CITY_MARKET_ID|DISPLAY_CITY_MARKET_NAME_FULL|CITY_MARKET_WAC_SEQ_ID2|CITY_MARKET_WAC|LAT_DEGREES|LAT_HEMISPHERE|LAT_MINUTES|LAT_SECONDS|   LATITUDE|LON_DEGREES|LON_HEMISPHERE|LON_MINUTES|LON_SECONDS|    LONGITUDE|UTC_LOCAL_TIME_VARIATION|AIRPORT_START_DATE|AIRPORT_THRU_DATE|AIRPORT_IS_CLOSED|AIRPORT_IS_LATEST|Unnamed: 32|\n",
            "+--------------+----------+-------+--------------------+------------------------------+-------------------+-----------+--------------------+------------------------+------------------+------------------+------------------+------------------+--------------+-----------------------------+-----------------------+---------------+-----------+--------------+-----------+-----------+-----------+-----------+--------------+-----------+-----------+-------------+------------------------+------------------+-----------------+-----------------+-----------------+-----------+\n",
            "|       1000101|     10001|    01A|Afognak Lake Airport|              Afognak Lake, AK|                101|          1|       United States|                      US|            Alaska|                AK|                 2|           3000101|         30001|             Afognak Lake, AK|                    101|              1|         58|             N|          6|         34|58.10944444|        152|             W|         54|         24|-152.90666667|                     NaN|        2007-07-01|              NaN|                0|                1|        NaN|\n",
            "|       1000301|     10003|    03A|Bear Creek Mining...|          Granite Mountain, AK|                101|          1|       United States|                      US|            Alaska|                AK|                 2|           3000301|         30003|         Granite Mountain, AK|                    101|              1|         65|             N|         32|         53|65.54805556|        161|             W|          4|         18|-161.07166667|                     NaN|        2007-07-01|              NaN|                0|                1|        NaN|\n",
            "|       1000401|     10004|    04A|     Lik Mining Camp|                       Lik, AK|                101|          1|       United States|                      US|            Alaska|                AK|                 2|           3000401|         30004|                      Lik, AK|                    101|              1|         68|             N|          5|          0|68.08333333|        163|             W|         10|          0|-163.16666667|                     NaN|        2007-07-01|              NaN|                0|                1|        NaN|\n",
            "+--------------+----------+-------+--------------------+------------------------------+-------------------+-----------+--------------------+------------------------+------------------+------------------+------------------+------------------+--------------+-----------------------------+-----------------------+---------------+-----------+--------------+-----------+-----------+-----------+-----------+--------------+-----------+-----------+-------------+------------------------+------------------+-----------------+-----------------+-----------------+-----------+\n",
            "\n"
          ]
        }
      ]
    },
    {
      "cell_type": "code",
      "source": [
        "sparkAirportsPandas = sparkAirportsDF.toPandas()\n",
        "sparkAirportsPandas"
      ],
      "metadata": {
        "colab": {
          "base_uri": "https://localhost:8080/",
          "height": 254
        },
        "id": "Mw6nxSMa2Tju",
        "outputId": "6f545c53-93fd-4ab4-8884-20d75b1b653a"
      },
      "execution_count": null,
      "outputs": [
        {
          "output_type": "execute_result",
          "data": {
            "text/plain": [
              "   AIRPORT_SEQ_ID  AIRPORT_ID AIRPORT     DISPLAY_AIRPORT_NAME  \\\n",
              "0         1000101       10001     01A     Afognak Lake Airport   \n",
              "1         1000301       10003     03A  Bear Creek Mining Strip   \n",
              "2         1000401       10004     04A          Lik Mining Camp   \n",
              "\n",
              "  DISPLAY_AIRPORT_CITY_NAME_FULL  AIRPORT_WAC_SEQ_ID2  AIRPORT_WAC  \\\n",
              "0               Afognak Lake, AK                  101            1   \n",
              "1           Granite Mountain, AK                  101            1   \n",
              "2                        Lik, AK                  101            1   \n",
              "\n",
              "  AIRPORT_COUNTRY_NAME AIRPORT_COUNTRY_CODE_ISO AIRPORT_STATE_NAME  ...  \\\n",
              "0        United States                       US             Alaska  ...   \n",
              "1        United States                       US             Alaska  ...   \n",
              "2        United States                       US             Alaska  ...   \n",
              "\n",
              "  LON_HEMISPHERE  LON_MINUTES  LON_SECONDS   LONGITUDE  \\\n",
              "0              W           54           24 -152.906667   \n",
              "1              W            4           18 -161.071667   \n",
              "2              W           10            0 -163.166667   \n",
              "\n",
              "  UTC_LOCAL_TIME_VARIATION  AIRPORT_START_DATE  AIRPORT_THRU_DATE  \\\n",
              "0                      NaN          2007-07-01                NaN   \n",
              "1                      NaN          2007-07-01                NaN   \n",
              "2                      NaN          2007-07-01                NaN   \n",
              "\n",
              "   AIRPORT_IS_CLOSED AIRPORT_IS_LATEST  Unnamed: 32  \n",
              "0                  0                 1          NaN  \n",
              "1                  0                 1          NaN  \n",
              "2                  0                 1          NaN  \n",
              "\n",
              "[3 rows x 33 columns]"
            ],
            "text/html": [
              "\n",
              "  <div id=\"df-8e964f6b-c43d-4dc3-a122-364930376684\">\n",
              "    <div class=\"colab-df-container\">\n",
              "      <div>\n",
              "<style scoped>\n",
              "    .dataframe tbody tr th:only-of-type {\n",
              "        vertical-align: middle;\n",
              "    }\n",
              "\n",
              "    .dataframe tbody tr th {\n",
              "        vertical-align: top;\n",
              "    }\n",
              "\n",
              "    .dataframe thead th {\n",
              "        text-align: right;\n",
              "    }\n",
              "</style>\n",
              "<table border=\"1\" class=\"dataframe\">\n",
              "  <thead>\n",
              "    <tr style=\"text-align: right;\">\n",
              "      <th></th>\n",
              "      <th>AIRPORT_SEQ_ID</th>\n",
              "      <th>AIRPORT_ID</th>\n",
              "      <th>AIRPORT</th>\n",
              "      <th>DISPLAY_AIRPORT_NAME</th>\n",
              "      <th>DISPLAY_AIRPORT_CITY_NAME_FULL</th>\n",
              "      <th>AIRPORT_WAC_SEQ_ID2</th>\n",
              "      <th>AIRPORT_WAC</th>\n",
              "      <th>AIRPORT_COUNTRY_NAME</th>\n",
              "      <th>AIRPORT_COUNTRY_CODE_ISO</th>\n",
              "      <th>AIRPORT_STATE_NAME</th>\n",
              "      <th>...</th>\n",
              "      <th>LON_HEMISPHERE</th>\n",
              "      <th>LON_MINUTES</th>\n",
              "      <th>LON_SECONDS</th>\n",
              "      <th>LONGITUDE</th>\n",
              "      <th>UTC_LOCAL_TIME_VARIATION</th>\n",
              "      <th>AIRPORT_START_DATE</th>\n",
              "      <th>AIRPORT_THRU_DATE</th>\n",
              "      <th>AIRPORT_IS_CLOSED</th>\n",
              "      <th>AIRPORT_IS_LATEST</th>\n",
              "      <th>Unnamed: 32</th>\n",
              "    </tr>\n",
              "  </thead>\n",
              "  <tbody>\n",
              "    <tr>\n",
              "      <th>0</th>\n",
              "      <td>1000101</td>\n",
              "      <td>10001</td>\n",
              "      <td>01A</td>\n",
              "      <td>Afognak Lake Airport</td>\n",
              "      <td>Afognak Lake, AK</td>\n",
              "      <td>101</td>\n",
              "      <td>1</td>\n",
              "      <td>United States</td>\n",
              "      <td>US</td>\n",
              "      <td>Alaska</td>\n",
              "      <td>...</td>\n",
              "      <td>W</td>\n",
              "      <td>54</td>\n",
              "      <td>24</td>\n",
              "      <td>-152.906667</td>\n",
              "      <td>NaN</td>\n",
              "      <td>2007-07-01</td>\n",
              "      <td>NaN</td>\n",
              "      <td>0</td>\n",
              "      <td>1</td>\n",
              "      <td>NaN</td>\n",
              "    </tr>\n",
              "    <tr>\n",
              "      <th>1</th>\n",
              "      <td>1000301</td>\n",
              "      <td>10003</td>\n",
              "      <td>03A</td>\n",
              "      <td>Bear Creek Mining Strip</td>\n",
              "      <td>Granite Mountain, AK</td>\n",
              "      <td>101</td>\n",
              "      <td>1</td>\n",
              "      <td>United States</td>\n",
              "      <td>US</td>\n",
              "      <td>Alaska</td>\n",
              "      <td>...</td>\n",
              "      <td>W</td>\n",
              "      <td>4</td>\n",
              "      <td>18</td>\n",
              "      <td>-161.071667</td>\n",
              "      <td>NaN</td>\n",
              "      <td>2007-07-01</td>\n",
              "      <td>NaN</td>\n",
              "      <td>0</td>\n",
              "      <td>1</td>\n",
              "      <td>NaN</td>\n",
              "    </tr>\n",
              "    <tr>\n",
              "      <th>2</th>\n",
              "      <td>1000401</td>\n",
              "      <td>10004</td>\n",
              "      <td>04A</td>\n",
              "      <td>Lik Mining Camp</td>\n",
              "      <td>Lik, AK</td>\n",
              "      <td>101</td>\n",
              "      <td>1</td>\n",
              "      <td>United States</td>\n",
              "      <td>US</td>\n",
              "      <td>Alaska</td>\n",
              "      <td>...</td>\n",
              "      <td>W</td>\n",
              "      <td>10</td>\n",
              "      <td>0</td>\n",
              "      <td>-163.166667</td>\n",
              "      <td>NaN</td>\n",
              "      <td>2007-07-01</td>\n",
              "      <td>NaN</td>\n",
              "      <td>0</td>\n",
              "      <td>1</td>\n",
              "      <td>NaN</td>\n",
              "    </tr>\n",
              "  </tbody>\n",
              "</table>\n",
              "<p>3 rows × 33 columns</p>\n",
              "</div>\n",
              "      <button class=\"colab-df-convert\" onclick=\"convertToInteractive('df-8e964f6b-c43d-4dc3-a122-364930376684')\"\n",
              "              title=\"Convert this dataframe to an interactive table.\"\n",
              "              style=\"display:none;\">\n",
              "        \n",
              "  <svg xmlns=\"http://www.w3.org/2000/svg\" height=\"24px\"viewBox=\"0 0 24 24\"\n",
              "       width=\"24px\">\n",
              "    <path d=\"M0 0h24v24H0V0z\" fill=\"none\"/>\n",
              "    <path d=\"M18.56 5.44l.94 2.06.94-2.06 2.06-.94-2.06-.94-.94-2.06-.94 2.06-2.06.94zm-11 1L8.5 8.5l.94-2.06 2.06-.94-2.06-.94L8.5 2.5l-.94 2.06-2.06.94zm10 10l.94 2.06.94-2.06 2.06-.94-2.06-.94-.94-2.06-.94 2.06-2.06.94z\"/><path d=\"M17.41 7.96l-1.37-1.37c-.4-.4-.92-.59-1.43-.59-.52 0-1.04.2-1.43.59L10.3 9.45l-7.72 7.72c-.78.78-.78 2.05 0 2.83L4 21.41c.39.39.9.59 1.41.59.51 0 1.02-.2 1.41-.59l7.78-7.78 2.81-2.81c.8-.78.8-2.07 0-2.86zM5.41 20L4 18.59l7.72-7.72 1.47 1.35L5.41 20z\"/>\n",
              "  </svg>\n",
              "      </button>\n",
              "      \n",
              "  <style>\n",
              "    .colab-df-container {\n",
              "      display:flex;\n",
              "      flex-wrap:wrap;\n",
              "      gap: 12px;\n",
              "    }\n",
              "\n",
              "    .colab-df-convert {\n",
              "      background-color: #E8F0FE;\n",
              "      border: none;\n",
              "      border-radius: 50%;\n",
              "      cursor: pointer;\n",
              "      display: none;\n",
              "      fill: #1967D2;\n",
              "      height: 32px;\n",
              "      padding: 0 0 0 0;\n",
              "      width: 32px;\n",
              "    }\n",
              "\n",
              "    .colab-df-convert:hover {\n",
              "      background-color: #E2EBFA;\n",
              "      box-shadow: 0px 1px 2px rgba(60, 64, 67, 0.3), 0px 1px 3px 1px rgba(60, 64, 67, 0.15);\n",
              "      fill: #174EA6;\n",
              "    }\n",
              "\n",
              "    [theme=dark] .colab-df-convert {\n",
              "      background-color: #3B4455;\n",
              "      fill: #D2E3FC;\n",
              "    }\n",
              "\n",
              "    [theme=dark] .colab-df-convert:hover {\n",
              "      background-color: #434B5C;\n",
              "      box-shadow: 0px 1px 3px 1px rgba(0, 0, 0, 0.15);\n",
              "      filter: drop-shadow(0px 1px 2px rgba(0, 0, 0, 0.3));\n",
              "      fill: #FFFFFF;\n",
              "    }\n",
              "  </style>\n",
              "\n",
              "      <script>\n",
              "        const buttonEl =\n",
              "          document.querySelector('#df-8e964f6b-c43d-4dc3-a122-364930376684 button.colab-df-convert');\n",
              "        buttonEl.style.display =\n",
              "          google.colab.kernel.accessAllowed ? 'block' : 'none';\n",
              "\n",
              "        async function convertToInteractive(key) {\n",
              "          const element = document.querySelector('#df-8e964f6b-c43d-4dc3-a122-364930376684');\n",
              "          const dataTable =\n",
              "            await google.colab.kernel.invokeFunction('convertToInteractive',\n",
              "                                                     [key], {});\n",
              "          if (!dataTable) return;\n",
              "\n",
              "          const docLinkHtml = 'Like what you see? Visit the ' +\n",
              "            '<a target=\"_blank\" href=https://colab.research.google.com/notebooks/data_table.ipynb>data table notebook</a>'\n",
              "            + ' to learn more about interactive tables.';\n",
              "          element.innerHTML = '';\n",
              "          dataTable['output_type'] = 'display_data';\n",
              "          await google.colab.output.renderOutput(dataTable, element);\n",
              "          const docLink = document.createElement('div');\n",
              "          docLink.innerHTML = docLinkHtml;\n",
              "          element.appendChild(docLink);\n",
              "        }\n",
              "      </script>\n",
              "    </div>\n",
              "  </div>\n",
              "  "
            ]
          },
          "metadata": {},
          "execution_count": 14
        }
      ]
    },
    {
      "cell_type": "code",
      "source": [
        "sparkAirportsDF=spark.createDataFrame(airports)\n",
        "sparkFlightDF=spark.createDataFrame(flight)"
      ],
      "metadata": {
        "id": "DMRR6Qbq2fmm"
      },
      "execution_count": 41,
      "outputs": []
    },
    {
      "cell_type": "code",
      "source": [
        "import pyspark\n",
        "from pyspark.sql.functions import *\n",
        "joindf=sparkAirportsDF.alias(\"sparkAirportsDF\").join(sparkFlightDF.alias(\"sparkFlightDF\"), \\\n",
        "    col(\"sparkAirportsDF.AIRPORT_SEQ_ID\") == col(\"sparkFlightDF.ORIGIN_AIRPORT_SEQ_ID\"),\"inner\") \n",
        "joindf .show(truncate=False)"
      ],
      "metadata": {
        "colab": {
          "base_uri": "https://localhost:8080/"
        },
        "id": "PWuv2TlP2qgk",
        "outputId": "e234a948-9ec3-4994-8cea-0be4c47788d5"
      },
      "execution_count": 42,
      "outputs": [
        {
          "output_type": "stream",
          "name": "stdout",
          "text": [
            "+--------------+----------+-------+--------------------+------------------------------+-------------------+-----------+--------------------+------------------------+------------------+------------------+------------------+------------------+--------------+-----------------------------+-----------------------+---------------+-----------+--------------+-----------+-----------+-----------+-----------+--------------+-----------+-----------+-------------+------------------------+------------------+-----------------+-----------------+-----------------+-----------+-----------------+----------+--------------+---------------------+------+-------------------+----+------------+--------+---------+--------+----------+---------+-------+------------+--------+---------+---------+--------+--------+\n",
            "|AIRPORT_SEQ_ID|AIRPORT_ID|AIRPORT|DISPLAY_AIRPORT_NAME|DISPLAY_AIRPORT_CITY_NAME_FULL|AIRPORT_WAC_SEQ_ID2|AIRPORT_WAC|AIRPORT_COUNTRY_NAME|AIRPORT_COUNTRY_CODE_ISO|AIRPORT_STATE_NAME|AIRPORT_STATE_CODE|AIRPORT_STATE_FIPS|CITY_MARKET_SEQ_ID|CITY_MARKET_ID|DISPLAY_CITY_MARKET_NAME_FULL|CITY_MARKET_WAC_SEQ_ID2|CITY_MARKET_WAC|LAT_DEGREES|LAT_HEMISPHERE|LAT_MINUTES|LAT_SECONDS|LATITUDE   |LON_DEGREES|LON_HEMISPHERE|LON_MINUTES|LON_SECONDS|LONGITUDE    |UTC_LOCAL_TIME_VARIATION|AIRPORT_START_DATE|AIRPORT_THRU_DATE|AIRPORT_IS_CLOSED|AIRPORT_IS_LATEST|Unnamed: 32|TIMEZONE         |FL_DATE   |UNIQUE_CARRIER|ORIGIN_AIRPORT_SEQ_ID|ORIGIN|DEST_AIRPORT_SEQ_ID|DEST|CRS_DEP_TIME|DEP_TIME|DEP_DELAY|TAXI_OUT|WHEELS_OFF|WHEELS_ON|TAXI_IN|CRS_ARR_TIME|ARR_TIME|ARR_DELAY|CANCELLED|DIVERTED|DISTANCE|\n",
            "+--------------+----------+-------+--------------------+------------------------------+-------------------+-----------+--------------------+------------------------+------------------+------------------+------------------+------------------+--------------+-----------------------------+-----------------------+---------------+-----------+--------------+-----------+-----------+-----------+-----------+--------------+-----------+-----------+-------------+------------------------+------------------+-----------------+-----------------+-----------------+-----------+-----------------+----------+--------------+---------------------+------+-------------------+----+------------+--------+---------+--------+----------+---------+-------+------------+--------+---------+---------+--------+--------+\n",
            "|1000101       |10001     |01A    |Afognak Lake Airport|Afognak Lake, AK              |101                |1          |United States       |US                      |Alaska            |AK                |2                 |3000101           |30001         |Afognak Lake, AK             |101                    |1              |58         |N             |6          |34         |58.10944444|152        |W             |54         |24         |-152.90666667|NaN                     |2007-07-01        |NaN              |0                |1                |NaN        |America/Anchorage|2015-04-28|EV            |1000101              |ABE   |1000101            |ATL |1600        |1555    |-5       |7       |1602      |1747     |4      |1809        |1751    |-18      |false    |false   |692     |\n",
            "|1000101       |10001     |01A    |Afognak Lake Airport|Afognak Lake, AK              |101                |1          |United States       |US                      |Alaska            |AK                |2                 |3000101           |30001         |Afognak Lake, AK             |101                    |1              |58         |N             |6          |34         |58.10944444|152        |W             |54         |24         |-152.90666667|NaN                     |2007-07-01        |NaN              |0                |1                |NaN        |America/Anchorage|2015-11-05|DL            |1000101              |ABE   |1000101            |ATL |600         |556     |-4       |12      |608       |749      |10     |818         |759     |-19      |false    |false   |692     |\n",
            "+--------------+----------+-------+--------------------+------------------------------+-------------------+-----------+--------------------+------------------------+------------------+------------------+------------------+------------------+--------------+-----------------------------+-----------------------+---------------+-----------+--------------+-----------+-----------+-----------+-----------+--------------+-----------+-----------+-------------+------------------------+------------------+-----------------+-----------------+-----------------+-----------+-----------------+----------+--------------+---------------------+------+-------------------+----+------------+--------+---------+--------+----------+---------+-------+------------+--------+---------+---------+--------+--------+\n",
            "\n"
          ]
        }
      ]
    },
    {
      "cell_type": "code",
      "source": [
        "\n",
        "def upperCase(str):\n",
        "    return str.upper()"
      ],
      "metadata": {
        "id": "hykWTAYg3tH_"
      },
      "execution_count": null,
      "outputs": []
    },
    {
      "cell_type": "code",
      "source": [
        "upperCaseUDF = udf(lambda z:upperCase(z),StringType())   \n",
        "columns = [\"Seqno\",\"Name\"]\n",
        "data = [(\"1\", \"john jones\"),\n",
        "    (\"2\", \"tracey smith\"),\n",
        "    (\"3\", \"amy sanders\")]\n",
        "\n",
        "df = spark.createDataFrame(data=data,schema=columns)\n",
        "\n",
        "df.show(truncate=False)\n",
        "df.withColumn(\"Cureated Name\", upperCaseUDF(col(\"Name\"))) \\\n",
        "  .show(truncate=False)"
      ],
      "metadata": {
        "colab": {
          "base_uri": "https://localhost:8080/"
        },
        "id": "Tz1wF_4m6Vj9",
        "outputId": "19395ed3-18bb-4610-98ca-a4f1c36d1789"
      },
      "execution_count": null,
      "outputs": [
        {
          "output_type": "stream",
          "name": "stdout",
          "text": [
            "+-----+------------+\n",
            "|Seqno|Name        |\n",
            "+-----+------------+\n",
            "|1    |john jones  |\n",
            "|2    |tracey smith|\n",
            "|3    |amy sanders |\n",
            "+-----+------------+\n",
            "\n",
            "+-----+------------+-------------+\n",
            "|Seqno|Name        |Cureated Name|\n",
            "+-----+------------+-------------+\n",
            "|1    |john jones  |JOHN JONES   |\n",
            "|2    |tracey smith|TRACEY SMITH |\n",
            "|3    |amy sanders |AMY SANDERS  |\n",
            "+-----+------------+-------------+\n",
            "\n"
          ]
        }
      ]
    },
    {
      "cell_type": "code",
      "source": [
        "import datetime, pytz\n",
        "\n",
        "@udf(returnType=StringType())\n",
        "def convert_to_utc(date,time_col, time_zone):\n",
        "\n",
        "  loc_tz = pytz.timezone(time_zone)\n",
        "  loc_dt = loc_tz.localize(datetime.datetime.strptime(date, '%Y-%m-%d'), is_dst=False)\n",
        "  loc_dt += datetime.timedelta(hours=int(time_col[:2]), minutes=int(time_col[2:]))\n",
        "  utc_dt = loc_dt.astimezone(pytz.utc)      \n",
        "  return utc_dt.strftime('%Y-%m-%d %H:%M:%S')     \n",
        "      \n",
        "    "
      ],
      "metadata": {
        "id": "ovo1OeXS6_YF"
      },
      "execution_count": 43,
      "outputs": []
    },
    {
      "cell_type": "code",
      "source": [
        "\n",
        "joindf = joindf.withColumn(\"CRS_DEP_TIME\",joindf[\"CRS_DEP_TIME\"].cast(StringType()))\n",
        "\n",
        "joindf = joindf.withColumn(\"DEP_TIME\",joindf[\"DEP_TIME\"].cast(StringType()))\n",
        "joindf.select(\"DEP_TIME\").dtypes"
      ],
      "metadata": {
        "colab": {
          "base_uri": "https://localhost:8080/"
        },
        "id": "QzelCCnFBaCr",
        "outputId": "705a4db7-27ea-4511-a72c-265067145cb4"
      },
      "execution_count": 45,
      "outputs": [
        {
          "output_type": "execute_result",
          "data": {
            "text/plain": [
              "[('DEP_TIME', 'string')]"
            ]
          },
          "metadata": {},
          "execution_count": 45
        }
      ]
    },
    {
      "cell_type": "code",
      "source": [
        "\n",
        "joindf=joindf.withColumn(\"CRS_DEP_TIME_\", convert_to_utc(\"FL_DATE\",\"CRS_DEP_TIME\",\"TIMEZONE\"))\n",
        "joindf=joindf.withColumn(\"DEP_TIME\", convert_to_utc(\"FL_DATE\",\"DEP_TIME\",\"TIMEZONE\"))\n",
        "joindf.show(truncate=False)"
      ],
      "metadata": {
        "colab": {
          "base_uri": "https://localhost:8080/"
        },
        "id": "moFLhQaD3iex",
        "outputId": "5dccec73-5f5d-4b13-de88-418f5e569bb7"
      },
      "execution_count": 47,
      "outputs": [
        {
          "output_type": "stream",
          "name": "stdout",
          "text": [
            "+--------------+----------+-------+--------------------+------------------------------+-------------------+-----------+--------------------+------------------------+------------------+------------------+------------------+------------------+--------------+-----------------------------+-----------------------+---------------+-----------+--------------+-----------+-----------+-----------+-----------+--------------+-----------+-----------+-------------+------------------------+------------------+-----------------+-----------------+-----------------+-----------+-----------------+----------+--------------+---------------------+------+-------------------+----+------------+-------------------+---------+--------+----------+---------+-------+------------+--------+---------+---------+--------+--------+-------------------+-------------------+\n",
            "|AIRPORT_SEQ_ID|AIRPORT_ID|AIRPORT|DISPLAY_AIRPORT_NAME|DISPLAY_AIRPORT_CITY_NAME_FULL|AIRPORT_WAC_SEQ_ID2|AIRPORT_WAC|AIRPORT_COUNTRY_NAME|AIRPORT_COUNTRY_CODE_ISO|AIRPORT_STATE_NAME|AIRPORT_STATE_CODE|AIRPORT_STATE_FIPS|CITY_MARKET_SEQ_ID|CITY_MARKET_ID|DISPLAY_CITY_MARKET_NAME_FULL|CITY_MARKET_WAC_SEQ_ID2|CITY_MARKET_WAC|LAT_DEGREES|LAT_HEMISPHERE|LAT_MINUTES|LAT_SECONDS|LATITUDE   |LON_DEGREES|LON_HEMISPHERE|LON_MINUTES|LON_SECONDS|LONGITUDE    |UTC_LOCAL_TIME_VARIATION|AIRPORT_START_DATE|AIRPORT_THRU_DATE|AIRPORT_IS_CLOSED|AIRPORT_IS_LATEST|Unnamed: 32|TIMEZONE         |FL_DATE   |UNIQUE_CARRIER|ORIGIN_AIRPORT_SEQ_ID|ORIGIN|DEST_AIRPORT_SEQ_ID|DEST|CRS_DEP_TIME|DEP_TIME           |DEP_DELAY|TAXI_OUT|WHEELS_OFF|WHEELS_ON|TAXI_IN|CRS_ARR_TIME|ARR_TIME|ARR_DELAY|CANCELLED|DIVERTED|DISTANCE|CRS_DEP_TIME_      |DEP_TIME_          |\n",
            "+--------------+----------+-------+--------------------+------------------------------+-------------------+-----------+--------------------+------------------------+------------------+------------------+------------------+------------------+--------------+-----------------------------+-----------------------+---------------+-----------+--------------+-----------+-----------+-----------+-----------+--------------+-----------+-----------+-------------+------------------------+------------------+-----------------+-----------------+-----------------+-----------+-----------------+----------+--------------+---------------------+------+-------------------+----+------------+-------------------+---------+--------+----------+---------+-------+------------+--------+---------+---------+--------+--------+-------------------+-------------------+\n",
            "|1000101       |10001     |01A    |Afognak Lake Airport|Afognak Lake, AK              |101                |1          |United States       |US                      |Alaska            |AK                |2                 |3000101           |30001         |Afognak Lake, AK             |101                    |1              |58         |N             |6          |34         |58.10944444|152        |W             |54         |24         |-152.90666667|NaN                     |2007-07-01        |NaN              |0                |1                |NaN        |America/Anchorage|2015-04-28|EV            |1000101              |ABE   |1000101            |ATL |1600        |2015-04-28 23:55:00|-5       |7       |1602      |1747     |4      |1809        |1751    |-18      |false    |false   |692     |2015-04-29 00:00:00|2015-04-28 23:55:00|\n",
            "|1000101       |10001     |01A    |Afognak Lake Airport|Afognak Lake, AK              |101                |1          |United States       |US                      |Alaska            |AK                |2                 |3000101           |30001         |Afognak Lake, AK             |101                    |1              |58         |N             |6          |34         |58.10944444|152        |W             |54         |24         |-152.90666667|NaN                     |2007-07-01        |NaN              |0                |1                |NaN        |America/Anchorage|2015-11-05|DL            |1000101              |ABE   |1000101            |ATL |600         |2015-11-07 16:06:00|-4       |12      |608       |749      |10     |818         |759     |-19      |false    |false   |692     |2015-11-07 21:00:00|2015-11-07 16:06:00|\n",
            "+--------------+----------+-------+--------------------+------------------------------+-------------------+-----------+--------------------+------------------------+------------------+------------------+------------------+------------------+--------------+-----------------------------+-----------------------+---------------+-----------+--------------+-----------+-----------+-----------+-----------+--------------+-----------+-----------+-------------+------------------------+------------------+-----------------+-----------------+-----------------+-----------+-----------------+----------+--------------+---------------------+------+-------------------+----+------------+-------------------+---------+--------+----------+---------+-------+------------+--------+---------+---------+--------+--------+-------------------+-------------------+\n",
            "\n"
          ]
        }
      ]
    },
    {
      "cell_type": "code",
      "source": [
        "#load csv and json\n",
        "#load dataframe in to db\n",
        "#save dataframe as file\n"
      ],
      "metadata": {
        "id": "fV2i_lc3wLv0"
      },
      "execution_count": null,
      "outputs": []
    },
    {
      "cell_type": "code",
      "source": [
        "\n",
        "joindf1=joindf.withColumn(\"EVENT_TYPE\", when(col(\"DEP_TIME\") >0,\"departed\" ))\n",
        "joindf2=joindf.withColumn(\"EVENT_TYPE\",when(col(\"ARR_TIME\")>0,\"arrived\" ) )\n",
        "joindf=joindf1.union(joindf2)\n",
        "joindf.show(truncate=False)"
      ],
      "metadata": {
        "id": "xjlKR4y8-AM4",
        "colab": {
          "base_uri": "https://localhost:8080/",
          "height": 425
        },
        "outputId": "a443d98c-1683-49b5-e41f-86373750ad2c"
      },
      "execution_count": 34,
      "outputs": [
        {
          "output_type": "error",
          "ename": "PythonException",
          "evalue": "ignored",
          "traceback": [
            "\u001b[0;31m---------------------------------------------------------------------------\u001b[0m",
            "\u001b[0;31mPythonException\u001b[0m                           Traceback (most recent call last)",
            "\u001b[0;32m<ipython-input-34-9bbbfdee6f63>\u001b[0m in \u001b[0;36m<module>\u001b[0;34m\u001b[0m\n\u001b[1;32m      2\u001b[0m \u001b[0mjoindf2\u001b[0m\u001b[0;34m=\u001b[0m\u001b[0mjoindf\u001b[0m\u001b[0;34m.\u001b[0m\u001b[0mwithColumn\u001b[0m\u001b[0;34m(\u001b[0m\u001b[0;34m\"EVENT_TYPE\"\u001b[0m\u001b[0;34m,\u001b[0m\u001b[0mwhen\u001b[0m\u001b[0;34m(\u001b[0m\u001b[0mcol\u001b[0m\u001b[0;34m(\u001b[0m\u001b[0;34m\"ARR_TIME\"\u001b[0m\u001b[0;34m)\u001b[0m\u001b[0;34m>\u001b[0m\u001b[0;36m0\u001b[0m\u001b[0;34m,\u001b[0m\u001b[0;34m\"arrived\"\u001b[0m \u001b[0;34m)\u001b[0m \u001b[0;34m)\u001b[0m\u001b[0;34m\u001b[0m\u001b[0;34m\u001b[0m\u001b[0m\n\u001b[1;32m      3\u001b[0m \u001b[0mjoindf\u001b[0m\u001b[0;34m=\u001b[0m\u001b[0mjoindf1\u001b[0m\u001b[0;34m.\u001b[0m\u001b[0munion\u001b[0m\u001b[0;34m(\u001b[0m\u001b[0mjoindf2\u001b[0m\u001b[0;34m)\u001b[0m\u001b[0;34m\u001b[0m\u001b[0;34m\u001b[0m\u001b[0m\n\u001b[0;32m----> 4\u001b[0;31m \u001b[0mjoindf\u001b[0m\u001b[0;34m.\u001b[0m\u001b[0mshow\u001b[0m\u001b[0;34m(\u001b[0m\u001b[0mtruncate\u001b[0m\u001b[0;34m=\u001b[0m\u001b[0;32mFalse\u001b[0m\u001b[0;34m)\u001b[0m\u001b[0;34m\u001b[0m\u001b[0;34m\u001b[0m\u001b[0m\n\u001b[0m",
            "\u001b[0;32m/usr/local/lib/python3.8/dist-packages/pyspark/sql/dataframe.py\u001b[0m in \u001b[0;36mshow\u001b[0;34m(self, n, truncate, vertical)\u001b[0m\n\u001b[1;32m    613\u001b[0m                 )\n\u001b[1;32m    614\u001b[0m \u001b[0;34m\u001b[0m\u001b[0m\n\u001b[0;32m--> 615\u001b[0;31m             \u001b[0mprint\u001b[0m\u001b[0;34m(\u001b[0m\u001b[0mself\u001b[0m\u001b[0;34m.\u001b[0m\u001b[0m_jdf\u001b[0m\u001b[0;34m.\u001b[0m\u001b[0mshowString\u001b[0m\u001b[0;34m(\u001b[0m\u001b[0mn\u001b[0m\u001b[0;34m,\u001b[0m \u001b[0mint_truncate\u001b[0m\u001b[0;34m,\u001b[0m \u001b[0mvertical\u001b[0m\u001b[0;34m)\u001b[0m\u001b[0;34m)\u001b[0m\u001b[0;34m\u001b[0m\u001b[0;34m\u001b[0m\u001b[0m\n\u001b[0m\u001b[1;32m    616\u001b[0m \u001b[0;34m\u001b[0m\u001b[0m\n\u001b[1;32m    617\u001b[0m     \u001b[0;32mdef\u001b[0m \u001b[0m__repr__\u001b[0m\u001b[0;34m(\u001b[0m\u001b[0mself\u001b[0m\u001b[0;34m)\u001b[0m \u001b[0;34m->\u001b[0m \u001b[0mstr\u001b[0m\u001b[0;34m:\u001b[0m\u001b[0;34m\u001b[0m\u001b[0;34m\u001b[0m\u001b[0m\n",
            "\u001b[0;32m/usr/local/lib/python3.8/dist-packages/py4j/java_gateway.py\u001b[0m in \u001b[0;36m__call__\u001b[0;34m(self, *args)\u001b[0m\n\u001b[1;32m   1319\u001b[0m \u001b[0;34m\u001b[0m\u001b[0m\n\u001b[1;32m   1320\u001b[0m         \u001b[0manswer\u001b[0m \u001b[0;34m=\u001b[0m \u001b[0mself\u001b[0m\u001b[0;34m.\u001b[0m\u001b[0mgateway_client\u001b[0m\u001b[0;34m.\u001b[0m\u001b[0msend_command\u001b[0m\u001b[0;34m(\u001b[0m\u001b[0mcommand\u001b[0m\u001b[0;34m)\u001b[0m\u001b[0;34m\u001b[0m\u001b[0;34m\u001b[0m\u001b[0m\n\u001b[0;32m-> 1321\u001b[0;31m         return_value = get_return_value(\n\u001b[0m\u001b[1;32m   1322\u001b[0m             answer, self.gateway_client, self.target_id, self.name)\n\u001b[1;32m   1323\u001b[0m \u001b[0;34m\u001b[0m\u001b[0m\n",
            "\u001b[0;32m/usr/local/lib/python3.8/dist-packages/pyspark/sql/utils.py\u001b[0m in \u001b[0;36mdeco\u001b[0;34m(*a, **kw)\u001b[0m\n\u001b[1;32m    194\u001b[0m                 \u001b[0;31m# Hide where the exception came from that shows a non-Pythonic\u001b[0m\u001b[0;34m\u001b[0m\u001b[0;34m\u001b[0m\u001b[0;34m\u001b[0m\u001b[0m\n\u001b[1;32m    195\u001b[0m                 \u001b[0;31m# JVM exception message.\u001b[0m\u001b[0;34m\u001b[0m\u001b[0;34m\u001b[0m\u001b[0;34m\u001b[0m\u001b[0m\n\u001b[0;32m--> 196\u001b[0;31m                 \u001b[0;32mraise\u001b[0m \u001b[0mconverted\u001b[0m \u001b[0;32mfrom\u001b[0m \u001b[0;32mNone\u001b[0m\u001b[0;34m\u001b[0m\u001b[0;34m\u001b[0m\u001b[0m\n\u001b[0m\u001b[1;32m    197\u001b[0m             \u001b[0;32melse\u001b[0m\u001b[0;34m:\u001b[0m\u001b[0;34m\u001b[0m\u001b[0;34m\u001b[0m\u001b[0m\n\u001b[1;32m    198\u001b[0m                 \u001b[0;32mraise\u001b[0m\u001b[0;34m\u001b[0m\u001b[0;34m\u001b[0m\u001b[0m\n",
            "\u001b[0;31mPythonException\u001b[0m: \n  An exception was thrown from the Python worker. Please see the stack trace below.\nTraceback (most recent call last):\n  File \"<ipython-input-15-5b6f7aa00ae6>\", line 8, in convert_to_utc\nTypeError: 'int' object is not subscriptable\n"
          ]
        }
      ]
    }
  ]
}