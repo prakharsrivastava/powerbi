{
  "nbformat": 4,
  "nbformat_minor": 0,
  "metadata": {
    "colab": {
      "provenance": [],
      "authorship_tag": "ABX9TyOk97hZL0UKnvTSfM+byE8S",
      "include_colab_link": true
    },
    "kernelspec": {
      "name": "python3",
      "display_name": "Python 3"
    },
    "language_info": {
      "name": "python"
    }
  },
  "cells": [
    {
      "cell_type": "markdown",
      "metadata": {
        "id": "view-in-github",
        "colab_type": "text"
      },
      "source": [
        "<a href=\"https://colab.research.google.com/github/prakharsrivastava/powerbi/blob/main/Data_Science_on_Google_Cloud_Platform_6.ipynb\" target=\"_parent\"><img src=\"https://colab.research.google.com/assets/colab-badge.svg\" alt=\"Open In Colab\"/></a>"
      ]
    },
    {
      "cell_type": "code",
      "execution_count": 1,
      "metadata": {
        "id": "26mg58ezve37"
      },
      "outputs": [],
      "source": [
        "import datetime, pytz\n",
        "def utc_convert(date, hhmm, tzone):\n",
        "  loc_tz = pytz.timezone(\"America/Anchorage\")\n",
        "  loc_dt = loc_tz.localize(datetime.datetime.strptime(\"2015-04-28\", '%Y-%m-%d'), is_dst=False)\n",
        "  loc_dt += datetime.timedelta(hours=int(\"1600\"[:2]), minutes=int(\"1600\"[2:]))\n",
        "  utc_dt = loc_dt.astimezone(pytz.utc)      \n",
        "  return utc_dt.strftime('%Y-%m-%d %H:%M:%S')     "
      ]
    },
    {
      "cell_type": "code",
      "source": [
        "from google.colab import drive\n",
        "\n",
        "drive.mount('/content/gdrive')\n",
        "%cd /content/gdrive/MyDrive/chapter2/\n"
      ],
      "metadata": {
        "colab": {
          "base_uri": "https://localhost:8080/"
        },
        "id": "AfGK5AGnvmAB",
        "outputId": "64bb6e05-9873-493d-b3a7-9f2a81a37fc1"
      },
      "execution_count": 3,
      "outputs": [
        {
          "output_type": "stream",
          "name": "stdout",
          "text": [
            "Mounted at /content/gdrive\n",
            "/content/gdrive/MyDrive/chapter2\n"
          ]
        }
      ]
    },
    {
      "cell_type": "code",
      "source": [
        "!pip install findspark \n",
        "!pip install  pyspark\n",
        "\n",
        "\n"
      ],
      "metadata": {
        "colab": {
          "base_uri": "https://localhost:8080/"
        },
        "id": "3gZeSPE6voyd",
        "outputId": "82a85c16-327f-4bca-d402-e04826e4cf4e"
      },
      "execution_count": 2,
      "outputs": [
        {
          "output_type": "stream",
          "name": "stdout",
          "text": [
            "Looking in indexes: https://pypi.org/simple, https://us-python.pkg.dev/colab-wheels/public/simple/\n",
            "Collecting findspark\n",
            "  Downloading findspark-2.0.1-py2.py3-none-any.whl (4.4 kB)\n",
            "Installing collected packages: findspark\n",
            "Successfully installed findspark-2.0.1\n",
            "Looking in indexes: https://pypi.org/simple, https://us-python.pkg.dev/colab-wheels/public/simple/\n",
            "Collecting pyspark\n",
            "  Downloading pyspark-3.3.2.tar.gz (281.4 MB)\n",
            "\u001b[2K     \u001b[90m━━━━━━━━━━━━━━━━━━━━━━━━━━━━━━━━━━━━━━━\u001b[0m \u001b[32m281.4/281.4 MB\u001b[0m \u001b[31m5.0 MB/s\u001b[0m eta \u001b[36m0:00:00\u001b[0m\n",
            "\u001b[?25h  Preparing metadata (setup.py) ... \u001b[?25l\u001b[?25hdone\n",
            "Collecting py4j==0.10.9.5\n",
            "  Downloading py4j-0.10.9.5-py2.py3-none-any.whl (199 kB)\n",
            "\u001b[2K     \u001b[90m━━━━━━━━━━━━━━━━━━━━━━━━━━━━━━━━━━━━━━\u001b[0m \u001b[32m199.7/199.7 KB\u001b[0m \u001b[31m13.6 MB/s\u001b[0m eta \u001b[36m0:00:00\u001b[0m\n",
            "\u001b[?25hBuilding wheels for collected packages: pyspark\n",
            "  Building wheel for pyspark (setup.py) ... \u001b[?25l\u001b[?25hdone\n",
            "  Created wheel for pyspark: filename=pyspark-3.3.2-py2.py3-none-any.whl size=281824025 sha256=5a46e8920b58d7cb99046c049152a51d0f9edea29dd044e645b4d401c6983fae\n",
            "  Stored in directory: /root/.cache/pip/wheels/b1/59/a0/a1a0624b5e865fd389919c1a10f53aec9b12195d6747710baf\n",
            "Successfully built pyspark\n",
            "Installing collected packages: py4j, pyspark\n",
            "Successfully installed py4j-0.10.9.5 pyspark-3.3.2\n"
          ]
        }
      ]
    },
    {
      "cell_type": "code",
      "source": [
        "import findspark\n",
        "import pyspark\n",
        "from pyspark.sql import SparkSession\n",
        "spark = SparkSession.builder.master(\"local[1]\").appName(\"architectinaction.com\").getOrCreate()"
      ],
      "metadata": {
        "id": "BqbIVIXTvtnQ"
      },
      "execution_count": 4,
      "outputs": []
    },
    {
      "cell_type": "code",
      "source": [
        "\n",
        "empData = [(1,\"Smith\",10), (2,\"Rose\",20),\n",
        "    (3,\"Williams\",10), (4,\"Jones\",30)\n",
        "  ]\n",
        "empColumns = [\"emp_id\",\"name\",\"emp_dept_id\"]\n",
        "empDF = spark.createDataFrame(empData,empColumns)\n",
        "empDF.show()\n",
        "\n",
        "#DEPT DataFrame\n",
        "deptData = [(\"Finance\",10), (\"Marketing\",20),\n",
        "    (\"Sales\",30),(\"IT\",40)\n",
        "  ]\n",
        "deptColumns = [\"dept_name\",\"dept_id\"]\n",
        "deptDF=spark.createDataFrame(deptData,deptColumns)  \n",
        "deptDF.show()\n",
        "\n",
        "#Address DataFrame\n",
        "addData=[(1,\"1523 Main St\",\"SFO\",\"CA\"),\n",
        "    (2,\"3453 Orange St\",\"SFO\",\"NY\"),\n",
        "    (3,\"34 Warner St\",\"Jersey\",\"NJ\"),\n",
        "    (4,\"221 Cavalier St\",\"Newark\",\"DE\"),\n",
        "    (5,\"789 Walnut St\",\"Sandiago\",\"CA\")\n",
        "  ]\n",
        "addColumns = [\"emp_id\",\"addline1\",\"city\",\"state\"]\n",
        "addDF = spark.createDataFrame(addData,addColumns)\n",
        "addDF.show()\n",
        "\n",
        "#Join two DataFrames\n",
        "empDF.join(addDF,empDF[\"emp_id\"] == addDF[\"emp_id\"]).show()\n",
        "\n",
        "#Drop duplicate column\n",
        "empDF.join(addDF,[\"emp_id\"]).show()\n",
        "\n",
        "#Join Multiple DataFrames\n",
        "empDF.join(addDF,[\"emp_id\"]) \\\n",
        "     .join(deptDF,empDF[\"emp_dept_id\"] == deptDF[\"dept_id\"]) \\\n",
        "     .show()\n",
        "\n",
        "#Using Where for Join Condition\n",
        "empDF.join(deptDF).where(empDF[\"emp_dept_id\"] == deptDF[\"dept_id\"]) \\\n",
        "    .join(addDF).where(empDF[\"emp_id\"] == addDF[\"emp_id\"]) \\\n",
        "    .show()"
      ],
      "metadata": {
        "id": "5AeBeaBRvyCi"
      },
      "execution_count": null,
      "outputs": []
    }
  ]
}