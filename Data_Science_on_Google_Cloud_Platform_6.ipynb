{
  "nbformat": 4,
  "nbformat_minor": 0,
  "metadata": {
    "colab": {
      "provenance": [],
      "authorship_tag": "ABX9TyO1+lBnnIX3IKu2RdrwZ/y/",
      "include_colab_link": true
    },
    "kernelspec": {
      "name": "python3",
      "display_name": "Python 3"
    },
    "language_info": {
      "name": "python"
    }
  },
  "cells": [
    {
      "cell_type": "markdown",
      "metadata": {
        "id": "view-in-github",
        "colab_type": "text"
      },
      "source": [
        "<a href=\"https://colab.research.google.com/github/prakharsrivastava/powerbi/blob/main/Data_Science_on_Google_Cloud_Platform_6.ipynb\" target=\"_parent\"><img src=\"https://colab.research.google.com/assets/colab-badge.svg\" alt=\"Open In Colab\"/></a>"
      ]
    },
    {
      "cell_type": "code",
      "execution_count": null,
      "metadata": {
        "id": "26mg58ezve37"
      },
      "outputs": [],
      "source": [
        "import datetime, pytz\n",
        "def utc_convert(date, hhmm, tzone):\n",
        "  loc_tz = pytz.timezone(\"America/Anchorage\")\n",
        "  loc_dt = loc_tz.localize(datetime.datetime.strptime(\"2015-04-28\", '%Y-%m-%d'), is_dst=False)\n",
        "  loc_dt += datetime.timedelta(hours=int(\"1600\"[:2]), minutes=int(\"1600\"[2:]))\n",
        "  utc_dt = loc_dt.astimezone(pytz.utc)      \n",
        "  return utc_dt.strftime('%Y-%m-%d %H:%M:%S')     "
      ]
    },
    {
      "cell_type": "code",
      "source": [
        "from google.colab import drive\n",
        "\n",
        "drive.mount('/content/gdrive')\n",
        "%cd /content/gdrive/MyDrive/chapter2/\n"
      ],
      "metadata": {
        "colab": {
          "base_uri": "https://localhost:8080/"
        },
        "id": "AfGK5AGnvmAB",
        "outputId": "4116c4d3-e726-43a7-f1e9-597df471fccb"
      },
      "execution_count": 1,
      "outputs": [
        {
          "output_type": "stream",
          "name": "stdout",
          "text": [
            "Mounted at /content/gdrive\n",
            "/content/gdrive/MyDrive/chapter2\n"
          ]
        }
      ]
    },
    {
      "cell_type": "code",
      "source": [
        "!pip install findspark \n",
        "!pip install  pyspark\n",
        "\n",
        "\n"
      ],
      "metadata": {
        "colab": {
          "base_uri": "https://localhost:8080/"
        },
        "id": "3gZeSPE6voyd",
        "outputId": "d5e3a9e5-cf3f-435d-bc94-0297b0745c3d"
      },
      "execution_count": 2,
      "outputs": [
        {
          "output_type": "stream",
          "name": "stdout",
          "text": [
            "Looking in indexes: https://pypi.org/simple, https://us-python.pkg.dev/colab-wheels/public/simple/\n",
            "Collecting findspark\n",
            "  Downloading findspark-2.0.1-py2.py3-none-any.whl (4.4 kB)\n",
            "Installing collected packages: findspark\n",
            "Successfully installed findspark-2.0.1\n",
            "Looking in indexes: https://pypi.org/simple, https://us-python.pkg.dev/colab-wheels/public/simple/\n",
            "Collecting pyspark\n",
            "  Downloading pyspark-3.3.2.tar.gz (281.4 MB)\n",
            "\u001b[2K     \u001b[90m━━━━━━━━━━━━━━━━━━━━━━━━━━━━━━━━━━━━━━━\u001b[0m \u001b[32m281.4/281.4 MB\u001b[0m \u001b[31m5.4 MB/s\u001b[0m eta \u001b[36m0:00:00\u001b[0m\n",
            "\u001b[?25h  Preparing metadata (setup.py) ... \u001b[?25l\u001b[?25hdone\n",
            "Collecting py4j==0.10.9.5\n",
            "  Downloading py4j-0.10.9.5-py2.py3-none-any.whl (199 kB)\n",
            "\u001b[2K     \u001b[90m━━━━━━━━━━━━━━━━━━━━━━━━━━━━━━━━━━━━━━━\u001b[0m \u001b[32m199.7/199.7 KB\u001b[0m \u001b[31m9.0 MB/s\u001b[0m eta \u001b[36m0:00:00\u001b[0m\n",
            "\u001b[?25hBuilding wheels for collected packages: pyspark\n",
            "  Building wheel for pyspark (setup.py) ... \u001b[?25l\u001b[?25hdone\n",
            "  Created wheel for pyspark: filename=pyspark-3.3.2-py2.py3-none-any.whl size=281824025 sha256=8ae37b1de5aa49df5c0d81e863e1cd8e262c96c11c536fbdd199e2be4988e4dd\n",
            "  Stored in directory: /root/.cache/pip/wheels/b1/59/a0/a1a0624b5e865fd389919c1a10f53aec9b12195d6747710baf\n",
            "Successfully built pyspark\n",
            "Installing collected packages: py4j, pyspark\n",
            "Successfully installed py4j-0.10.9.5 pyspark-3.3.2\n"
          ]
        }
      ]
    },
    {
      "cell_type": "code",
      "source": [
        "import findspark\n",
        "import pyspark\n",
        "from pyspark.sql import SparkSession\n",
        "spark = SparkSession.builder.master(\"local[1]\").appName(\"architectinaction.com\").getOrCreate()"
      ],
      "metadata": {
        "id": "BqbIVIXTvtnQ"
      },
      "execution_count": 3,
      "outputs": []
    },
    {
      "cell_type": "code",
      "source": [
        "import pandas as pd\n",
        "airports = pd.read_csv('airports.csv',low_memory=False,nrows=3)\n",
        "flight = pd.read_json('flights_sample.json',lines=True)\n"
      ],
      "metadata": {
        "id": "xRdPBkIq1xZj"
      },
      "execution_count": 8,
      "outputs": []
    },
    {
      "cell_type": "code",
      "source": [
        "sparkAirportsDF=spark.createDataFrame(airports)\n",
        "sparkFlightDF=spark.createDataFrame(flight)"
      ],
      "metadata": {
        "id": "5AeBeaBRvyCi"
      },
      "execution_count": 10,
      "outputs": []
    },
    {
      "cell_type": "code",
      "source": [
        "sparkFlightDF.show(10)"
      ],
      "metadata": {
        "colab": {
          "base_uri": "https://localhost:8080/"
        },
        "id": "teIXTzQq2EYI",
        "outputId": "6c42b093-6bbd-4ed2-b6c6-3b01fecc5eb7"
      },
      "execution_count": 12,
      "outputs": [
        {
          "output_type": "stream",
          "name": "stdout",
          "text": [
            "+--------------+----------+-------+--------------------+------------------------------+-------------------+-----------+--------------------+------------------------+------------------+------------------+------------------+------------------+--------------+-----------------------------+-----------------------+---------------+-----------+--------------+-----------+-----------+-----------+-----------+--------------+-----------+-----------+-------------+------------------------+------------------+-----------------+-----------------+-----------------+-----------+\n",
            "|AIRPORT_SEQ_ID|AIRPORT_ID|AIRPORT|DISPLAY_AIRPORT_NAME|DISPLAY_AIRPORT_CITY_NAME_FULL|AIRPORT_WAC_SEQ_ID2|AIRPORT_WAC|AIRPORT_COUNTRY_NAME|AIRPORT_COUNTRY_CODE_ISO|AIRPORT_STATE_NAME|AIRPORT_STATE_CODE|AIRPORT_STATE_FIPS|CITY_MARKET_SEQ_ID|CITY_MARKET_ID|DISPLAY_CITY_MARKET_NAME_FULL|CITY_MARKET_WAC_SEQ_ID2|CITY_MARKET_WAC|LAT_DEGREES|LAT_HEMISPHERE|LAT_MINUTES|LAT_SECONDS|   LATITUDE|LON_DEGREES|LON_HEMISPHERE|LON_MINUTES|LON_SECONDS|    LONGITUDE|UTC_LOCAL_TIME_VARIATION|AIRPORT_START_DATE|AIRPORT_THRU_DATE|AIRPORT_IS_CLOSED|AIRPORT_IS_LATEST|Unnamed: 32|\n",
            "+--------------+----------+-------+--------------------+------------------------------+-------------------+-----------+--------------------+------------------------+------------------+------------------+------------------+------------------+--------------+-----------------------------+-----------------------+---------------+-----------+--------------+-----------+-----------+-----------+-----------+--------------+-----------+-----------+-------------+------------------------+------------------+-----------------+-----------------+-----------------+-----------+\n",
            "|       1000101|     10001|    01A|Afognak Lake Airport|              Afognak Lake, AK|                101|          1|       United States|                      US|            Alaska|                AK|                 2|           3000101|         30001|             Afognak Lake, AK|                    101|              1|         58|             N|          6|         34|58.10944444|        152|             W|         54|         24|-152.90666667|                     NaN|        2007-07-01|              NaN|                0|                1|        NaN|\n",
            "|       1000301|     10003|    03A|Bear Creek Mining...|          Granite Mountain, AK|                101|          1|       United States|                      US|            Alaska|                AK|                 2|           3000301|         30003|         Granite Mountain, AK|                    101|              1|         65|             N|         32|         53|65.54805556|        161|             W|          4|         18|-161.07166667|                     NaN|        2007-07-01|              NaN|                0|                1|        NaN|\n",
            "|       1000401|     10004|    04A|     Lik Mining Camp|                       Lik, AK|                101|          1|       United States|                      US|            Alaska|                AK|                 2|           3000401|         30004|                      Lik, AK|                    101|              1|         68|             N|          5|          0|68.08333333|        163|             W|         10|          0|-163.16666667|                     NaN|        2007-07-01|              NaN|                0|                1|        NaN|\n",
            "+--------------+----------+-------+--------------------+------------------------------+-------------------+-----------+--------------------+------------------------+------------------+------------------+------------------+------------------+--------------+-----------------------------+-----------------------+---------------+-----------+--------------+-----------+-----------+-----------+-----------+--------------+-----------+-----------+-------------+------------------------+------------------+-----------------+-----------------+-----------------+-----------+\n",
            "\n"
          ]
        }
      ]
    },
    {
      "cell_type": "code",
      "source": [
        "sparkAirportsPandas = sparkAirportsDF.toPandas()\n",
        "sparkAirportsPandas"
      ],
      "metadata": {
        "colab": {
          "base_uri": "https://localhost:8080/",
          "height": 254
        },
        "id": "Mw6nxSMa2Tju",
        "outputId": "6f545c53-93fd-4ab4-8884-20d75b1b653a"
      },
      "execution_count": 14,
      "outputs": [
        {
          "output_type": "execute_result",
          "data": {
            "text/plain": [
              "   AIRPORT_SEQ_ID  AIRPORT_ID AIRPORT     DISPLAY_AIRPORT_NAME  \\\n",
              "0         1000101       10001     01A     Afognak Lake Airport   \n",
              "1         1000301       10003     03A  Bear Creek Mining Strip   \n",
              "2         1000401       10004     04A          Lik Mining Camp   \n",
              "\n",
              "  DISPLAY_AIRPORT_CITY_NAME_FULL  AIRPORT_WAC_SEQ_ID2  AIRPORT_WAC  \\\n",
              "0               Afognak Lake, AK                  101            1   \n",
              "1           Granite Mountain, AK                  101            1   \n",
              "2                        Lik, AK                  101            1   \n",
              "\n",
              "  AIRPORT_COUNTRY_NAME AIRPORT_COUNTRY_CODE_ISO AIRPORT_STATE_NAME  ...  \\\n",
              "0        United States                       US             Alaska  ...   \n",
              "1        United States                       US             Alaska  ...   \n",
              "2        United States                       US             Alaska  ...   \n",
              "\n",
              "  LON_HEMISPHERE  LON_MINUTES  LON_SECONDS   LONGITUDE  \\\n",
              "0              W           54           24 -152.906667   \n",
              "1              W            4           18 -161.071667   \n",
              "2              W           10            0 -163.166667   \n",
              "\n",
              "  UTC_LOCAL_TIME_VARIATION  AIRPORT_START_DATE  AIRPORT_THRU_DATE  \\\n",
              "0                      NaN          2007-07-01                NaN   \n",
              "1                      NaN          2007-07-01                NaN   \n",
              "2                      NaN          2007-07-01                NaN   \n",
              "\n",
              "   AIRPORT_IS_CLOSED AIRPORT_IS_LATEST  Unnamed: 32  \n",
              "0                  0                 1          NaN  \n",
              "1                  0                 1          NaN  \n",
              "2                  0                 1          NaN  \n",
              "\n",
              "[3 rows x 33 columns]"
            ],
            "text/html": [
              "\n",
              "  <div id=\"df-8e964f6b-c43d-4dc3-a122-364930376684\">\n",
              "    <div class=\"colab-df-container\">\n",
              "      <div>\n",
              "<style scoped>\n",
              "    .dataframe tbody tr th:only-of-type {\n",
              "        vertical-align: middle;\n",
              "    }\n",
              "\n",
              "    .dataframe tbody tr th {\n",
              "        vertical-align: top;\n",
              "    }\n",
              "\n",
              "    .dataframe thead th {\n",
              "        text-align: right;\n",
              "    }\n",
              "</style>\n",
              "<table border=\"1\" class=\"dataframe\">\n",
              "  <thead>\n",
              "    <tr style=\"text-align: right;\">\n",
              "      <th></th>\n",
              "      <th>AIRPORT_SEQ_ID</th>\n",
              "      <th>AIRPORT_ID</th>\n",
              "      <th>AIRPORT</th>\n",
              "      <th>DISPLAY_AIRPORT_NAME</th>\n",
              "      <th>DISPLAY_AIRPORT_CITY_NAME_FULL</th>\n",
              "      <th>AIRPORT_WAC_SEQ_ID2</th>\n",
              "      <th>AIRPORT_WAC</th>\n",
              "      <th>AIRPORT_COUNTRY_NAME</th>\n",
              "      <th>AIRPORT_COUNTRY_CODE_ISO</th>\n",
              "      <th>AIRPORT_STATE_NAME</th>\n",
              "      <th>...</th>\n",
              "      <th>LON_HEMISPHERE</th>\n",
              "      <th>LON_MINUTES</th>\n",
              "      <th>LON_SECONDS</th>\n",
              "      <th>LONGITUDE</th>\n",
              "      <th>UTC_LOCAL_TIME_VARIATION</th>\n",
              "      <th>AIRPORT_START_DATE</th>\n",
              "      <th>AIRPORT_THRU_DATE</th>\n",
              "      <th>AIRPORT_IS_CLOSED</th>\n",
              "      <th>AIRPORT_IS_LATEST</th>\n",
              "      <th>Unnamed: 32</th>\n",
              "    </tr>\n",
              "  </thead>\n",
              "  <tbody>\n",
              "    <tr>\n",
              "      <th>0</th>\n",
              "      <td>1000101</td>\n",
              "      <td>10001</td>\n",
              "      <td>01A</td>\n",
              "      <td>Afognak Lake Airport</td>\n",
              "      <td>Afognak Lake, AK</td>\n",
              "      <td>101</td>\n",
              "      <td>1</td>\n",
              "      <td>United States</td>\n",
              "      <td>US</td>\n",
              "      <td>Alaska</td>\n",
              "      <td>...</td>\n",
              "      <td>W</td>\n",
              "      <td>54</td>\n",
              "      <td>24</td>\n",
              "      <td>-152.906667</td>\n",
              "      <td>NaN</td>\n",
              "      <td>2007-07-01</td>\n",
              "      <td>NaN</td>\n",
              "      <td>0</td>\n",
              "      <td>1</td>\n",
              "      <td>NaN</td>\n",
              "    </tr>\n",
              "    <tr>\n",
              "      <th>1</th>\n",
              "      <td>1000301</td>\n",
              "      <td>10003</td>\n",
              "      <td>03A</td>\n",
              "      <td>Bear Creek Mining Strip</td>\n",
              "      <td>Granite Mountain, AK</td>\n",
              "      <td>101</td>\n",
              "      <td>1</td>\n",
              "      <td>United States</td>\n",
              "      <td>US</td>\n",
              "      <td>Alaska</td>\n",
              "      <td>...</td>\n",
              "      <td>W</td>\n",
              "      <td>4</td>\n",
              "      <td>18</td>\n",
              "      <td>-161.071667</td>\n",
              "      <td>NaN</td>\n",
              "      <td>2007-07-01</td>\n",
              "      <td>NaN</td>\n",
              "      <td>0</td>\n",
              "      <td>1</td>\n",
              "      <td>NaN</td>\n",
              "    </tr>\n",
              "    <tr>\n",
              "      <th>2</th>\n",
              "      <td>1000401</td>\n",
              "      <td>10004</td>\n",
              "      <td>04A</td>\n",
              "      <td>Lik Mining Camp</td>\n",
              "      <td>Lik, AK</td>\n",
              "      <td>101</td>\n",
              "      <td>1</td>\n",
              "      <td>United States</td>\n",
              "      <td>US</td>\n",
              "      <td>Alaska</td>\n",
              "      <td>...</td>\n",
              "      <td>W</td>\n",
              "      <td>10</td>\n",
              "      <td>0</td>\n",
              "      <td>-163.166667</td>\n",
              "      <td>NaN</td>\n",
              "      <td>2007-07-01</td>\n",
              "      <td>NaN</td>\n",
              "      <td>0</td>\n",
              "      <td>1</td>\n",
              "      <td>NaN</td>\n",
              "    </tr>\n",
              "  </tbody>\n",
              "</table>\n",
              "<p>3 rows × 33 columns</p>\n",
              "</div>\n",
              "      <button class=\"colab-df-convert\" onclick=\"convertToInteractive('df-8e964f6b-c43d-4dc3-a122-364930376684')\"\n",
              "              title=\"Convert this dataframe to an interactive table.\"\n",
              "              style=\"display:none;\">\n",
              "        \n",
              "  <svg xmlns=\"http://www.w3.org/2000/svg\" height=\"24px\"viewBox=\"0 0 24 24\"\n",
              "       width=\"24px\">\n",
              "    <path d=\"M0 0h24v24H0V0z\" fill=\"none\"/>\n",
              "    <path d=\"M18.56 5.44l.94 2.06.94-2.06 2.06-.94-2.06-.94-.94-2.06-.94 2.06-2.06.94zm-11 1L8.5 8.5l.94-2.06 2.06-.94-2.06-.94L8.5 2.5l-.94 2.06-2.06.94zm10 10l.94 2.06.94-2.06 2.06-.94-2.06-.94-.94-2.06-.94 2.06-2.06.94z\"/><path d=\"M17.41 7.96l-1.37-1.37c-.4-.4-.92-.59-1.43-.59-.52 0-1.04.2-1.43.59L10.3 9.45l-7.72 7.72c-.78.78-.78 2.05 0 2.83L4 21.41c.39.39.9.59 1.41.59.51 0 1.02-.2 1.41-.59l7.78-7.78 2.81-2.81c.8-.78.8-2.07 0-2.86zM5.41 20L4 18.59l7.72-7.72 1.47 1.35L5.41 20z\"/>\n",
              "  </svg>\n",
              "      </button>\n",
              "      \n",
              "  <style>\n",
              "    .colab-df-container {\n",
              "      display:flex;\n",
              "      flex-wrap:wrap;\n",
              "      gap: 12px;\n",
              "    }\n",
              "\n",
              "    .colab-df-convert {\n",
              "      background-color: #E8F0FE;\n",
              "      border: none;\n",
              "      border-radius: 50%;\n",
              "      cursor: pointer;\n",
              "      display: none;\n",
              "      fill: #1967D2;\n",
              "      height: 32px;\n",
              "      padding: 0 0 0 0;\n",
              "      width: 32px;\n",
              "    }\n",
              "\n",
              "    .colab-df-convert:hover {\n",
              "      background-color: #E2EBFA;\n",
              "      box-shadow: 0px 1px 2px rgba(60, 64, 67, 0.3), 0px 1px 3px 1px rgba(60, 64, 67, 0.15);\n",
              "      fill: #174EA6;\n",
              "    }\n",
              "\n",
              "    [theme=dark] .colab-df-convert {\n",
              "      background-color: #3B4455;\n",
              "      fill: #D2E3FC;\n",
              "    }\n",
              "\n",
              "    [theme=dark] .colab-df-convert:hover {\n",
              "      background-color: #434B5C;\n",
              "      box-shadow: 0px 1px 3px 1px rgba(0, 0, 0, 0.15);\n",
              "      filter: drop-shadow(0px 1px 2px rgba(0, 0, 0, 0.3));\n",
              "      fill: #FFFFFF;\n",
              "    }\n",
              "  </style>\n",
              "\n",
              "      <script>\n",
              "        const buttonEl =\n",
              "          document.querySelector('#df-8e964f6b-c43d-4dc3-a122-364930376684 button.colab-df-convert');\n",
              "        buttonEl.style.display =\n",
              "          google.colab.kernel.accessAllowed ? 'block' : 'none';\n",
              "\n",
              "        async function convertToInteractive(key) {\n",
              "          const element = document.querySelector('#df-8e964f6b-c43d-4dc3-a122-364930376684');\n",
              "          const dataTable =\n",
              "            await google.colab.kernel.invokeFunction('convertToInteractive',\n",
              "                                                     [key], {});\n",
              "          if (!dataTable) return;\n",
              "\n",
              "          const docLinkHtml = 'Like what you see? Visit the ' +\n",
              "            '<a target=\"_blank\" href=https://colab.research.google.com/notebooks/data_table.ipynb>data table notebook</a>'\n",
              "            + ' to learn more about interactive tables.';\n",
              "          element.innerHTML = '';\n",
              "          dataTable['output_type'] = 'display_data';\n",
              "          await google.colab.output.renderOutput(dataTable, element);\n",
              "          const docLink = document.createElement('div');\n",
              "          docLink.innerHTML = docLinkHtml;\n",
              "          element.appendChild(docLink);\n",
              "        }\n",
              "      </script>\n",
              "    </div>\n",
              "  </div>\n",
              "  "
            ]
          },
          "metadata": {},
          "execution_count": 14
        }
      ]
    },
    {
      "cell_type": "code",
      "source": [
        "sparkAirportsDF=spark.createDataFrame(airports)\n",
        "sparkFlightDF=spark.createDataFrame(flight)"
      ],
      "metadata": {
        "id": "DMRR6Qbq2fmm"
      },
      "execution_count": 15,
      "outputs": []
    },
    {
      "cell_type": "code",
      "source": [
        "import pyspark\n",
        "from pyspark.sql.functions import *\n",
        "sparkAirportsDF.alias(\"sparkAirportsDF\").join(sparkFlightDF.alias(\"sparkFlightDF\"), \\\n",
        "    col(\"sparkAirportsDF.AIRPORT_SEQ_ID\") == col(\"sparkFlightDF.ORIGIN_AIRPORT_SEQ_ID\"),\"inner\") \\\n",
        "   .show(truncate=False)"
      ],
      "metadata": {
        "colab": {
          "base_uri": "https://localhost:8080/"
        },
        "id": "PWuv2TlP2qgk",
        "outputId": "15d8d4d2-74d3-42e6-8c89-287a4b5235f8"
      },
      "execution_count": 17,
      "outputs": [
        {
          "output_type": "stream",
          "name": "stdout",
          "text": [
            "+--------------+----------+-------+--------------------+------------------------------+-------------------+-----------+--------------------+------------------------+------------------+------------------+------------------+------------------+--------------+-----------------------------+-----------------------+---------------+-----------+--------------+-----------+-----------+-----------+-----------+--------------+-----------+-----------+-------------+------------------------+------------------+-----------------+-----------------+-----------------+-----------+----------+--------------+---------------------+------+-------------------+----+------------+--------+---------+--------+----------+---------+-------+------------+--------+---------+---------+--------+--------+\n",
            "|AIRPORT_SEQ_ID|AIRPORT_ID|AIRPORT|DISPLAY_AIRPORT_NAME|DISPLAY_AIRPORT_CITY_NAME_FULL|AIRPORT_WAC_SEQ_ID2|AIRPORT_WAC|AIRPORT_COUNTRY_NAME|AIRPORT_COUNTRY_CODE_ISO|AIRPORT_STATE_NAME|AIRPORT_STATE_CODE|AIRPORT_STATE_FIPS|CITY_MARKET_SEQ_ID|CITY_MARKET_ID|DISPLAY_CITY_MARKET_NAME_FULL|CITY_MARKET_WAC_SEQ_ID2|CITY_MARKET_WAC|LAT_DEGREES|LAT_HEMISPHERE|LAT_MINUTES|LAT_SECONDS|LATITUDE   |LON_DEGREES|LON_HEMISPHERE|LON_MINUTES|LON_SECONDS|LONGITUDE    |UTC_LOCAL_TIME_VARIATION|AIRPORT_START_DATE|AIRPORT_THRU_DATE|AIRPORT_IS_CLOSED|AIRPORT_IS_LATEST|Unnamed: 32|FL_DATE   |UNIQUE_CARRIER|ORIGIN_AIRPORT_SEQ_ID|ORIGIN|DEST_AIRPORT_SEQ_ID|DEST|CRS_DEP_TIME|DEP_TIME|DEP_DELAY|TAXI_OUT|WHEELS_OFF|WHEELS_ON|TAXI_IN|CRS_ARR_TIME|ARR_TIME|ARR_DELAY|CANCELLED|DIVERTED|DISTANCE|\n",
            "+--------------+----------+-------+--------------------+------------------------------+-------------------+-----------+--------------------+------------------------+------------------+------------------+------------------+------------------+--------------+-----------------------------+-----------------------+---------------+-----------+--------------+-----------+-----------+-----------+-----------+--------------+-----------+-----------+-------------+------------------------+------------------+-----------------+-----------------+-----------------+-----------+----------+--------------+---------------------+------+-------------------+----+------------+--------+---------+--------+----------+---------+-------+------------+--------+---------+---------+--------+--------+\n",
            "|1000101       |10001     |01A    |Afognak Lake Airport|Afognak Lake, AK              |101                |1          |United States       |US                      |Alaska            |AK                |2                 |3000101           |30001         |Afognak Lake, AK             |101                    |1              |58         |N             |6          |34         |58.10944444|152        |W             |54         |24         |-152.90666667|NaN                     |2007-07-01        |NaN              |0                |1                |NaN        |2015-04-28|EV            |1000101              |ABE   |1000101            |ATL |1600        |1555    |-5       |7       |1602      |1747     |4      |1809        |1751    |-18      |false    |false   |692     |\n",
            "+--------------+----------+-------+--------------------+------------------------------+-------------------+-----------+--------------------+------------------------+------------------+------------------+------------------+------------------+--------------+-----------------------------+-----------------------+---------------+-----------+--------------+-----------+-----------+-----------+-----------+--------------+-----------+-----------+-------------+------------------------+------------------+-----------------+-----------------+-----------------+-----------+----------+--------------+---------------------+------+-------------------+----+------------+--------+---------+--------+----------+---------+-------+------------+--------+---------+---------+--------+--------+\n",
            "\n"
          ]
        }
      ]
    },
    {
      "cell_type": "code",
      "source": [
        "#load csv and json\n",
        "#load dataframe in to db\n",
        "#save dataframe as file\n"
      ],
      "metadata": {
        "id": "fV2i_lc3wLv0"
      },
      "execution_count": null,
      "outputs": []
    }
  ]
}