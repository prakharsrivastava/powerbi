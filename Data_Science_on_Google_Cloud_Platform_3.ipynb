{
  "nbformat": 4,
  "nbformat_minor": 0,
  "metadata": {
    "colab": {
      "provenance": [],
      "authorship_tag": "ABX9TyOcGQUG6CMJhadj93jJ5Tbs",
      "include_colab_link": true
    },
    "kernelspec": {
      "name": "python3",
      "display_name": "Python 3"
    },
    "language_info": {
      "name": "python"
    }
  },
  "cells": [
    {
      "cell_type": "markdown",
      "metadata": {
        "id": "view-in-github",
        "colab_type": "text"
      },
      "source": [
        "<a href=\"https://colab.research.google.com/github/prakharsrivastava/powerbi/blob/main/Data_Science_on_Google_Cloud_Platform_3.ipynb\" target=\"_parent\"><img src=\"https://colab.research.google.com/assets/colab-badge.svg\" alt=\"Open In Colab\"/></a>"
      ]
    },
    {
      "cell_type": "code",
      "source": [
        "from google.colab import drive\n",
        "\n",
        "drive.mount('/content/gdrive')\n",
        "%cd /content/gdrive/MyDrive/chapter2/\n"
      ],
      "metadata": {
        "colab": {
          "base_uri": "https://localhost:8080/"
        },
        "id": "Bvc4LkTLn9wd",
        "outputId": "40201824-91ee-4ade-8c01-df3481615040"
      },
      "execution_count": 1,
      "outputs": [
        {
          "output_type": "stream",
          "name": "stdout",
          "text": [
            "Mounted at /content/gdrive\n",
            "/content/gdrive/MyDrive/chapter2\n"
          ]
        }
      ]
    },
    {
      "cell_type": "code",
      "source": [
        "%load_ext sql"
      ],
      "metadata": {
        "id": "DGe0C7JMoCJ8"
      },
      "execution_count": 2,
      "outputs": []
    },
    {
      "cell_type": "code",
      "source": [
        "%%sql\n",
        "sqlite:///mydb_"
      ],
      "metadata": {
        "colab": {
          "base_uri": "https://localhost:8080/",
          "height": 35
        },
        "id": "qJURHwlZoK9e",
        "outputId": "5ef01534-0a1c-475c-d0fa-b71ca75b710d"
      },
      "execution_count": 5,
      "outputs": [
        {
          "output_type": "execute_result",
          "data": {
            "text/plain": [
              "'Connected: @mydb_'"
            ],
            "application/vnd.google.colaboratory.intrinsic+json": {
              "type": "string"
            }
          },
          "metadata": {},
          "execution_count": 5
        }
      ]
    },
    {
      "cell_type": "code",
      "source": [],
      "metadata": {
        "id": "HPJxz0WtuX3P"
      },
      "execution_count": null,
      "outputs": []
    },
    {
      "cell_type": "code",
      "execution_count": null,
      "metadata": {
        "colab": {
          "base_uri": "https://localhost:8080/"
        },
        "id": "tpbDq5BPnxBc",
        "outputId": "11403b47-5dcd-43d5-fe80-a791b20e004d"
      },
      "outputs": [
        {
          "output_type": "execute_result",
          "data": {
            "text/plain": []
          },
          "metadata": {},
          "execution_count": 94
        }
      ],
      "source": [
        "%%shell\n",
        "cat contingency.sql |\n",
        "sed 's/DEP_DELAY_THRESH/20/g'  | sed 's/ARR_DELAY_THRESH/-30/g' > sql_.sql"
      ]
    },
    {
      "cell_type": "code",
      "source": [
        "cat sql_.sql"
      ],
      "metadata": {
        "colab": {
          "base_uri": "https://localhost:8080/"
        },
        "id": "yLmMS4RayctO",
        "outputId": "d95436bd-4aaa-4d5b-87e6-f9e613935671"
      },
      "execution_count": null,
      "outputs": [
        {
          "output_type": "stream",
          "name": "stdout",
          "text": [
            "SELECT \n",
            "      case when dep_delay <= 20 AND arr_delay < -30  then count(dest) end  AS true_positives,\n",
            "        case  when dep_delay < 20 AND arr_delay >= -30 then count(dest) end AS false_positives,\n",
            "       case  when dep_delay >= 20 AND arr_delay < -30 then count(dest) end AS false_negatives,\n",
            "        case  when dep_delay >= 20 AND arr_delay >= -30 then count(dest) end AS true_negatives,\n",
            "    COUNT(*) AS total\n",
            "FROM flights_view\n",
            "WHERE arr_delay IS NOT NULL AND dep_delay IS NOT NULL"
          ]
        }
      ]
    },
    {
      "cell_type": "code",
      "source": [
        "\n",
        "import sqlite3\n",
        "\n",
        "qry = open('sql_.sql', 'r').read()\n",
        "conn = sqlite3.connect('mydb_')\n",
        "c = conn.cursor()\n",
        "res=c.execute(qry)\n",
        "conn.commit()\n",
        "\n",
        "\n",
        "for row in res:\n",
        "    print(*row, sep='\\t')\n",
        "\n",
        "c.close()\n",
        "conn.close()"
      ],
      "metadata": {
        "colab": {
          "base_uri": "https://localhost:8080/"
        },
        "id": "L3RLxPBIoUxI",
        "outputId": "ac0bc9dc-6b52-41cb-eb5d-036cafea3f35"
      },
      "execution_count": null,
      "outputs": [
        {
          "output_type": "stream",
          "name": "stdout",
          "text": [
            "None\t457013\tNone\tNone\t457013\n"
          ]
        }
      ]
    },
    {
      "cell_type": "code",
      "source": [
        "import sqlite3\n",
        "import pandas as pd\n",
        "dataframe = pd.read_sql(\"\"\"\n",
        "            SELECT *\n",
        "            FROM flights_view\n",
        "            \n",
        "            \"\"\", con = sqlite3.connect('mydb_'))\n",
        "# return your first five rows\n",
        "dataframe.head()"
      ],
      "metadata": {
        "colab": {
          "base_uri": "https://localhost:8080/",
          "height": 357
        },
        "id": "VA1FOAww1NnX",
        "outputId": "8360131b-0bfc-4d44-c813-c10a5122d7d5"
      },
      "execution_count": 6,
      "outputs": [
        {
          "output_type": "execute_result",
          "data": {
            "text/plain": [
              "      FL_DATE UNIQUE_CARRIER  ORIGIN_AIRPORT_SEQ_ID ORIGIN  \\\n",
              "0  2015-01-01             AA                1247802    JFK   \n",
              "1  2015-01-02             AA                1247802    JFK   \n",
              "2  2015-01-03             AA                1247802    JFK   \n",
              "3  2015-01-04             AA                1247802    JFK   \n",
              "4  2015-01-05             AA                1247802    JFK   \n",
              "\n",
              "   DEST_AIRPORT_SEQ_ID DEST  CRS_DEP_TIME  DEP_TIME  DEP_DELAY  TAXI_OUT  \\\n",
              "0              1289203  LAX           900     855.0       -5.0      17.0   \n",
              "1              1289203  LAX           900     850.0      -10.0      15.0   \n",
              "2              1289203  LAX           900     853.0       -7.0      15.0   \n",
              "3              1289203  LAX           900     853.0       -7.0      14.0   \n",
              "4              1289203  LAX           900     853.0       -7.0      27.0   \n",
              "\n",
              "   WHEELS_OFF  WHEELS_ON  TAXI_IN  CRS_ARR_TIME  ARR_TIME  ARR_DELAY  \\\n",
              "0       912.0     1230.0      7.0          1230    1237.0        7.0   \n",
              "1       905.0     1202.0      9.0          1230    1211.0      -19.0   \n",
              "2       908.0     1138.0     13.0          1230    1151.0      -39.0   \n",
              "3       907.0     1159.0     19.0          1230    1218.0      -12.0   \n",
              "4       920.0     1158.0     24.0          1230    1222.0       -8.0   \n",
              "\n",
              "   CANCELLED  DIVERTED  Distance  \n",
              "0          0         0    2475.0  \n",
              "1          0         0    2475.0  \n",
              "2          0         0    2475.0  \n",
              "3          0         0    2475.0  \n",
              "4          0         0    2475.0  "
            ],
            "text/html": [
              "\n",
              "  <div id=\"df-af95375c-a597-4d2e-8a6b-5e469ea006ff\">\n",
              "    <div class=\"colab-df-container\">\n",
              "      <div>\n",
              "<style scoped>\n",
              "    .dataframe tbody tr th:only-of-type {\n",
              "        vertical-align: middle;\n",
              "    }\n",
              "\n",
              "    .dataframe tbody tr th {\n",
              "        vertical-align: top;\n",
              "    }\n",
              "\n",
              "    .dataframe thead th {\n",
              "        text-align: right;\n",
              "    }\n",
              "</style>\n",
              "<table border=\"1\" class=\"dataframe\">\n",
              "  <thead>\n",
              "    <tr style=\"text-align: right;\">\n",
              "      <th></th>\n",
              "      <th>FL_DATE</th>\n",
              "      <th>UNIQUE_CARRIER</th>\n",
              "      <th>ORIGIN_AIRPORT_SEQ_ID</th>\n",
              "      <th>ORIGIN</th>\n",
              "      <th>DEST_AIRPORT_SEQ_ID</th>\n",
              "      <th>DEST</th>\n",
              "      <th>CRS_DEP_TIME</th>\n",
              "      <th>DEP_TIME</th>\n",
              "      <th>DEP_DELAY</th>\n",
              "      <th>TAXI_OUT</th>\n",
              "      <th>WHEELS_OFF</th>\n",
              "      <th>WHEELS_ON</th>\n",
              "      <th>TAXI_IN</th>\n",
              "      <th>CRS_ARR_TIME</th>\n",
              "      <th>ARR_TIME</th>\n",
              "      <th>ARR_DELAY</th>\n",
              "      <th>CANCELLED</th>\n",
              "      <th>DIVERTED</th>\n",
              "      <th>Distance</th>\n",
              "    </tr>\n",
              "  </thead>\n",
              "  <tbody>\n",
              "    <tr>\n",
              "      <th>0</th>\n",
              "      <td>2015-01-01</td>\n",
              "      <td>AA</td>\n",
              "      <td>1247802</td>\n",
              "      <td>JFK</td>\n",
              "      <td>1289203</td>\n",
              "      <td>LAX</td>\n",
              "      <td>900</td>\n",
              "      <td>855.0</td>\n",
              "      <td>-5.0</td>\n",
              "      <td>17.0</td>\n",
              "      <td>912.0</td>\n",
              "      <td>1230.0</td>\n",
              "      <td>7.0</td>\n",
              "      <td>1230</td>\n",
              "      <td>1237.0</td>\n",
              "      <td>7.0</td>\n",
              "      <td>0</td>\n",
              "      <td>0</td>\n",
              "      <td>2475.0</td>\n",
              "    </tr>\n",
              "    <tr>\n",
              "      <th>1</th>\n",
              "      <td>2015-01-02</td>\n",
              "      <td>AA</td>\n",
              "      <td>1247802</td>\n",
              "      <td>JFK</td>\n",
              "      <td>1289203</td>\n",
              "      <td>LAX</td>\n",
              "      <td>900</td>\n",
              "      <td>850.0</td>\n",
              "      <td>-10.0</td>\n",
              "      <td>15.0</td>\n",
              "      <td>905.0</td>\n",
              "      <td>1202.0</td>\n",
              "      <td>9.0</td>\n",
              "      <td>1230</td>\n",
              "      <td>1211.0</td>\n",
              "      <td>-19.0</td>\n",
              "      <td>0</td>\n",
              "      <td>0</td>\n",
              "      <td>2475.0</td>\n",
              "    </tr>\n",
              "    <tr>\n",
              "      <th>2</th>\n",
              "      <td>2015-01-03</td>\n",
              "      <td>AA</td>\n",
              "      <td>1247802</td>\n",
              "      <td>JFK</td>\n",
              "      <td>1289203</td>\n",
              "      <td>LAX</td>\n",
              "      <td>900</td>\n",
              "      <td>853.0</td>\n",
              "      <td>-7.0</td>\n",
              "      <td>15.0</td>\n",
              "      <td>908.0</td>\n",
              "      <td>1138.0</td>\n",
              "      <td>13.0</td>\n",
              "      <td>1230</td>\n",
              "      <td>1151.0</td>\n",
              "      <td>-39.0</td>\n",
              "      <td>0</td>\n",
              "      <td>0</td>\n",
              "      <td>2475.0</td>\n",
              "    </tr>\n",
              "    <tr>\n",
              "      <th>3</th>\n",
              "      <td>2015-01-04</td>\n",
              "      <td>AA</td>\n",
              "      <td>1247802</td>\n",
              "      <td>JFK</td>\n",
              "      <td>1289203</td>\n",
              "      <td>LAX</td>\n",
              "      <td>900</td>\n",
              "      <td>853.0</td>\n",
              "      <td>-7.0</td>\n",
              "      <td>14.0</td>\n",
              "      <td>907.0</td>\n",
              "      <td>1159.0</td>\n",
              "      <td>19.0</td>\n",
              "      <td>1230</td>\n",
              "      <td>1218.0</td>\n",
              "      <td>-12.0</td>\n",
              "      <td>0</td>\n",
              "      <td>0</td>\n",
              "      <td>2475.0</td>\n",
              "    </tr>\n",
              "    <tr>\n",
              "      <th>4</th>\n",
              "      <td>2015-01-05</td>\n",
              "      <td>AA</td>\n",
              "      <td>1247802</td>\n",
              "      <td>JFK</td>\n",
              "      <td>1289203</td>\n",
              "      <td>LAX</td>\n",
              "      <td>900</td>\n",
              "      <td>853.0</td>\n",
              "      <td>-7.0</td>\n",
              "      <td>27.0</td>\n",
              "      <td>920.0</td>\n",
              "      <td>1158.0</td>\n",
              "      <td>24.0</td>\n",
              "      <td>1230</td>\n",
              "      <td>1222.0</td>\n",
              "      <td>-8.0</td>\n",
              "      <td>0</td>\n",
              "      <td>0</td>\n",
              "      <td>2475.0</td>\n",
              "    </tr>\n",
              "  </tbody>\n",
              "</table>\n",
              "</div>\n",
              "      <button class=\"colab-df-convert\" onclick=\"convertToInteractive('df-af95375c-a597-4d2e-8a6b-5e469ea006ff')\"\n",
              "              title=\"Convert this dataframe to an interactive table.\"\n",
              "              style=\"display:none;\">\n",
              "        \n",
              "  <svg xmlns=\"http://www.w3.org/2000/svg\" height=\"24px\"viewBox=\"0 0 24 24\"\n",
              "       width=\"24px\">\n",
              "    <path d=\"M0 0h24v24H0V0z\" fill=\"none\"/>\n",
              "    <path d=\"M18.56 5.44l.94 2.06.94-2.06 2.06-.94-2.06-.94-.94-2.06-.94 2.06-2.06.94zm-11 1L8.5 8.5l.94-2.06 2.06-.94-2.06-.94L8.5 2.5l-.94 2.06-2.06.94zm10 10l.94 2.06.94-2.06 2.06-.94-2.06-.94-.94-2.06-.94 2.06-2.06.94z\"/><path d=\"M17.41 7.96l-1.37-1.37c-.4-.4-.92-.59-1.43-.59-.52 0-1.04.2-1.43.59L10.3 9.45l-7.72 7.72c-.78.78-.78 2.05 0 2.83L4 21.41c.39.39.9.59 1.41.59.51 0 1.02-.2 1.41-.59l7.78-7.78 2.81-2.81c.8-.78.8-2.07 0-2.86zM5.41 20L4 18.59l7.72-7.72 1.47 1.35L5.41 20z\"/>\n",
              "  </svg>\n",
              "      </button>\n",
              "      \n",
              "  <style>\n",
              "    .colab-df-container {\n",
              "      display:flex;\n",
              "      flex-wrap:wrap;\n",
              "      gap: 12px;\n",
              "    }\n",
              "\n",
              "    .colab-df-convert {\n",
              "      background-color: #E8F0FE;\n",
              "      border: none;\n",
              "      border-radius: 50%;\n",
              "      cursor: pointer;\n",
              "      display: none;\n",
              "      fill: #1967D2;\n",
              "      height: 32px;\n",
              "      padding: 0 0 0 0;\n",
              "      width: 32px;\n",
              "    }\n",
              "\n",
              "    .colab-df-convert:hover {\n",
              "      background-color: #E2EBFA;\n",
              "      box-shadow: 0px 1px 2px rgba(60, 64, 67, 0.3), 0px 1px 3px 1px rgba(60, 64, 67, 0.15);\n",
              "      fill: #174EA6;\n",
              "    }\n",
              "\n",
              "    [theme=dark] .colab-df-convert {\n",
              "      background-color: #3B4455;\n",
              "      fill: #D2E3FC;\n",
              "    }\n",
              "\n",
              "    [theme=dark] .colab-df-convert:hover {\n",
              "      background-color: #434B5C;\n",
              "      box-shadow: 0px 1px 3px 1px rgba(0, 0, 0, 0.15);\n",
              "      filter: drop-shadow(0px 1px 2px rgba(0, 0, 0, 0.3));\n",
              "      fill: #FFFFFF;\n",
              "    }\n",
              "  </style>\n",
              "\n",
              "      <script>\n",
              "        const buttonEl =\n",
              "          document.querySelector('#df-af95375c-a597-4d2e-8a6b-5e469ea006ff button.colab-df-convert');\n",
              "        buttonEl.style.display =\n",
              "          google.colab.kernel.accessAllowed ? 'block' : 'none';\n",
              "\n",
              "        async function convertToInteractive(key) {\n",
              "          const element = document.querySelector('#df-af95375c-a597-4d2e-8a6b-5e469ea006ff');\n",
              "          const dataTable =\n",
              "            await google.colab.kernel.invokeFunction('convertToInteractive',\n",
              "                                                     [key], {});\n",
              "          if (!dataTable) return;\n",
              "\n",
              "          const docLinkHtml = 'Like what you see? Visit the ' +\n",
              "            '<a target=\"_blank\" href=https://colab.research.google.com/notebooks/data_table.ipynb>data table notebook</a>'\n",
              "            + ' to learn more about interactive tables.';\n",
              "          element.innerHTML = '';\n",
              "          dataTable['output_type'] = 'display_data';\n",
              "          await google.colab.output.renderOutput(dataTable, element);\n",
              "          const docLink = document.createElement('div');\n",
              "          docLink.innerHTML = docLinkHtml;\n",
              "          element.appendChild(docLink);\n",
              "        }\n",
              "      </script>\n",
              "    </div>\n",
              "  </div>\n",
              "  "
            ]
          },
          "metadata": {},
          "execution_count": 6
        }
      ]
    },
    {
      "cell_type": "code",
      "source": [
        "import pandas as pd\n",
        "sqlpath = 'sql_.sql'\n",
        "scriptFile = open(sqlpath,'r')\n",
        "script = scriptFile.read()\n",
        "\n",
        "dataframe = pd.read_sql(script, con = sqlite3.connect('mydb_'))\n",
        "# return your first five rows\n",
        "dataframe.head()"
      ],
      "metadata": {
        "colab": {
          "base_uri": "https://localhost:8080/",
          "height": 81
        },
        "id": "vX9ImCoZ1p7k",
        "outputId": "f91c5e8d-c1e6-448b-a74c-aa702d4a69d4"
      },
      "execution_count": null,
      "outputs": [
        {
          "output_type": "execute_result",
          "data": {
            "text/plain": [
              "  true_positives  false_positives false_negatives true_negatives   total\n",
              "0           None           457013            None           None  457013"
            ],
            "text/html": [
              "\n",
              "  <div id=\"df-db0c4e3b-2412-49af-9786-426e411aa8e7\">\n",
              "    <div class=\"colab-df-container\">\n",
              "      <div>\n",
              "<style scoped>\n",
              "    .dataframe tbody tr th:only-of-type {\n",
              "        vertical-align: middle;\n",
              "    }\n",
              "\n",
              "    .dataframe tbody tr th {\n",
              "        vertical-align: top;\n",
              "    }\n",
              "\n",
              "    .dataframe thead th {\n",
              "        text-align: right;\n",
              "    }\n",
              "</style>\n",
              "<table border=\"1\" class=\"dataframe\">\n",
              "  <thead>\n",
              "    <tr style=\"text-align: right;\">\n",
              "      <th></th>\n",
              "      <th>true_positives</th>\n",
              "      <th>false_positives</th>\n",
              "      <th>false_negatives</th>\n",
              "      <th>true_negatives</th>\n",
              "      <th>total</th>\n",
              "    </tr>\n",
              "  </thead>\n",
              "  <tbody>\n",
              "    <tr>\n",
              "      <th>0</th>\n",
              "      <td>None</td>\n",
              "      <td>457013</td>\n",
              "      <td>None</td>\n",
              "      <td>None</td>\n",
              "      <td>457013</td>\n",
              "    </tr>\n",
              "  </tbody>\n",
              "</table>\n",
              "</div>\n",
              "      <button class=\"colab-df-convert\" onclick=\"convertToInteractive('df-db0c4e3b-2412-49af-9786-426e411aa8e7')\"\n",
              "              title=\"Convert this dataframe to an interactive table.\"\n",
              "              style=\"display:none;\">\n",
              "        \n",
              "  <svg xmlns=\"http://www.w3.org/2000/svg\" height=\"24px\"viewBox=\"0 0 24 24\"\n",
              "       width=\"24px\">\n",
              "    <path d=\"M0 0h24v24H0V0z\" fill=\"none\"/>\n",
              "    <path d=\"M18.56 5.44l.94 2.06.94-2.06 2.06-.94-2.06-.94-.94-2.06-.94 2.06-2.06.94zm-11 1L8.5 8.5l.94-2.06 2.06-.94-2.06-.94L8.5 2.5l-.94 2.06-2.06.94zm10 10l.94 2.06.94-2.06 2.06-.94-2.06-.94-.94-2.06-.94 2.06-2.06.94z\"/><path d=\"M17.41 7.96l-1.37-1.37c-.4-.4-.92-.59-1.43-.59-.52 0-1.04.2-1.43.59L10.3 9.45l-7.72 7.72c-.78.78-.78 2.05 0 2.83L4 21.41c.39.39.9.59 1.41.59.51 0 1.02-.2 1.41-.59l7.78-7.78 2.81-2.81c.8-.78.8-2.07 0-2.86zM5.41 20L4 18.59l7.72-7.72 1.47 1.35L5.41 20z\"/>\n",
              "  </svg>\n",
              "      </button>\n",
              "      \n",
              "  <style>\n",
              "    .colab-df-container {\n",
              "      display:flex;\n",
              "      flex-wrap:wrap;\n",
              "      gap: 12px;\n",
              "    }\n",
              "\n",
              "    .colab-df-convert {\n",
              "      background-color: #E8F0FE;\n",
              "      border: none;\n",
              "      border-radius: 50%;\n",
              "      cursor: pointer;\n",
              "      display: none;\n",
              "      fill: #1967D2;\n",
              "      height: 32px;\n",
              "      padding: 0 0 0 0;\n",
              "      width: 32px;\n",
              "    }\n",
              "\n",
              "    .colab-df-convert:hover {\n",
              "      background-color: #E2EBFA;\n",
              "      box-shadow: 0px 1px 2px rgba(60, 64, 67, 0.3), 0px 1px 3px 1px rgba(60, 64, 67, 0.15);\n",
              "      fill: #174EA6;\n",
              "    }\n",
              "\n",
              "    [theme=dark] .colab-df-convert {\n",
              "      background-color: #3B4455;\n",
              "      fill: #D2E3FC;\n",
              "    }\n",
              "\n",
              "    [theme=dark] .colab-df-convert:hover {\n",
              "      background-color: #434B5C;\n",
              "      box-shadow: 0px 1px 3px 1px rgba(0, 0, 0, 0.15);\n",
              "      filter: drop-shadow(0px 1px 2px rgba(0, 0, 0, 0.3));\n",
              "      fill: #FFFFFF;\n",
              "    }\n",
              "  </style>\n",
              "\n",
              "      <script>\n",
              "        const buttonEl =\n",
              "          document.querySelector('#df-db0c4e3b-2412-49af-9786-426e411aa8e7 button.colab-df-convert');\n",
              "        buttonEl.style.display =\n",
              "          google.colab.kernel.accessAllowed ? 'block' : 'none';\n",
              "\n",
              "        async function convertToInteractive(key) {\n",
              "          const element = document.querySelector('#df-db0c4e3b-2412-49af-9786-426e411aa8e7');\n",
              "          const dataTable =\n",
              "            await google.colab.kernel.invokeFunction('convertToInteractive',\n",
              "                                                     [key], {});\n",
              "          if (!dataTable) return;\n",
              "\n",
              "          const docLinkHtml = 'Like what you see? Visit the ' +\n",
              "            '<a target=\"_blank\" href=https://colab.research.google.com/notebooks/data_table.ipynb>data table notebook</a>'\n",
              "            + ' to learn more about interactive tables.';\n",
              "          element.innerHTML = '';\n",
              "          dataTable['output_type'] = 'display_data';\n",
              "          await google.colab.output.renderOutput(dataTable, element);\n",
              "          const docLink = document.createElement('div');\n",
              "          docLink.innerHTML = docLinkHtml;\n",
              "          element.appendChild(docLink);\n",
              "        }\n",
              "      </script>\n",
              "    </div>\n",
              "  </div>\n",
              "  "
            ]
          },
          "metadata": {},
          "execution_count": 100
        }
      ]
    },
    {
      "cell_type": "code",
      "source": [
        "import pandas as pd\n",
        "dataframe = pd.read_sql(\"\"\"\n",
        "            SELECT *\n",
        "            FROM flights_view \n",
        "            \n",
        "            \"\"\", con = sqlite3.connect('mydb_'))\n",
        "# return your first five rows\n",
        "dataframe.head()\n",
        "dataframe.to_csv(\"mydata.csv\", sep='\\t')"
      ],
      "metadata": {
        "id": "YzvWG1m12G30"
      },
      "execution_count": null,
      "outputs": []
    },
    {
      "cell_type": "code",
      "source": [
        "import matplotlib.pyplot as plt\n",
        "import numpy as np\n",
        "x=dataframe[\"CRS_DEP_TIME\"]\n",
        "y=dataframe[\"CRS_ARR_TIME\"]\n",
        "#create basic scatterplot\n",
        "plt.plot(x, y, 'o')\n",
        "\n",
        "#obtain m (slope) and b(intercept) of linear regression line\n",
        "m, b = np.polyfit(x, y, 1)\n",
        "\n",
        "#add linear regression line to scatterplot \n",
        "plt.plot(x, m*x+b)"
      ],
      "metadata": {
        "colab": {
          "base_uri": "https://localhost:8080/",
          "height": 283
        },
        "id": "IktxGgDB08Xx",
        "outputId": "290adde3-99de-4e09-d44c-905ca73048c1"
      },
      "execution_count": null,
      "outputs": [
        {
          "output_type": "execute_result",
          "data": {
            "text/plain": [
              "[<matplotlib.lines.Line2D at 0x7fec7a272ca0>]"
            ]
          },
          "metadata": {},
          "execution_count": 103
        },
        {
          "output_type": "display_data",
          "data": {
            "text/plain": [
              "<Figure size 432x288 with 1 Axes>"
            ],
            "image/png": "[encoded data removed]"
          },
          "metadata": {
            "needs_background": "light"
          }
        }
      ]
    },
    {
      "cell_type": "code",
      "source": [
        "np.unique(dataframe[\"UNIQUE_CARRIER\"])"
      ],
      "metadata": {
        "colab": {
          "base_uri": "https://localhost:8080/"
        },
        "id": "2nlUU0kGMea4",
        "outputId": "fbbb9752-e592-45d0-d903-c503aa19de94"
      },
      "execution_count": 17,
      "outputs": [
        {
          "output_type": "execute_result",
          "data": {
            "text/plain": [
              "array(['AA', 'AS', 'B6', 'DL', 'EV', 'F9', 'HA', 'MQ', 'NK', 'OO', 'UA',\n",
              "       'US', 'VX', 'WN'], dtype=object)"
            ]
          },
          "metadata": {},
          "execution_count": 17
        }
      ]
    },
    {
      "cell_type": "code",
      "source": [
        "# Import libraries\n",
        "from mpl_toolkits import mplot3d\n",
        "import numpy as np\n",
        "import matplotlib.pyplot as plt\n",
        "\n",
        "\n",
        "# Creating dataset\n",
        "z =np.unique(dataframe[\"UNIQUE_CARRIER\"])\n",
        "x=np.sum(dataframe[\"CRS_DEP_TIME\"])\n",
        "y=np.sum(dataframe[\"CRS_ARR_TIME\"])\n",
        "\n",
        "plt.scatter(x, y)\n",
        "plt.legend(z)\n",
        "plt.show()"
      ],
      "metadata": {
        "id": "IARG9PSm6O7-",
        "colab": {
          "base_uri": "https://localhost:8080/",
          "height": 371
        },
        "outputId": "327b128e-4454-4fe4-e5fe-33e8eeb3e425"
      },
      "execution_count": 24,
      "outputs": [
        {
          "output_type": "display_data",
          "data": {
            "text/plain": [
              "<Figure size 576x396 with 1 Axes>"
            ],
            "image/png": "[encoded data removed]"
          },
          "metadata": {}
        }
      ]
    },
    {
      "cell_type": "code",
      "source": [],
      "metadata": {
        "id": "FGM1Uzh7PbL7"
      },
      "execution_count": 26,
      "outputs": []
    },
    {
      "cell_type": "code",
      "source": [],
      "metadata": {
        "colab": {
          "base_uri": "https://localhost:8080/"
        },
        "id": "kiLob6hCQP0m",
        "outputId": "ee096e49-a09e-4248-c3e0-7c5ac63a95a8"
      },
      "execution_count": 31,
      "outputs": [
        {
          "output_type": "execute_result",
          "data": {
            "text/plain": [
              "0         Adelie\n",
              "1         Adelie\n",
              "2         Adelie\n",
              "3         Adelie\n",
              "4         Adelie\n",
              "         ...    \n",
              "339    Chinstrap\n",
              "340    Chinstrap\n",
              "341    Chinstrap\n",
              "342    Chinstrap\n",
              "343    Chinstrap\n",
              "Name: species, Length: 344, dtype: object"
            ]
          },
          "metadata": {},
          "execution_count": 31
        }
      ]
    },
    {
      "cell_type": "code",
      "source": [
        "\n",
        "plt.figure(figsize=(8,6))\n",
        "plt.scatter(dataframe.CRS_DEP_TIME, \n",
        "            dataframe.CRS_ARR_TIME,\n",
        "            s=150,\n",
        "            c=dataframe.UNIQUE_CARRIER.astype('category').cat.codes)\n",
        "plt.xlabel(\"Culmen Length\", size=24)\n",
        "plt.ylabel(\"Culmen Depth\", size=24)\n",
        "plt.savefig(\"scatterplot_point_colored_by_variable_matplotlib_Python.png\",\n",
        "                    format='png',dpi=150)"
      ],
      "metadata": {
        "colab": {
          "base_uri": "https://localhost:8080/",
          "height": 400
        },
        "id": "Y8kPo5oGQRZK",
        "outputId": "398218ca-9bda-4cc4-db90-ee27e01862ef"
      },
      "execution_count": 34,
      "outputs": [
        {
          "output_type": "display_data",
          "data": {
            "text/plain": [
              "<Figure size 576x432 with 1 Axes>"
            ],
            "image/png": "[encoded data removed]"
          },
          "metadata": {}
        }
      ]
    },
    {
      "cell_type": "code",
      "source": [
        "tabpy"
      ],
      "metadata": {
        "id": "RqR1DhWFR9oo"
      },
      "execution_count": null,
      "outputs": []
    }
  ]
}