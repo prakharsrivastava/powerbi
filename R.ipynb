{
  "nbformat": 4,
  "nbformat_minor": 0,
  "metadata": {
    "colab": {
      "provenance": [],
      "include_colab_link": true
    },
    "kernelspec": {
      "name": "ir",
      "display_name": "R"
    },
    "language_info": {
      "name": "R"
    },
    "gpuClass": "standard"
  },
  "cells": [
    {
      "cell_type": "markdown",
      "metadata": {
        "id": "view-in-github",
        "colab_type": "text"
      },
      "source": [
        "<a href=\"https://colab.research.google.com/github/prakharsrivastava/powerbi/blob/main/R.ipynb\" target=\"_parent\"><img src=\"https://colab.research.google.com/assets/colab-badge.svg\" alt=\"Open In Colab\"/></a>"
      ]
    },
    {
      "cell_type": "code",
      "source": [
        "\n",
        "install.packages(\"ggplot2\")\n",
        "\n",
        "install.packages(\"plotrix\")\n",
        "\n",
        "\n",
        "\n"
      ],
      "metadata": {
        "id": "TARp9Mpy7exV",
        "outputId": "b0162a21-e787-416a-d014-1e7d05bc2d54",
        "colab": {
          "base_uri": "https://localhost:8080/"
        }
      },
      "execution_count": 1,
      "outputs": [
        {
          "output_type": "stream",
          "name": "stderr",
          "text": [
            "Installing package into ‘/usr/local/lib/R/site-library’\n",
            "(as ‘lib’ is unspecified)\n",
            "\n",
            "Installing package into ‘/usr/local/lib/R/site-library’\n",
            "(as ‘lib’ is unspecified)\n",
            "\n"
          ]
        }
      ]
    },
    {
      "cell_type": "code",
      "execution_count": 2,
      "metadata": {
        "id": "ZjXkgH0jfRRm",
        "colab": {
          "base_uri": "https://localhost:8080/"
        },
        "outputId": "3bf2b03e-a73d-419a-be8c-8c8319cd8588"
      },
      "outputs": [
        {
          "output_type": "stream",
          "name": "stderr",
          "text": [
            "\n",
            "Attaching package: ‘dplyr’\n",
            "\n",
            "\n",
            "The following objects are masked from ‘package:stats’:\n",
            "\n",
            "    filter, lag\n",
            "\n",
            "\n",
            "The following objects are masked from ‘package:base’:\n",
            "\n",
            "    intersect, setdiff, setequal, union\n",
            "\n",
            "\n",
            "Warning message in system(\"timedatectl\", intern = TRUE):\n",
            "“running command 'timedatectl' had status 1”\n",
            "── \u001b[1mAttaching packages\u001b[22m ─────────────────────────────────────── tidyverse 1.3.1 ──\n",
            "\n",
            "\u001b[32m✔\u001b[39m \u001b[34mtibble \u001b[39m 3.1.8     \u001b[32m✔\u001b[39m \u001b[34mstringr\u001b[39m 1.4.1\n",
            "\u001b[32m✔\u001b[39m \u001b[34mreadr  \u001b[39m 2.1.4     \u001b[32m✔\u001b[39m \u001b[34mforcats\u001b[39m 1.0.0\n",
            "\u001b[32m✔\u001b[39m \u001b[34mpurrr  \u001b[39m 1.0.1     \n",
            "\n",
            "── \u001b[1mConflicts\u001b[22m ────────────────────────────────────────── tidyverse_conflicts() ──\n",
            "\u001b[31m✖\u001b[39m \u001b[34mdplyr\u001b[39m::\u001b[32mfilter()\u001b[39m masks \u001b[34mstats\u001b[39m::filter()\n",
            "\u001b[31m✖\u001b[39m \u001b[34mdplyr\u001b[39m::\u001b[32mlag()\u001b[39m    masks \u001b[34mstats\u001b[39m::lag()\n",
            "\n"
          ]
        }
      ],
      "source": [
        "\n",
        "library(\"ggplot2\")\n",
        "library(\"dplyr\")\n",
        "library(tidyr)\n",
        "library(tidyverse)\n",
        "\n",
        "library(\"plotrix\")\n"
      ]
    },
    {
      "cell_type": "code",
      "source": [
        "numbers <- c('One','Two',\"Three\",\"Four\",\"Five\")\n",
        "for(i in numbers) {\n",
        "  if( i == \"Four\")\n",
        "    break\n",
        "  print(i)\n",
        "}"
      ],
      "metadata": {
        "colab": {
          "base_uri": "https://localhost:8080/"
        },
        "id": "5X8dT1FUJGoa",
        "outputId": "95fee970-1285-4cfe-a8a2-1c62ffe001ab"
      },
      "execution_count": 5,
      "outputs": [
        {
          "output_type": "stream",
          "name": "stdout",
          "text": [
            "[1] \"One\"\n",
            "[1] \"Two\"\n",
            "[1] \"Three\"\n"
          ]
        }
      ]
    },
    {
      "cell_type": "code",
      "source": [
        "add <- function(x,y) {\n",
        "  return (x + y)\n",
        "}\n",
        "# multiply function\n",
        "mul <- function(x,y) {\n",
        "  return (x * y)\n",
        "}\n",
        "# div function\n",
        "div <- function(x,y) {\n",
        "  return (x / y)\n",
        "}\n",
        "\n",
        "# calling functions sequentially\n",
        "res1 <- add(2,4)\n",
        "res2 <- mul(res1,8)\n",
        "res3 <- div(res2,2)\n",
        "print(res3)"
      ],
      "metadata": {
        "colab": {
          "base_uri": "https://localhost:8080/"
        },
        "id": "ZlyBrUnuJYfm",
        "outputId": "c7a3ea61-c13a-4122-9ac6-f4ac13aa787d"
      },
      "execution_count": 6,
      "outputs": [
        {
          "output_type": "stream",
          "name": "stdout",
          "text": [
            "[1] 24\n"
          ]
        }
      ]
    },
    {
      "cell_type": "code",
      "source": [
        "res <- add(2,4) %>% mul(8) %>% div(2)\n",
        "print(res)"
      ],
      "metadata": {
        "colab": {
          "base_uri": "https://localhost:8080/"
        },
        "id": "YST3HTm5JgBG",
        "outputId": "ee07e21b-90b8-4862-9ffd-b3df656d6522"
      },
      "execution_count": 7,
      "outputs": [
        {
          "output_type": "stream",
          "name": "stdout",
          "text": [
            "[1] 24\n"
          ]
        }
      ]
    },
    {
      "cell_type": "code",
      "source": [
        "df <- data.frame(\n",
        "  id = c(10,11,12,13),\n",
        "  name = c('sai','ram','deepika','sahithi'),\n",
        "  gender = c('M','M','F','F'),\n",
        "  dob = as.Date(c('1990-10-02','1981-3-24','1987-6-14','1985-8-16')),\n",
        "  state = c('CA','NY',NA,NA),\n",
        "  row.names=c('r1','r2','r3','r4')\n",
        ")\n",
        "df\n",
        "\n",
        "# Load dplyr library\n",
        "library('dplyr')\n",
        "\n",
        "# filter() by row name & select id and name columns\n",
        "df2 <- df %>% filter(rownames(df) == 'r3') %>% select(c('id','name'))\n",
        "print(df2)"
      ],
      "metadata": {
        "colab": {
          "base_uri": "https://localhost:8080/",
          "height": 259
        },
        "id": "Q-n0jF1cJliT",
        "outputId": "5a84d02a-811e-4ab2-9941-3b5b23267b66"
      },
      "execution_count": 8,
      "outputs": [
        {
          "output_type": "display_data",
          "data": {
            "text/html": [
              "<table class=\"dataframe\">\n",
              "<caption>A data.frame: 4 × 5</caption>\n",
              "<thead>\n",
              "\t<tr><th></th><th scope=col>id</th><th scope=col>name</th><th scope=col>gender</th><th scope=col>dob</th><th scope=col>state</th></tr>\n",
              "\t<tr><th></th><th scope=col>&lt;dbl&gt;</th><th scope=col>&lt;chr&gt;</th><th scope=col>&lt;chr&gt;</th><th scope=col>&lt;date&gt;</th><th scope=col>&lt;chr&gt;</th></tr>\n",
              "</thead>\n",
              "<tbody>\n",
              "\t<tr><th scope=row>r1</th><td>10</td><td>sai    </td><td>M</td><td>1990-10-02</td><td>CA</td></tr>\n",
              "\t<tr><th scope=row>r2</th><td>11</td><td>ram    </td><td>M</td><td>1981-03-24</td><td>NY</td></tr>\n",
              "\t<tr><th scope=row>r3</th><td>12</td><td>deepika</td><td>F</td><td>1987-06-14</td><td>NA</td></tr>\n",
              "\t<tr><th scope=row>r4</th><td>13</td><td>sahithi</td><td>F</td><td>1985-08-16</td><td>NA</td></tr>\n",
              "</tbody>\n",
              "</table>\n"
            ],
            "text/markdown": "\nA data.frame: 4 × 5\n\n| <!--/--> | id &lt;dbl&gt; | name &lt;chr&gt; | gender &lt;chr&gt; | dob &lt;date&gt; | state &lt;chr&gt; |\n|---|---|---|---|---|---|\n| r1 | 10 | sai     | M | 1990-10-02 | CA |\n| r2 | 11 | ram     | M | 1981-03-24 | NY |\n| r3 | 12 | deepika | F | 1987-06-14 | NA |\n| r4 | 13 | sahithi | F | 1985-08-16 | NA |\n\n",
            "text/latex": "A data.frame: 4 × 5\n\\begin{tabular}{r|lllll}\n  & id & name & gender & dob & state\\\\\n  & <dbl> & <chr> & <chr> & <date> & <chr>\\\\\n\\hline\n\tr1 & 10 & sai     & M & 1990-10-02 & CA\\\\\n\tr2 & 11 & ram     & M & 1981-03-24 & NY\\\\\n\tr3 & 12 & deepika & F & 1987-06-14 & NA\\\\\n\tr4 & 13 & sahithi & F & 1985-08-16 & NA\\\\\n\\end{tabular}\n",
            "text/plain": [
              "   id name    gender dob        state\n",
              "r1 10 sai     M      1990-10-02 CA   \n",
              "r2 11 ram     M      1981-03-24 NY   \n",
              "r3 12 deepika F      1987-06-14 NA   \n",
              "r4 13 sahithi F      1985-08-16 NA   "
            ]
          },
          "metadata": {}
        },
        {
          "output_type": "stream",
          "name": "stdout",
          "text": [
            "   id    name\n",
            "r3 12 deepika\n"
          ]
        }
      ]
    },
    {
      "cell_type": "code",
      "source": [
        " rList <- list(emp_id=c(1,2,3,4,5,6),\n",
        "           name=c(\"Smith\",\"Rose\",\"Williams\"),\n",
        "           dept_id=c(10,20,10,10,40,50))\n",
        "\n",
        "rList"
      ],
      "metadata": {
        "colab": {
          "base_uri": "https://localhost:8080/",
          "height": 149
        },
        "id": "qjoprK5RJzDN",
        "outputId": "e65b1be7-4fa7-423b-8a6f-287b0ac7d867"
      },
      "execution_count": 9,
      "outputs": [
        {
          "output_type": "display_data",
          "data": {
            "text/html": [
              "<dl>\n",
              "\t<dt>$emp_id</dt>\n",
              "\t\t<dd><style>\n",
              ".list-inline {list-style: none; margin:0; padding: 0}\n",
              ".list-inline>li {display: inline-block}\n",
              ".list-inline>li:not(:last-child)::after {content: \"\\00b7\"; padding: 0 .5ex}\n",
              "</style>\n",
              "<ol class=list-inline><li>1</li><li>2</li><li>3</li><li>4</li><li>5</li><li>6</li></ol>\n",
              "</dd>\n",
              "\t<dt>$name</dt>\n",
              "\t\t<dd><style>\n",
              ".list-inline {list-style: none; margin:0; padding: 0}\n",
              ".list-inline>li {display: inline-block}\n",
              ".list-inline>li:not(:last-child)::after {content: \"\\00b7\"; padding: 0 .5ex}\n",
              "</style>\n",
              "<ol class=list-inline><li>'Smith'</li><li>'Rose'</li><li>'Williams'</li></ol>\n",
              "</dd>\n",
              "\t<dt>$dept_id</dt>\n",
              "\t\t<dd><style>\n",
              ".list-inline {list-style: none; margin:0; padding: 0}\n",
              ".list-inline>li {display: inline-block}\n",
              ".list-inline>li:not(:last-child)::after {content: \"\\00b7\"; padding: 0 .5ex}\n",
              "</style>\n",
              "<ol class=list-inline><li>10</li><li>20</li><li>10</li><li>10</li><li>40</li><li>50</li></ol>\n",
              "</dd>\n",
              "</dl>\n"
            ],
            "text/markdown": "$emp_id\n:   1. 1\n2. 2\n3. 3\n4. 4\n5. 5\n6. 6\n\n\n\n$name\n:   1. 'Smith'\n2. 'Rose'\n3. 'Williams'\n\n\n\n$dept_id\n:   1. 10\n2. 20\n3. 10\n4. 10\n5. 40\n6. 50\n\n\n\n\n\n",
            "text/latex": "\\begin{description}\n\\item[\\$emp\\_id] \\begin{enumerate*}\n\\item 1\n\\item 2\n\\item 3\n\\item 4\n\\item 5\n\\item 6\n\\end{enumerate*}\n\n\\item[\\$name] \\begin{enumerate*}\n\\item 'Smith'\n\\item 'Rose'\n\\item 'Williams'\n\\end{enumerate*}\n\n\\item[\\$dept\\_id] \\begin{enumerate*}\n\\item 10\n\\item 20\n\\item 10\n\\item 10\n\\item 40\n\\item 50\n\\end{enumerate*}\n\n\\end{description}\n",
            "text/plain": [
              "$emp_id\n",
              "[1] 1 2 3 4 5 6\n",
              "\n",
              "$name\n",
              "[1] \"Smith\"    \"Rose\"     \"Williams\"\n",
              "\n",
              "$dept_id\n",
              "[1] 10 20 10 10 40 50\n"
            ]
          },
          "metadata": {}
        }
      ]
    },
    {
      "cell_type": "code",
      "source": [
        "rList$emp_id"
      ],
      "metadata": {
        "colab": {
          "base_uri": "https://localhost:8080/",
          "height": 17
        },
        "id": "H7Xt1S_ZJ0br",
        "outputId": "142e95ac-7563-4911-86fb-bebb7910de23"
      },
      "execution_count": 11,
      "outputs": [
        {
          "output_type": "display_data",
          "data": {
            "text/html": [],
            "text/markdown": "",
            "text/latex": "",
            "text/plain": [
              "numeric(0)"
            ]
          },
          "metadata": {}
        }
      ]
    },
    {
      "cell_type": "code",
      "source": [
        "id <- c(10,11,12,13)\n",
        "name <- c('sai','ram','deepika','sahithi')\n",
        "dob <- as.Date(c('1990-10-02','1981-3-24','1987-6-14','1985-8-16'))\n",
        "\n",
        "# Create DataFrame\n",
        "df <- data.frame(id,name,dob)\n",
        "\n",
        "# Print DataFrame\n",
        "df "
      ],
      "metadata": {
        "colab": {
          "base_uri": "https://localhost:8080/",
          "height": 224
        },
        "id": "zue14h9wKSwU",
        "outputId": "3a7079ed-c871-4a3d-ecad-d58db2d0a066"
      },
      "execution_count": 12,
      "outputs": [
        {
          "output_type": "display_data",
          "data": {
            "text/html": [
              "<table class=\"dataframe\">\n",
              "<caption>A data.frame: 4 × 3</caption>\n",
              "<thead>\n",
              "\t<tr><th scope=col>id</th><th scope=col>name</th><th scope=col>dob</th></tr>\n",
              "\t<tr><th scope=col>&lt;dbl&gt;</th><th scope=col>&lt;chr&gt;</th><th scope=col>&lt;date&gt;</th></tr>\n",
              "</thead>\n",
              "<tbody>\n",
              "\t<tr><td>10</td><td>sai    </td><td>1990-10-02</td></tr>\n",
              "\t<tr><td>11</td><td>ram    </td><td>1981-03-24</td></tr>\n",
              "\t<tr><td>12</td><td>deepika</td><td>1987-06-14</td></tr>\n",
              "\t<tr><td>13</td><td>sahithi</td><td>1985-08-16</td></tr>\n",
              "</tbody>\n",
              "</table>\n"
            ],
            "text/markdown": "\nA data.frame: 4 × 3\n\n| id &lt;dbl&gt; | name &lt;chr&gt; | dob &lt;date&gt; |\n|---|---|---|\n| 10 | sai     | 1990-10-02 |\n| 11 | ram     | 1981-03-24 |\n| 12 | deepika | 1987-06-14 |\n| 13 | sahithi | 1985-08-16 |\n\n",
            "text/latex": "A data.frame: 4 × 3\n\\begin{tabular}{lll}\n id & name & dob\\\\\n <dbl> & <chr> & <date>\\\\\n\\hline\n\t 10 & sai     & 1990-10-02\\\\\n\t 11 & ram     & 1981-03-24\\\\\n\t 12 & deepika & 1987-06-14\\\\\n\t 13 & sahithi & 1985-08-16\\\\\n\\end{tabular}\n",
            "text/plain": [
              "  id name    dob       \n",
              "1 10 sai     1990-10-02\n",
              "2 11 ram     1981-03-24\n",
              "3 12 deepika 1987-06-14\n",
              "4 13 sahithi 1985-08-16"
            ]
          },
          "metadata": {}
        }
      ]
    },
    {
      "cell_type": "code",
      "source": [
        "df = data.frame(id=c(11,22),\n",
        "              pages=c(32,45),\n",
        "              name=c(\"spark\",\"python\"))\n",
        "\n",
        "df[nrow(df) + 1,] <- c(33, 50, \"java\")\n",
        "df"
      ],
      "metadata": {
        "colab": {
          "base_uri": "https://localhost:8080/",
          "height": 192
        },
        "id": "hr7IOQLVKf1a",
        "outputId": "4ab116c0-3b80-498e-8a25-feb419861b90"
      },
      "execution_count": 14,
      "outputs": [
        {
          "output_type": "display_data",
          "data": {
            "text/html": [
              "<table class=\"dataframe\">\n",
              "<caption>A data.frame: 3 × 3</caption>\n",
              "<thead>\n",
              "\t<tr><th></th><th scope=col>id</th><th scope=col>pages</th><th scope=col>name</th></tr>\n",
              "\t<tr><th></th><th scope=col>&lt;chr&gt;</th><th scope=col>&lt;chr&gt;</th><th scope=col>&lt;chr&gt;</th></tr>\n",
              "</thead>\n",
              "<tbody>\n",
              "\t<tr><th scope=row>1</th><td>11</td><td>32</td><td>spark </td></tr>\n",
              "\t<tr><th scope=row>2</th><td>22</td><td>45</td><td>python</td></tr>\n",
              "\t<tr><th scope=row>3</th><td>33</td><td>50</td><td>java  </td></tr>\n",
              "</tbody>\n",
              "</table>\n"
            ],
            "text/markdown": "\nA data.frame: 3 × 3\n\n| <!--/--> | id &lt;chr&gt; | pages &lt;chr&gt; | name &lt;chr&gt; |\n|---|---|---|---|\n| 1 | 11 | 32 | spark  |\n| 2 | 22 | 45 | python |\n| 3 | 33 | 50 | java   |\n\n",
            "text/latex": "A data.frame: 3 × 3\n\\begin{tabular}{r|lll}\n  & id & pages & name\\\\\n  & <chr> & <chr> & <chr>\\\\\n\\hline\n\t1 & 11 & 32 & spark \\\\\n\t2 & 22 & 45 & python\\\\\n\t3 & 33 & 50 & java  \\\\\n\\end{tabular}\n",
            "text/plain": [
              "  id pages name  \n",
              "1 11 32    spark \n",
              "2 22 45    python\n",
              "3 33 50    java  "
            ]
          },
          "metadata": {}
        }
      ]
    }
  ]
}