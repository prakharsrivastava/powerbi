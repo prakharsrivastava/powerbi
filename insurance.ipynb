{
 "cells": [
  {
   "cell_type": "markdown",
   "metadata": {
    "application/vnd.databricks.v1+cell": {
     "cellMetadata": {},
     "inputWidgets": {},
     "nuid": "96816ed7-b08a-4ca3-abb9-f99880c3535d",
     "showTitle": false,
     "title": ""
    }
   },
   "source": [
    "## Overview\n",
    "\n",
    "This notebook will show you how to create and query a table or DataFrame that you uploaded to DBFS. [DBFS](https://docs.databricks.com/user-guide/dbfs-databricks-file-system.html) is a Databricks File System that allows you to store data for querying inside of Databricks. This notebook assumes that you have a file already inside of DBFS that you would like to read from.\n",
    "\n",
    "This notebook is written in **Python** so the default cell type is Python. However, you can use different languages by using the `%LANGUAGE` syntax. Python, Scala, SQL, and R are all supported."
   ]
  },
  {
   "cell_type": "code",
   "execution_count": 0,
   "metadata": {
    "application/vnd.databricks.v1+cell": {
     "cellMetadata": {
      "byteLimit": 2048000,
      "rowLimit": 10000
     },
     "inputWidgets": {},
     "nuid": "6482be4c-f067-47c9-b0ac-35c938b94601",
     "showTitle": false,
     "title": ""
    }
   },
   "outputs": [
    {
     "output_type": "display_data",
     "data": {
      "text/html": [
       "<style scoped>\n",
       "  .table-result-container {\n",
       "    max-height: 300px;\n",
       "    overflow: auto;\n",
       "  }\n",
       "  table, th, td {\n",
       "    border: 1px solid black;\n",
       "    border-collapse: collapse;\n",
       "  }\n",
       "  th, td {\n",
       "    padding: 5px;\n",
       "  }\n",
       "  th {\n",
       "    text-align: left;\n",
       "  }\n",
       "</style><div class='table-result-container'><table class='table-result'><thead style='background-color: white'><tr><th>claim</th><th>payment</th></tr></thead><tbody><tr><td>108</td><td>392.5</td></tr><tr><td>19</td><td>46.2</td></tr><tr><td>13</td><td>15.7</td></tr><tr><td>124</td><td>422.2</td></tr><tr><td>40</td><td>119.4</td></tr><tr><td>57</td><td>170.9</td></tr><tr><td>23</td><td>56.9</td></tr><tr><td>14</td><td>77.5</td></tr><tr><td>45</td><td>214.0</td></tr><tr><td>10</td><td>65.3</td></tr><tr><td>5</td><td>20.9</td></tr><tr><td>48</td><td>248.1</td></tr><tr><td>11</td><td>23.5</td></tr><tr><td>23</td><td>39.6</td></tr><tr><td>7</td><td>48.8</td></tr><tr><td>2</td><td>6.6</td></tr><tr><td>24</td><td>137.9</td></tr><tr><td>6</td><td>50.9</td></tr><tr><td>3</td><td>4.4</td></tr><tr><td>23</td><td>113.0</td></tr><tr><td>6</td><td>14.8</td></tr><tr><td>9</td><td>48.7</td></tr><tr><td>9</td><td>52.1</td></tr><tr><td>3</td><td>13.2</td></tr><tr><td>29</td><td>103.9</td></tr><tr><td>7</td><td>77.5</td></tr><tr><td>4</td><td>11.8</td></tr><tr><td>20</td><td>98.1</td></tr><tr><td>7</td><td>27.9</td></tr><tr><td>4</td><td>38.1</td></tr><tr><td>0</td><td>0.0</td></tr><tr><td>25</td><td>69.2</td></tr><tr><td>6</td><td>14.6</td></tr><tr><td>5</td><td>40.3</td></tr><tr><td>22</td><td>161.0</td></tr><tr><td>11</td><td>57.2</td></tr><tr><td>61</td><td>217.6</td></tr><tr><td>12</td><td>58.1</td></tr><tr><td>4</td><td>12.6</td></tr><tr><td>16</td><td>59.6</td></tr><tr><td>13</td><td>89.9</td></tr><tr><td>60</td><td>202.4</td></tr><tr><td>41</td><td>181.3</td></tr><tr><td>37</td><td>152.8</td></tr><tr><td>55</td><td>162.8</td></tr><tr><td>41</td><td>73.4</td></tr><tr><td>11</td><td>21.3</td></tr><tr><td>27</td><td>92.6</td></tr><tr><td>8</td><td>76.1</td></tr><tr><td>3</td><td>39.9</td></tr><tr><td>17</td><td>142.1</td></tr><tr><td>13</td><td>93.0</td></tr><tr><td>13</td><td>31.9</td></tr><tr><td>15</td><td>32.1</td></tr><tr><td>8</td><td>55.6</td></tr><tr><td>29</td><td>133.3</td></tr><tr><td>30</td><td>194.5</td></tr><tr><td>24</td><td>137.9</td></tr><tr><td>9</td><td>87.4</td></tr><tr><td>31</td><td>209.8</td></tr><tr><td>14</td><td>95.5</td></tr><tr><td>53</td><td>244.6</td></tr><tr><td>26</td><td>187.5</td></tr></tbody></table></div>"
      ]
     },
     "metadata": {
      "application/vnd.databricks.v1+output": {
       "addedWidgets": {},
       "aggData": [],
       "aggError": "",
       "aggOverflow": false,
       "aggSchema": [],
       "aggSeriesLimitReached": false,
       "aggType": "",
       "arguments": {},
       "columnCustomDisplayInfos": {},
       "data": [
        [
         108,
         392.5
        ],
        [
         19,
         46.2
        ],
        [
         13,
         15.7
        ],
        [
         124,
         422.2
        ],
        [
         40,
         119.4
        ],
        [
         57,
         170.9
        ],
        [
         23,
         56.9
        ],
        [
         14,
         77.5
        ],
        [
         45,
         214.0
        ],
        [
         10,
         65.3
        ],
        [
         5,
         20.9
        ],
        [
         48,
         248.1
        ],
        [
         11,
         23.5
        ],
        [
         23,
         39.6
        ],
        [
         7,
         48.8
        ],
        [
         2,
         6.6
        ],
        [
         24,
         137.9
        ],
        [
         6,
         50.9
        ],
        [
         3,
         4.4
        ],
        [
         23,
         113.0
        ],
        [
         6,
         14.8
        ],
        [
         9,
         48.7
        ],
        [
         9,
         52.1
        ],
        [
         3,
         13.2
        ],
        [
         29,
         103.9
        ],
        [
         7,
         77.5
        ],
        [
         4,
         11.8
        ],
        [
         20,
         98.1
        ],
        [
         7,
         27.9
        ],
        [
         4,
         38.1
        ],
        [
         0,
         0.0
        ],
        [
         25,
         69.2
        ],
        [
         6,
         14.6
        ],
        [
         5,
         40.3
        ],
        [
         22,
         161.0
        ],
        [
         11,
         57.2
        ],
        [
         61,
         217.6
        ],
        [
         12,
         58.1
        ],
        [
         4,
         12.6
        ],
        [
         16,
         59.6
        ],
        [
         13,
         89.9
        ],
        [
         60,
         202.4
        ],
        [
         41,
         181.3
        ],
        [
         37,
         152.8
        ],
        [
         55,
         162.8
        ],
        [
         41,
         73.4
        ],
        [
         11,
         21.3
        ],
        [
         27,
         92.6
        ],
        [
         8,
         76.1
        ],
        [
         3,
         39.9
        ],
        [
         17,
         142.1
        ],
        [
         13,
         93.0
        ],
        [
         13,
         31.9
        ],
        [
         15,
         32.1
        ],
        [
         8,
         55.6
        ],
        [
         29,
         133.3
        ],
        [
         30,
         194.5
        ],
        [
         24,
         137.9
        ],
        [
         9,
         87.4
        ],
        [
         31,
         209.8
        ],
        [
         14,
         95.5
        ],
        [
         53,
         244.6
        ],
        [
         26,
         187.5
        ]
       ],
       "datasetInfos": [],
       "dbfsResultPath": null,
       "isJsonSchema": true,
       "metadata": {},
       "overflow": false,
       "plotOptions": {
        "customPlotOptions": {},
        "displayType": "table",
        "pivotAggregation": null,
        "pivotColumns": null,
        "xColumns": null,
        "yColumns": null
       },
       "removedWidgets": [],
       "schema": [
        {
         "metadata": "{}",
         "name": "claim",
         "type": "\"integer\""
        },
        {
         "metadata": "{}",
         "name": "payment",
         "type": "\"double\""
        }
       ],
       "type": "table"
      }
     },
     "output_type": "display_data"
    }
   ],
   "source": [
    "# File location and type\n",
    "file_location = \"/FileStore/tables/insurance.csv\"\n",
    "file_type = \"csv\"\n",
    "\n",
    "# CSV options\n",
    "infer_schema = \"true\"\n",
    "first_row_is_header = \"true\"\n",
    "delimiter = \",\"\n",
    "\n",
    "# The applied options are for CSV files. For other file types, these will be ignored.\n",
    "df = spark.read.format(file_type) \\\n",
    "  .option(\"inferSchema\", infer_schema) \\\n",
    "  .option(\"header\", first_row_is_header) \\\n",
    "  .option(\"sep\", delimiter) \\\n",
    "  .load(file_location)\n",
    "\n",
    "display(df)"
   ]
  },
  {
   "cell_type": "code",
   "execution_count": 0,
   "metadata": {
    "application/vnd.databricks.v1+cell": {
     "cellMetadata": {
      "byteLimit": 2048000,
      "rowLimit": 10000
     },
     "inputWidgets": {},
     "nuid": "764ba863-b2cc-4878-8996-932fab79acf2",
     "showTitle": false,
     "title": ""
    }
   },
   "outputs": [
    {
     "output_type": "display_data",
     "data": {
      "text/html": [
       "<div>\n",
       "<style scoped>\n",
       "    .dataframe tbody tr th:only-of-type {\n",
       "        vertical-align: middle;\n",
       "    }\n",
       "\n",
       "    .dataframe tbody tr th {\n",
       "        vertical-align: top;\n",
       "    }\n",
       "\n",
       "    .dataframe thead th {\n",
       "        text-align: right;\n",
       "    }\n",
       "</style>\n",
       "<table border=\"1\" class=\"dataframe\">\n",
       "  <thead>\n",
       "    <tr style=\"text-align: right;\">\n",
       "      <th></th>\n",
       "      <th>claim</th>\n",
       "      <th>payment</th>\n",
       "    </tr>\n",
       "  </thead>\n",
       "  <tbody>\n",
       "    <tr>\n",
       "      <th>0</th>\n",
       "      <td>108</td>\n",
       "      <td>392.5</td>\n",
       "    </tr>\n",
       "    <tr>\n",
       "      <th>1</th>\n",
       "      <td>19</td>\n",
       "      <td>46.2</td>\n",
       "    </tr>\n",
       "    <tr>\n",
       "      <th>2</th>\n",
       "      <td>13</td>\n",
       "      <td>15.7</td>\n",
       "    </tr>\n",
       "    <tr>\n",
       "      <th>3</th>\n",
       "      <td>124</td>\n",
       "      <td>422.2</td>\n",
       "    </tr>\n",
       "    <tr>\n",
       "      <th>4</th>\n",
       "      <td>40</td>\n",
       "      <td>119.4</td>\n",
       "    </tr>\n",
       "    <tr>\n",
       "      <th>...</th>\n",
       "      <td>...</td>\n",
       "      <td>...</td>\n",
       "    </tr>\n",
       "    <tr>\n",
       "      <th>58</th>\n",
       "      <td>9</td>\n",
       "      <td>87.4</td>\n",
       "    </tr>\n",
       "    <tr>\n",
       "      <th>59</th>\n",
       "      <td>31</td>\n",
       "      <td>209.8</td>\n",
       "    </tr>\n",
       "    <tr>\n",
       "      <th>60</th>\n",
       "      <td>14</td>\n",
       "      <td>95.5</td>\n",
       "    </tr>\n",
       "    <tr>\n",
       "      <th>61</th>\n",
       "      <td>53</td>\n",
       "      <td>244.6</td>\n",
       "    </tr>\n",
       "    <tr>\n",
       "      <th>62</th>\n",
       "      <td>26</td>\n",
       "      <td>187.5</td>\n",
       "    </tr>\n",
       "  </tbody>\n",
       "</table>\n",
       "<p>63 rows × 2 columns</p>\n",
       "</div>"
      ]
     },
     "metadata": {
      "application/vnd.databricks.v1+output": {
       "addedWidgets": {},
       "arguments": {},
       "data": "<div>\n<style scoped>\n    .dataframe tbody tr th:only-of-type {\n        vertical-align: middle;\n    }\n\n    .dataframe tbody tr th {\n        vertical-align: top;\n    }\n\n    .dataframe thead th {\n        text-align: right;\n    }\n</style>\n<table border=\"1\" class=\"dataframe\">\n  <thead>\n    <tr style=\"text-align: right;\">\n      <th></th>\n      <th>claim</th>\n      <th>payment</th>\n    </tr>\n  </thead>\n  <tbody>\n    <tr>\n      <th>0</th>\n      <td>108</td>\n      <td>392.5</td>\n    </tr>\n    <tr>\n      <th>1</th>\n      <td>19</td>\n      <td>46.2</td>\n    </tr>\n    <tr>\n      <th>2</th>\n      <td>13</td>\n      <td>15.7</td>\n    </tr>\n    <tr>\n      <th>3</th>\n      <td>124</td>\n      <td>422.2</td>\n    </tr>\n    <tr>\n      <th>4</th>\n      <td>40</td>\n      <td>119.4</td>\n    </tr>\n    <tr>\n      <th>...</th>\n      <td>...</td>\n      <td>...</td>\n    </tr>\n    <tr>\n      <th>58</th>\n      <td>9</td>\n      <td>87.4</td>\n    </tr>\n    <tr>\n      <th>59</th>\n      <td>31</td>\n      <td>209.8</td>\n    </tr>\n    <tr>\n      <th>60</th>\n      <td>14</td>\n      <td>95.5</td>\n    </tr>\n    <tr>\n      <th>61</th>\n      <td>53</td>\n      <td>244.6</td>\n    </tr>\n    <tr>\n      <th>62</th>\n      <td>26</td>\n      <td>187.5</td>\n    </tr>\n  </tbody>\n</table>\n<p>63 rows × 2 columns</p>\n</div>",
       "datasetInfos": [],
       "metadata": {},
       "removedWidgets": [],
       "textData": null,
       "type": "htmlSandbox"
      }
     },
     "output_type": "display_data"
    }
   ],
   "source": [
    "pandadf=df.toPandas()\n",
    "pandadf"
   ]
  },
  {
   "cell_type": "code",
   "execution_count": 0,
   "metadata": {
    "application/vnd.databricks.v1+cell": {
     "cellMetadata": {
      "byteLimit": 2048000,
      "rowLimit": 10000
     },
     "inputWidgets": {},
     "nuid": "1c83ea02-347f-4acc-9338-4e71581f945a",
     "showTitle": false,
     "title": ""
    }
   },
   "outputs": [],
   "source": [
    "x=pandadf.iloc[:,:-1]"
   ]
  },
  {
   "cell_type": "code",
   "execution_count": 0,
   "metadata": {
    "application/vnd.databricks.v1+cell": {
     "cellMetadata": {
      "byteLimit": 2048000,
      "rowLimit": 10000
     },
     "inputWidgets": {},
     "nuid": "e24e15e5-4b6e-4c36-89f4-3a6398aa8d5a",
     "showTitle": false,
     "title": ""
    }
   },
   "outputs": [],
   "source": [
    "y=pandadf.iloc[:,1:]"
   ]
  },
  {
   "cell_type": "code",
   "execution_count": 0,
   "metadata": {
    "application/vnd.databricks.v1+cell": {
     "cellMetadata": {
      "byteLimit": 2048000,
      "rowLimit": 10000
     },
     "inputWidgets": {},
     "nuid": "9445f297-7bdb-4941-b42f-ffe64f0a6ad5",
     "showTitle": false,
     "title": ""
    }
   },
   "outputs": [
    {
     "output_type": "stream",
     "name": "stdout",
     "output_type": "stream",
     "text": [
      "Slope: [3.41393412]\nIntercept: [20.03163586]\n"
     ]
    }
   ],
   "source": [
    "import numpy as np\n",
    "from sklearn.linear_model import LinearRegression\n",
    "model = LinearRegression()\n",
    "\n",
    "# Fit the model to the data\n",
    "model.fit(x, y)\n",
    "\n",
    "# Predict using the trained model\n",
    "predictions = model.predict(x)\n",
    "\n",
    "# Print the slope (coefficient) and intercept of the fitted line\n",
    "print(\"Slope:\", model.coef_[0])\n",
    "print(\"Intercept:\", model.intercept_)\n",
    "\n"
   ]
  },
  {
   "cell_type": "code",
   "execution_count": 0,
   "metadata": {
    "application/vnd.databricks.v1+cell": {
     "cellMetadata": {
      "byteLimit": 2048000,
      "rowLimit": 10000
     },
     "inputWidgets": {},
     "nuid": "a6391f86-a57a-4734-b593-e8a059389623",
     "showTitle": false,
     "title": ""
    }
   },
   "outputs": [],
   "source": [
    "from sklearn.model_selection import train_test_split\n",
    "\n",
    "# Assuming you have X as your feature matrix and y as your target variable\n",
    "X_train, X_test, y_train, y_test = train_test_split(x, y, test_size=0.2, random_state=42)"
   ]
  },
  {
   "cell_type": "code",
   "execution_count": 0,
   "metadata": {
    "application/vnd.databricks.v1+cell": {
     "cellMetadata": {},
     "inputWidgets": {},
     "nuid": "672dee36-6906-48a5-a58f-3619c45d6e0b",
     "showTitle": false,
     "title": ""
    }
   },
   "outputs": [],
   "source": []
  },
  {
   "cell_type": "code",
   "execution_count": 0,
   "metadata": {
    "application/vnd.databricks.v1+cell": {
     "cellMetadata": {
      "byteLimit": 2048000,
      "rowLimit": 10000
     },
     "inputWidgets": {},
     "nuid": "bd82bb99-1479-4d5c-be10-8c36df0f1d44",
     "showTitle": false,
     "title": ""
    }
   },
   "outputs": [],
   "source": [
    "# Create a view or table\n",
    "\n",
    "temp_table_name = \"insurance_csv\"\n",
    "\n",
    "df.createOrReplaceTempView(temp_table_name)"
   ]
  },
  {
   "cell_type": "code",
   "execution_count": 0,
   "metadata": {
    "application/vnd.databricks.v1+cell": {
     "cellMetadata": {
      "byteLimit": 2048000,
      "implicitDf": true,
      "rowLimit": 10000
     },
     "inputWidgets": {},
     "nuid": "ce7d7530-d3a9-417a-b022-d44df0a34777",
     "showTitle": false,
     "title": ""
    }
   },
   "outputs": [
    {
     "output_type": "display_data",
     "data": {
      "text/html": [
       "<style scoped>\n",
       "  .table-result-container {\n",
       "    max-height: 300px;\n",
       "    overflow: auto;\n",
       "  }\n",
       "  table, th, td {\n",
       "    border: 1px solid black;\n",
       "    border-collapse: collapse;\n",
       "  }\n",
       "  th, td {\n",
       "    padding: 5px;\n",
       "  }\n",
       "  th {\n",
       "    text-align: left;\n",
       "  }\n",
       "</style><div class='table-result-container'><table class='table-result'><thead style='background-color: white'><tr><th>slope</th></tr></thead><tbody><tr><td>3.4139341237580965</td></tr></tbody></table></div>"
      ]
     },
     "metadata": {
      "application/vnd.databricks.v1+output": {
       "addedWidgets": {},
       "aggData": [],
       "aggError": "",
       "aggOverflow": false,
       "aggSchema": [],
       "aggSeriesLimitReached": false,
       "aggType": "",
       "arguments": {},
       "columnCustomDisplayInfos": {},
       "data": [
        [
         3.4139341237580965
        ]
       ],
       "datasetInfos": [],
       "dbfsResultPath": null,
       "isJsonSchema": true,
       "metadata": {},
       "overflow": false,
       "plotOptions": {
        "customPlotOptions": {},
        "displayType": "table",
        "pivotAggregation": null,
        "pivotColumns": null,
        "xColumns": null,
        "yColumns": null
       },
       "removedWidgets": [],
       "schema": [
        {
         "metadata": "{}",
         "name": "slope",
         "type": "\"double\""
        }
       ],
       "type": "table"
      }
     },
     "output_type": "display_data"
    }
   ],
   "source": [
    "%sql\n",
    "SELECT \n",
    "    (COUNT(*) * SUM(claim * payment) - SUM(claim) * SUM(payment)) /\n",
    "    (COUNT(*) * SUM(claim * claim) - SUM(claim) * SUM(claim)) AS slope\n",
    "FROM `insurance_csv`;"
   ]
  },
  {
   "cell_type": "code",
   "execution_count": 0,
   "metadata": {
    "application/vnd.databricks.v1+cell": {
     "cellMetadata": {
      "byteLimit": 2048000,
      "implicitDf": true,
      "rowLimit": 10000
     },
     "inputWidgets": {},
     "nuid": "8255dce2-b8da-48d7-ad40-30a854ccfa31",
     "showTitle": false,
     "title": ""
    }
   },
   "outputs": [
    {
     "output_type": "display_data",
     "data": {
      "text/html": [
       "<style scoped>\n",
       "  .table-result-container {\n",
       "    max-height: 300px;\n",
       "    overflow: auto;\n",
       "  }\n",
       "  table, th, td {\n",
       "    border: 1px solid black;\n",
       "    border-collapse: collapse;\n",
       "  }\n",
       "  th, td {\n",
       "    padding: 5px;\n",
       "  }\n",
       "  th {\n",
       "    text-align: left;\n",
       "  }\n",
       "</style><div class='table-result-container'><table class='table-result'><thead style='background-color: white'><tr><th>intercept</th></tr></thead><tbody><tr><td>20.031635863762975</td></tr></tbody></table></div>"
      ]
     },
     "metadata": {
      "application/vnd.databricks.v1+output": {
       "addedWidgets": {},
       "aggData": [],
       "aggError": "",
       "aggOverflow": false,
       "aggSchema": [],
       "aggSeriesLimitReached": false,
       "aggType": "",
       "arguments": {},
       "columnCustomDisplayInfos": {},
       "data": [
        [
         20.031635863762975
        ]
       ],
       "datasetInfos": [],
       "dbfsResultPath": null,
       "isJsonSchema": true,
       "metadata": {},
       "overflow": false,
       "plotOptions": {
        "customPlotOptions": {},
        "displayType": "table",
        "pivotAggregation": null,
        "pivotColumns": null,
        "xColumns": null,
        "yColumns": null
       },
       "removedWidgets": [],
       "schema": [
        {
         "metadata": "{}",
         "name": "intercept",
         "type": "\"double\""
        }
       ],
       "type": "table"
      }
     },
     "output_type": "display_data"
    }
   ],
   "source": [
    "%sql\n",
    "SELECT\n",
    "    (SUM(payment) - slope_query.slope * SUM(claim)) / COUNT(*) AS intercept\n",
    "FROM (\n",
    "    SELECT\n",
    "        (COUNT(*) * SUM(claim * payment) - SUM(claim) * SUM(payment)) /\n",
    "        (COUNT(*) * SUM(claim * claim) - SUM(claim) * SUM(claim)) AS slope\n",
    "    FROM `insurance_csv`\n",
    ") AS slope_query\n",
    "JOIN insurance_csv ON 1 = 1\n",
    "GROUP BY slope;;"
   ]
  },
  {
   "cell_type": "code",
   "execution_count": 0,
   "metadata": {
    "application/vnd.databricks.v1+cell": {
     "cellMetadata": {
      "byteLimit": 2048000,
      "rowLimit": 10000
     },
     "inputWidgets": {},
     "nuid": "c11de645-c3ff-4225-bbd3-7a980baaddd8",
     "showTitle": false,
     "title": ""
    }
   },
   "outputs": [],
   "source": [
    "from sklearn.model_selection import train_test_split\n",
    "\n",
    "# Assuming you have X as your feature matrix and y as your target variable\n",
    "X_train, X_test, y_train, y_test = train_test_split(x, y, test_size=0.2, random_state=42)"
   ]
  },
  {
   "cell_type": "code",
   "execution_count": 0,
   "metadata": {
    "application/vnd.databricks.v1+cell": {
     "cellMetadata": {
      "byteLimit": 2048000,
      "rowLimit": 10000
     },
     "inputWidgets": {},
     "nuid": "9b095bb6-8842-4ac1-9ec6-8a67b48723aa",
     "showTitle": false,
     "title": ""
    }
   },
   "outputs": [
    {
     "output_type": "stream",
     "name": "stdout",
     "output_type": "stream",
     "text": [
      "Slope: [3.42918573]\nIntercept: [16.74120404]\n"
     ]
    }
   ],
   "source": [
    "import numpy as np\n",
    "from sklearn.linear_model import LinearRegression\n",
    "model = LinearRegression()\n",
    "\n",
    "# Fit the model to the data\n",
    "model.fit(X_train, y_train)\n",
    "\n",
    "# Print the slope (coefficient) and intercept of the fitted line\n",
    "print(\"Slope:\", model.coef_[0])\n",
    "print(\"Intercept:\", model.intercept_)\n",
    "\n"
   ]
  },
  {
   "cell_type": "code",
   "execution_count": 0,
   "metadata": {
    "application/vnd.databricks.v1+cell": {
     "cellMetadata": {
      "byteLimit": 2048000,
      "rowLimit": 10000
     },
     "inputWidgets": {},
     "nuid": "aecb07eb-ea6a-4e0a-8801-eedfe2f2de0d",
     "showTitle": false,
     "title": ""
    }
   },
   "outputs": [
    {
     "output_type": "stream",
     "name": "stdout",
     "output_type": "stream",
     "text": [
      "Out[10]: <matplotlib.collections.PathCollection at 0x7f370ba00af0>"
     ]
    },
    {
     "output_type": "display_data",
     "data": {
      "image/png": "[encoded data removed]"
     },
     "metadata": {
      "application/vnd.databricks.v1+output": {
       "addedWidgets": {},
       "arguments": {},
       "data": "data:image/png;base64,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\n",
       "datasetInfos": [],
       "metadata": {},
       "removedWidgets": [],
       "type": "image"
      }
     },
     "output_type": "display_data"
    }
   ],
   "source": [
    "import matplotlib.pyplot as plt\n",
    "predict=model.predict(X_train)\n",
    "plt.scatter(X_train, y_train)\n",
    "plt.scatter(X_train, predict)"
   ]
  },
  {
   "cell_type": "code",
   "execution_count": 0,
   "metadata": {
    "application/vnd.databricks.v1+cell": {
     "cellMetadata": {
      "byteLimit": 2048000,
      "rowLimit": 10000
     },
     "inputWidgets": {},
     "nuid": "a9da6bc2-0c22-4ee7-8385-49761532bf95",
     "showTitle": false,
     "title": ""
    }
   },
   "outputs": [
    {
     "output_type": "stream",
     "name": "stdout",
     "output_type": "stream",
     "text": [
      "Out[12]: <matplotlib.collections.PathCollection at 0x7f37038c44c0>"
     ]
    },
    {
     "output_type": "display_data",
     "data": {
      "image/png": "[encoded data removed]"
     },
     "metadata": {
      "application/vnd.databricks.v1+output": {
       "addedWidgets": {},
       "arguments": {},
       "data": "data:image/png;base64,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\n",
       "datasetInfos": [],
       "metadata": {},
       "removedWidgets": [],
       "type": "image"
      }
     },
     "output_type": "display_data"
    }
   ],
   "source": [
    "import matplotlib.pyplot as plt\n",
    "predict=model.predict(X_test)\n",
    "plt.scatter(X_test, y_test)\n",
    "plt.scatter(X_test, predict)"
   ]
  },
  {
   "cell_type": "code",
   "execution_count": 0,
   "metadata": {
    "application/vnd.databricks.v1+cell": {
     "cellMetadata": {},
     "inputWidgets": {},
     "nuid": "db9631f6-bb4a-42ca-8a3c-0d48af932331",
     "showTitle": false,
     "title": ""
    }
   },
   "outputs": [
    {
     "output_type": "display_data",
     "data": {
      "text/html": [
       "<style scoped>\n",
       "  .ansiout {\n",
       "    display: block;\n",
       "    unicode-bidi: embed;\n",
       "    white-space: pre-wrap;\n",
       "    word-wrap: break-word;\n",
       "    word-break: break-all;\n",
       "    font-family: \"Source Code Pro\", \"Menlo\", monospace;;\n",
       "    font-size: 13px;\n",
       "    color: #555;\n",
       "    margin-left: 4px;\n",
       "    line-height: 19px;\n",
       "  }\n",
       "</style>"
      ]
     },
     "metadata": {
      "application/vnd.databricks.v1+output": {
       "arguments": {},
       "data": "",
       "errorSummary": "",
       "errorTraceType": null,
       "metadata": {},
       "type": "ipynbError"
      }
     },
     "output_type": "display_data"
    }
   ],
   "source": [
    "# With this registered as a temp view, it will only be available to this particular notebook. If you'd like other users to be able to query this table, you can also create a table from the DataFrame.\n",
    "# Once saved, this table will persist across cluster restarts as well as allow various users across different notebooks to query this data.\n",
    "# To do so, choose your table name and uncomment the bottom line.\n",
    "\n",
    "permanent_table_name = \"insurance_csv\"\n",
    "\n",
    "# df.write.format(\"parquet\").saveAsTable(permanent_table_name)"
   ]
  },
  {
   "cell_type": "code",
   "execution_count": 0,
   "metadata": {
    "application/vnd.databricks.v1+cell": {
     "cellMetadata": {},
     "inputWidgets": {},
     "nuid": "3262a807-295f-4d39-9a1d-f6710864a13b",
     "showTitle": false,
     "title": ""
    }
   },
   "outputs": [],
   "source": []
  }
 ],
 "metadata": {
  "application/vnd.databricks.v1+notebook": {
   "dashboards": [],
   "language": "python",
   "notebookMetadata": {
    "mostRecentlyExecutedCommandWithImplicitDF": {
     "commandId": 1549293724326096,
     "dataframes": [
      "_sqldf"
     ]
    },
    "pythonIndentUnit": 2
   },
   "notebookName": "insurance",
   "widgets": {}
  }
 },
 "nbformat": 4,
 "nbformat_minor": 0
}
